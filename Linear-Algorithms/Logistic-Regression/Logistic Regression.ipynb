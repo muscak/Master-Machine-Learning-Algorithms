{
  "cells": [
    {
      "cell_type": "markdown",
      "id": "146a86b7-aa34-4156-a8bc-c7a976abd330",
      "metadata": {
        "id": "146a86b7-aa34-4156-a8bc-c7a976abd330"
      },
      "source": [
        "# Logistic Regression"
      ]
    },
    {
      "cell_type": "markdown",
      "id": "71f00e65-6a34-4bca-8003-bdfb45917dc4",
      "metadata": {
        "id": "71f00e65-6a34-4bca-8003-bdfb45917dc4"
      },
      "source": [
        "## Table of Contents\n",
        "\n",
        "1. [Introduction](#introduction)\n",
        "2. [Import Libraries](#libraries)\n",
        "3. [Logistic Function](#function)\n",
        "4. [Logistic Regression](#regression)"
      ]
    },
    {
      "cell_type": "markdown",
      "id": "6ac5d0d9-d08b-4ed4-918e-a8529af2f7de",
      "metadata": {
        "id": "6ac5d0d9-d08b-4ed4-918e-a8529af2f7de"
      },
      "source": [
        "## Introduction<a id='introduction'></a>\n",
        "\n",
        "In regression analysis, logistic regression[[1]](https://jamanetwork.com/journals/jama/article-abstract/2540383) (or logit regression) is estimating the parameters of a logistic model (the coefficients in the linear combination). Formally, in binary logistic regression there is a single binary dependent variable, coded by an indicator variable, where the two values are labeled \"0\" and \"1\", while the independent variables can each be a binary variable (two classes, coded by an indicator variable) or a continuous variable (any real value)[[2]](https://en.wikipedia.org/wiki/Logistic_regression). \n",
        "\n",
        "Logistic regression uses an equation as the representation, very much like linear regression.\n",
        "\n",
        "$$\\hat{y}=\\frac{e^{b_0+b_1×x}}{1 + e^{b_0+b_1×x}}$$\n",
        "\n",
        "This function provides a probability between 0 and 1 which has to be mapped to binary values (0 or 1) later. That's why this function can be presented as per below.\n",
        "\n",
        "$$P(x)=\\frac{e^{b_0+b_1×x}}{1 + e^{b_0+b_1×x}} ==> ln(\\frac{P(x)}{1 - P(x)}) = b_0+b_1×x$$\n",
        "\n",
        "To map the probability to binary we use:\n",
        "$$\\hat{y} = 0 \\text{  IF  } p(x) < 0.5$$\n",
        "$$\\hat{y} = 1 \\text{  IF  } p(x) \\geq 0.5$$"
      ]
    },
    {
      "cell_type": "markdown",
      "id": "f9b34a28-50e4-453d-818d-6781c1808298",
      "metadata": {
        "id": "f9b34a28-50e4-453d-818d-6781c1808298"
      },
      "source": [
        "## Import Libraries<a id='libraries'></a>"
      ]
    },
    {
      "cell_type": "code",
      "execution_count": 1,
      "id": "53e3e984-8580-4f8a-bfe3-9f45900201c3",
      "metadata": {
        "id": "53e3e984-8580-4f8a-bfe3-9f45900201c3"
      },
      "outputs": [],
      "source": [
        "import pandas as pd\n",
        "import numpy as np\n",
        "import matplotlib.pyplot as plt"
      ]
    },
    {
      "cell_type": "markdown",
      "id": "9dfa0e1b-e6ac-480b-bdd5-79280df5cf96",
      "metadata": {
        "id": "9dfa0e1b-e6ac-480b-bdd5-79280df5cf96"
      },
      "source": [
        "## Logistic Function<a id='function'></a>\n",
        "\n",
        "The logistic function, also called the sigmoid function was developed by statisticians to describe\n",
        "properties of population growth in ecology. It’s an S-shaped curve that can take any real-valued number and\n",
        "map it into a value between 0 and 1.\n",
        "\n",
        "$$\\frac{1}{1 + e^{-value}}$$"
      ]
    },
    {
      "cell_type": "code",
      "execution_count": 2,
      "id": "9d3b7058-2771-4a50-b295-b0cce54b5543",
      "metadata": {
        "colab": {
          "base_uri": "https://localhost:8080/",
          "height": 281
        },
        "id": "9d3b7058-2771-4a50-b295-b0cce54b5543",
        "outputId": "bf0a5ded-e567-4ce4-9fd7-3e0f1790ce23"
      },
      "outputs": [
        {
          "output_type": "display_data",
          "data": {
            "text/plain": [
              "<Figure size 576x288 with 2 Axes>"
            ],
            "image/png": "[encoded data removed]"
          },
          "metadata": {
            "needs_background": "light"
          }
        }
      ],
      "source": [
        "# Create data\n",
        "x = []\n",
        "for i in range(-10, 10):\n",
        "  x.append(i)\n",
        "\n",
        "df_logistic = pd.DataFrame(columns=['x']) # Convert the data into dataframe\n",
        "df_logistic['x'] = x\n",
        "df_logistic['Logistic'] = 1 / (1 + np.exp(-df_logistic['x'])) # Calculate the logistic of the data values using aboev function\n",
        "df_logistic['Derivative'] = df_logistic['Logistic'] * (1 - df_logistic['Logistic']) # Calculate the derivative of the logistic values\n",
        "\n",
        "# Plot the Logistic values\n",
        "plt.figure(figsize=(8, 4))\n",
        "plt.subplot(1, 2, 1)\n",
        "plt.plot(df_logistic['x'], df_logistic['Logistic'], 'o-')\n",
        "plt.grid(linestyle = '--')\n",
        "plt.title('Logistic', fontsize=12)\n",
        "\n",
        "# Plot the Derivative values\n",
        "plt.subplot(1, 2, 2)\n",
        "plt.plot(df_logistic['Logistic'], df_logistic['Derivative'], 'go-')\n",
        "plt.grid(linestyle = '--')\n",
        "plt.title('Derivative', fontsize=12)\n",
        "\n",
        "plt.show()"
      ]
    },
    {
      "cell_type": "markdown",
      "id": "66c0b47d-4af4-4100-ba8f-97e6b125c3a1",
      "metadata": {
        "id": "66c0b47d-4af4-4100-ba8f-97e6b125c3a1"
      },
      "source": [
        "## Logistic Regression<a id=\"regression\"></a>"
      ]
    },
    {
      "cell_type": "markdown",
      "source": [
        "### Load Data"
      ],
      "metadata": {
        "id": "0prn3UbAEh6y"
      },
      "id": "0prn3UbAEh6y"
    },
    {
      "cell_type": "code",
      "execution_count": null,
      "id": "fd04aa21-3e3e-4a0a-a988-1a41fe718947",
      "metadata": {
        "id": "fd04aa21-3e3e-4a0a-a988-1a41fe718947"
      },
      "outputs": [],
      "source": []
    },
    {
      "cell_type": "markdown",
      "source": [
        "### Data Preparation\n",
        "\n",
        "Since logistic regression is a linear model, we have the similar data preparation process as we have in Liner Regression. Those are:\n",
        "\n",
        "1. The output has to have **binary variable**\n",
        "2. Remove Noise\n",
        "3. Inputs should have **Gaussian Distribution**\n",
        "4. Correlated inputs should be removed \n",
        "\n"
      ],
      "metadata": {
        "id": "pbj3J8cJEp6f"
      },
      "id": "pbj3J8cJEp6f"
    },
    {
      "cell_type": "code",
      "source": [],
      "metadata": {
        "id": "RpsJMsO1Fxzt"
      },
      "id": "RpsJMsO1Fxzt",
      "execution_count": null,
      "outputs": []
    }
  ],
  "metadata": {
    "kernelspec": {
      "display_name": "Python 3 (ipykernel)",
      "language": "python",
      "name": "python3"
    },
    "language_info": {
      "codemirror_mode": {
        "name": "ipython",
        "version": 3
      },
      "file_extension": ".py",
      "mimetype": "text/x-python",
      "name": "python",
      "nbconvert_exporter": "python",
      "pygments_lexer": "ipython3",
      "version": "3.10.6"
    },
    "colab": {
      "provenance": []
    }
  },
  "nbformat": 4,
  "nbformat_minor": 5
}