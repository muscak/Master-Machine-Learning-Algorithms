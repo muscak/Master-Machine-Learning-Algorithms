{
  "cells": [
    {
      "cell_type": "markdown",
      "id": "146a86b7-aa34-4156-a8bc-c7a976abd330",
      "metadata": {
        "id": "146a86b7-aa34-4156-a8bc-c7a976abd330"
      },
      "source": [
        "# Logistic Regression"
      ]
    },
    {
      "cell_type": "markdown",
      "id": "71f00e65-6a34-4bca-8003-bdfb45917dc4",
      "metadata": {
        "id": "71f00e65-6a34-4bca-8003-bdfb45917dc4"
      },
      "source": [
        "## Table of Contents\n",
        "\n",
        "1. [Introduction](#introduction)\n",
        "2. [Import Libraries](#libraries)\n",
        "3. [Logistic Function](#function)\n",
        "4. [Logistic Regression](#regression)"
      ]
    },
    {
      "cell_type": "markdown",
      "id": "6ac5d0d9-d08b-4ed4-918e-a8529af2f7de",
      "metadata": {
        "id": "6ac5d0d9-d08b-4ed4-918e-a8529af2f7de"
      },
      "source": [
        "## Introduction<a id='introduction'></a>\n",
        "\n",
        "In regression analysis, logistic regression[[1]](https://jamanetwork.com/journals/jama/article-abstract/2540383) (or logit regression) is estimating the parameters of a logistic model (the coefficients in the linear combination). Formally, in binary logistic regression there is a single binary dependent variable, coded by an indicator variable, where the two values are labeled \"0\" and \"1\", while the independent variables can each be a binary variable (two classes, coded by an indicator variable) or a continuous variable (any real value)[[2]](https://en.wikipedia.org/wiki/Logistic_regression). \n",
        "\n",
        "Logistic regression uses an equation as the representation, very much like linear regression.\n",
        "\n",
        "$$\\hat{y}=\\frac{e^{b_0+b_1×x}}{1 + e^{b_0+b_1×x}}$$\n",
        "\n",
        "This function provides a probability between 0 and 1 which has to be mapped to binary values (0 or 1) later. That's why this function can be presented as per below.\n",
        "\n",
        "$$P(x)=\\frac{e^{b_0+b_1×x}}{1 + e^{b_0+b_1×x}} ==> ln(\\frac{P(x)}{1 - P(x)}) = b_0+b_1×x$$\n",
        "\n",
        "To map the probability to binary we use:\n",
        "$$\\hat{y} = 0 \\text{  IF  } p(x) < 0.5$$\n",
        "$$\\hat{y} = 1 \\text{  IF  } p(x) \\geq 0.5$$"
      ]
    },
    {
      "cell_type": "markdown",
      "id": "f9b34a28-50e4-453d-818d-6781c1808298",
      "metadata": {
        "id": "f9b34a28-50e4-453d-818d-6781c1808298"
      },
      "source": [
        "## Import Libraries<a id='libraries'></a>"
      ]
    },
    {
      "cell_type": "code",
      "execution_count": 4,
      "id": "53e3e984-8580-4f8a-bfe3-9f45900201c3",
      "metadata": {
        "id": "53e3e984-8580-4f8a-bfe3-9f45900201c3"
      },
      "outputs": [],
      "source": [
        "import pandas as pd\n",
        "import numpy as np\n",
        "import matplotlib.pyplot as plt\n",
        "import seaborn as sb"
      ]
    },
    {
      "cell_type": "markdown",
      "id": "9dfa0e1b-e6ac-480b-bdd5-79280df5cf96",
      "metadata": {
        "id": "9dfa0e1b-e6ac-480b-bdd5-79280df5cf96"
      },
      "source": [
        "## Logistic Function<a id='function'></a>\n",
        "\n",
        "The logistic function, also called the sigmoid function was developed by statisticians to describe\n",
        "properties of population growth in ecology. It’s an S-shaped curve that can take any real-valued number and\n",
        "map it into a value between 0 and 1.\n",
        "\n",
        "$$\\frac{1}{1 + e^{-value}}$$"
      ]
    },
    {
      "cell_type": "code",
      "execution_count": 2,
      "id": "9d3b7058-2771-4a50-b295-b0cce54b5543",
      "metadata": {
        "colab": {
          "base_uri": "https://localhost:8080/",
          "height": 281
        },
        "id": "9d3b7058-2771-4a50-b295-b0cce54b5543",
        "outputId": "1928b33f-e8d2-49f9-d668-12e077c789fa"
      },
      "outputs": [
        {
          "output_type": "display_data",
          "data": {
            "text/plain": [
              "<Figure size 576x288 with 2 Axes>"
            ],
            "image/png": "[encoded data removed]"
          },
          "metadata": {
            "needs_background": "light"
          }
        }
      ],
      "source": [
        "# Create data\n",
        "x = []\n",
        "for i in range(-10, 10):\n",
        "  x.append(i)\n",
        "\n",
        "df_logistic = pd.DataFrame(columns=['x']) # Convert the data into dataframe\n",
        "df_logistic['x'] = x\n",
        "df_logistic['Logistic'] = 1 / (1 + np.exp(-df_logistic['x'])) # Calculate the logistic of the data values using aboev function\n",
        "df_logistic['Derivative'] = df_logistic['Logistic'] * (1 - df_logistic['Logistic']) # Calculate the derivative of the logistic values\n",
        "\n",
        "# Plot the Logistic values\n",
        "plt.figure(figsize=(8, 4))\n",
        "plt.subplot(1, 2, 1)\n",
        "plt.plot(df_logistic['x'], df_logistic['Logistic'], 'o-')\n",
        "plt.grid(linestyle = '--')\n",
        "plt.title('Logistic', fontsize=12)\n",
        "\n",
        "# Plot the Derivative values\n",
        "plt.subplot(1, 2, 2)\n",
        "plt.plot(df_logistic['Logistic'], df_logistic['Derivative'], 'go-')\n",
        "plt.grid(linestyle = '--')\n",
        "plt.title('Derivative', fontsize=12)\n",
        "\n",
        "plt.show()"
      ]
    },
    {
      "cell_type": "markdown",
      "id": "66c0b47d-4af4-4100-ba8f-97e6b125c3a1",
      "metadata": {
        "id": "66c0b47d-4af4-4100-ba8f-97e6b125c3a1"
      },
      "source": [
        "## Logistic Regression<a id=\"regression\"></a>"
      ]
    },
    {
      "cell_type": "markdown",
      "source": [
        "### Load Sample Data\n"
      ],
      "metadata": {
        "id": "0prn3UbAEh6y"
      },
      "id": "0prn3UbAEh6y"
    },
    {
      "cell_type": "code",
      "execution_count": 3,
      "id": "fd04aa21-3e3e-4a0a-a988-1a41fe718947",
      "metadata": {
        "colab": {
          "base_uri": "https://localhost:8080/",
          "height": 363
        },
        "id": "fd04aa21-3e3e-4a0a-a988-1a41fe718947",
        "outputId": "19af0d0b-c2f3-4318-85d0-20fc1a5aabd2"
      },
      "outputs": [
        {
          "output_type": "execute_result",
          "data": {
            "text/plain": [
              "         x1        x2  y\n",
              "0  2.781084  2.550537  0\n",
              "1  1.465489  2.362125  0\n",
              "2  3.396562  4.400294  0\n",
              "3  1.388070  1.850220  0\n",
              "4  3.064072  3.005306  0\n",
              "5  7.627531  2.759262  1\n",
              "6  5.332441  2.088627  1\n",
              "7  6.922597  1.771064  1\n",
              "8  8.675419 -0.242069  1\n",
              "9  7.673756  3.508563  1"
            ],
            "text/html": [
              "\n",
              "  <div id=\"df-dcc72454-744b-458c-a206-3b2d311b6a2d\">\n",
              "    <div class=\"colab-df-container\">\n",
              "      <div>\n",
              "<style scoped>\n",
              "    .dataframe tbody tr th:only-of-type {\n",
              "        vertical-align: middle;\n",
              "    }\n",
              "\n",
              "    .dataframe tbody tr th {\n",
              "        vertical-align: top;\n",
              "    }\n",
              "\n",
              "    .dataframe thead th {\n",
              "        text-align: right;\n",
              "    }\n",
              "</style>\n",
              "<table border=\"1\" class=\"dataframe\">\n",
              "  <thead>\n",
              "    <tr style=\"text-align: right;\">\n",
              "      <th></th>\n",
              "      <th>x1</th>\n",
              "      <th>x2</th>\n",
              "      <th>y</th>\n",
              "    </tr>\n",
              "  </thead>\n",
              "  <tbody>\n",
              "    <tr>\n",
              "      <th>0</th>\n",
              "      <td>2.781084</td>\n",
              "      <td>2.550537</td>\n",
              "      <td>0</td>\n",
              "    </tr>\n",
              "    <tr>\n",
              "      <th>1</th>\n",
              "      <td>1.465489</td>\n",
              "      <td>2.362125</td>\n",
              "      <td>0</td>\n",
              "    </tr>\n",
              "    <tr>\n",
              "      <th>2</th>\n",
              "      <td>3.396562</td>\n",
              "      <td>4.400294</td>\n",
              "      <td>0</td>\n",
              "    </tr>\n",
              "    <tr>\n",
              "      <th>3</th>\n",
              "      <td>1.388070</td>\n",
              "      <td>1.850220</td>\n",
              "      <td>0</td>\n",
              "    </tr>\n",
              "    <tr>\n",
              "      <th>4</th>\n",
              "      <td>3.064072</td>\n",
              "      <td>3.005306</td>\n",
              "      <td>0</td>\n",
              "    </tr>\n",
              "    <tr>\n",
              "      <th>5</th>\n",
              "      <td>7.627531</td>\n",
              "      <td>2.759262</td>\n",
              "      <td>1</td>\n",
              "    </tr>\n",
              "    <tr>\n",
              "      <th>6</th>\n",
              "      <td>5.332441</td>\n",
              "      <td>2.088627</td>\n",
              "      <td>1</td>\n",
              "    </tr>\n",
              "    <tr>\n",
              "      <th>7</th>\n",
              "      <td>6.922597</td>\n",
              "      <td>1.771064</td>\n",
              "      <td>1</td>\n",
              "    </tr>\n",
              "    <tr>\n",
              "      <th>8</th>\n",
              "      <td>8.675419</td>\n",
              "      <td>-0.242069</td>\n",
              "      <td>1</td>\n",
              "    </tr>\n",
              "    <tr>\n",
              "      <th>9</th>\n",
              "      <td>7.673756</td>\n",
              "      <td>3.508563</td>\n",
              "      <td>1</td>\n",
              "    </tr>\n",
              "  </tbody>\n",
              "</table>\n",
              "</div>\n",
              "      <button class=\"colab-df-convert\" onclick=\"convertToInteractive('df-dcc72454-744b-458c-a206-3b2d311b6a2d')\"\n",
              "              title=\"Convert this dataframe to an interactive table.\"\n",
              "              style=\"display:none;\">\n",
              "        \n",
              "  <svg xmlns=\"http://www.w3.org/2000/svg\" height=\"24px\"viewBox=\"0 0 24 24\"\n",
              "       width=\"24px\">\n",
              "    <path d=\"M0 0h24v24H0V0z\" fill=\"none\"/>\n",
              "    <path d=\"M18.56 5.44l.94 2.06.94-2.06 2.06-.94-2.06-.94-.94-2.06-.94 2.06-2.06.94zm-11 1L8.5 8.5l.94-2.06 2.06-.94-2.06-.94L8.5 2.5l-.94 2.06-2.06.94zm10 10l.94 2.06.94-2.06 2.06-.94-2.06-.94-.94-2.06-.94 2.06-2.06.94z\"/><path d=\"M17.41 7.96l-1.37-1.37c-.4-.4-.92-.59-1.43-.59-.52 0-1.04.2-1.43.59L10.3 9.45l-7.72 7.72c-.78.78-.78 2.05 0 2.83L4 21.41c.39.39.9.59 1.41.59.51 0 1.02-.2 1.41-.59l7.78-7.78 2.81-2.81c.8-.78.8-2.07 0-2.86zM5.41 20L4 18.59l7.72-7.72 1.47 1.35L5.41 20z\"/>\n",
              "  </svg>\n",
              "      </button>\n",
              "      \n",
              "  <style>\n",
              "    .colab-df-container {\n",
              "      display:flex;\n",
              "      flex-wrap:wrap;\n",
              "      gap: 12px;\n",
              "    }\n",
              "\n",
              "    .colab-df-convert {\n",
              "      background-color: #E8F0FE;\n",
              "      border: none;\n",
              "      border-radius: 50%;\n",
              "      cursor: pointer;\n",
              "      display: none;\n",
              "      fill: #1967D2;\n",
              "      height: 32px;\n",
              "      padding: 0 0 0 0;\n",
              "      width: 32px;\n",
              "    }\n",
              "\n",
              "    .colab-df-convert:hover {\n",
              "      background-color: #E2EBFA;\n",
              "      box-shadow: 0px 1px 2px rgba(60, 64, 67, 0.3), 0px 1px 3px 1px rgba(60, 64, 67, 0.15);\n",
              "      fill: #174EA6;\n",
              "    }\n",
              "\n",
              "    [theme=dark] .colab-df-convert {\n",
              "      background-color: #3B4455;\n",
              "      fill: #D2E3FC;\n",
              "    }\n",
              "\n",
              "    [theme=dark] .colab-df-convert:hover {\n",
              "      background-color: #434B5C;\n",
              "      box-shadow: 0px 1px 3px 1px rgba(0, 0, 0, 0.15);\n",
              "      filter: drop-shadow(0px 1px 2px rgba(0, 0, 0, 0.3));\n",
              "      fill: #FFFFFF;\n",
              "    }\n",
              "  </style>\n",
              "\n",
              "      <script>\n",
              "        const buttonEl =\n",
              "          document.querySelector('#df-dcc72454-744b-458c-a206-3b2d311b6a2d button.colab-df-convert');\n",
              "        buttonEl.style.display =\n",
              "          google.colab.kernel.accessAllowed ? 'block' : 'none';\n",
              "\n",
              "        async function convertToInteractive(key) {\n",
              "          const element = document.querySelector('#df-dcc72454-744b-458c-a206-3b2d311b6a2d');\n",
              "          const dataTable =\n",
              "            await google.colab.kernel.invokeFunction('convertToInteractive',\n",
              "                                                     [key], {});\n",
              "          if (!dataTable) return;\n",
              "\n",
              "          const docLinkHtml = 'Like what you see? Visit the ' +\n",
              "            '<a target=\"_blank\" href=https://colab.research.google.com/notebooks/data_table.ipynb>data table notebook</a>'\n",
              "            + ' to learn more about interactive tables.';\n",
              "          element.innerHTML = '';\n",
              "          dataTable['output_type'] = 'display_data';\n",
              "          await google.colab.output.renderOutput(dataTable, element);\n",
              "          const docLink = document.createElement('div');\n",
              "          docLink.innerHTML = docLinkHtml;\n",
              "          element.appendChild(docLink);\n",
              "        }\n",
              "      </script>\n",
              "    </div>\n",
              "  </div>\n",
              "  "
            ]
          },
          "metadata": {},
          "execution_count": 3
        }
      ],
      "source": [
        "x1 = [2.7810836, 1.465489372, 3.396561688, 1.38807019, 3.06407232, 7.627531214, 5.332441248, 6.922596716, 8.675418651, 7.673756466]\n",
        "x2 = [2.550537003, 2.362125076, 4.400293529, 1.850220317, 3.005305973, 2.759262235, 2.088626775, 1.77106367, -0.242068655, 3.508563011]\n",
        "y = [0, 0, 0, 0, 0, 1, 1, 1, 1, 1]\n",
        "\n",
        "df = pd.DataFrame(columns=['x1', 'x2', 'y'])\n",
        "df['x1'] = x1\n",
        "df['x2'] = x2\n",
        "df['y'] = y\n",
        "\n",
        "df"
      ]
    },
    {
      "cell_type": "code",
      "source": [
        "sb.scatterplot(data=df, x='x1', y='x2', hue='y')\n",
        "plt.show()"
      ],
      "metadata": {
        "id": "vYq5zCW6GIiW",
        "outputId": "99ec8f3e-71ad-4c66-918c-70b39d463d5a",
        "colab": {
          "base_uri": "https://localhost:8080/",
          "height": 279
        }
      },
      "id": "vYq5zCW6GIiW",
      "execution_count": 6,
      "outputs": [
        {
          "output_type": "display_data",
          "data": {
            "text/plain": [
              "<Figure size 432x288 with 1 Axes>"
            ],
            "image/png": "[encoded data removed]"
          },
          "metadata": {
            "needs_background": "light"
          }
        }
      ]
    },
    {
      "cell_type": "code",
      "source": [
        "lr = 0.3 # Learning Rate\n",
        "bias = 1 # Bias\n",
        "b0 = 0\n",
        "b1 = 0\n",
        "b2 = 0\n",
        "pred = [] # Predictions\n",
        "sharp_pred = [] # Predictions that are mapped to binary format \n",
        "sq_error = []\n",
        "error = []\n",
        "\n",
        "df_lr = df.copy()\n",
        "for i in range(0, len(df_lr)):\n",
        "  y_hat = 1 / (1 + np.exp(-1 * ((bias * b0) + (df_lr.loc[i, 'x1'] * b1) + (df_lr.loc[i, 'x2'] * b2))))\n",
        "  pred.append(y_hat)\n",
        "  b0 = b0 + lr*(df.loc[i, 'y'] - y_hat) * y_hat * (1-y_hat) * bias\n",
        "  b1 = b1 + lr*(df.loc[i, 'y'] - y_hat) * y_hat * (1-y_hat) * df.loc[i, 'x1']\n",
        "  b2 = b2 + lr*(df.loc[i, 'y'] - y_hat) * y_hat * (1-y_hat) * df.loc[i, 'x2']\n",
        "  if y_hat < 0.5:\n",
        "    sharp_pred.append(0)\n",
        "  else:\n",
        "    sharp_pred.append(1)\n",
        "\n",
        "  sq_error.append(np.square(y_hat - df.loc[i, 'y']))\n",
        "  if sharp_pred[i] == df.loc[i, 'y']:\n",
        "    error.append(0)\n",
        "  else:\n",
        "    error.append(1)\n",
        "\n",
        "df_lr['Predictions'] = pred\n",
        "df_lr['Sharp Predictions'] = sharp_pred\n",
        "df_lr['Squared Error'] = sq_error\n",
        "df_lr['Error'] = error\n",
        "\n",
        "df_lr"
      ],
      "metadata": {
        "id": "A-SzhJ3nGIO0",
        "outputId": "a47a188f-c7bf-4f57-ae46-04b45c1f8ad7",
        "colab": {
          "base_uri": "https://localhost:8080/",
          "height": 363
        }
      },
      "id": "A-SzhJ3nGIO0",
      "execution_count": 27,
      "outputs": [
        {
          "output_type": "execute_result",
          "data": {
            "text/plain": [
              "         x1        x2  y  Predictions  Sharp Predictions  Squared Error  Error\n",
              "0  2.781084  2.550537  0     0.500000                  1       0.250000      1\n",
              "1  1.465489  2.362125  0     0.397411                  0       0.157936      0\n",
              "2  3.396562  4.400294  0     0.217546                  0       0.047326      0\n",
              "3  1.388070  1.850220  0     0.326388                  0       0.106529      0\n",
              "4  3.064072  3.005306  0     0.180885                  0       0.032719      0\n",
              "5  7.627531  2.759262  1     0.063777                  0       0.876513      1\n",
              "6  5.332441  2.088627  1     0.238895                  0       0.579281      1\n",
              "7  6.922597  1.771064  1     0.614475                  1       0.148629      0\n",
              "8  8.675419 -0.242069  1     0.931473                  1       0.004696      0\n",
              "9  7.673756  3.508563  1     0.885111                  1       0.013199      0"
            ],
            "text/html": [
              "\n",
              "  <div id=\"df-dd6306d7-1e6a-49d7-8130-f9db9001f069\">\n",
              "    <div class=\"colab-df-container\">\n",
              "      <div>\n",
              "<style scoped>\n",
              "    .dataframe tbody tr th:only-of-type {\n",
              "        vertical-align: middle;\n",
              "    }\n",
              "\n",
              "    .dataframe tbody tr th {\n",
              "        vertical-align: top;\n",
              "    }\n",
              "\n",
              "    .dataframe thead th {\n",
              "        text-align: right;\n",
              "    }\n",
              "</style>\n",
              "<table border=\"1\" class=\"dataframe\">\n",
              "  <thead>\n",
              "    <tr style=\"text-align: right;\">\n",
              "      <th></th>\n",
              "      <th>x1</th>\n",
              "      <th>x2</th>\n",
              "      <th>y</th>\n",
              "      <th>Predictions</th>\n",
              "      <th>Sharp Predictions</th>\n",
              "      <th>Squared Error</th>\n",
              "      <th>Error</th>\n",
              "    </tr>\n",
              "  </thead>\n",
              "  <tbody>\n",
              "    <tr>\n",
              "      <th>0</th>\n",
              "      <td>2.781084</td>\n",
              "      <td>2.550537</td>\n",
              "      <td>0</td>\n",
              "      <td>0.500000</td>\n",
              "      <td>1</td>\n",
              "      <td>0.250000</td>\n",
              "      <td>1</td>\n",
              "    </tr>\n",
              "    <tr>\n",
              "      <th>1</th>\n",
              "      <td>1.465489</td>\n",
              "      <td>2.362125</td>\n",
              "      <td>0</td>\n",
              "      <td>0.397411</td>\n",
              "      <td>0</td>\n",
              "      <td>0.157936</td>\n",
              "      <td>0</td>\n",
              "    </tr>\n",
              "    <tr>\n",
              "      <th>2</th>\n",
              "      <td>3.396562</td>\n",
              "      <td>4.400294</td>\n",
              "      <td>0</td>\n",
              "      <td>0.217546</td>\n",
              "      <td>0</td>\n",
              "      <td>0.047326</td>\n",
              "      <td>0</td>\n",
              "    </tr>\n",
              "    <tr>\n",
              "      <th>3</th>\n",
              "      <td>1.388070</td>\n",
              "      <td>1.850220</td>\n",
              "      <td>0</td>\n",
              "      <td>0.326388</td>\n",
              "      <td>0</td>\n",
              "      <td>0.106529</td>\n",
              "      <td>0</td>\n",
              "    </tr>\n",
              "    <tr>\n",
              "      <th>4</th>\n",
              "      <td>3.064072</td>\n",
              "      <td>3.005306</td>\n",
              "      <td>0</td>\n",
              "      <td>0.180885</td>\n",
              "      <td>0</td>\n",
              "      <td>0.032719</td>\n",
              "      <td>0</td>\n",
              "    </tr>\n",
              "    <tr>\n",
              "      <th>5</th>\n",
              "      <td>7.627531</td>\n",
              "      <td>2.759262</td>\n",
              "      <td>1</td>\n",
              "      <td>0.063777</td>\n",
              "      <td>0</td>\n",
              "      <td>0.876513</td>\n",
              "      <td>1</td>\n",
              "    </tr>\n",
              "    <tr>\n",
              "      <th>6</th>\n",
              "      <td>5.332441</td>\n",
              "      <td>2.088627</td>\n",
              "      <td>1</td>\n",
              "      <td>0.238895</td>\n",
              "      <td>0</td>\n",
              "      <td>0.579281</td>\n",
              "      <td>1</td>\n",
              "    </tr>\n",
              "    <tr>\n",
              "      <th>7</th>\n",
              "      <td>6.922597</td>\n",
              "      <td>1.771064</td>\n",
              "      <td>1</td>\n",
              "      <td>0.614475</td>\n",
              "      <td>1</td>\n",
              "      <td>0.148629</td>\n",
              "      <td>0</td>\n",
              "    </tr>\n",
              "    <tr>\n",
              "      <th>8</th>\n",
              "      <td>8.675419</td>\n",
              "      <td>-0.242069</td>\n",
              "      <td>1</td>\n",
              "      <td>0.931473</td>\n",
              "      <td>1</td>\n",
              "      <td>0.004696</td>\n",
              "      <td>0</td>\n",
              "    </tr>\n",
              "    <tr>\n",
              "      <th>9</th>\n",
              "      <td>7.673756</td>\n",
              "      <td>3.508563</td>\n",
              "      <td>1</td>\n",
              "      <td>0.885111</td>\n",
              "      <td>1</td>\n",
              "      <td>0.013199</td>\n",
              "      <td>0</td>\n",
              "    </tr>\n",
              "  </tbody>\n",
              "</table>\n",
              "</div>\n",
              "      <button class=\"colab-df-convert\" onclick=\"convertToInteractive('df-dd6306d7-1e6a-49d7-8130-f9db9001f069')\"\n",
              "              title=\"Convert this dataframe to an interactive table.\"\n",
              "              style=\"display:none;\">\n",
              "        \n",
              "  <svg xmlns=\"http://www.w3.org/2000/svg\" height=\"24px\"viewBox=\"0 0 24 24\"\n",
              "       width=\"24px\">\n",
              "    <path d=\"M0 0h24v24H0V0z\" fill=\"none\"/>\n",
              "    <path d=\"M18.56 5.44l.94 2.06.94-2.06 2.06-.94-2.06-.94-.94-2.06-.94 2.06-2.06.94zm-11 1L8.5 8.5l.94-2.06 2.06-.94-2.06-.94L8.5 2.5l-.94 2.06-2.06.94zm10 10l.94 2.06.94-2.06 2.06-.94-2.06-.94-.94-2.06-.94 2.06-2.06.94z\"/><path d=\"M17.41 7.96l-1.37-1.37c-.4-.4-.92-.59-1.43-.59-.52 0-1.04.2-1.43.59L10.3 9.45l-7.72 7.72c-.78.78-.78 2.05 0 2.83L4 21.41c.39.39.9.59 1.41.59.51 0 1.02-.2 1.41-.59l7.78-7.78 2.81-2.81c.8-.78.8-2.07 0-2.86zM5.41 20L4 18.59l7.72-7.72 1.47 1.35L5.41 20z\"/>\n",
              "  </svg>\n",
              "      </button>\n",
              "      \n",
              "  <style>\n",
              "    .colab-df-container {\n",
              "      display:flex;\n",
              "      flex-wrap:wrap;\n",
              "      gap: 12px;\n",
              "    }\n",
              "\n",
              "    .colab-df-convert {\n",
              "      background-color: #E8F0FE;\n",
              "      border: none;\n",
              "      border-radius: 50%;\n",
              "      cursor: pointer;\n",
              "      display: none;\n",
              "      fill: #1967D2;\n",
              "      height: 32px;\n",
              "      padding: 0 0 0 0;\n",
              "      width: 32px;\n",
              "    }\n",
              "\n",
              "    .colab-df-convert:hover {\n",
              "      background-color: #E2EBFA;\n",
              "      box-shadow: 0px 1px 2px rgba(60, 64, 67, 0.3), 0px 1px 3px 1px rgba(60, 64, 67, 0.15);\n",
              "      fill: #174EA6;\n",
              "    }\n",
              "\n",
              "    [theme=dark] .colab-df-convert {\n",
              "      background-color: #3B4455;\n",
              "      fill: #D2E3FC;\n",
              "    }\n",
              "\n",
              "    [theme=dark] .colab-df-convert:hover {\n",
              "      background-color: #434B5C;\n",
              "      box-shadow: 0px 1px 3px 1px rgba(0, 0, 0, 0.15);\n",
              "      filter: drop-shadow(0px 1px 2px rgba(0, 0, 0, 0.3));\n",
              "      fill: #FFFFFF;\n",
              "    }\n",
              "  </style>\n",
              "\n",
              "      <script>\n",
              "        const buttonEl =\n",
              "          document.querySelector('#df-dd6306d7-1e6a-49d7-8130-f9db9001f069 button.colab-df-convert');\n",
              "        buttonEl.style.display =\n",
              "          google.colab.kernel.accessAllowed ? 'block' : 'none';\n",
              "\n",
              "        async function convertToInteractive(key) {\n",
              "          const element = document.querySelector('#df-dd6306d7-1e6a-49d7-8130-f9db9001f069');\n",
              "          const dataTable =\n",
              "            await google.colab.kernel.invokeFunction('convertToInteractive',\n",
              "                                                     [key], {});\n",
              "          if (!dataTable) return;\n",
              "\n",
              "          const docLinkHtml = 'Like what you see? Visit the ' +\n",
              "            '<a target=\"_blank\" href=https://colab.research.google.com/notebooks/data_table.ipynb>data table notebook</a>'\n",
              "            + ' to learn more about interactive tables.';\n",
              "          element.innerHTML = '';\n",
              "          dataTable['output_type'] = 'display_data';\n",
              "          await google.colab.output.renderOutput(dataTable, element);\n",
              "          const docLink = document.createElement('div');\n",
              "          docLink.innerHTML = docLinkHtml;\n",
              "          element.appendChild(docLink);\n",
              "        }\n",
              "      </script>\n",
              "    </div>\n",
              "  </div>\n",
              "  "
            ]
          },
          "metadata": {},
          "execution_count": 27
        }
      ]
    },
    {
      "cell_type": "code",
      "source": [
        "error"
      ],
      "metadata": {
        "id": "EI6W5AoNGHuQ",
        "outputId": "5a399e8e-315d-4d51-c264-a0d554e8ce2a",
        "colab": {
          "base_uri": "https://localhost:8080/"
        }
      },
      "id": "EI6W5AoNGHuQ",
      "execution_count": 24,
      "outputs": [
        {
          "output_type": "execute_result",
          "data": {
            "text/plain": [
              "[1, 1, 1, 1, 1, 1, 1, 1, 1]"
            ]
          },
          "metadata": {},
          "execution_count": 24
        }
      ]
    },
    {
      "cell_type": "markdown",
      "source": [
        "### Data Preparation\n",
        "\n",
        "Since logistic regression is a linear model, we have the similar data preparation process as we have in Liner Regression. Those are:\n",
        "\n",
        "1. The output has to have **binary variable**\n",
        "2. Remove Noise\n",
        "3. Inputs should have **Gaussian Distribution**\n",
        "4. Correlated inputs should be removed \n",
        "\n"
      ],
      "metadata": {
        "id": "pbj3J8cJEp6f"
      },
      "id": "pbj3J8cJEp6f"
    },
    {
      "cell_type": "code",
      "source": [],
      "metadata": {
        "id": "RpsJMsO1Fxzt"
      },
      "id": "RpsJMsO1Fxzt",
      "execution_count": null,
      "outputs": []
    }
  ],
  "metadata": {
    "kernelspec": {
      "display_name": "Python 3 (ipykernel)",
      "language": "python",
      "name": "python3"
    },
    "language_info": {
      "codemirror_mode": {
        "name": "ipython",
        "version": 3
      },
      "file_extension": ".py",
      "mimetype": "text/x-python",
      "name": "python",
      "nbconvert_exporter": "python",
      "pygments_lexer": "ipython3",
      "version": "3.10.6"
    },
    "colab": {
      "provenance": []
    }
  },
  "nbformat": 4,
  "nbformat_minor": 5
}