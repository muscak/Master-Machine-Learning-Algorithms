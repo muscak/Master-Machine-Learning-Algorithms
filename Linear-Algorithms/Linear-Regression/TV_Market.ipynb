{
 "cells": [
  {
   "cell_type": "markdown",
   "id": "e9e85548-4c54-4e12-9495-63129f0d8442",
   "metadata": {},
   "source": [
    "# Linear Regression\n",
    "\n",
    "\n",
    "Eval their impact on the model.\n",
    "    \n",
    "Functions\n",
    "\n",
    "OLS from previous study?\n",
    "\n",
    "Gradient descent"
   ]
  },
  {
   "cell_type": "markdown",
   "id": "3a06bc46-1796-45c3-88d4-3786fbb28dfa",
   "metadata": {},
   "source": [
    "## Table of Content\n",
    "1. [Introduction](#introduction)\n",
    "2. [Importing Libraries](#libraries)\n",
    "3. [Load Dataset](#dataset)\n",
    "4. [Prepare Data](#prep)\n",
    "5. [Finding $b_1$](#b1)\n",
    "6. [Finding $b_0$](#b0)\n",
    "7. [Predicting](#pred)"
   ]
  },
  {
   "cell_type": "markdown",
   "id": "54070673-d2a2-485c-a2a0-cd2f935fb3fe",
   "metadata": {},
   "source": [
    "## Introduction<a id=\"introduction\"></a>\n",
    "The purpose of this study is to learn about simple and multiple linear regression using both traditional methods and sklearn library. It assumes that there is a linear relation between the inputs $(x)$ and output $(y)$ as shown in the below formula.\n",
    "\n",
    "$$\\hat{y}= b_0 + b_1×x_1$$\n",
    "\n",
    "First we'll calculate the weights using simple linear regression, then we'll do the same calculation using OLS and Gradient Descent. We'll use $RMSE$, $R^2$, $MAE$ and $MSE$ metrics to evaluate the performance of the proposed linear models."
   ]
  },
  {
   "cell_type": "markdown",
   "id": "fda09807-b21c-44fc-8eb9-cc8fdf902a9c",
   "metadata": {},
   "source": [
    "## Import Libraries<a id=\"librariries\"></a>"
   ]
  },
  {
   "cell_type": "code",
   "execution_count": 41,
   "id": "872b83b1-0544-4f2b-9a3a-c3baf7dfa501",
   "metadata": {},
   "outputs": [],
   "source": [
    "import pandas as pd\n",
    "from sklearn.model_selection import train_test_split\n",
    "import matplotlib.pyplot as plt\n",
    "plt.rcParams['figure.figsize'] = (8, 6)\n",
    "import seaborn as sb\n",
    "import math as m"
   ]
  },
  {
   "cell_type": "markdown",
   "id": "038b2808-29a8-404d-aee5-a651fb4f849f",
   "metadata": {},
   "source": [
    "## Load Dataset<a id='dataset'></a>\n",
    "\n",
    "We'll be using data from the TV Marketing study on [Kaggle](https://www.kaggle.com/datasets/devzohaib/tvmarketingcsv)."
   ]
  },
  {
   "cell_type": "code",
   "execution_count": 2,
   "id": "9d105622-e7c4-4111-b864-246abf2c3459",
   "metadata": {},
   "outputs": [
    {
     "name": "stdout",
     "output_type": "stream",
     "text": [
      "<class 'pandas.core.frame.DataFrame'>\n",
      "RangeIndex: 200 entries, 0 to 199\n",
      "Data columns (total 2 columns):\n",
      " #   Column  Non-Null Count  Dtype  \n",
      "---  ------  --------------  -----  \n",
      " 0   TV      200 non-null    float64\n",
      " 1   Sales   200 non-null    float64\n",
      "dtypes: float64(2)\n",
      "memory usage: 3.2 KB\n"
     ]
    }
   ],
   "source": [
    "df = pd.read_csv('Data/tvmarketing.csv')\n",
    "df.info()"
   ]
  },
  {
   "cell_type": "code",
   "execution_count": 3,
   "id": "cd652afd-fd00-4132-bdd8-06a1049143ce",
   "metadata": {},
   "outputs": [
    {
     "data": {
      "text/html": [
       "<div>\n",
       "<style scoped>\n",
       "    .dataframe tbody tr th:only-of-type {\n",
       "        vertical-align: middle;\n",
       "    }\n",
       "\n",
       "    .dataframe tbody tr th {\n",
       "        vertical-align: top;\n",
       "    }\n",
       "\n",
       "    .dataframe thead th {\n",
       "        text-align: right;\n",
       "    }\n",
       "</style>\n",
       "<table border=\"1\" class=\"dataframe\">\n",
       "  <thead>\n",
       "    <tr style=\"text-align: right;\">\n",
       "      <th></th>\n",
       "      <th>TV</th>\n",
       "      <th>Sales</th>\n",
       "    </tr>\n",
       "  </thead>\n",
       "  <tbody>\n",
       "    <tr>\n",
       "      <th>0</th>\n",
       "      <td>230.1</td>\n",
       "      <td>22.1</td>\n",
       "    </tr>\n",
       "    <tr>\n",
       "      <th>1</th>\n",
       "      <td>44.5</td>\n",
       "      <td>10.4</td>\n",
       "    </tr>\n",
       "    <tr>\n",
       "      <th>2</th>\n",
       "      <td>17.2</td>\n",
       "      <td>9.3</td>\n",
       "    </tr>\n",
       "    <tr>\n",
       "      <th>3</th>\n",
       "      <td>151.5</td>\n",
       "      <td>18.5</td>\n",
       "    </tr>\n",
       "    <tr>\n",
       "      <th>4</th>\n",
       "      <td>180.8</td>\n",
       "      <td>12.9</td>\n",
       "    </tr>\n",
       "  </tbody>\n",
       "</table>\n",
       "</div>"
      ],
      "text/plain": [
       "      TV  Sales\n",
       "0  230.1   22.1\n",
       "1   44.5   10.4\n",
       "2   17.2    9.3\n",
       "3  151.5   18.5\n",
       "4  180.8   12.9"
      ]
     },
     "execution_count": 3,
     "metadata": {},
     "output_type": "execute_result"
    }
   ],
   "source": [
    "df.head()"
   ]
  },
  {
   "cell_type": "markdown",
   "id": "4a090ccc-1d2e-498a-9c11-7fe91bcae309",
   "metadata": {},
   "source": [
    "## Prepare Data<a id='prep'></a>\n",
    "- **Linear Assumption.** Linear regression assumes that the relationship between your input and output is linear.\n",
    "- **Remove Noise.** Linear regression assumes that your input and output variables are not noisy.\n",
    "- **Remove Collinearity.** Linear regression will overfit your data when you have highly correlated input variables.\n",
    "- **Gaussian Distributions.** Linear regression will make more reliable predictions if your input and output variables have a Gaussian distribution.\n",
    "- **Rescale Inputs.** Linear regression will often make more reliable predictions if you rescale input variables using standardization or normalization."
   ]
  },
  {
   "cell_type": "code",
   "execution_count": 42,
   "id": "eaaef1e2-355c-4814-9e03-574d85d64a6e",
   "metadata": {},
   "outputs": [
    {
     "data": {
      "text/plain": [
       "<AxesSubplot: xlabel='TV', ylabel='Sales'>"
      ]
     },
     "execution_count": 42,
     "metadata": {},
     "output_type": "execute_result"
    },
    {
     "data": {
      "image/png": "[encoded data removed]",
      "text/plain": [
       "<Figure size 800x600 with 1 Axes>"
      ]
     },
     "metadata": {},
     "output_type": "display_data"
    }
   ],
   "source": [
    "sb.scatterplot(data=df, x='TV', y='Sales')"
   ]
  },
  {
   "cell_type": "markdown",
   "id": "03416fb2-742d-46e3-9cc3-03b023ce8180",
   "metadata": {},
   "source": [
    "We'll assume that the relation between the feature $(x)$ and the output $(y)$ is linear by looking at the above graph."
   ]
  },
  {
   "cell_type": "markdown",
   "id": "33327758-541c-4d4f-b30a-ba435e004b65",
   "metadata": {},
   "source": [
    "### Train-Test Split\n",
    "\n",
    "We'll split the data and will fit all scaling and transformation processes on thi training dataset not to cause any data leakage."
   ]
  },
  {
   "cell_type": "code",
   "execution_count": 46,
   "id": "cda081c1-a01f-4e6d-8c9e-eaf484c10bd4",
   "metadata": {},
   "outputs": [
    {
     "data": {
      "text/html": [
       "<div>\n",
       "<style scoped>\n",
       "    .dataframe tbody tr th:only-of-type {\n",
       "        vertical-align: middle;\n",
       "    }\n",
       "\n",
       "    .dataframe tbody tr th {\n",
       "        vertical-align: top;\n",
       "    }\n",
       "\n",
       "    .dataframe thead th {\n",
       "        text-align: right;\n",
       "    }\n",
       "</style>\n",
       "<table border=\"1\" class=\"dataframe\">\n",
       "  <thead>\n",
       "    <tr style=\"text-align: right;\">\n",
       "      <th></th>\n",
       "      <th>TV</th>\n",
       "      <th>Sales</th>\n",
       "    </tr>\n",
       "  </thead>\n",
       "  <tbody>\n",
       "    <tr>\n",
       "      <th>0</th>\n",
       "      <td>67.8</td>\n",
       "      <td>12.5</td>\n",
       "    </tr>\n",
       "    <tr>\n",
       "      <th>1</th>\n",
       "      <td>139.5</td>\n",
       "      <td>10.3</td>\n",
       "    </tr>\n",
       "    <tr>\n",
       "      <th>2</th>\n",
       "      <td>96.2</td>\n",
       "      <td>11.4</td>\n",
       "    </tr>\n",
       "    <tr>\n",
       "      <th>3</th>\n",
       "      <td>18.8</td>\n",
       "      <td>7.0</td>\n",
       "    </tr>\n",
       "    <tr>\n",
       "      <th>4</th>\n",
       "      <td>76.4</td>\n",
       "      <td>11.8</td>\n",
       "    </tr>\n",
       "  </tbody>\n",
       "</table>\n",
       "</div>"
      ],
      "text/plain": [
       "      TV  Sales\n",
       "0   67.8   12.5\n",
       "1  139.5   10.3\n",
       "2   96.2   11.4\n",
       "3   18.8    7.0\n",
       "4   76.4   11.8"
      ]
     },
     "execution_count": 46,
     "metadata": {},
     "output_type": "execute_result"
    }
   ],
   "source": [
    "x = df['TV']\n",
    "y = df['Sales']\n",
    "x_train, x_test, y_train, y_test = train_test_split(x, y, test_size=0.2, random_state=101)\n",
    "\n",
    "# Training DataFrame\n",
    "df_train = pd.DataFrame(columns=['TV', 'Sales'])\n",
    "df_train['TV'] = x_train.reset_index(drop=True)\n",
    "df_train['Sales'] = y_train.reset_index(drop=True)\n",
    "\n",
    "# Testing DataFrame\n",
    "df_test = pd.DataFrame(columns=['TV', 'Sales'])\n",
    "df_test['TV'] = x_test.reset_index(drop=True)\n",
    "df_test['Sales'] = y_test.reset_index(drop=True)\n",
    "df_train.head()"
   ]
  },
  {
   "cell_type": "markdown",
   "id": "77a6183d-9bfe-4cf1-b298-680b6481ee43",
   "metadata": {},
   "source": [
    "### Checking for Noise (Outliers)"
   ]
  },
  {
   "cell_type": "code",
   "execution_count": 47,
   "id": "b1f21bf5-aa42-4fc0-b1cc-e7037abecdf2",
   "metadata": {},
   "outputs": [
    {
     "data": {
      "image/png": "[encoded data removed]",
      "text/plain": [
       "<Figure size 800x600 with 1 Axes>"
      ]
     },
     "metadata": {},
     "output_type": "display_data"
    }
   ],
   "source": [
    "plt.boxplot(df_train[['TV', 'Sales']])\n",
    "plt.show()"
   ]
  },
  {
   "cell_type": "markdown",
   "id": "326ac065-92da-4741-9132-f1a704edb363",
   "metadata": {},
   "source": [
    "As it can be shown on the graph above, there are no outliers in the training dataset."
   ]
  },
  {
   "cell_type": "markdown",
   "id": "bd454e23-12a4-4cb2-bd4d-5412e6e034b8",
   "metadata": {},
   "source": [
    "### Removing Colinearity\n",
    "As we have only one input, this process is not applicable for this dataset."
   ]
  },
  {
   "cell_type": "markdown",
   "id": "496da85e-7937-4d16-b297-c9d7efed28d5",
   "metadata": {},
   "source": [
    "### Gaussian Distribution"
   ]
  },
  {
   "cell_type": "code",
   "execution_count": 54,
   "id": "b3307c39-b01a-4f30-bb09-bb3066096a06",
   "metadata": {},
   "outputs": [
    {
     "data": {
      "text/plain": [
       "<AxesSubplot: xlabel='Sales', ylabel='Density'>"
      ]
     },
     "execution_count": 54,
     "metadata": {},
     "output_type": "execute_result"
    },
    {
     "data": {
      "image/png": "[encoded data removed]",
      "text/plain": [
       "<Figure size 800x500 with 2 Axes>"
      ]
     },
     "metadata": {},
     "output_type": "display_data"
    }
   ],
   "source": [
    "plt.figure(figsize=(8, 5))\n",
    "plt.subplot(1, 2, 1)\n",
    "sb.kdeplot(data=df_train['TV'], fill=True)\n",
    "plt.subplot(1, 2, 2)\n",
    "sb.kdeplot(data=df_train['Sales'], fill=True)"
   ]
  },
  {
   "cell_type": "markdown",
   "id": "2866b2b1-360c-42c3-a9f6-b6dda1edc98b",
   "metadata": {},
   "source": [
    "As it can be seen from the above graph, output has more gaussian distribution while the input is not in that shape. We should transform the input accordingly."
   ]
  },
  {
   "cell_type": "code",
   "execution_count": 62,
   "id": "ad763939-1f04-4b40-b3fd-122343f8a83b",
   "metadata": {},
   "outputs": [
    {
     "data": {
      "text/html": [
       "<div>\n",
       "<style scoped>\n",
       "    .dataframe tbody tr th:only-of-type {\n",
       "        vertical-align: middle;\n",
       "    }\n",
       "\n",
       "    .dataframe tbody tr th {\n",
       "        vertical-align: top;\n",
       "    }\n",
       "\n",
       "    .dataframe thead th {\n",
       "        text-align: right;\n",
       "    }\n",
       "</style>\n",
       "<table border=\"1\" class=\"dataframe\">\n",
       "  <thead>\n",
       "    <tr style=\"text-align: right;\">\n",
       "      <th></th>\n",
       "      <th>TV</th>\n",
       "      <th>Sales</th>\n",
       "      <th>TV_Transformed</th>\n",
       "    </tr>\n",
       "  </thead>\n",
       "  <tbody>\n",
       "    <tr>\n",
       "      <th>0</th>\n",
       "      <td>67.8</td>\n",
       "      <td>12.5</td>\n",
       "      <td>-0.904647</td>\n",
       "    </tr>\n",
       "    <tr>\n",
       "      <th>1</th>\n",
       "      <td>139.5</td>\n",
       "      <td>10.3</td>\n",
       "      <td>-0.031356</td>\n",
       "    </tr>\n",
       "    <tr>\n",
       "      <th>2</th>\n",
       "      <td>96.2</td>\n",
       "      <td>11.4</td>\n",
       "      <td>-0.541055</td>\n",
       "    </tr>\n",
       "    <tr>\n",
       "      <th>3</th>\n",
       "      <td>18.8</td>\n",
       "      <td>7.0</td>\n",
       "      <td>-1.642544</td>\n",
       "    </tr>\n",
       "    <tr>\n",
       "      <th>4</th>\n",
       "      <td>76.4</td>\n",
       "      <td>11.8</td>\n",
       "      <td>-0.791360</td>\n",
       "    </tr>\n",
       "  </tbody>\n",
       "</table>\n",
       "</div>"
      ],
      "text/plain": [
       "      TV  Sales  TV_Transformed\n",
       "0   67.8   12.5       -0.904647\n",
       "1  139.5   10.3       -0.031356\n",
       "2   96.2   11.4       -0.541055\n",
       "3   18.8    7.0       -1.642544\n",
       "4   76.4   11.8       -0.791360"
      ]
     },
     "execution_count": 62,
     "metadata": {},
     "output_type": "execute_result"
    }
   ],
   "source": [
    "from sklearn.preprocessing import power_transform\n",
    "\n",
    "df_train['TV_Transformed'] = power_transform(df_train['TV'].values.reshape(-1,1), \n",
    "                                             method='yeo-johnson', standardize=True)\n",
    "df_train.head()"
   ]
  },
  {
   "cell_type": "code",
   "execution_count": 60,
   "id": "c9878f1d-574d-40d8-9e88-d3b878de8a6b",
   "metadata": {},
   "outputs": [
    {
     "data": {
      "text/plain": [
       "<AxesSubplot: xlabel='TV_Transformed', ylabel='Density'>"
      ]
     },
     "execution_count": 60,
     "metadata": {},
     "output_type": "execute_result"
    },
    {
     "data": {
      "image/png": "[encoded data removed]",
      "text/plain": [
       "<Figure size 800x500 with 2 Axes>"
      ]
     },
     "metadata": {},
     "output_type": "display_data"
    }
   ],
   "source": [
    "plt.figure(figsize=(8, 5))\n",
    "plt.subplot(1, 2, 1)\n",
    "sb.kdeplot(data=df_train['TV'], fill=True)\n",
    "plt.subplot(1, 2, 2)\n",
    "sb.kdeplot(data=df_train['TV_Transformed'], fill=True)"
   ]
  },
  {
   "cell_type": "markdown",
   "id": "b2a049c3-91eb-493d-90ac-d3b49f8af406",
   "metadata": {},
   "source": [
    "### Rescale Inputs"
   ]
  },
  {
   "cell_type": "code",
   "execution_count": 63,
   "id": "2c2b6ef5-2b27-4023-aa94-77b6911c0061",
   "metadata": {},
   "outputs": [
    {
     "data": {
      "text/html": [
       "<div>\n",
       "<style scoped>\n",
       "    .dataframe tbody tr th:only-of-type {\n",
       "        vertical-align: middle;\n",
       "    }\n",
       "\n",
       "    .dataframe tbody tr th {\n",
       "        vertical-align: top;\n",
       "    }\n",
       "\n",
       "    .dataframe thead th {\n",
       "        text-align: right;\n",
       "    }\n",
       "</style>\n",
       "<table border=\"1\" class=\"dataframe\">\n",
       "  <thead>\n",
       "    <tr style=\"text-align: right;\">\n",
       "      <th></th>\n",
       "      <th>TV</th>\n",
       "      <th>Sales</th>\n",
       "      <th>TV_Transformed</th>\n",
       "    </tr>\n",
       "  </thead>\n",
       "  <tbody>\n",
       "    <tr>\n",
       "      <th>count</th>\n",
       "      <td>160.00000</td>\n",
       "      <td>160.000000</td>\n",
       "      <td>1.600000e+02</td>\n",
       "    </tr>\n",
       "    <tr>\n",
       "      <th>mean</th>\n",
       "      <td>149.43125</td>\n",
       "      <td>14.097500</td>\n",
       "      <td>1.276756e-16</td>\n",
       "    </tr>\n",
       "    <tr>\n",
       "      <th>std</th>\n",
       "      <td>85.38041</td>\n",
       "      <td>5.156811</td>\n",
       "      <td>1.003140e+00</td>\n",
       "    </tr>\n",
       "    <tr>\n",
       "      <th>min</th>\n",
       "      <td>0.70000</td>\n",
       "      <td>1.600000</td>\n",
       "      <td>-2.034587e+00</td>\n",
       "    </tr>\n",
       "    <tr>\n",
       "      <th>25%</th>\n",
       "      <td>75.45000</td>\n",
       "      <td>10.675000</td>\n",
       "      <td>-8.037236e-01</td>\n",
       "    </tr>\n",
       "    <tr>\n",
       "      <th>50%</th>\n",
       "      <td>150.65000</td>\n",
       "      <td>13.200000</td>\n",
       "      <td>9.349961e-02</td>\n",
       "    </tr>\n",
       "    <tr>\n",
       "      <th>75%</th>\n",
       "      <td>218.95000</td>\n",
       "      <td>17.325000</td>\n",
       "      <td>8.175508e-01</td>\n",
       "    </tr>\n",
       "    <tr>\n",
       "      <th>max</th>\n",
       "      <td>296.40000</td>\n",
       "      <td>26.200000</td>\n",
       "      <td>1.576891e+00</td>\n",
       "    </tr>\n",
       "  </tbody>\n",
       "</table>\n",
       "</div>"
      ],
      "text/plain": [
       "              TV       Sales  TV_Transformed\n",
       "count  160.00000  160.000000    1.600000e+02\n",
       "mean   149.43125   14.097500    1.276756e-16\n",
       "std     85.38041    5.156811    1.003140e+00\n",
       "min      0.70000    1.600000   -2.034587e+00\n",
       "25%     75.45000   10.675000   -8.037236e-01\n",
       "50%    150.65000   13.200000    9.349961e-02\n",
       "75%    218.95000   17.325000    8.175508e-01\n",
       "max    296.40000   26.200000    1.576891e+00"
      ]
     },
     "execution_count": 63,
     "metadata": {},
     "output_type": "execute_result"
    }
   ],
   "source": [
    "df_train.describe()"
   ]
  },
  {
   "cell_type": "markdown",
   "id": "f79e291e-50d7-4e26-b8a6-d006527d9649",
   "metadata": {},
   "source": [
    "We don't need to rescale inputs as it's standardized during the transformation process."
   ]
  },
  {
   "cell_type": "markdown",
   "id": "f00ebe32-2f44-4395-97a6-f7eebd7a3643",
   "metadata": {},
   "source": [
    "## Finding the $b_1$<a id='b1'></a>\n",
    "\n",
    "$$b_1 = \\dfrac{\\sum\\limits_{i=1}^{n} ((x_i - mean(x) × (y_i - mean(y))}{\\sum\\limits_{i=1}^{n} (x_i - mean(x))^2}$$"
   ]
  },
  {
   "cell_type": "code",
   "execution_count": 64,
   "id": "4ce7a73a-19d5-4e1c-81f5-9eb32dff7ae4",
   "metadata": {},
   "outputs": [
    {
     "data": {
      "text/plain": [
       "1.27675647831893e-16"
      ]
     },
     "execution_count": 64,
     "metadata": {},
     "output_type": "execute_result"
    }
   ],
   "source": [
    "mean_x = df_train['TV_Transformed'].mean()\n",
    "mean_x"
   ]
  },
  {
   "cell_type": "code",
   "execution_count": 65,
   "id": "57d86d24-b56b-48c5-b1f7-d00a948158ed",
   "metadata": {},
   "outputs": [
    {
     "data": {
      "text/plain": [
       "14.097500000000002"
      ]
     },
     "execution_count": 65,
     "metadata": {},
     "output_type": "execute_result"
    }
   ],
   "source": [
    "mean_y = y_train.mean()\n",
    "mean_y"
   ]
  },
  {
   "cell_type": "code",
   "execution_count": 66,
   "id": "0012cd90-00f7-47d8-b7a3-4632d977f28d",
   "metadata": {},
   "outputs": [
    {
     "data": {
      "text/html": [
       "<div>\n",
       "<style scoped>\n",
       "    .dataframe tbody tr th:only-of-type {\n",
       "        vertical-align: middle;\n",
       "    }\n",
       "\n",
       "    .dataframe tbody tr th {\n",
       "        vertical-align: top;\n",
       "    }\n",
       "\n",
       "    .dataframe thead th {\n",
       "        text-align: right;\n",
       "    }\n",
       "</style>\n",
       "<table border=\"1\" class=\"dataframe\">\n",
       "  <thead>\n",
       "    <tr style=\"text-align: right;\">\n",
       "      <th></th>\n",
       "      <th>TV</th>\n",
       "      <th>Sales</th>\n",
       "      <th>TV_Transformed</th>\n",
       "      <th>TV-mean_x</th>\n",
       "      <th>Sales-mean_y</th>\n",
       "    </tr>\n",
       "  </thead>\n",
       "  <tbody>\n",
       "    <tr>\n",
       "      <th>0</th>\n",
       "      <td>67.8</td>\n",
       "      <td>12.5</td>\n",
       "      <td>-0.904647</td>\n",
       "      <td>-0.904647</td>\n",
       "      <td>-1.5975</td>\n",
       "    </tr>\n",
       "    <tr>\n",
       "      <th>1</th>\n",
       "      <td>139.5</td>\n",
       "      <td>10.3</td>\n",
       "      <td>-0.031356</td>\n",
       "      <td>-0.031356</td>\n",
       "      <td>-3.7975</td>\n",
       "    </tr>\n",
       "    <tr>\n",
       "      <th>2</th>\n",
       "      <td>96.2</td>\n",
       "      <td>11.4</td>\n",
       "      <td>-0.541055</td>\n",
       "      <td>-0.541055</td>\n",
       "      <td>-2.6975</td>\n",
       "    </tr>\n",
       "    <tr>\n",
       "      <th>3</th>\n",
       "      <td>18.8</td>\n",
       "      <td>7.0</td>\n",
       "      <td>-1.642544</td>\n",
       "      <td>-1.642544</td>\n",
       "      <td>-7.0975</td>\n",
       "    </tr>\n",
       "    <tr>\n",
       "      <th>4</th>\n",
       "      <td>76.4</td>\n",
       "      <td>11.8</td>\n",
       "      <td>-0.791360</td>\n",
       "      <td>-0.791360</td>\n",
       "      <td>-2.2975</td>\n",
       "    </tr>\n",
       "  </tbody>\n",
       "</table>\n",
       "</div>"
      ],
      "text/plain": [
       "      TV  Sales  TV_Transformed  TV-mean_x  Sales-mean_y\n",
       "0   67.8   12.5       -0.904647  -0.904647       -1.5975\n",
       "1  139.5   10.3       -0.031356  -0.031356       -3.7975\n",
       "2   96.2   11.4       -0.541055  -0.541055       -2.6975\n",
       "3   18.8    7.0       -1.642544  -1.642544       -7.0975\n",
       "4   76.4   11.8       -0.791360  -0.791360       -2.2975"
      ]
     },
     "execution_count": 66,
     "metadata": {},
     "output_type": "execute_result"
    }
   ],
   "source": [
    "df_train['TV-mean_x'] = df_train['TV_Transformed'] - mean_x\n",
    "df_train['Sales-mean_y'] = df_train['Sales'] - mean_y\n",
    "df_train.head()"
   ]
  },
  {
   "cell_type": "code",
   "execution_count": 67,
   "id": "ab657862-d350-4006-bb2b-dd7cae3efaf5",
   "metadata": {},
   "outputs": [
    {
     "data": {
      "text/html": [
       "<div>\n",
       "<style scoped>\n",
       "    .dataframe tbody tr th:only-of-type {\n",
       "        vertical-align: middle;\n",
       "    }\n",
       "\n",
       "    .dataframe tbody tr th {\n",
       "        vertical-align: top;\n",
       "    }\n",
       "\n",
       "    .dataframe thead th {\n",
       "        text-align: right;\n",
       "    }\n",
       "</style>\n",
       "<table border=\"1\" class=\"dataframe\">\n",
       "  <thead>\n",
       "    <tr style=\"text-align: right;\">\n",
       "      <th></th>\n",
       "      <th>TV</th>\n",
       "      <th>Sales</th>\n",
       "      <th>TV_Transformed</th>\n",
       "      <th>TV-mean_x</th>\n",
       "      <th>Sales-mean_y</th>\n",
       "      <th>Mult</th>\n",
       "    </tr>\n",
       "  </thead>\n",
       "  <tbody>\n",
       "    <tr>\n",
       "      <th>0</th>\n",
       "      <td>67.8</td>\n",
       "      <td>12.5</td>\n",
       "      <td>-0.904647</td>\n",
       "      <td>-0.904647</td>\n",
       "      <td>-1.5975</td>\n",
       "      <td>1.445174</td>\n",
       "    </tr>\n",
       "    <tr>\n",
       "      <th>1</th>\n",
       "      <td>139.5</td>\n",
       "      <td>10.3</td>\n",
       "      <td>-0.031356</td>\n",
       "      <td>-0.031356</td>\n",
       "      <td>-3.7975</td>\n",
       "      <td>0.119073</td>\n",
       "    </tr>\n",
       "    <tr>\n",
       "      <th>2</th>\n",
       "      <td>96.2</td>\n",
       "      <td>11.4</td>\n",
       "      <td>-0.541055</td>\n",
       "      <td>-0.541055</td>\n",
       "      <td>-2.6975</td>\n",
       "      <td>1.459495</td>\n",
       "    </tr>\n",
       "    <tr>\n",
       "      <th>3</th>\n",
       "      <td>18.8</td>\n",
       "      <td>7.0</td>\n",
       "      <td>-1.642544</td>\n",
       "      <td>-1.642544</td>\n",
       "      <td>-7.0975</td>\n",
       "      <td>11.657958</td>\n",
       "    </tr>\n",
       "    <tr>\n",
       "      <th>4</th>\n",
       "      <td>76.4</td>\n",
       "      <td>11.8</td>\n",
       "      <td>-0.791360</td>\n",
       "      <td>-0.791360</td>\n",
       "      <td>-2.2975</td>\n",
       "      <td>1.818150</td>\n",
       "    </tr>\n",
       "  </tbody>\n",
       "</table>\n",
       "</div>"
      ],
      "text/plain": [
       "      TV  Sales  TV_Transformed  TV-mean_x  Sales-mean_y       Mult\n",
       "0   67.8   12.5       -0.904647  -0.904647       -1.5975   1.445174\n",
       "1  139.5   10.3       -0.031356  -0.031356       -3.7975   0.119073\n",
       "2   96.2   11.4       -0.541055  -0.541055       -2.6975   1.459495\n",
       "3   18.8    7.0       -1.642544  -1.642544       -7.0975  11.657958\n",
       "4   76.4   11.8       -0.791360  -0.791360       -2.2975   1.818150"
      ]
     },
     "execution_count": 67,
     "metadata": {},
     "output_type": "execute_result"
    }
   ],
   "source": [
    "df_train['Mult'] = df_train['TV-mean_x'] * df_train['Sales-mean_y']\n",
    "df_train.head()"
   ]
  },
  {
   "cell_type": "code",
   "execution_count": 68,
   "id": "85ccc84b-c9b9-4755-8ea4-bf8e2c834d43",
   "metadata": {},
   "outputs": [
    {
     "data": {
      "text/plain": [
       "643.2831249553327"
      ]
     },
     "execution_count": 68,
     "metadata": {},
     "output_type": "execute_result"
    }
   ],
   "source": [
    "sum_mult = df_train['Mult'].sum()\n",
    "sum_mult"
   ]
  },
  {
   "cell_type": "code",
   "execution_count": 69,
   "id": "9ed6a700-aa43-4026-b075-6b4bde534b9b",
   "metadata": {},
   "outputs": [
    {
     "data": {
      "text/html": [
       "<div>\n",
       "<style scoped>\n",
       "    .dataframe tbody tr th:only-of-type {\n",
       "        vertical-align: middle;\n",
       "    }\n",
       "\n",
       "    .dataframe tbody tr th {\n",
       "        vertical-align: top;\n",
       "    }\n",
       "\n",
       "    .dataframe thead th {\n",
       "        text-align: right;\n",
       "    }\n",
       "</style>\n",
       "<table border=\"1\" class=\"dataframe\">\n",
       "  <thead>\n",
       "    <tr style=\"text-align: right;\">\n",
       "      <th></th>\n",
       "      <th>TV</th>\n",
       "      <th>Sales</th>\n",
       "      <th>TV_Transformed</th>\n",
       "      <th>TV-mean_x</th>\n",
       "      <th>Sales-mean_y</th>\n",
       "      <th>Mult</th>\n",
       "      <th>Squared</th>\n",
       "    </tr>\n",
       "  </thead>\n",
       "  <tbody>\n",
       "    <tr>\n",
       "      <th>0</th>\n",
       "      <td>67.8</td>\n",
       "      <td>12.5</td>\n",
       "      <td>-0.904647</td>\n",
       "      <td>-0.904647</td>\n",
       "      <td>-1.5975</td>\n",
       "      <td>1.445174</td>\n",
       "      <td>0.818386</td>\n",
       "    </tr>\n",
       "    <tr>\n",
       "      <th>1</th>\n",
       "      <td>139.5</td>\n",
       "      <td>10.3</td>\n",
       "      <td>-0.031356</td>\n",
       "      <td>-0.031356</td>\n",
       "      <td>-3.7975</td>\n",
       "      <td>0.119073</td>\n",
       "      <td>0.000983</td>\n",
       "    </tr>\n",
       "    <tr>\n",
       "      <th>2</th>\n",
       "      <td>96.2</td>\n",
       "      <td>11.4</td>\n",
       "      <td>-0.541055</td>\n",
       "      <td>-0.541055</td>\n",
       "      <td>-2.6975</td>\n",
       "      <td>1.459495</td>\n",
       "      <td>0.292740</td>\n",
       "    </tr>\n",
       "    <tr>\n",
       "      <th>3</th>\n",
       "      <td>18.8</td>\n",
       "      <td>7.0</td>\n",
       "      <td>-1.642544</td>\n",
       "      <td>-1.642544</td>\n",
       "      <td>-7.0975</td>\n",
       "      <td>11.657958</td>\n",
       "      <td>2.697952</td>\n",
       "    </tr>\n",
       "    <tr>\n",
       "      <th>4</th>\n",
       "      <td>76.4</td>\n",
       "      <td>11.8</td>\n",
       "      <td>-0.791360</td>\n",
       "      <td>-0.791360</td>\n",
       "      <td>-2.2975</td>\n",
       "      <td>1.818150</td>\n",
       "      <td>0.626251</td>\n",
       "    </tr>\n",
       "  </tbody>\n",
       "</table>\n",
       "</div>"
      ],
      "text/plain": [
       "      TV  Sales  TV_Transformed  TV-mean_x  Sales-mean_y       Mult   Squared\n",
       "0   67.8   12.5       -0.904647  -0.904647       -1.5975   1.445174  0.818386\n",
       "1  139.5   10.3       -0.031356  -0.031356       -3.7975   0.119073  0.000983\n",
       "2   96.2   11.4       -0.541055  -0.541055       -2.6975   1.459495  0.292740\n",
       "3   18.8    7.0       -1.642544  -1.642544       -7.0975  11.657958  2.697952\n",
       "4   76.4   11.8       -0.791360  -0.791360       -2.2975   1.818150  0.626251"
      ]
     },
     "execution_count": 69,
     "metadata": {},
     "output_type": "execute_result"
    }
   ],
   "source": [
    "df_train['Squared'] = df_train['TV-mean_x'].pow(2)\n",
    "df_train.head()"
   ]
  },
  {
   "cell_type": "code",
   "execution_count": 70,
   "id": "9ebf1d5b-4f20-4c35-a6c6-de8f74e7a533",
   "metadata": {},
   "outputs": [
    {
     "data": {
      "text/plain": [
       "160.00000000000003"
      ]
     },
     "execution_count": 70,
     "metadata": {},
     "output_type": "execute_result"
    }
   ],
   "source": [
    "sum_sq = df_train['Squared'].sum()\n",
    "sum_sq"
   ]
  },
  {
   "cell_type": "code",
   "execution_count": 84,
   "id": "1da5af64-2172-4c8f-bd73-21bfcdd6a047",
   "metadata": {},
   "outputs": [
    {
     "name": "stdout",
     "output_type": "stream",
     "text": [
      "b₁: 4.020519530970828\n"
     ]
    }
   ],
   "source": [
    "b1 = sum_mult / sum_sq\n",
    "print('b\\N{SUBSCRIPT ONE}:', b1)"
   ]
  },
  {
   "cell_type": "markdown",
   "id": "87b342c8-5eff-4937-9ada-cf6bc0224478",
   "metadata": {},
   "source": [
    "## Finding $b_0$<a id='b0'></a>\n",
    "\n",
    "$$b_0 = mean(y) − b_1 × mean(x)$$"
   ]
  },
  {
   "cell_type": "code",
   "execution_count": 86,
   "id": "761d089b-03ea-4167-9ff5-71ca1eb3f8f5",
   "metadata": {},
   "outputs": [
    {
     "name": "stdout",
     "output_type": "stream",
     "text": [
      "b₀: 14.097500000000002\n"
     ]
    }
   ],
   "source": [
    "b0 = mean_y - b1 * mean_x\n",
    "print('b\\N{SUBSCRIPT ZERO}:', b0)"
   ]
  },
  {
   "cell_type": "markdown",
   "id": "2bdbeed4-bac1-4ba5-b76d-f276755bb4f7",
   "metadata": {},
   "source": [
    "## Predicting<a id='pred'></a>"
   ]
  },
  {
   "cell_type": "code",
   "execution_count": 73,
   "id": "b77b6c3e-0774-4ef7-a6e1-a64cd4f9f5d9",
   "metadata": {},
   "outputs": [
    {
     "data": {
      "text/html": [
       "<div>\n",
       "<style scoped>\n",
       "    .dataframe tbody tr th:only-of-type {\n",
       "        vertical-align: middle;\n",
       "    }\n",
       "\n",
       "    .dataframe tbody tr th {\n",
       "        vertical-align: top;\n",
       "    }\n",
       "\n",
       "    .dataframe thead th {\n",
       "        text-align: right;\n",
       "    }\n",
       "</style>\n",
       "<table border=\"1\" class=\"dataframe\">\n",
       "  <thead>\n",
       "    <tr style=\"text-align: right;\">\n",
       "      <th></th>\n",
       "      <th>TV</th>\n",
       "      <th>Sales</th>\n",
       "      <th>Pred</th>\n",
       "      <th>TV_Transformed</th>\n",
       "    </tr>\n",
       "  </thead>\n",
       "  <tbody>\n",
       "    <tr>\n",
       "      <th>0</th>\n",
       "      <td>74.7</td>\n",
       "      <td>14.7</td>\n",
       "      <td>4.779679</td>\n",
       "      <td>-0.590823</td>\n",
       "    </tr>\n",
       "    <tr>\n",
       "      <th>1</th>\n",
       "      <td>255.4</td>\n",
       "      <td>19.8</td>\n",
       "      <td>12.113078</td>\n",
       "      <td>1.233169</td>\n",
       "    </tr>\n",
       "    <tr>\n",
       "      <th>2</th>\n",
       "      <td>112.9</td>\n",
       "      <td>11.9</td>\n",
       "      <td>6.679681</td>\n",
       "      <td>-0.118247</td>\n",
       "    </tr>\n",
       "    <tr>\n",
       "      <th>3</th>\n",
       "      <td>109.8</td>\n",
       "      <td>16.7</td>\n",
       "      <td>6.536534</td>\n",
       "      <td>-0.153851</td>\n",
       "    </tr>\n",
       "    <tr>\n",
       "      <th>4</th>\n",
       "      <td>31.5</td>\n",
       "      <td>9.5</td>\n",
       "      <td>2.035306</td>\n",
       "      <td>-1.273415</td>\n",
       "    </tr>\n",
       "  </tbody>\n",
       "</table>\n",
       "</div>"
      ],
      "text/plain": [
       "      TV  Sales       Pred  TV_Transformed\n",
       "0   74.7   14.7   4.779679       -0.590823\n",
       "1  255.4   19.8  12.113078        1.233169\n",
       "2  112.9   11.9   6.679681       -0.118247\n",
       "3  109.8   16.7   6.536534       -0.153851\n",
       "4   31.5    9.5   2.035306       -1.273415"
      ]
     },
     "execution_count": 73,
     "metadata": {},
     "output_type": "execute_result"
    }
   ],
   "source": [
    "df_test['TV_Transformed'] = power_transform(df_test['TV'].values.reshape(-1,1), \n",
    "                                             method='yeo-johnson', standardize=True)\n",
    "df_test['Pred'] = b0 + b1*df_test['TV_Transformed']\n",
    "df_test.head()"
   ]
  },
  {
   "cell_type": "markdown",
   "id": "5e0b26a7-25ac-4e40-9aba-45fc4efd467a",
   "metadata": {},
   "source": [
    "### Calculating the Performance of Prediction\n",
    "\n",
    "**Mean Absolute Error (MAE):** MAE is a measure of errors between paired observations such as predicted and actual values.\n",
    "$$MAE = \\frac{\\sum_{i=1}^n|\\hat{y_i} - y_i|}{n}$$\n",
    "\n",
    "\n",
    "**Mean Squared Error (MSE):** MSE tells you how close a regression line is to a set of points. It does this by taking the distances from the points to the regression line (these distances are the “errors”) and squaring them. The squaring is necessary to remove any negative signs.\n",
    "$$MSE = \\frac{\\sum_{i=1}^n(\\hat{y_i} - y_i)^2}{n}$$\n",
    "\n",
    "The smaller the MSE and MAE is the better.\n",
    "\n",
    "**RMSE**\n",
    "$$ RMSE = \\sqrt{\\frac{\\sum\\limits_{i=1}^{n} (\\hat{y_i} - y_i)^2}{n}} $$\n",
    "\n",
    "**$R^2$:** A widely user measure that descibes how powerful a regression is. It's a relative measure adn takes values ranging from 0 to 1 and R squared of 0 means your regression line explains non of the variability of the data. 1 means your model explains the entire variability of the data.\n",
    "There are 3 terms need to be defined before looking into R-squared:\n",
    "1. **Sum of Squares Total (SST):** Also known as Total Sum of Squares (TSS).It's the observed square differences between the observed dependent variable and it's mean. It's the dispertion of the observed variables around the mean. <ins>Measures the total variablity of the dataset.</ins>\n",
    "$$\\sum_{i=1}^n(y_i - \\overline{y})^2$$\n",
    "2. **Sum of Squares Regression (SSR)**: Also known as Explain Sum of Squares (ESS). It's the sum of differences between the predicted value and the mean of the dependent variable. It's a measure that describes how well your line fits the data. <ins>Measures the explained variabilty by your line.</ins>\n",
    "$$\\sum_{i=1}^n(\\hat{y} - \\overline{y})^2$$\n",
    "\n",
    "SSE = SST => The regression model captures all the observed variability and it's perfect.\n",
    "\n",
    "3. **Sum of Squares Error (SSE)**: Also known as Residual (remaining or unexplained) Sum of Squares (RSS). It's the difference between observed value and the predicted value. <ins>Measures the unexplained variability by regression.</ins> The lower error, the better explanatory power of the regression.\n",
    "\n",
    "$$\\sum_{i=1}^ne_i^2$$\n",
    "\n",
    "$SST = SSR + SST$: The total variability of the dataset is eqaul to the variablity explained by the regression line, plus the unexplained variability known as error.\n",
    "\n",
    "$$R^2 = \\frac{SSR}{SST}$$"
   ]
  },
  {
   "cell_type": "code",
   "execution_count": 74,
   "id": "c9f11644-582a-44c5-9809-2b2e940e97a4",
   "metadata": {},
   "outputs": [
    {
     "data": {
      "text/html": [
       "<div>\n",
       "<style scoped>\n",
       "    .dataframe tbody tr th:only-of-type {\n",
       "        vertical-align: middle;\n",
       "    }\n",
       "\n",
       "    .dataframe tbody tr th {\n",
       "        vertical-align: top;\n",
       "    }\n",
       "\n",
       "    .dataframe thead th {\n",
       "        text-align: right;\n",
       "    }\n",
       "</style>\n",
       "<table border=\"1\" class=\"dataframe\">\n",
       "  <thead>\n",
       "    <tr style=\"text-align: right;\">\n",
       "      <th></th>\n",
       "      <th>TV</th>\n",
       "      <th>Sales</th>\n",
       "      <th>Pred</th>\n",
       "      <th>TV_Transformed</th>\n",
       "      <th>error</th>\n",
       "    </tr>\n",
       "  </thead>\n",
       "  <tbody>\n",
       "    <tr>\n",
       "      <th>0</th>\n",
       "      <td>74.7</td>\n",
       "      <td>14.7</td>\n",
       "      <td>4.779679</td>\n",
       "      <td>-0.590823</td>\n",
       "      <td>-9.920321</td>\n",
       "    </tr>\n",
       "    <tr>\n",
       "      <th>1</th>\n",
       "      <td>255.4</td>\n",
       "      <td>19.8</td>\n",
       "      <td>12.113078</td>\n",
       "      <td>1.233169</td>\n",
       "      <td>-7.686922</td>\n",
       "    </tr>\n",
       "    <tr>\n",
       "      <th>2</th>\n",
       "      <td>112.9</td>\n",
       "      <td>11.9</td>\n",
       "      <td>6.679681</td>\n",
       "      <td>-0.118247</td>\n",
       "      <td>-5.220319</td>\n",
       "    </tr>\n",
       "    <tr>\n",
       "      <th>3</th>\n",
       "      <td>109.8</td>\n",
       "      <td>16.7</td>\n",
       "      <td>6.536534</td>\n",
       "      <td>-0.153851</td>\n",
       "      <td>-10.163466</td>\n",
       "    </tr>\n",
       "    <tr>\n",
       "      <th>4</th>\n",
       "      <td>31.5</td>\n",
       "      <td>9.5</td>\n",
       "      <td>2.035306</td>\n",
       "      <td>-1.273415</td>\n",
       "      <td>-7.464694</td>\n",
       "    </tr>\n",
       "  </tbody>\n",
       "</table>\n",
       "</div>"
      ],
      "text/plain": [
       "      TV  Sales       Pred  TV_Transformed      error\n",
       "0   74.7   14.7   4.779679       -0.590823  -9.920321\n",
       "1  255.4   19.8  12.113078        1.233169  -7.686922\n",
       "2  112.9   11.9   6.679681       -0.118247  -5.220319\n",
       "3  109.8   16.7   6.536534       -0.153851 -10.163466\n",
       "4   31.5    9.5   2.035306       -1.273415  -7.464694"
      ]
     },
     "execution_count": 74,
     "metadata": {},
     "output_type": "execute_result"
    }
   ],
   "source": [
    "df_test['error'] = df_test['Pred'] - df_test['Sales']\n",
    "df_test.head()"
   ]
  },
  {
   "cell_type": "code",
   "execution_count": 75,
   "id": "d64f220f-6f25-4ea9-9db9-a38a3eafcab9",
   "metadata": {},
   "outputs": [
    {
     "data": {
      "text/html": [
       "<div>\n",
       "<style scoped>\n",
       "    .dataframe tbody tr th:only-of-type {\n",
       "        vertical-align: middle;\n",
       "    }\n",
       "\n",
       "    .dataframe tbody tr th {\n",
       "        vertical-align: top;\n",
       "    }\n",
       "\n",
       "    .dataframe thead th {\n",
       "        text-align: right;\n",
       "    }\n",
       "</style>\n",
       "<table border=\"1\" class=\"dataframe\">\n",
       "  <thead>\n",
       "    <tr style=\"text-align: right;\">\n",
       "      <th></th>\n",
       "      <th>TV</th>\n",
       "      <th>Sales</th>\n",
       "      <th>Pred</th>\n",
       "      <th>TV_Transformed</th>\n",
       "      <th>error</th>\n",
       "      <th>sq_error</th>\n",
       "    </tr>\n",
       "  </thead>\n",
       "  <tbody>\n",
       "    <tr>\n",
       "      <th>0</th>\n",
       "      <td>74.7</td>\n",
       "      <td>14.7</td>\n",
       "      <td>4.779679</td>\n",
       "      <td>-0.590823</td>\n",
       "      <td>-9.920321</td>\n",
       "      <td>98.412777</td>\n",
       "    </tr>\n",
       "    <tr>\n",
       "      <th>1</th>\n",
       "      <td>255.4</td>\n",
       "      <td>19.8</td>\n",
       "      <td>12.113078</td>\n",
       "      <td>1.233169</td>\n",
       "      <td>-7.686922</td>\n",
       "      <td>59.088777</td>\n",
       "    </tr>\n",
       "    <tr>\n",
       "      <th>2</th>\n",
       "      <td>112.9</td>\n",
       "      <td>11.9</td>\n",
       "      <td>6.679681</td>\n",
       "      <td>-0.118247</td>\n",
       "      <td>-5.220319</td>\n",
       "      <td>27.251731</td>\n",
       "    </tr>\n",
       "    <tr>\n",
       "      <th>3</th>\n",
       "      <td>109.8</td>\n",
       "      <td>16.7</td>\n",
       "      <td>6.536534</td>\n",
       "      <td>-0.153851</td>\n",
       "      <td>-10.163466</td>\n",
       "      <td>103.296049</td>\n",
       "    </tr>\n",
       "    <tr>\n",
       "      <th>4</th>\n",
       "      <td>31.5</td>\n",
       "      <td>9.5</td>\n",
       "      <td>2.035306</td>\n",
       "      <td>-1.273415</td>\n",
       "      <td>-7.464694</td>\n",
       "      <td>55.721653</td>\n",
       "    </tr>\n",
       "  </tbody>\n",
       "</table>\n",
       "</div>"
      ],
      "text/plain": [
       "      TV  Sales       Pred  TV_Transformed      error    sq_error\n",
       "0   74.7   14.7   4.779679       -0.590823  -9.920321   98.412777\n",
       "1  255.4   19.8  12.113078        1.233169  -7.686922   59.088777\n",
       "2  112.9   11.9   6.679681       -0.118247  -5.220319   27.251731\n",
       "3  109.8   16.7   6.536534       -0.153851 -10.163466  103.296049\n",
       "4   31.5    9.5   2.035306       -1.273415  -7.464694   55.721653"
      ]
     },
     "execution_count": 75,
     "metadata": {},
     "output_type": "execute_result"
    }
   ],
   "source": [
    "df_test['sq_error'] = df_test['error'].pow(2)\n",
    "df_test.head()"
   ]
  },
  {
   "cell_type": "code",
   "execution_count": 91,
   "id": "64f470d5-8fa6-49e5-9b42-c8ca1d6b8754",
   "metadata": {},
   "outputs": [
    {
     "name": "stdout",
     "output_type": "stream",
     "text": [
      "MAE: 6.585291060183641\n",
      "MSE: 53.789322210256806\n",
      "RMSE: 7.334120411491538\n"
     ]
    }
   ],
   "source": [
    "mae = df_test['error'].abs().sum() / len(df_test)\n",
    "mse = df_test['sq_error'].sum() / len(df_test)\n",
    "rmse = m.sqrt(mse)\n",
    "print('MAE:', mae)\n",
    "print('MSE:', mse)\n",
    "print('RMSE:', rmse)"
   ]
  },
  {
   "cell_type": "code",
   "execution_count": 79,
   "id": "4a5cf48a-f17d-4f35-a852-5488ab74b767",
   "metadata": {},
   "outputs": [
    {
     "data": {
      "image/png": "[encoded data removed]",
      "text/plain": [
       "<Figure size 800x600 with 1 Axes>"
      ]
     },
     "metadata": {},
     "output_type": "display_data"
    }
   ],
   "source": [
    "plt.scatter(df_test['TV_Transformed'], df_test['Sales'])\n",
    "fig = plt.plot(df_test['TV_Transformed'], df_test['Pred'], c='orange', label='Regression Line')\n",
    "plt.xlabel('TV', fontsize=14)\n",
    "plt.ylabel('Sales', fontsize=14)\n",
    "plt.show()"
   ]
  },
  {
   "cell_type": "markdown",
   "id": "ad0f3cce-2133-4755-aee5-a29c99701bbd",
   "metadata": {},
   "source": []
  },
  {
   "cell_type": "code",
   "execution_count": null,
   "id": "41408ae1-7de1-491e-8ce4-f2f149a767ef",
   "metadata": {},
   "outputs": [],
   "source": []
  }
 ],
 "metadata": {
  "kernelspec": {
   "display_name": "Python 3 (ipykernel)",
   "language": "python",
   "name": "python3"
  },
  "language_info": {
   "codemirror_mode": {
    "name": "ipython",
    "version": 3
   },
   "file_extension": ".py",
   "mimetype": "text/x-python",
   "name": "python",
   "nbconvert_exporter": "python",
   "pygments_lexer": "ipython3",
   "version": "3.10.6"
  }
 },
 "nbformat": 4,
 "nbformat_minor": 5
}
