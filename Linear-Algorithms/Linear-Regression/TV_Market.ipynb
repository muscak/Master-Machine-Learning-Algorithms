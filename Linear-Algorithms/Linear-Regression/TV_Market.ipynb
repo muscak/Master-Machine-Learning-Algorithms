{
 "cells": [
  {
   "cell_type": "markdown",
   "id": "e9e85548-4c54-4e12-9495-63129f0d8442",
   "metadata": {},
   "source": [
    "# Linear Regression\n",
    "The purpose of this study is to learn about simple and multiple linear regression using both traditional methods and sklearn library. It assumes that there is a linear relation between the inputs $(x)$ and output $(y)$ as shown in the below formula.\n",
    "\n",
    "$$\\hat{y}= b_0 + b_1×x_1$$\n",
    "\n",
    "First we'll calculate the weights using simple linear regression, then we'll do the same calculation using OLS and Gradient Descent.\n",
    "\n",
    "We'll be using data from the TV Marketing study on [Kaggle](https://www.kaggle.com/datasets/devzohaib/tvmarketingcsv).\n",
    "\n",
    "Eval their impact on the model.\n",
    "    \n",
    "Functions\n",
    "\n",
    "OLS from previous study?\n",
    "\n",
    "Gradient descent"
   ]
  },
  {
   "cell_type": "markdown",
   "id": "3a06bc46-1796-45c3-88d4-3786fbb28dfa",
   "metadata": {},
   "source": [
    "## Table of Content"
   ]
  },
  {
   "cell_type": "markdown",
   "id": "fda09807-b21c-44fc-8eb9-cc8fdf902a9c",
   "metadata": {},
   "source": [
    "## Import Libraries"
   ]
  },
  {
   "cell_type": "code",
   "execution_count": 41,
   "id": "872b83b1-0544-4f2b-9a3a-c3baf7dfa501",
   "metadata": {},
   "outputs": [],
   "source": [
    "import pandas as pd\n",
    "from sklearn.model_selection import train_test_split\n",
    "import matplotlib.pyplot as plt\n",
    "plt.rcParams['figure.figsize'] = (8, 6)\n",
    "import seaborn as sb\n",
    "import math as m"
   ]
  },
  {
   "cell_type": "code",
   "execution_count": 2,
   "id": "9d105622-e7c4-4111-b864-246abf2c3459",
   "metadata": {},
   "outputs": [
    {
     "name": "stdout",
     "output_type": "stream",
     "text": [
      "<class 'pandas.core.frame.DataFrame'>\n",
      "RangeIndex: 200 entries, 0 to 199\n",
      "Data columns (total 2 columns):\n",
      " #   Column  Non-Null Count  Dtype  \n",
      "---  ------  --------------  -----  \n",
      " 0   TV      200 non-null    float64\n",
      " 1   Sales   200 non-null    float64\n",
      "dtypes: float64(2)\n",
      "memory usage: 3.2 KB\n"
     ]
    }
   ],
   "source": [
    "df = pd.read_csv('Data/tvmarketing.csv')\n",
    "df.info()"
   ]
  },
  {
   "cell_type": "code",
   "execution_count": 3,
   "id": "cd652afd-fd00-4132-bdd8-06a1049143ce",
   "metadata": {},
   "outputs": [
    {
     "data": {
      "text/html": [
       "<div>\n",
       "<style scoped>\n",
       "    .dataframe tbody tr th:only-of-type {\n",
       "        vertical-align: middle;\n",
       "    }\n",
       "\n",
       "    .dataframe tbody tr th {\n",
       "        vertical-align: top;\n",
       "    }\n",
       "\n",
       "    .dataframe thead th {\n",
       "        text-align: right;\n",
       "    }\n",
       "</style>\n",
       "<table border=\"1\" class=\"dataframe\">\n",
       "  <thead>\n",
       "    <tr style=\"text-align: right;\">\n",
       "      <th></th>\n",
       "      <th>TV</th>\n",
       "      <th>Sales</th>\n",
       "    </tr>\n",
       "  </thead>\n",
       "  <tbody>\n",
       "    <tr>\n",
       "      <th>0</th>\n",
       "      <td>230.1</td>\n",
       "      <td>22.1</td>\n",
       "    </tr>\n",
       "    <tr>\n",
       "      <th>1</th>\n",
       "      <td>44.5</td>\n",
       "      <td>10.4</td>\n",
       "    </tr>\n",
       "    <tr>\n",
       "      <th>2</th>\n",
       "      <td>17.2</td>\n",
       "      <td>9.3</td>\n",
       "    </tr>\n",
       "    <tr>\n",
       "      <th>3</th>\n",
       "      <td>151.5</td>\n",
       "      <td>18.5</td>\n",
       "    </tr>\n",
       "    <tr>\n",
       "      <th>4</th>\n",
       "      <td>180.8</td>\n",
       "      <td>12.9</td>\n",
       "    </tr>\n",
       "  </tbody>\n",
       "</table>\n",
       "</div>"
      ],
      "text/plain": [
       "      TV  Sales\n",
       "0  230.1   22.1\n",
       "1   44.5   10.4\n",
       "2   17.2    9.3\n",
       "3  151.5   18.5\n",
       "4  180.8   12.9"
      ]
     },
     "execution_count": 3,
     "metadata": {},
     "output_type": "execute_result"
    }
   ],
   "source": [
    "df.head()"
   ]
  },
  {
   "cell_type": "markdown",
   "id": "4a090ccc-1d2e-498a-9c11-7fe91bcae309",
   "metadata": {},
   "source": [
    "## Assumptions\n",
    "- **Linear Assumption.** Linear regression assumes that the relationship between your input and output is linear.\n",
    "- **Remove Noise.** Linear regression assumes that your input and output variables are not noisy.\n",
    "- **Remove Collinearity.** Linear regression will overfit your data when you have highly correlated input variables.\n",
    "- **Gaussian Distributions.** Linear regression will make more reliable predictions if your input and output variables have a Gaussian distribution.\n",
    "- **Rescale Inputs.** Linear regression will often make more reliable predictions if you rescale input variables using standardization or normalization."
   ]
  },
  {
   "cell_type": "code",
   "execution_count": 42,
   "id": "eaaef1e2-355c-4814-9e03-574d85d64a6e",
   "metadata": {},
   "outputs": [
    {
     "data": {
      "text/plain": [
       "<AxesSubplot: xlabel='TV', ylabel='Sales'>"
      ]
     },
     "execution_count": 42,
     "metadata": {},
     "output_type": "execute_result"
    },
    {
     "data": {
      "image/png": "[encoded data removed]",
      "text/plain": [
       "<Figure size 800x600 with 1 Axes>"
      ]
     },
     "metadata": {},
     "output_type": "display_data"
    }
   ],
   "source": [
    "sb.scatterplot(data=df, x='TV', y='Sales')"
   ]
  },
  {
   "cell_type": "code",
   "execution_count": 5,
   "id": "cda081c1-a01f-4e6d-8c9e-eaf484c10bd4",
   "metadata": {},
   "outputs": [],
   "source": [
    "x = df['TV']\n",
    "y = df['Sales']\n",
    "x_train, x_test, y_train, y_test = train_test_split(x, y, test_size=0.2, random_state=101)\n",
    "\n",
    "# Training DataFrame\n",
    "df_train = pd.DataFrame(columns=['TV', 'Sales'])\n",
    "df_train['TV'] = x_train.reset_index(drop=True)\n",
    "df_train['Sales'] = y_train.reset_index(drop=True)\n",
    "\n",
    "# Testing DataFrame\n",
    "df_test = pd.DataFrame(columns=['TV', 'Sales'])\n",
    "df_test['TV'] = x_test.reset_index(drop=True)\n",
    "df_test['Sales'] = y_test.reset_index(drop=True)"
   ]
  },
  {
   "cell_type": "code",
   "execution_count": 6,
   "id": "c403b3bb-b7f1-4ba1-85ce-584beffca2ff",
   "metadata": {},
   "outputs": [
    {
     "data": {
      "text/html": [
       "<div>\n",
       "<style scoped>\n",
       "    .dataframe tbody tr th:only-of-type {\n",
       "        vertical-align: middle;\n",
       "    }\n",
       "\n",
       "    .dataframe tbody tr th {\n",
       "        vertical-align: top;\n",
       "    }\n",
       "\n",
       "    .dataframe thead th {\n",
       "        text-align: right;\n",
       "    }\n",
       "</style>\n",
       "<table border=\"1\" class=\"dataframe\">\n",
       "  <thead>\n",
       "    <tr style=\"text-align: right;\">\n",
       "      <th></th>\n",
       "      <th>TV</th>\n",
       "      <th>Sales</th>\n",
       "    </tr>\n",
       "  </thead>\n",
       "  <tbody>\n",
       "    <tr>\n",
       "      <th>0</th>\n",
       "      <td>67.8</td>\n",
       "      <td>12.5</td>\n",
       "    </tr>\n",
       "    <tr>\n",
       "      <th>1</th>\n",
       "      <td>139.5</td>\n",
       "      <td>10.3</td>\n",
       "    </tr>\n",
       "    <tr>\n",
       "      <th>2</th>\n",
       "      <td>96.2</td>\n",
       "      <td>11.4</td>\n",
       "    </tr>\n",
       "    <tr>\n",
       "      <th>3</th>\n",
       "      <td>18.8</td>\n",
       "      <td>7.0</td>\n",
       "    </tr>\n",
       "    <tr>\n",
       "      <th>4</th>\n",
       "      <td>76.4</td>\n",
       "      <td>11.8</td>\n",
       "    </tr>\n",
       "  </tbody>\n",
       "</table>\n",
       "</div>"
      ],
      "text/plain": [
       "      TV  Sales\n",
       "0   67.8   12.5\n",
       "1  139.5   10.3\n",
       "2   96.2   11.4\n",
       "3   18.8    7.0\n",
       "4   76.4   11.8"
      ]
     },
     "execution_count": 6,
     "metadata": {},
     "output_type": "execute_result"
    }
   ],
   "source": [
    "df_train.head()"
   ]
  },
  {
   "cell_type": "markdown",
   "id": "f00ebe32-2f44-4395-97a6-f7eebd7a3643",
   "metadata": {},
   "source": [
    "## Finding the $\\beta_1$\n",
    "\n",
    "$$\\beta_1 = \\dfrac{\\sum\\limits_{i=1}^{n} ((x_i - mean(x) × (y_i - mean(y))}{\\sum\\limits_{i=1}^{n} (x_i - mean(x))^2}$$"
   ]
  },
  {
   "cell_type": "code",
   "execution_count": 7,
   "id": "4ce7a73a-19d5-4e1c-81f5-9eb32dff7ae4",
   "metadata": {},
   "outputs": [
    {
     "data": {
      "text/plain": [
       "149.43125"
      ]
     },
     "execution_count": 7,
     "metadata": {},
     "output_type": "execute_result"
    }
   ],
   "source": [
    "mean_x = x_train.mean()\n",
    "mean_x"
   ]
  },
  {
   "cell_type": "code",
   "execution_count": 8,
   "id": "57d86d24-b56b-48c5-b1f7-d00a948158ed",
   "metadata": {},
   "outputs": [
    {
     "data": {
      "text/plain": [
       "14.097500000000002"
      ]
     },
     "execution_count": 8,
     "metadata": {},
     "output_type": "execute_result"
    }
   ],
   "source": [
    "mean_y = y_train.mean()\n",
    "mean_y"
   ]
  },
  {
   "cell_type": "code",
   "execution_count": 9,
   "id": "0012cd90-00f7-47d8-b7a3-4632d977f28d",
   "metadata": {},
   "outputs": [],
   "source": [
    "df_train['TV-mean_x'] = df_train['TV'] - mean_x\n",
    "df_train['Sales-mean_y'] = df_train['Sales'] - mean_y"
   ]
  },
  {
   "cell_type": "code",
   "execution_count": 10,
   "id": "6e159333-51a2-4685-9713-c043da8f634d",
   "metadata": {},
   "outputs": [
    {
     "data": {
      "text/html": [
       "<div>\n",
       "<style scoped>\n",
       "    .dataframe tbody tr th:only-of-type {\n",
       "        vertical-align: middle;\n",
       "    }\n",
       "\n",
       "    .dataframe tbody tr th {\n",
       "        vertical-align: top;\n",
       "    }\n",
       "\n",
       "    .dataframe thead th {\n",
       "        text-align: right;\n",
       "    }\n",
       "</style>\n",
       "<table border=\"1\" class=\"dataframe\">\n",
       "  <thead>\n",
       "    <tr style=\"text-align: right;\">\n",
       "      <th></th>\n",
       "      <th>TV</th>\n",
       "      <th>Sales</th>\n",
       "      <th>TV-mean_x</th>\n",
       "      <th>Sales-mean_y</th>\n",
       "    </tr>\n",
       "  </thead>\n",
       "  <tbody>\n",
       "    <tr>\n",
       "      <th>0</th>\n",
       "      <td>67.8</td>\n",
       "      <td>12.5</td>\n",
       "      <td>-81.63125</td>\n",
       "      <td>-1.5975</td>\n",
       "    </tr>\n",
       "    <tr>\n",
       "      <th>1</th>\n",
       "      <td>139.5</td>\n",
       "      <td>10.3</td>\n",
       "      <td>-9.93125</td>\n",
       "      <td>-3.7975</td>\n",
       "    </tr>\n",
       "    <tr>\n",
       "      <th>2</th>\n",
       "      <td>96.2</td>\n",
       "      <td>11.4</td>\n",
       "      <td>-53.23125</td>\n",
       "      <td>-2.6975</td>\n",
       "    </tr>\n",
       "    <tr>\n",
       "      <th>3</th>\n",
       "      <td>18.8</td>\n",
       "      <td>7.0</td>\n",
       "      <td>-130.63125</td>\n",
       "      <td>-7.0975</td>\n",
       "    </tr>\n",
       "    <tr>\n",
       "      <th>4</th>\n",
       "      <td>76.4</td>\n",
       "      <td>11.8</td>\n",
       "      <td>-73.03125</td>\n",
       "      <td>-2.2975</td>\n",
       "    </tr>\n",
       "  </tbody>\n",
       "</table>\n",
       "</div>"
      ],
      "text/plain": [
       "      TV  Sales  TV-mean_x  Sales-mean_y\n",
       "0   67.8   12.5  -81.63125       -1.5975\n",
       "1  139.5   10.3   -9.93125       -3.7975\n",
       "2   96.2   11.4  -53.23125       -2.6975\n",
       "3   18.8    7.0 -130.63125       -7.0975\n",
       "4   76.4   11.8  -73.03125       -2.2975"
      ]
     },
     "execution_count": 10,
     "metadata": {},
     "output_type": "execute_result"
    }
   ],
   "source": [
    "df_train.head()"
   ]
  },
  {
   "cell_type": "code",
   "execution_count": 11,
   "id": "ab657862-d350-4006-bb2b-dd7cae3efaf5",
   "metadata": {},
   "outputs": [
    {
     "data": {
      "text/html": [
       "<div>\n",
       "<style scoped>\n",
       "    .dataframe tbody tr th:only-of-type {\n",
       "        vertical-align: middle;\n",
       "    }\n",
       "\n",
       "    .dataframe tbody tr th {\n",
       "        vertical-align: top;\n",
       "    }\n",
       "\n",
       "    .dataframe thead th {\n",
       "        text-align: right;\n",
       "    }\n",
       "</style>\n",
       "<table border=\"1\" class=\"dataframe\">\n",
       "  <thead>\n",
       "    <tr style=\"text-align: right;\">\n",
       "      <th></th>\n",
       "      <th>TV</th>\n",
       "      <th>Sales</th>\n",
       "      <th>TV-mean_x</th>\n",
       "      <th>Sales-mean_y</th>\n",
       "      <th>Mult</th>\n",
       "    </tr>\n",
       "  </thead>\n",
       "  <tbody>\n",
       "    <tr>\n",
       "      <th>0</th>\n",
       "      <td>67.8</td>\n",
       "      <td>12.5</td>\n",
       "      <td>-81.63125</td>\n",
       "      <td>-1.5975</td>\n",
       "      <td>130.405922</td>\n",
       "    </tr>\n",
       "    <tr>\n",
       "      <th>1</th>\n",
       "      <td>139.5</td>\n",
       "      <td>10.3</td>\n",
       "      <td>-9.93125</td>\n",
       "      <td>-3.7975</td>\n",
       "      <td>37.713922</td>\n",
       "    </tr>\n",
       "    <tr>\n",
       "      <th>2</th>\n",
       "      <td>96.2</td>\n",
       "      <td>11.4</td>\n",
       "      <td>-53.23125</td>\n",
       "      <td>-2.6975</td>\n",
       "      <td>143.591297</td>\n",
       "    </tr>\n",
       "    <tr>\n",
       "      <th>3</th>\n",
       "      <td>18.8</td>\n",
       "      <td>7.0</td>\n",
       "      <td>-130.63125</td>\n",
       "      <td>-7.0975</td>\n",
       "      <td>927.155297</td>\n",
       "    </tr>\n",
       "    <tr>\n",
       "      <th>4</th>\n",
       "      <td>76.4</td>\n",
       "      <td>11.8</td>\n",
       "      <td>-73.03125</td>\n",
       "      <td>-2.2975</td>\n",
       "      <td>167.789297</td>\n",
       "    </tr>\n",
       "  </tbody>\n",
       "</table>\n",
       "</div>"
      ],
      "text/plain": [
       "      TV  Sales  TV-mean_x  Sales-mean_y        Mult\n",
       "0   67.8   12.5  -81.63125       -1.5975  130.405922\n",
       "1  139.5   10.3   -9.93125       -3.7975   37.713922\n",
       "2   96.2   11.4  -53.23125       -2.6975  143.591297\n",
       "3   18.8    7.0 -130.63125       -7.0975  927.155297\n",
       "4   76.4   11.8  -73.03125       -2.2975  167.789297"
      ]
     },
     "execution_count": 11,
     "metadata": {},
     "output_type": "execute_result"
    }
   ],
   "source": [
    "df_train['Mult'] = df_train['TV-mean_x'] * df_train['Sales-mean_y']\n",
    "df_train.head()"
   ]
  },
  {
   "cell_type": "code",
   "execution_count": 12,
   "id": "85ccc84b-c9b9-4755-8ea4-bf8e2c834d43",
   "metadata": {},
   "outputs": [
    {
     "data": {
      "text/plain": [
       "54102.9925"
      ]
     },
     "execution_count": 12,
     "metadata": {},
     "output_type": "execute_result"
    }
   ],
   "source": [
    "sum_mult = df_train['Mult'].sum()\n",
    "sum_mult"
   ]
  },
  {
   "cell_type": "code",
   "execution_count": 13,
   "id": "9ed6a700-aa43-4026-b075-6b4bde534b9b",
   "metadata": {},
   "outputs": [
    {
     "data": {
      "text/html": [
       "<div>\n",
       "<style scoped>\n",
       "    .dataframe tbody tr th:only-of-type {\n",
       "        vertical-align: middle;\n",
       "    }\n",
       "\n",
       "    .dataframe tbody tr th {\n",
       "        vertical-align: top;\n",
       "    }\n",
       "\n",
       "    .dataframe thead th {\n",
       "        text-align: right;\n",
       "    }\n",
       "</style>\n",
       "<table border=\"1\" class=\"dataframe\">\n",
       "  <thead>\n",
       "    <tr style=\"text-align: right;\">\n",
       "      <th></th>\n",
       "      <th>TV</th>\n",
       "      <th>Sales</th>\n",
       "      <th>TV-mean_x</th>\n",
       "      <th>Sales-mean_y</th>\n",
       "      <th>Mult</th>\n",
       "      <th>Squared</th>\n",
       "    </tr>\n",
       "  </thead>\n",
       "  <tbody>\n",
       "    <tr>\n",
       "      <th>0</th>\n",
       "      <td>67.8</td>\n",
       "      <td>12.5</td>\n",
       "      <td>-81.63125</td>\n",
       "      <td>-1.5975</td>\n",
       "      <td>130.405922</td>\n",
       "      <td>6663.660977</td>\n",
       "    </tr>\n",
       "    <tr>\n",
       "      <th>1</th>\n",
       "      <td>139.5</td>\n",
       "      <td>10.3</td>\n",
       "      <td>-9.93125</td>\n",
       "      <td>-3.7975</td>\n",
       "      <td>37.713922</td>\n",
       "      <td>98.629727</td>\n",
       "    </tr>\n",
       "    <tr>\n",
       "      <th>2</th>\n",
       "      <td>96.2</td>\n",
       "      <td>11.4</td>\n",
       "      <td>-53.23125</td>\n",
       "      <td>-2.6975</td>\n",
       "      <td>143.591297</td>\n",
       "      <td>2833.565977</td>\n",
       "    </tr>\n",
       "    <tr>\n",
       "      <th>3</th>\n",
       "      <td>18.8</td>\n",
       "      <td>7.0</td>\n",
       "      <td>-130.63125</td>\n",
       "      <td>-7.0975</td>\n",
       "      <td>927.155297</td>\n",
       "      <td>17064.523477</td>\n",
       "    </tr>\n",
       "    <tr>\n",
       "      <th>4</th>\n",
       "      <td>76.4</td>\n",
       "      <td>11.8</td>\n",
       "      <td>-73.03125</td>\n",
       "      <td>-2.2975</td>\n",
       "      <td>167.789297</td>\n",
       "      <td>5333.563477</td>\n",
       "    </tr>\n",
       "  </tbody>\n",
       "</table>\n",
       "</div>"
      ],
      "text/plain": [
       "      TV  Sales  TV-mean_x  Sales-mean_y        Mult       Squared\n",
       "0   67.8   12.5  -81.63125       -1.5975  130.405922   6663.660977\n",
       "1  139.5   10.3   -9.93125       -3.7975   37.713922     98.629727\n",
       "2   96.2   11.4  -53.23125       -2.6975  143.591297   2833.565977\n",
       "3   18.8    7.0 -130.63125       -7.0975  927.155297  17064.523477\n",
       "4   76.4   11.8  -73.03125       -2.2975  167.789297   5333.563477"
      ]
     },
     "execution_count": 13,
     "metadata": {},
     "output_type": "execute_result"
    }
   ],
   "source": [
    "df_train['Squared'] = df_train['TV-mean_x'].pow(2)\n",
    "df_train.head()"
   ]
  },
  {
   "cell_type": "code",
   "execution_count": 14,
   "id": "9ebf1d5b-4f20-4c35-a6c6-de8f74e7a533",
   "metadata": {},
   "outputs": [
    {
     "data": {
      "text/plain": [
       "1159080.5037500001"
      ]
     },
     "execution_count": 14,
     "metadata": {},
     "output_type": "execute_result"
    }
   ],
   "source": [
    "sum_sq = df_train['Squared'].sum()\n",
    "sum_sq"
   ]
  },
  {
   "cell_type": "code",
   "execution_count": 15,
   "id": "1da5af64-2172-4c8f-bd73-21bfcdd6a047",
   "metadata": {},
   "outputs": [
    {
     "data": {
      "text/plain": [
       "0.046677510599962065"
      ]
     },
     "execution_count": 15,
     "metadata": {},
     "output_type": "execute_result"
    }
   ],
   "source": [
    "b1 = sum_mult / sum_sq\n",
    "b1"
   ]
  },
  {
   "cell_type": "markdown",
   "id": "87b342c8-5eff-4937-9ada-cf6bc0224478",
   "metadata": {},
   "source": [
    "## Finding $\\beta_0$\n",
    "\n",
    "$$\\beta_0 = mean(y) − \\beta_1 × mean(x)$$"
   ]
  },
  {
   "cell_type": "code",
   "execution_count": 16,
   "id": "761d089b-03ea-4167-9ff5-71ca1eb3f8f5",
   "metadata": {},
   "outputs": [
    {
     "data": {
      "text/plain": [
       "7.122421244159421"
      ]
     },
     "execution_count": 16,
     "metadata": {},
     "output_type": "execute_result"
    }
   ],
   "source": [
    "b0 = mean_y - b1 * mean_x\n",
    "b0"
   ]
  },
  {
   "cell_type": "markdown",
   "id": "2bdbeed4-bac1-4ba5-b76d-f276755bb4f7",
   "metadata": {},
   "source": [
    "## Predicting"
   ]
  },
  {
   "cell_type": "code",
   "execution_count": 17,
   "id": "b77b6c3e-0774-4ef7-a6e1-a64cd4f9f5d9",
   "metadata": {},
   "outputs": [
    {
     "data": {
      "text/html": [
       "<div>\n",
       "<style scoped>\n",
       "    .dataframe tbody tr th:only-of-type {\n",
       "        vertical-align: middle;\n",
       "    }\n",
       "\n",
       "    .dataframe tbody tr th {\n",
       "        vertical-align: top;\n",
       "    }\n",
       "\n",
       "    .dataframe thead th {\n",
       "        text-align: right;\n",
       "    }\n",
       "</style>\n",
       "<table border=\"1\" class=\"dataframe\">\n",
       "  <thead>\n",
       "    <tr style=\"text-align: right;\">\n",
       "      <th></th>\n",
       "      <th>TV</th>\n",
       "      <th>Sales</th>\n",
       "      <th>Pred</th>\n",
       "    </tr>\n",
       "  </thead>\n",
       "  <tbody>\n",
       "    <tr>\n",
       "      <th>0</th>\n",
       "      <td>74.7</td>\n",
       "      <td>14.7</td>\n",
       "      <td>10.609231</td>\n",
       "    </tr>\n",
       "    <tr>\n",
       "      <th>1</th>\n",
       "      <td>255.4</td>\n",
       "      <td>19.8</td>\n",
       "      <td>19.043857</td>\n",
       "    </tr>\n",
       "    <tr>\n",
       "      <th>2</th>\n",
       "      <td>112.9</td>\n",
       "      <td>11.9</td>\n",
       "      <td>12.392312</td>\n",
       "    </tr>\n",
       "    <tr>\n",
       "      <th>3</th>\n",
       "      <td>109.8</td>\n",
       "      <td>16.7</td>\n",
       "      <td>12.247612</td>\n",
       "    </tr>\n",
       "    <tr>\n",
       "      <th>4</th>\n",
       "      <td>31.5</td>\n",
       "      <td>9.5</td>\n",
       "      <td>8.592763</td>\n",
       "    </tr>\n",
       "  </tbody>\n",
       "</table>\n",
       "</div>"
      ],
      "text/plain": [
       "      TV  Sales       Pred\n",
       "0   74.7   14.7  10.609231\n",
       "1  255.4   19.8  19.043857\n",
       "2  112.9   11.9  12.392312\n",
       "3  109.8   16.7  12.247612\n",
       "4   31.5    9.5   8.592763"
      ]
     },
     "execution_count": 17,
     "metadata": {},
     "output_type": "execute_result"
    }
   ],
   "source": [
    "df_test['Pred'] = b0 + b1*df_test['TV']\n",
    "df_test.head()"
   ]
  },
  {
   "cell_type": "markdown",
   "id": "5e0b26a7-25ac-4e40-9aba-45fc4efd467a",
   "metadata": {},
   "source": [
    "### Calculating the Performance of Prediction\n",
    "$$ RMSE = \\sqrt{\\frac{\\sum\\limits_{i=1}^{n} (p_i - y_i)^2}{n}} $$"
   ]
  },
  {
   "cell_type": "code",
   "execution_count": 18,
   "id": "c9f11644-582a-44c5-9809-2b2e940e97a4",
   "metadata": {},
   "outputs": [
    {
     "data": {
      "text/html": [
       "<div>\n",
       "<style scoped>\n",
       "    .dataframe tbody tr th:only-of-type {\n",
       "        vertical-align: middle;\n",
       "    }\n",
       "\n",
       "    .dataframe tbody tr th {\n",
       "        vertical-align: top;\n",
       "    }\n",
       "\n",
       "    .dataframe thead th {\n",
       "        text-align: right;\n",
       "    }\n",
       "</style>\n",
       "<table border=\"1\" class=\"dataframe\">\n",
       "  <thead>\n",
       "    <tr style=\"text-align: right;\">\n",
       "      <th></th>\n",
       "      <th>TV</th>\n",
       "      <th>Sales</th>\n",
       "      <th>Pred</th>\n",
       "      <th>error</th>\n",
       "    </tr>\n",
       "  </thead>\n",
       "  <tbody>\n",
       "    <tr>\n",
       "      <th>0</th>\n",
       "      <td>74.7</td>\n",
       "      <td>14.7</td>\n",
       "      <td>10.609231</td>\n",
       "      <td>-4.090769</td>\n",
       "    </tr>\n",
       "    <tr>\n",
       "      <th>1</th>\n",
       "      <td>255.4</td>\n",
       "      <td>19.8</td>\n",
       "      <td>19.043857</td>\n",
       "      <td>-0.756143</td>\n",
       "    </tr>\n",
       "    <tr>\n",
       "      <th>2</th>\n",
       "      <td>112.9</td>\n",
       "      <td>11.9</td>\n",
       "      <td>12.392312</td>\n",
       "      <td>0.492312</td>\n",
       "    </tr>\n",
       "    <tr>\n",
       "      <th>3</th>\n",
       "      <td>109.8</td>\n",
       "      <td>16.7</td>\n",
       "      <td>12.247612</td>\n",
       "      <td>-4.452388</td>\n",
       "    </tr>\n",
       "    <tr>\n",
       "      <th>4</th>\n",
       "      <td>31.5</td>\n",
       "      <td>9.5</td>\n",
       "      <td>8.592763</td>\n",
       "      <td>-0.907237</td>\n",
       "    </tr>\n",
       "  </tbody>\n",
       "</table>\n",
       "</div>"
      ],
      "text/plain": [
       "      TV  Sales       Pred     error\n",
       "0   74.7   14.7  10.609231 -4.090769\n",
       "1  255.4   19.8  19.043857 -0.756143\n",
       "2  112.9   11.9  12.392312  0.492312\n",
       "3  109.8   16.7  12.247612 -4.452388\n",
       "4   31.5    9.5   8.592763 -0.907237"
      ]
     },
     "execution_count": 18,
     "metadata": {},
     "output_type": "execute_result"
    }
   ],
   "source": [
    "df_test['error'] = df_test['Pred'] - df_test['Sales']\n",
    "df_test.head()"
   ]
  },
  {
   "cell_type": "code",
   "execution_count": 19,
   "id": "d64f220f-6f25-4ea9-9db9-a38a3eafcab9",
   "metadata": {},
   "outputs": [
    {
     "data": {
      "text/html": [
       "<div>\n",
       "<style scoped>\n",
       "    .dataframe tbody tr th:only-of-type {\n",
       "        vertical-align: middle;\n",
       "    }\n",
       "\n",
       "    .dataframe tbody tr th {\n",
       "        vertical-align: top;\n",
       "    }\n",
       "\n",
       "    .dataframe thead th {\n",
       "        text-align: right;\n",
       "    }\n",
       "</style>\n",
       "<table border=\"1\" class=\"dataframe\">\n",
       "  <thead>\n",
       "    <tr style=\"text-align: right;\">\n",
       "      <th></th>\n",
       "      <th>TV</th>\n",
       "      <th>Sales</th>\n",
       "      <th>Pred</th>\n",
       "      <th>error</th>\n",
       "      <th>sq_error</th>\n",
       "    </tr>\n",
       "  </thead>\n",
       "  <tbody>\n",
       "    <tr>\n",
       "      <th>0</th>\n",
       "      <td>74.7</td>\n",
       "      <td>14.7</td>\n",
       "      <td>10.609231</td>\n",
       "      <td>-4.090769</td>\n",
       "      <td>16.734389</td>\n",
       "    </tr>\n",
       "    <tr>\n",
       "      <th>1</th>\n",
       "      <td>255.4</td>\n",
       "      <td>19.8</td>\n",
       "      <td>19.043857</td>\n",
       "      <td>-0.756143</td>\n",
       "      <td>0.571752</td>\n",
       "    </tr>\n",
       "    <tr>\n",
       "      <th>2</th>\n",
       "      <td>112.9</td>\n",
       "      <td>11.9</td>\n",
       "      <td>12.392312</td>\n",
       "      <td>0.492312</td>\n",
       "      <td>0.242371</td>\n",
       "    </tr>\n",
       "    <tr>\n",
       "      <th>3</th>\n",
       "      <td>109.8</td>\n",
       "      <td>16.7</td>\n",
       "      <td>12.247612</td>\n",
       "      <td>-4.452388</td>\n",
       "      <td>19.823760</td>\n",
       "    </tr>\n",
       "    <tr>\n",
       "      <th>4</th>\n",
       "      <td>31.5</td>\n",
       "      <td>9.5</td>\n",
       "      <td>8.592763</td>\n",
       "      <td>-0.907237</td>\n",
       "      <td>0.823079</td>\n",
       "    </tr>\n",
       "  </tbody>\n",
       "</table>\n",
       "</div>"
      ],
      "text/plain": [
       "      TV  Sales       Pred     error   sq_error\n",
       "0   74.7   14.7  10.609231 -4.090769  16.734389\n",
       "1  255.4   19.8  19.043857 -0.756143   0.571752\n",
       "2  112.9   11.9  12.392312  0.492312   0.242371\n",
       "3  109.8   16.7  12.247612 -4.452388  19.823760\n",
       "4   31.5    9.5   8.592763 -0.907237   0.823079"
      ]
     },
     "execution_count": 19,
     "metadata": {},
     "output_type": "execute_result"
    }
   ],
   "source": [
    "df_test['sq_error'] = df_test['error'].pow(2)\n",
    "df_test.head()"
   ]
  },
  {
   "cell_type": "code",
   "execution_count": 20,
   "id": "64f470d5-8fa6-49e5-9b42-c8ca1d6b8754",
   "metadata": {},
   "outputs": [
    {
     "data": {
      "text/plain": [
       "3.1663611501429614"
      ]
     },
     "execution_count": 20,
     "metadata": {},
     "output_type": "execute_result"
    }
   ],
   "source": [
    "rmse = m.sqrt(df_test['sq_error'].sum() / len(df_test))\n",
    "rmse"
   ]
  },
  {
   "cell_type": "code",
   "execution_count": 21,
   "id": "4a5cf48a-f17d-4f35-a852-5488ab74b767",
   "metadata": {},
   "outputs": [
    {
     "data": {
      "image/png": "[encoded data removed]",
      "text/plain": [
       "<Figure size 640x480 with 1 Axes>"
      ]
     },
     "metadata": {},
     "output_type": "display_data"
    }
   ],
   "source": [
    "plt.scatter(df_test['TV'], df_test['Sales'])\n",
    "fig = plt.plot(df_test['TV'], df_test['Pred'], c='orange', label='Regression Line')\n",
    "plt.xlabel('TV', fontsize=14)\n",
    "plt.ylabel('Sales', fontsize=14)\n",
    "plt.show()"
   ]
  },
  {
   "cell_type": "markdown",
   "id": "ad0f3cce-2133-4755-aee5-a29c99701bbd",
   "metadata": {},
   "source": []
  },
  {
   "cell_type": "code",
   "execution_count": 22,
   "id": "93483586-0019-4977-b149-0502138178b9",
   "metadata": {},
   "outputs": [],
   "source": [
    "from sklearn.preprocessing import MinMaxScaler"
   ]
  },
  {
   "cell_type": "code",
   "execution_count": 23,
   "id": "c17082a4-f444-43a0-8e44-b61b023c6a8d",
   "metadata": {},
   "outputs": [
    {
     "data": {
      "text/html": [
       "<div>\n",
       "<style scoped>\n",
       "    .dataframe tbody tr th:only-of-type {\n",
       "        vertical-align: middle;\n",
       "    }\n",
       "\n",
       "    .dataframe tbody tr th {\n",
       "        vertical-align: top;\n",
       "    }\n",
       "\n",
       "    .dataframe thead th {\n",
       "        text-align: right;\n",
       "    }\n",
       "</style>\n",
       "<table border=\"1\" class=\"dataframe\">\n",
       "  <thead>\n",
       "    <tr style=\"text-align: right;\">\n",
       "      <th></th>\n",
       "      <th>TV</th>\n",
       "      <th>Sales</th>\n",
       "    </tr>\n",
       "  </thead>\n",
       "  <tbody>\n",
       "    <tr>\n",
       "      <th>count</th>\n",
       "      <td>160.00000</td>\n",
       "      <td>160.000000</td>\n",
       "    </tr>\n",
       "    <tr>\n",
       "      <th>mean</th>\n",
       "      <td>149.43125</td>\n",
       "      <td>14.097500</td>\n",
       "    </tr>\n",
       "    <tr>\n",
       "      <th>std</th>\n",
       "      <td>85.38041</td>\n",
       "      <td>5.156811</td>\n",
       "    </tr>\n",
       "    <tr>\n",
       "      <th>min</th>\n",
       "      <td>0.70000</td>\n",
       "      <td>1.600000</td>\n",
       "    </tr>\n",
       "    <tr>\n",
       "      <th>25%</th>\n",
       "      <td>75.45000</td>\n",
       "      <td>10.675000</td>\n",
       "    </tr>\n",
       "    <tr>\n",
       "      <th>50%</th>\n",
       "      <td>150.65000</td>\n",
       "      <td>13.200000</td>\n",
       "    </tr>\n",
       "    <tr>\n",
       "      <th>75%</th>\n",
       "      <td>218.95000</td>\n",
       "      <td>17.325000</td>\n",
       "    </tr>\n",
       "    <tr>\n",
       "      <th>max</th>\n",
       "      <td>296.40000</td>\n",
       "      <td>26.200000</td>\n",
       "    </tr>\n",
       "  </tbody>\n",
       "</table>\n",
       "</div>"
      ],
      "text/plain": [
       "              TV       Sales\n",
       "count  160.00000  160.000000\n",
       "mean   149.43125   14.097500\n",
       "std     85.38041    5.156811\n",
       "min      0.70000    1.600000\n",
       "25%     75.45000   10.675000\n",
       "50%    150.65000   13.200000\n",
       "75%    218.95000   17.325000\n",
       "max    296.40000   26.200000"
      ]
     },
     "execution_count": 23,
     "metadata": {},
     "output_type": "execute_result"
    }
   ],
   "source": [
    "x = df['TV']\n",
    "y = df['Sales']\n",
    "x_train, x_test, y_train, y_test = train_test_split(x, y, test_size=0.2, random_state=101)\n",
    "\n",
    "# Training DataFrame\n",
    "df_train = pd.DataFrame(columns=['TV', 'Sales'])\n",
    "df_train['TV'] = x_train.reset_index(drop=True)\n",
    "df_train['Sales'] = y_train.reset_index(drop=True)\n",
    "\n",
    "# Testing DataFrame\n",
    "df_test = pd.DataFrame(columns=['TV', 'Sales'])\n",
    "df_test['TV'] = x_test.reset_index(drop=True)\n",
    "df_test['Sales'] = y_test.reset_index(drop=True)\n",
    "\n",
    "df_train.describe()"
   ]
  },
  {
   "cell_type": "code",
   "execution_count": 24,
   "id": "c6ce790a-06a9-4762-9389-4a4241d775dd",
   "metadata": {},
   "outputs": [
    {
     "data": {
      "text/html": [
       "<div>\n",
       "<style scoped>\n",
       "    .dataframe tbody tr th:only-of-type {\n",
       "        vertical-align: middle;\n",
       "    }\n",
       "\n",
       "    .dataframe tbody tr th {\n",
       "        vertical-align: top;\n",
       "    }\n",
       "\n",
       "    .dataframe thead th {\n",
       "        text-align: right;\n",
       "    }\n",
       "</style>\n",
       "<table border=\"1\" class=\"dataframe\">\n",
       "  <thead>\n",
       "    <tr style=\"text-align: right;\">\n",
       "      <th></th>\n",
       "      <th>TV</th>\n",
       "      <th>Sales</th>\n",
       "      <th>TV_Scaled</th>\n",
       "    </tr>\n",
       "  </thead>\n",
       "  <tbody>\n",
       "    <tr>\n",
       "      <th>0</th>\n",
       "      <td>67.8</td>\n",
       "      <td>12.5</td>\n",
       "      <td>0.226919</td>\n",
       "    </tr>\n",
       "    <tr>\n",
       "      <th>1</th>\n",
       "      <td>139.5</td>\n",
       "      <td>10.3</td>\n",
       "      <td>0.469395</td>\n",
       "    </tr>\n",
       "    <tr>\n",
       "      <th>2</th>\n",
       "      <td>96.2</td>\n",
       "      <td>11.4</td>\n",
       "      <td>0.322962</td>\n",
       "    </tr>\n",
       "    <tr>\n",
       "      <th>3</th>\n",
       "      <td>18.8</td>\n",
       "      <td>7.0</td>\n",
       "      <td>0.061211</td>\n",
       "    </tr>\n",
       "    <tr>\n",
       "      <th>4</th>\n",
       "      <td>76.4</td>\n",
       "      <td>11.8</td>\n",
       "      <td>0.256003</td>\n",
       "    </tr>\n",
       "  </tbody>\n",
       "</table>\n",
       "</div>"
      ],
      "text/plain": [
       "      TV  Sales  TV_Scaled\n",
       "0   67.8   12.5   0.226919\n",
       "1  139.5   10.3   0.469395\n",
       "2   96.2   11.4   0.322962\n",
       "3   18.8    7.0   0.061211\n",
       "4   76.4   11.8   0.256003"
      ]
     },
     "execution_count": 24,
     "metadata": {},
     "output_type": "execute_result"
    }
   ],
   "source": [
    "scaler = MinMaxScaler()\n",
    "fit = scaler.fit(x_train.values.reshape(-1, 1))\n",
    "x_train_scaled = fit.transform(x_train.values.reshape(-1, 1))\n",
    "df_train['TV_Scaled'] = x_train_scaled\n",
    "df_train.head()"
   ]
  },
  {
   "cell_type": "code",
   "execution_count": 25,
   "id": "3734e054-1cf8-4f65-b41d-588f37d9340e",
   "metadata": {},
   "outputs": [
    {
     "name": "stdout",
     "output_type": "stream",
     "text": [
      "B1: 13.80253988440878\n",
      "B0: 7.155095501579394\n"
     ]
    }
   ],
   "source": [
    "mean_x = df_train['TV_Scaled'].mean()\n",
    "mean_y = df_train['Sales'].mean()\n",
    "\n",
    "df_train['TV-mean_x'] = df_train['TV_Scaled'] - mean_x\n",
    "df_train['Sales-mean_y'] = df_train['Sales'] - mean_y\n",
    "df_train['Mult'] = df_train['TV-mean_x'] * df_train['Sales-mean_y']\n",
    "\n",
    "sum_mult = df_train['Mult'].sum()\n",
    "df_train['Squared'] = df_train['TV-mean_x'].pow(2)\n",
    "\n",
    "sum_sq = df_train['Squared'].sum()\n",
    "b1 = sum_mult / sum_sq\n",
    "print('B1:', b1)\n",
    "\n",
    "b0 = mean_y - b1 * mean_x\n",
    "print('B0:', b0)\n"
   ]
  },
  {
   "cell_type": "code",
   "execution_count": 26,
   "id": "79c618de-2d98-4fdf-8f7d-dccd27eb4e34",
   "metadata": {},
   "outputs": [
    {
     "data": {
      "text/html": [
       "<div>\n",
       "<style scoped>\n",
       "    .dataframe tbody tr th:only-of-type {\n",
       "        vertical-align: middle;\n",
       "    }\n",
       "\n",
       "    .dataframe tbody tr th {\n",
       "        vertical-align: top;\n",
       "    }\n",
       "\n",
       "    .dataframe thead th {\n",
       "        text-align: right;\n",
       "    }\n",
       "</style>\n",
       "<table border=\"1\" class=\"dataframe\">\n",
       "  <thead>\n",
       "    <tr style=\"text-align: right;\">\n",
       "      <th></th>\n",
       "      <th>TV</th>\n",
       "      <th>Sales</th>\n",
       "      <th>TV_Scaled</th>\n",
       "      <th>Pred</th>\n",
       "    </tr>\n",
       "  </thead>\n",
       "  <tbody>\n",
       "    <tr>\n",
       "      <th>0</th>\n",
       "      <td>74.7</td>\n",
       "      <td>14.7</td>\n",
       "      <td>0.250254</td>\n",
       "      <td>10.609231</td>\n",
       "    </tr>\n",
       "    <tr>\n",
       "      <th>1</th>\n",
       "      <td>255.4</td>\n",
       "      <td>19.8</td>\n",
       "      <td>0.861346</td>\n",
       "      <td>19.043857</td>\n",
       "    </tr>\n",
       "    <tr>\n",
       "      <th>2</th>\n",
       "      <td>112.9</td>\n",
       "      <td>11.9</td>\n",
       "      <td>0.379439</td>\n",
       "      <td>12.392312</td>\n",
       "    </tr>\n",
       "    <tr>\n",
       "      <th>3</th>\n",
       "      <td>109.8</td>\n",
       "      <td>16.7</td>\n",
       "      <td>0.368955</td>\n",
       "      <td>12.247612</td>\n",
       "    </tr>\n",
       "    <tr>\n",
       "      <th>4</th>\n",
       "      <td>31.5</td>\n",
       "      <td>9.5</td>\n",
       "      <td>0.104160</td>\n",
       "      <td>8.592763</td>\n",
       "    </tr>\n",
       "  </tbody>\n",
       "</table>\n",
       "</div>"
      ],
      "text/plain": [
       "      TV  Sales  TV_Scaled       Pred\n",
       "0   74.7   14.7   0.250254  10.609231\n",
       "1  255.4   19.8   0.861346  19.043857\n",
       "2  112.9   11.9   0.379439  12.392312\n",
       "3  109.8   16.7   0.368955  12.247612\n",
       "4   31.5    9.5   0.104160   8.592763"
      ]
     },
     "execution_count": 26,
     "metadata": {},
     "output_type": "execute_result"
    }
   ],
   "source": [
    "x_test_scaled = fit.transform(x_test.values.reshape(-1, 1))\n",
    "df_test['TV_Scaled'] = x_test_scaled\n",
    "df_test['Pred'] = b0 + b1*df_test['TV_Scaled']\n",
    "df_test.head()"
   ]
  },
  {
   "cell_type": "code",
   "execution_count": 27,
   "id": "dfc581ca-1b3a-4552-ba8a-686bde9ddd2c",
   "metadata": {},
   "outputs": [
    {
     "data": {
      "text/plain": [
       "3.1663611501429614"
      ]
     },
     "execution_count": 27,
     "metadata": {},
     "output_type": "execute_result"
    }
   ],
   "source": [
    "df_test['error'] = df_test['Pred'] - df_test['Sales']\n",
    "df_test['sq_error'] = df_test['error'].pow(2)\n",
    "rmse = m.sqrt(df_test['sq_error'].sum() / len(df_test))\n",
    "rmse"
   ]
  },
  {
   "cell_type": "code",
   "execution_count": 28,
   "id": "fa49bc91-a303-4b9a-a96a-161eb2f163fa",
   "metadata": {},
   "outputs": [
    {
     "data": {
      "image/png": "[encoded data removed]",
      "text/plain": [
       "<Figure size 640x480 with 1 Axes>"
      ]
     },
     "metadata": {},
     "output_type": "display_data"
    }
   ],
   "source": [
    "plt.scatter(df_test['TV'], df_test['Sales'])\n",
    "fig = plt.plot(df_test['TV'], df_test['Pred'], c='orange', label='Regression Line')\n",
    "plt.xlabel('TV', fontsize=14)\n",
    "plt.ylabel('Sales', fontsize=14)\n",
    "plt.show()"
   ]
  },
  {
   "cell_type": "code",
   "execution_count": 43,
   "id": "b1d4ad20-72f9-4678-a721-535ff5d14bdd",
   "metadata": {},
   "outputs": [
    {
     "data": {
      "image/png": "[encoded data removed]",
      "text/plain": [
       "<Figure size 800x600 with 1 Axes>"
      ]
     },
     "metadata": {},
     "output_type": "display_data"
    }
   ],
   "source": [
    "plt.boxplot(df_train[['TV', 'Sales']])\n",
    "plt.show()"
   ]
  },
  {
   "cell_type": "code",
   "execution_count": 44,
   "id": "4aabf34c-1e82-4c9e-90ff-1d9b6f45ab4e",
   "metadata": {},
   "outputs": [
    {
     "data": {
      "text/plain": [
       "<AxesSubplot: xlabel='TV', ylabel='Count'>"
      ]
     },
     "execution_count": 44,
     "metadata": {},
     "output_type": "execute_result"
    },
    {
     "data": {
      "image/png": "[encoded data removed]",
      "text/plain": [
       "<Figure size 800x600 with 1 Axes>"
      ]
     },
     "metadata": {},
     "output_type": "display_data"
    }
   ],
   "source": [
    "sb.histplot(data=df_train['TV'], kde=True)"
   ]
  },
  {
   "cell_type": "code",
   "execution_count": 45,
   "id": "64dc26da-84f4-40e4-a233-ad53fe5a206b",
   "metadata": {},
   "outputs": [
    {
     "data": {
      "text/plain": [
       "<AxesSubplot: xlabel='Sales', ylabel='Count'>"
      ]
     },
     "execution_count": 45,
     "metadata": {},
     "output_type": "execute_result"
    },
    {
     "data": {
      "image/png": "[encoded data removed]",
      "text/plain": [
       "<Figure size 800x600 with 1 Axes>"
      ]
     },
     "metadata": {},
     "output_type": "display_data"
    }
   ],
   "source": [
    "sb.histplot(data=df_train['Sales'], kde=True)"
   ]
  },
  {
   "cell_type": "code",
   "execution_count": null,
   "id": "41408ae1-7de1-491e-8ce4-f2f149a767ef",
   "metadata": {},
   "outputs": [],
   "source": []
  }
 ],
 "metadata": {
  "kernelspec": {
   "display_name": "Python 3 (ipykernel)",
   "language": "python",
   "name": "python3"
  },
  "language_info": {
   "codemirror_mode": {
    "name": "ipython",
    "version": 3
   },
   "file_extension": ".py",
   "mimetype": "text/x-python",
   "name": "python",
   "nbconvert_exporter": "python",
   "pygments_lexer": "ipython3",
   "version": "3.10.6"
  }
 },
 "nbformat": 4,
 "nbformat_minor": 5
}
