{
 "cells": [
  {
   "cell_type": "markdown",
   "id": "919ff678-3d4d-490d-b0f5-25a501ddbbbb",
   "metadata": {},
   "source": [
    "# Boosting and AdaBoost"
   ]
  },
  {
   "cell_type": "markdown",
   "id": "7366ff75-bb2c-4a72-8881-7852938428d4",
   "metadata": {},
   "source": [
    "## Table of Contents\n",
    "\n",
    "1. [Introduction](#intro)\n",
    "2. [Import Libraries](#libraries)\n",
    "3. [Sample Dataset](#sample)\n",
    "4. [Manual Implementation](#manual)\n",
    "5. [Using Sklearn Library](#sklearn)\n",
    "6. [Iris Dataset](#iris)\n",
    "7. [Conclusion](#conclusion)"
   ]
  },
  {
   "cell_type": "markdown",
   "id": "5a7f3227-75e1-40f3-baad-310bdda88b09",
   "metadata": {},
   "source": [
    "## 1. Introduction<a id='intro'></a>"
   ]
  },
  {
   "cell_type": "markdown",
   "id": "41b09330-af4e-4342-9c2a-b5f1e44940f7",
   "metadata": {},
   "source": [
    "## 2. Import Libraries<a id='libraries'></a>"
   ]
  },
  {
   "cell_type": "code",
   "execution_count": null,
   "id": "25654356-6bdc-450d-b943-38188ae89ad5",
   "metadata": {},
   "outputs": [],
   "source": [
    "import numpy as np\n",
    "import pandas as pd\n",
    "import matplotlib.pyplot as plt\n",
    "import seaborn as sb\n",
    "sb.set_style('whitegrid')\n",
    "from sklearn.datasets import make_circles"
   ]
  },
  {
   "cell_type": "markdown",
   "id": "1cbe8d0f-2603-46a8-96ee-051eb1c28fc3",
   "metadata": {},
   "source": [
    "## 3. Sample Dataset<a id='sample'></a>"
   ]
  },
  {
   "cell_type": "code",
   "execution_count": null,
   "id": "ded0f8cd-e02f-4152-879e-d02ea848bef4",
   "metadata": {},
   "outputs": [],
   "source": []
  }
 ],
 "metadata": {
  "kernelspec": {
   "display_name": "Python 3 (ipykernel)",
   "language": "python",
   "name": "python3"
  },
  "language_info": {
   "codemirror_mode": {
    "name": "ipython",
    "version": 3
   },
   "file_extension": ".py",
   "mimetype": "text/x-python",
   "name": "python",
   "nbconvert_exporter": "python",
   "pygments_lexer": "ipython3",
   "version": "3.10.6"
  }
 },
 "nbformat": 4,
 "nbformat_minor": 5
}
