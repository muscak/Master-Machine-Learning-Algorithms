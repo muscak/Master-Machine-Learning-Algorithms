{
  "cells": [
    {
      "cell_type": "markdown",
      "source": [
        "# *k*-Nearest Neighbor (*k*NN)\n",
        "\n",
        "*k*NN has no model other than storing the entire dataset, so there is no learning required. All of the work happens at\n",
        "the time a prediction is requested and that's why is often referred to as a lazy learning algorithm. Since it makes no assumptions about the functional form of the problem\n",
        "being solved, it is referred to as a nonparametric machine learning algorithm [1].\n",
        "\n",
        "The idea behind *k*NN is very simple. For each record to be classified or predicted:\n",
        "1. Find *K* records that have similar features (i.e., similar predictor values).\n",
        "2. For classification, find out what the majority class is among those similar records and assign that class to the new record.\n",
        "3. For prediction (also called *k*NN regression), find the average among those similar records, and predict that average for the new record [2].\n",
        "\n",
        "Neighbor is a record that has similar predictor values to another record. The Distance measures that sum up in a single number how far one record is from another. The most common way to measure the distance is to use Euclidean Distance.\n",
        "\n",
        "$$Euclidean Distance (a,b) = \\sqrt{\\sum_{i=1}^{n}(a_i - b_i)^2}$$"
      ],
      "metadata": {
        "id": "XdS9Pwq7kQDL"
      },
      "id": "XdS9Pwq7kQDL"
    },
    {
      "cell_type": "markdown",
      "source": [
        "## Import Libraries<a id='libraries'></a>"
      ],
      "metadata": {
        "id": "u1gFPZqAkYdY"
      },
      "id": "u1gFPZqAkYdY"
    },
    {
      "cell_type": "code",
      "execution_count": 1,
      "id": "c8997610-4325-4de3-b3df-926a9ed0172d",
      "metadata": {
        "id": "c8997610-4325-4de3-b3df-926a9ed0172d"
      },
      "outputs": [],
      "source": [
        "import numpy as np\n",
        "import pandas as pd\n",
        "import matplotlib.pyplot as plt\n",
        "import seaborn as sb\n",
        "sb.set_style('whitegrid')"
      ]
    },
    {
      "cell_type": "markdown",
      "source": [
        "## Sample Dataset<a id='sample'></a>"
      ],
      "metadata": {
        "id": "mKjIN-rjkedw"
      },
      "id": "mKjIN-rjkedw"
    },
    {
      "cell_type": "code",
      "execution_count": 2,
      "id": "addce887-c2b5-44a8-94c5-a0e75fdf5f5b",
      "metadata": {
        "id": "addce887-c2b5-44a8-94c5-a0e75fdf5f5b",
        "outputId": "33928ad8-be17-4636-db5f-83f91c53399a",
        "colab": {
          "base_uri": "https://localhost:8080/",
          "height": 363
        }
      },
      "outputs": [
        {
          "output_type": "execute_result",
          "data": {
            "text/plain": [
              "         x1        x2  y\n",
              "0  3.393533  2.331273  0\n",
              "1  3.110073  1.781540  0\n",
              "2  1.343809  3.368361  0\n",
              "3  3.582294  4.679179  0\n",
              "4  2.280362  2.866990  0\n",
              "5  7.423437  4.696523  1\n",
              "6  5.745052  3.533990  1\n",
              "7  9.172169  2.511101  1\n",
              "8  7.792783  3.424089  1\n",
              "9  7.939821  0.791637  1"
            ],
            "text/html": [
              "\n",
              "  <div id=\"df-5b1c0815-a6c8-43a7-8743-2648761804ef\">\n",
              "    <div class=\"colab-df-container\">\n",
              "      <div>\n",
              "<style scoped>\n",
              "    .dataframe tbody tr th:only-of-type {\n",
              "        vertical-align: middle;\n",
              "    }\n",
              "\n",
              "    .dataframe tbody tr th {\n",
              "        vertical-align: top;\n",
              "    }\n",
              "\n",
              "    .dataframe thead th {\n",
              "        text-align: right;\n",
              "    }\n",
              "</style>\n",
              "<table border=\"1\" class=\"dataframe\">\n",
              "  <thead>\n",
              "    <tr style=\"text-align: right;\">\n",
              "      <th></th>\n",
              "      <th>x1</th>\n",
              "      <th>x2</th>\n",
              "      <th>y</th>\n",
              "    </tr>\n",
              "  </thead>\n",
              "  <tbody>\n",
              "    <tr>\n",
              "      <th>0</th>\n",
              "      <td>3.393533</td>\n",
              "      <td>2.331273</td>\n",
              "      <td>0</td>\n",
              "    </tr>\n",
              "    <tr>\n",
              "      <th>1</th>\n",
              "      <td>3.110073</td>\n",
              "      <td>1.781540</td>\n",
              "      <td>0</td>\n",
              "    </tr>\n",
              "    <tr>\n",
              "      <th>2</th>\n",
              "      <td>1.343809</td>\n",
              "      <td>3.368361</td>\n",
              "      <td>0</td>\n",
              "    </tr>\n",
              "    <tr>\n",
              "      <th>3</th>\n",
              "      <td>3.582294</td>\n",
              "      <td>4.679179</td>\n",
              "      <td>0</td>\n",
              "    </tr>\n",
              "    <tr>\n",
              "      <th>4</th>\n",
              "      <td>2.280362</td>\n",
              "      <td>2.866990</td>\n",
              "      <td>0</td>\n",
              "    </tr>\n",
              "    <tr>\n",
              "      <th>5</th>\n",
              "      <td>7.423437</td>\n",
              "      <td>4.696523</td>\n",
              "      <td>1</td>\n",
              "    </tr>\n",
              "    <tr>\n",
              "      <th>6</th>\n",
              "      <td>5.745052</td>\n",
              "      <td>3.533990</td>\n",
              "      <td>1</td>\n",
              "    </tr>\n",
              "    <tr>\n",
              "      <th>7</th>\n",
              "      <td>9.172169</td>\n",
              "      <td>2.511101</td>\n",
              "      <td>1</td>\n",
              "    </tr>\n",
              "    <tr>\n",
              "      <th>8</th>\n",
              "      <td>7.792783</td>\n",
              "      <td>3.424089</td>\n",
              "      <td>1</td>\n",
              "    </tr>\n",
              "    <tr>\n",
              "      <th>9</th>\n",
              "      <td>7.939821</td>\n",
              "      <td>0.791637</td>\n",
              "      <td>1</td>\n",
              "    </tr>\n",
              "  </tbody>\n",
              "</table>\n",
              "</div>\n",
              "      <button class=\"colab-df-convert\" onclick=\"convertToInteractive('df-5b1c0815-a6c8-43a7-8743-2648761804ef')\"\n",
              "              title=\"Convert this dataframe to an interactive table.\"\n",
              "              style=\"display:none;\">\n",
              "        \n",
              "  <svg xmlns=\"http://www.w3.org/2000/svg\" height=\"24px\"viewBox=\"0 0 24 24\"\n",
              "       width=\"24px\">\n",
              "    <path d=\"M0 0h24v24H0V0z\" fill=\"none\"/>\n",
              "    <path d=\"M18.56 5.44l.94 2.06.94-2.06 2.06-.94-2.06-.94-.94-2.06-.94 2.06-2.06.94zm-11 1L8.5 8.5l.94-2.06 2.06-.94-2.06-.94L8.5 2.5l-.94 2.06-2.06.94zm10 10l.94 2.06.94-2.06 2.06-.94-2.06-.94-.94-2.06-.94 2.06-2.06.94z\"/><path d=\"M17.41 7.96l-1.37-1.37c-.4-.4-.92-.59-1.43-.59-.52 0-1.04.2-1.43.59L10.3 9.45l-7.72 7.72c-.78.78-.78 2.05 0 2.83L4 21.41c.39.39.9.59 1.41.59.51 0 1.02-.2 1.41-.59l7.78-7.78 2.81-2.81c.8-.78.8-2.07 0-2.86zM5.41 20L4 18.59l7.72-7.72 1.47 1.35L5.41 20z\"/>\n",
              "  </svg>\n",
              "      </button>\n",
              "      \n",
              "  <style>\n",
              "    .colab-df-container {\n",
              "      display:flex;\n",
              "      flex-wrap:wrap;\n",
              "      gap: 12px;\n",
              "    }\n",
              "\n",
              "    .colab-df-convert {\n",
              "      background-color: #E8F0FE;\n",
              "      border: none;\n",
              "      border-radius: 50%;\n",
              "      cursor: pointer;\n",
              "      display: none;\n",
              "      fill: #1967D2;\n",
              "      height: 32px;\n",
              "      padding: 0 0 0 0;\n",
              "      width: 32px;\n",
              "    }\n",
              "\n",
              "    .colab-df-convert:hover {\n",
              "      background-color: #E2EBFA;\n",
              "      box-shadow: 0px 1px 2px rgba(60, 64, 67, 0.3), 0px 1px 3px 1px rgba(60, 64, 67, 0.15);\n",
              "      fill: #174EA6;\n",
              "    }\n",
              "\n",
              "    [theme=dark] .colab-df-convert {\n",
              "      background-color: #3B4455;\n",
              "      fill: #D2E3FC;\n",
              "    }\n",
              "\n",
              "    [theme=dark] .colab-df-convert:hover {\n",
              "      background-color: #434B5C;\n",
              "      box-shadow: 0px 1px 3px 1px rgba(0, 0, 0, 0.15);\n",
              "      filter: drop-shadow(0px 1px 2px rgba(0, 0, 0, 0.3));\n",
              "      fill: #FFFFFF;\n",
              "    }\n",
              "  </style>\n",
              "\n",
              "      <script>\n",
              "        const buttonEl =\n",
              "          document.querySelector('#df-5b1c0815-a6c8-43a7-8743-2648761804ef button.colab-df-convert');\n",
              "        buttonEl.style.display =\n",
              "          google.colab.kernel.accessAllowed ? 'block' : 'none';\n",
              "\n",
              "        async function convertToInteractive(key) {\n",
              "          const element = document.querySelector('#df-5b1c0815-a6c8-43a7-8743-2648761804ef');\n",
              "          const dataTable =\n",
              "            await google.colab.kernel.invokeFunction('convertToInteractive',\n",
              "                                                     [key], {});\n",
              "          if (!dataTable) return;\n",
              "\n",
              "          const docLinkHtml = 'Like what you see? Visit the ' +\n",
              "            '<a target=\"_blank\" href=https://colab.research.google.com/notebooks/data_table.ipynb>data table notebook</a>'\n",
              "            + ' to learn more about interactive tables.';\n",
              "          element.innerHTML = '';\n",
              "          dataTable['output_type'] = 'display_data';\n",
              "          await google.colab.output.renderOutput(dataTable, element);\n",
              "          const docLink = document.createElement('div');\n",
              "          docLink.innerHTML = docLinkHtml;\n",
              "          element.appendChild(docLink);\n",
              "        }\n",
              "      </script>\n",
              "    </div>\n",
              "  </div>\n",
              "  "
            ]
          },
          "metadata": {},
          "execution_count": 2
        }
      ],
      "source": [
        "x1 = [3.393533211, 3.110073483, 1.343808831, 3.582294042, 2.280362439, \n",
        "      7.423436942, 5.745051997, 9.172168622, 7.792783481, 7.939820817]\n",
        "\n",
        "x2 = [2.331273381, 1.781539638, 3.368360954, 4.67917911, 2.866990263, \n",
        "      4.696522875, 3.533989803, 2.511101045, 3.424088941, 0.791637231]\n",
        "\n",
        "y = [0, 0, 0, 0, 0, 1, 1, 1, 1, 1]\n",
        "\n",
        "df = pd.DataFrame(zip(x1, x2, y), columns=['x1', 'x2', 'y'])\n",
        "df"
      ]
    },
    {
      "cell_type": "code",
      "execution_count": 3,
      "id": "2d678895-5c02-4e14-a14a-42718bbf4ffd",
      "metadata": {
        "id": "2d678895-5c02-4e14-a14a-42718bbf4ffd",
        "outputId": "8420795e-a9cc-4f1d-cf3b-61e52f757c44",
        "colab": {
          "base_uri": "https://localhost:8080/",
          "height": 449
        }
      },
      "outputs": [
        {
          "output_type": "display_data",
          "data": {
            "text/plain": [
              "<Figure size 640x480 with 1 Axes>"
            ],
            "image/png": "[encoded data removed]"
          },
          "metadata": {}
        }
      ],
      "source": [
        "sb.scatterplot(data=df, x='x1', y='x2', hue='y', style='y', s=150)\n",
        "plt.show()"
      ]
    },
    {
      "cell_type": "code",
      "execution_count": 4,
      "id": "ad528156-a827-4d87-94b5-faf4d7817051",
      "metadata": {
        "id": "ad528156-a827-4d87-94b5-faf4d7817051"
      },
      "outputs": [],
      "source": [
        "# New instance\n",
        "new_x1 = 8.093607318\n",
        "new_x2 = 3.365731514"
      ]
    },
    {
      "cell_type": "code",
      "execution_count": 5,
      "id": "61404493-2003-4084-908a-143de15a1ee5",
      "metadata": {
        "id": "61404493-2003-4084-908a-143de15a1ee5",
        "outputId": "4974c8f4-2b82-4a9f-8df0-c5e8f02ca35d",
        "colab": {
          "base_uri": "https://localhost:8080/",
          "height": 449
        }
      },
      "outputs": [
        {
          "output_type": "display_data",
          "data": {
            "text/plain": [
              "<Figure size 640x480 with 1 Axes>"
            ],
            "image/png": "[encoded data removed]"
          },
          "metadata": {}
        }
      ],
      "source": [
        "# Displaying the place of new instance on plot\n",
        "sb.scatterplot(data=df, x='x1', y='x2', hue='y', style='y', s=150)\n",
        "plt.scatter(x=new_x1, y=new_x2, color='g', marker=',')\n",
        "plt.show()"
      ]
    },
    {
      "cell_type": "markdown",
      "source": [
        "## Manual Implementation<a id='manual'></a>"
      ],
      "metadata": {
        "id": "kl-AY9OuoWZ9"
      },
      "id": "kl-AY9OuoWZ9"
    },
    {
      "cell_type": "code",
      "execution_count": 6,
      "id": "f709413c-cce4-4d9b-ad30-6198d12c4d73",
      "metadata": {
        "id": "f709413c-cce4-4d9b-ad30-6198d12c4d73",
        "outputId": "2b420661-5d53-44b6-c985-96961978714c",
        "colab": {
          "base_uri": "https://localhost:8080/",
          "height": 363
        }
      },
      "outputs": [
        {
          "output_type": "execute_result",
          "data": {
            "text/plain": [
              "         x1        x2  y  x1-new_x1  x2-new_x2        Sum  Distance\n",
              "0  3.393533  2.331273  0  22.090697   1.070104  23.160800  4.812567\n",
              "1  3.110073  1.781540  0  24.835609   2.509664  27.345273  5.229271\n",
              "2  1.343809  3.368361  0  45.559780   0.000007  45.559787  6.749799\n",
              "3  3.582294  4.679179  0  20.351947   1.725145  22.077092  4.698627\n",
              "4  2.280362  2.866990  0  33.793816   0.248743  34.042559  5.834600\n",
              "5  7.423437  4.696523  1   0.449128   1.771006   2.220134  1.490011\n",
              "6  5.745052  3.533990  1   5.515712   0.028311   5.544023  2.354575\n",
              "7  9.172169  2.511101  1   1.163294   0.730393   1.893688  1.376113\n",
              "8  7.792783  3.424089  1   0.090495   0.003406   0.093901  0.306432\n",
              "9  7.939821  0.791637  1   0.023650   6.625961   6.649612  2.578684"
            ],
            "text/html": [
              "\n",
              "  <div id=\"df-56d3c7df-9e87-4d25-aa0f-cdfa60f68d81\">\n",
              "    <div class=\"colab-df-container\">\n",
              "      <div>\n",
              "<style scoped>\n",
              "    .dataframe tbody tr th:only-of-type {\n",
              "        vertical-align: middle;\n",
              "    }\n",
              "\n",
              "    .dataframe tbody tr th {\n",
              "        vertical-align: top;\n",
              "    }\n",
              "\n",
              "    .dataframe thead th {\n",
              "        text-align: right;\n",
              "    }\n",
              "</style>\n",
              "<table border=\"1\" class=\"dataframe\">\n",
              "  <thead>\n",
              "    <tr style=\"text-align: right;\">\n",
              "      <th></th>\n",
              "      <th>x1</th>\n",
              "      <th>x2</th>\n",
              "      <th>y</th>\n",
              "      <th>x1-new_x1</th>\n",
              "      <th>x2-new_x2</th>\n",
              "      <th>Sum</th>\n",
              "      <th>Distance</th>\n",
              "    </tr>\n",
              "  </thead>\n",
              "  <tbody>\n",
              "    <tr>\n",
              "      <th>0</th>\n",
              "      <td>3.393533</td>\n",
              "      <td>2.331273</td>\n",
              "      <td>0</td>\n",
              "      <td>22.090697</td>\n",
              "      <td>1.070104</td>\n",
              "      <td>23.160800</td>\n",
              "      <td>4.812567</td>\n",
              "    </tr>\n",
              "    <tr>\n",
              "      <th>1</th>\n",
              "      <td>3.110073</td>\n",
              "      <td>1.781540</td>\n",
              "      <td>0</td>\n",
              "      <td>24.835609</td>\n",
              "      <td>2.509664</td>\n",
              "      <td>27.345273</td>\n",
              "      <td>5.229271</td>\n",
              "    </tr>\n",
              "    <tr>\n",
              "      <th>2</th>\n",
              "      <td>1.343809</td>\n",
              "      <td>3.368361</td>\n",
              "      <td>0</td>\n",
              "      <td>45.559780</td>\n",
              "      <td>0.000007</td>\n",
              "      <td>45.559787</td>\n",
              "      <td>6.749799</td>\n",
              "    </tr>\n",
              "    <tr>\n",
              "      <th>3</th>\n",
              "      <td>3.582294</td>\n",
              "      <td>4.679179</td>\n",
              "      <td>0</td>\n",
              "      <td>20.351947</td>\n",
              "      <td>1.725145</td>\n",
              "      <td>22.077092</td>\n",
              "      <td>4.698627</td>\n",
              "    </tr>\n",
              "    <tr>\n",
              "      <th>4</th>\n",
              "      <td>2.280362</td>\n",
              "      <td>2.866990</td>\n",
              "      <td>0</td>\n",
              "      <td>33.793816</td>\n",
              "      <td>0.248743</td>\n",
              "      <td>34.042559</td>\n",
              "      <td>5.834600</td>\n",
              "    </tr>\n",
              "    <tr>\n",
              "      <th>5</th>\n",
              "      <td>7.423437</td>\n",
              "      <td>4.696523</td>\n",
              "      <td>1</td>\n",
              "      <td>0.449128</td>\n",
              "      <td>1.771006</td>\n",
              "      <td>2.220134</td>\n",
              "      <td>1.490011</td>\n",
              "    </tr>\n",
              "    <tr>\n",
              "      <th>6</th>\n",
              "      <td>5.745052</td>\n",
              "      <td>3.533990</td>\n",
              "      <td>1</td>\n",
              "      <td>5.515712</td>\n",
              "      <td>0.028311</td>\n",
              "      <td>5.544023</td>\n",
              "      <td>2.354575</td>\n",
              "    </tr>\n",
              "    <tr>\n",
              "      <th>7</th>\n",
              "      <td>9.172169</td>\n",
              "      <td>2.511101</td>\n",
              "      <td>1</td>\n",
              "      <td>1.163294</td>\n",
              "      <td>0.730393</td>\n",
              "      <td>1.893688</td>\n",
              "      <td>1.376113</td>\n",
              "    </tr>\n",
              "    <tr>\n",
              "      <th>8</th>\n",
              "      <td>7.792783</td>\n",
              "      <td>3.424089</td>\n",
              "      <td>1</td>\n",
              "      <td>0.090495</td>\n",
              "      <td>0.003406</td>\n",
              "      <td>0.093901</td>\n",
              "      <td>0.306432</td>\n",
              "    </tr>\n",
              "    <tr>\n",
              "      <th>9</th>\n",
              "      <td>7.939821</td>\n",
              "      <td>0.791637</td>\n",
              "      <td>1</td>\n",
              "      <td>0.023650</td>\n",
              "      <td>6.625961</td>\n",
              "      <td>6.649612</td>\n",
              "      <td>2.578684</td>\n",
              "    </tr>\n",
              "  </tbody>\n",
              "</table>\n",
              "</div>\n",
              "      <button class=\"colab-df-convert\" onclick=\"convertToInteractive('df-56d3c7df-9e87-4d25-aa0f-cdfa60f68d81')\"\n",
              "              title=\"Convert this dataframe to an interactive table.\"\n",
              "              style=\"display:none;\">\n",
              "        \n",
              "  <svg xmlns=\"http://www.w3.org/2000/svg\" height=\"24px\"viewBox=\"0 0 24 24\"\n",
              "       width=\"24px\">\n",
              "    <path d=\"M0 0h24v24H0V0z\" fill=\"none\"/>\n",
              "    <path d=\"M18.56 5.44l.94 2.06.94-2.06 2.06-.94-2.06-.94-.94-2.06-.94 2.06-2.06.94zm-11 1L8.5 8.5l.94-2.06 2.06-.94-2.06-.94L8.5 2.5l-.94 2.06-2.06.94zm10 10l.94 2.06.94-2.06 2.06-.94-2.06-.94-.94-2.06-.94 2.06-2.06.94z\"/><path d=\"M17.41 7.96l-1.37-1.37c-.4-.4-.92-.59-1.43-.59-.52 0-1.04.2-1.43.59L10.3 9.45l-7.72 7.72c-.78.78-.78 2.05 0 2.83L4 21.41c.39.39.9.59 1.41.59.51 0 1.02-.2 1.41-.59l7.78-7.78 2.81-2.81c.8-.78.8-2.07 0-2.86zM5.41 20L4 18.59l7.72-7.72 1.47 1.35L5.41 20z\"/>\n",
              "  </svg>\n",
              "      </button>\n",
              "      \n",
              "  <style>\n",
              "    .colab-df-container {\n",
              "      display:flex;\n",
              "      flex-wrap:wrap;\n",
              "      gap: 12px;\n",
              "    }\n",
              "\n",
              "    .colab-df-convert {\n",
              "      background-color: #E8F0FE;\n",
              "      border: none;\n",
              "      border-radius: 50%;\n",
              "      cursor: pointer;\n",
              "      display: none;\n",
              "      fill: #1967D2;\n",
              "      height: 32px;\n",
              "      padding: 0 0 0 0;\n",
              "      width: 32px;\n",
              "    }\n",
              "\n",
              "    .colab-df-convert:hover {\n",
              "      background-color: #E2EBFA;\n",
              "      box-shadow: 0px 1px 2px rgba(60, 64, 67, 0.3), 0px 1px 3px 1px rgba(60, 64, 67, 0.15);\n",
              "      fill: #174EA6;\n",
              "    }\n",
              "\n",
              "    [theme=dark] .colab-df-convert {\n",
              "      background-color: #3B4455;\n",
              "      fill: #D2E3FC;\n",
              "    }\n",
              "\n",
              "    [theme=dark] .colab-df-convert:hover {\n",
              "      background-color: #434B5C;\n",
              "      box-shadow: 0px 1px 3px 1px rgba(0, 0, 0, 0.15);\n",
              "      filter: drop-shadow(0px 1px 2px rgba(0, 0, 0, 0.3));\n",
              "      fill: #FFFFFF;\n",
              "    }\n",
              "  </style>\n",
              "\n",
              "      <script>\n",
              "        const buttonEl =\n",
              "          document.querySelector('#df-56d3c7df-9e87-4d25-aa0f-cdfa60f68d81 button.colab-df-convert');\n",
              "        buttonEl.style.display =\n",
              "          google.colab.kernel.accessAllowed ? 'block' : 'none';\n",
              "\n",
              "        async function convertToInteractive(key) {\n",
              "          const element = document.querySelector('#df-56d3c7df-9e87-4d25-aa0f-cdfa60f68d81');\n",
              "          const dataTable =\n",
              "            await google.colab.kernel.invokeFunction('convertToInteractive',\n",
              "                                                     [key], {});\n",
              "          if (!dataTable) return;\n",
              "\n",
              "          const docLinkHtml = 'Like what you see? Visit the ' +\n",
              "            '<a target=\"_blank\" href=https://colab.research.google.com/notebooks/data_table.ipynb>data table notebook</a>'\n",
              "            + ' to learn more about interactive tables.';\n",
              "          element.innerHTML = '';\n",
              "          dataTable['output_type'] = 'display_data';\n",
              "          await google.colab.output.renderOutput(dataTable, element);\n",
              "          const docLink = document.createElement('div');\n",
              "          docLink.innerHTML = docLinkHtml;\n",
              "          element.appendChild(docLink);\n",
              "        }\n",
              "      </script>\n",
              "    </div>\n",
              "  </div>\n",
              "  "
            ]
          },
          "metadata": {},
          "execution_count": 6
        }
      ],
      "source": [
        "# Calculating the Euclidean distance of each point to the new instance \n",
        "df_pred = df.copy()\n",
        "df_pred['x1-new_x1'] = np.square(df_pred['x1'] - new_x1)\n",
        "df_pred['x2-new_x2'] = np.square(df_pred['x2'] - new_x2)\n",
        "df_pred['Sum'] = df_pred['x1-new_x1'] + df_pred['x2-new_x2']\n",
        "df_pred['Distance'] = np.sqrt(df_pred['Sum'])\n",
        "df_pred"
      ]
    },
    {
      "cell_type": "code",
      "execution_count": 7,
      "id": "6312fbd0-338d-45a5-8e98-4f4588489cc7",
      "metadata": {
        "id": "6312fbd0-338d-45a5-8e98-4f4588489cc7"
      },
      "outputs": [],
      "source": [
        "# Number of neighbors\n",
        "k = 3 "
      ]
    },
    {
      "cell_type": "code",
      "execution_count": 8,
      "id": "bccfd9b9-26d5-4c81-899e-41f6518f1e41",
      "metadata": {
        "id": "bccfd9b9-26d5-4c81-899e-41f6518f1e41"
      },
      "outputs": [],
      "source": [
        "# Sorting the dataset by distance which are closest points to the new instance\n",
        "df_pred = df_pred.sort_values(by=['Distance'], ascending=True)\n",
        "df_pred = df_pred.reset_index()"
      ]
    },
    {
      "cell_type": "code",
      "execution_count": 9,
      "id": "8cea1597-71f3-4a39-87f8-00ffbcbe64e9",
      "metadata": {
        "id": "8cea1597-71f3-4a39-87f8-00ffbcbe64e9"
      },
      "outputs": [],
      "source": [
        "# Adding new column indicator of a point if neighbor to the new instance with default NO value\n",
        "df_pred['Neighbor'] = 'NO'"
      ]
    },
    {
      "cell_type": "code",
      "execution_count": 10,
      "id": "760b83f8-263b-4cc2-bd38-b8958b56c9f9",
      "metadata": {
        "id": "760b83f8-263b-4cc2-bd38-b8958b56c9f9",
        "outputId": "162b8011-e00c-454f-809d-d44cf251bb56",
        "colab": {
          "base_uri": "https://localhost:8080/",
          "height": 363
        }
      },
      "outputs": [
        {
          "output_type": "execute_result",
          "data": {
            "text/plain": [
              "   index        x1        x2  y  x1-new_x1  x2-new_x2        Sum  Distance  \\\n",
              "0      8  7.792783  3.424089  1   0.090495   0.003406   0.093901  0.306432   \n",
              "1      7  9.172169  2.511101  1   1.163294   0.730393   1.893688  1.376113   \n",
              "2      5  7.423437  4.696523  1   0.449128   1.771006   2.220134  1.490011   \n",
              "3      6  5.745052  3.533990  1   5.515712   0.028311   5.544023  2.354575   \n",
              "4      9  7.939821  0.791637  1   0.023650   6.625961   6.649612  2.578684   \n",
              "5      3  3.582294  4.679179  0  20.351947   1.725145  22.077092  4.698627   \n",
              "6      0  3.393533  2.331273  0  22.090697   1.070104  23.160800  4.812567   \n",
              "7      1  3.110073  1.781540  0  24.835609   2.509664  27.345273  5.229271   \n",
              "8      4  2.280362  2.866990  0  33.793816   0.248743  34.042559  5.834600   \n",
              "9      2  1.343809  3.368361  0  45.559780   0.000007  45.559787  6.749799   \n",
              "\n",
              "  Neighbor  \n",
              "0      YES  \n",
              "1      YES  \n",
              "2      YES  \n",
              "3       NO  \n",
              "4       NO  \n",
              "5       NO  \n",
              "6       NO  \n",
              "7       NO  \n",
              "8       NO  \n",
              "9       NO  "
            ],
            "text/html": [
              "\n",
              "  <div id=\"df-aaa088a9-8712-4dcf-aa8d-99a183706a30\">\n",
              "    <div class=\"colab-df-container\">\n",
              "      <div>\n",
              "<style scoped>\n",
              "    .dataframe tbody tr th:only-of-type {\n",
              "        vertical-align: middle;\n",
              "    }\n",
              "\n",
              "    .dataframe tbody tr th {\n",
              "        vertical-align: top;\n",
              "    }\n",
              "\n",
              "    .dataframe thead th {\n",
              "        text-align: right;\n",
              "    }\n",
              "</style>\n",
              "<table border=\"1\" class=\"dataframe\">\n",
              "  <thead>\n",
              "    <tr style=\"text-align: right;\">\n",
              "      <th></th>\n",
              "      <th>index</th>\n",
              "      <th>x1</th>\n",
              "      <th>x2</th>\n",
              "      <th>y</th>\n",
              "      <th>x1-new_x1</th>\n",
              "      <th>x2-new_x2</th>\n",
              "      <th>Sum</th>\n",
              "      <th>Distance</th>\n",
              "      <th>Neighbor</th>\n",
              "    </tr>\n",
              "  </thead>\n",
              "  <tbody>\n",
              "    <tr>\n",
              "      <th>0</th>\n",
              "      <td>8</td>\n",
              "      <td>7.792783</td>\n",
              "      <td>3.424089</td>\n",
              "      <td>1</td>\n",
              "      <td>0.090495</td>\n",
              "      <td>0.003406</td>\n",
              "      <td>0.093901</td>\n",
              "      <td>0.306432</td>\n",
              "      <td>YES</td>\n",
              "    </tr>\n",
              "    <tr>\n",
              "      <th>1</th>\n",
              "      <td>7</td>\n",
              "      <td>9.172169</td>\n",
              "      <td>2.511101</td>\n",
              "      <td>1</td>\n",
              "      <td>1.163294</td>\n",
              "      <td>0.730393</td>\n",
              "      <td>1.893688</td>\n",
              "      <td>1.376113</td>\n",
              "      <td>YES</td>\n",
              "    </tr>\n",
              "    <tr>\n",
              "      <th>2</th>\n",
              "      <td>5</td>\n",
              "      <td>7.423437</td>\n",
              "      <td>4.696523</td>\n",
              "      <td>1</td>\n",
              "      <td>0.449128</td>\n",
              "      <td>1.771006</td>\n",
              "      <td>2.220134</td>\n",
              "      <td>1.490011</td>\n",
              "      <td>YES</td>\n",
              "    </tr>\n",
              "    <tr>\n",
              "      <th>3</th>\n",
              "      <td>6</td>\n",
              "      <td>5.745052</td>\n",
              "      <td>3.533990</td>\n",
              "      <td>1</td>\n",
              "      <td>5.515712</td>\n",
              "      <td>0.028311</td>\n",
              "      <td>5.544023</td>\n",
              "      <td>2.354575</td>\n",
              "      <td>NO</td>\n",
              "    </tr>\n",
              "    <tr>\n",
              "      <th>4</th>\n",
              "      <td>9</td>\n",
              "      <td>7.939821</td>\n",
              "      <td>0.791637</td>\n",
              "      <td>1</td>\n",
              "      <td>0.023650</td>\n",
              "      <td>6.625961</td>\n",
              "      <td>6.649612</td>\n",
              "      <td>2.578684</td>\n",
              "      <td>NO</td>\n",
              "    </tr>\n",
              "    <tr>\n",
              "      <th>5</th>\n",
              "      <td>3</td>\n",
              "      <td>3.582294</td>\n",
              "      <td>4.679179</td>\n",
              "      <td>0</td>\n",
              "      <td>20.351947</td>\n",
              "      <td>1.725145</td>\n",
              "      <td>22.077092</td>\n",
              "      <td>4.698627</td>\n",
              "      <td>NO</td>\n",
              "    </tr>\n",
              "    <tr>\n",
              "      <th>6</th>\n",
              "      <td>0</td>\n",
              "      <td>3.393533</td>\n",
              "      <td>2.331273</td>\n",
              "      <td>0</td>\n",
              "      <td>22.090697</td>\n",
              "      <td>1.070104</td>\n",
              "      <td>23.160800</td>\n",
              "      <td>4.812567</td>\n",
              "      <td>NO</td>\n",
              "    </tr>\n",
              "    <tr>\n",
              "      <th>7</th>\n",
              "      <td>1</td>\n",
              "      <td>3.110073</td>\n",
              "      <td>1.781540</td>\n",
              "      <td>0</td>\n",
              "      <td>24.835609</td>\n",
              "      <td>2.509664</td>\n",
              "      <td>27.345273</td>\n",
              "      <td>5.229271</td>\n",
              "      <td>NO</td>\n",
              "    </tr>\n",
              "    <tr>\n",
              "      <th>8</th>\n",
              "      <td>4</td>\n",
              "      <td>2.280362</td>\n",
              "      <td>2.866990</td>\n",
              "      <td>0</td>\n",
              "      <td>33.793816</td>\n",
              "      <td>0.248743</td>\n",
              "      <td>34.042559</td>\n",
              "      <td>5.834600</td>\n",
              "      <td>NO</td>\n",
              "    </tr>\n",
              "    <tr>\n",
              "      <th>9</th>\n",
              "      <td>2</td>\n",
              "      <td>1.343809</td>\n",
              "      <td>3.368361</td>\n",
              "      <td>0</td>\n",
              "      <td>45.559780</td>\n",
              "      <td>0.000007</td>\n",
              "      <td>45.559787</td>\n",
              "      <td>6.749799</td>\n",
              "      <td>NO</td>\n",
              "    </tr>\n",
              "  </tbody>\n",
              "</table>\n",
              "</div>\n",
              "      <button class=\"colab-df-convert\" onclick=\"convertToInteractive('df-aaa088a9-8712-4dcf-aa8d-99a183706a30')\"\n",
              "              title=\"Convert this dataframe to an interactive table.\"\n",
              "              style=\"display:none;\">\n",
              "        \n",
              "  <svg xmlns=\"http://www.w3.org/2000/svg\" height=\"24px\"viewBox=\"0 0 24 24\"\n",
              "       width=\"24px\">\n",
              "    <path d=\"M0 0h24v24H0V0z\" fill=\"none\"/>\n",
              "    <path d=\"M18.56 5.44l.94 2.06.94-2.06 2.06-.94-2.06-.94-.94-2.06-.94 2.06-2.06.94zm-11 1L8.5 8.5l.94-2.06 2.06-.94-2.06-.94L8.5 2.5l-.94 2.06-2.06.94zm10 10l.94 2.06.94-2.06 2.06-.94-2.06-.94-.94-2.06-.94 2.06-2.06.94z\"/><path d=\"M17.41 7.96l-1.37-1.37c-.4-.4-.92-.59-1.43-.59-.52 0-1.04.2-1.43.59L10.3 9.45l-7.72 7.72c-.78.78-.78 2.05 0 2.83L4 21.41c.39.39.9.59 1.41.59.51 0 1.02-.2 1.41-.59l7.78-7.78 2.81-2.81c.8-.78.8-2.07 0-2.86zM5.41 20L4 18.59l7.72-7.72 1.47 1.35L5.41 20z\"/>\n",
              "  </svg>\n",
              "      </button>\n",
              "      \n",
              "  <style>\n",
              "    .colab-df-container {\n",
              "      display:flex;\n",
              "      flex-wrap:wrap;\n",
              "      gap: 12px;\n",
              "    }\n",
              "\n",
              "    .colab-df-convert {\n",
              "      background-color: #E8F0FE;\n",
              "      border: none;\n",
              "      border-radius: 50%;\n",
              "      cursor: pointer;\n",
              "      display: none;\n",
              "      fill: #1967D2;\n",
              "      height: 32px;\n",
              "      padding: 0 0 0 0;\n",
              "      width: 32px;\n",
              "    }\n",
              "\n",
              "    .colab-df-convert:hover {\n",
              "      background-color: #E2EBFA;\n",
              "      box-shadow: 0px 1px 2px rgba(60, 64, 67, 0.3), 0px 1px 3px 1px rgba(60, 64, 67, 0.15);\n",
              "      fill: #174EA6;\n",
              "    }\n",
              "\n",
              "    [theme=dark] .colab-df-convert {\n",
              "      background-color: #3B4455;\n",
              "      fill: #D2E3FC;\n",
              "    }\n",
              "\n",
              "    [theme=dark] .colab-df-convert:hover {\n",
              "      background-color: #434B5C;\n",
              "      box-shadow: 0px 1px 3px 1px rgba(0, 0, 0, 0.15);\n",
              "      filter: drop-shadow(0px 1px 2px rgba(0, 0, 0, 0.3));\n",
              "      fill: #FFFFFF;\n",
              "    }\n",
              "  </style>\n",
              "\n",
              "      <script>\n",
              "        const buttonEl =\n",
              "          document.querySelector('#df-aaa088a9-8712-4dcf-aa8d-99a183706a30 button.colab-df-convert');\n",
              "        buttonEl.style.display =\n",
              "          google.colab.kernel.accessAllowed ? 'block' : 'none';\n",
              "\n",
              "        async function convertToInteractive(key) {\n",
              "          const element = document.querySelector('#df-aaa088a9-8712-4dcf-aa8d-99a183706a30');\n",
              "          const dataTable =\n",
              "            await google.colab.kernel.invokeFunction('convertToInteractive',\n",
              "                                                     [key], {});\n",
              "          if (!dataTable) return;\n",
              "\n",
              "          const docLinkHtml = 'Like what you see? Visit the ' +\n",
              "            '<a target=\"_blank\" href=https://colab.research.google.com/notebooks/data_table.ipynb>data table notebook</a>'\n",
              "            + ' to learn more about interactive tables.';\n",
              "          element.innerHTML = '';\n",
              "          dataTable['output_type'] = 'display_data';\n",
              "          await google.colab.output.renderOutput(dataTable, element);\n",
              "          const docLink = document.createElement('div');\n",
              "          docLink.innerHTML = docLinkHtml;\n",
              "          element.appendChild(docLink);\n",
              "        }\n",
              "      </script>\n",
              "    </div>\n",
              "  </div>\n",
              "  "
            ]
          },
          "metadata": {},
          "execution_count": 10
        }
      ],
      "source": [
        "# Marking k neighbor to the new instances\n",
        "for i in range(k):\n",
        "    df_pred.loc[i, 'Neighbor'] = 'YES'\n",
        "\n",
        "df_pred"
      ]
    },
    {
      "cell_type": "code",
      "execution_count": 11,
      "id": "45265ecd-61c0-49e7-978d-524c0a7427cf",
      "metadata": {
        "id": "45265ecd-61c0-49e7-978d-524c0a7427cf",
        "outputId": "f1551909-a3af-461b-caff-551bd7183b25",
        "colab": {
          "base_uri": "https://localhost:8080/"
        }
      },
      "outputs": [
        {
          "output_type": "execute_result",
          "data": {
            "text/plain": [
              "0    1\n",
              "1    1\n",
              "2    1\n",
              "Name: y, dtype: int64"
            ]
          },
          "metadata": {},
          "execution_count": 11
        }
      ],
      "source": [
        "# Filtering out neighbors to the new instance\n",
        "df_pred['y'][df_pred['Neighbor'] == 'YES']"
      ]
    },
    {
      "cell_type": "code",
      "execution_count": 12,
      "id": "07c8c7c3-fc4d-4e5f-b1e2-bc2ce623209c",
      "metadata": {
        "id": "07c8c7c3-fc4d-4e5f-b1e2-bc2ce623209c",
        "outputId": "2622b1f4-678e-4e44-9cf1-95fc1e1278ac",
        "colab": {
          "base_uri": "https://localhost:8080/"
        }
      },
      "outputs": [
        {
          "output_type": "execute_result",
          "data": {
            "text/plain": [
              "1"
            ]
          },
          "metadata": {},
          "execution_count": 12
        }
      ],
      "source": [
        "# Getting mode of label of the neighbors to decide the class of the new instance \n",
        "import statistics\n",
        "statistics.mode(df_pred['y'][df_pred['Neighbor'] == 'YES'])"
      ]
    },
    {
      "cell_type": "markdown",
      "source": [
        "🔎 It estimated the new instance as 1. It can be also noticed that the point on the plot is closer to the 1s than 0s."
      ],
      "metadata": {
        "id": "u2q5SnUJKm1s"
      },
      "id": "u2q5SnUJKm1s"
    },
    {
      "cell_type": "markdown",
      "source": [
        "## KNeighborsClassifier\n",
        "\n",
        "We'll us the [`KNeighborsClassifier`](https://scikit-learn.org/stable/modules/generated/sklearn.neighbors.KNeighborsClassifier.html) function from `sklearn` library."
      ],
      "metadata": {
        "id": "MzLGkpJPo2H8"
      },
      "id": "MzLGkpJPo2H8"
    },
    {
      "cell_type": "code",
      "source": [
        "from sklearn.neighbors import KNeighborsClassifier"
      ],
      "metadata": {
        "id": "p6xAABRQo1Rj"
      },
      "id": "p6xAABRQo1Rj",
      "execution_count": 13,
      "outputs": []
    },
    {
      "cell_type": "code",
      "source": [
        "model = KNeighborsClassifier(n_neighbors=3, metric='euclidean')\n",
        "x = df.drop('y', axis=1)\n",
        "y = df['y']\n",
        "model.fit(x, y)\n",
        "x_test = [[new_x1, new_x2]]\n",
        "y_hat = model.predict(x_test)\n",
        "y_hat"
      ],
      "metadata": {
        "id": "LGN9zwpFpLW1",
        "outputId": "57dd8c6f-1e0a-488c-b8fa-529e4b00308b",
        "colab": {
          "base_uri": "https://localhost:8080/"
        }
      },
      "id": "LGN9zwpFpLW1",
      "execution_count": 14,
      "outputs": [
        {
          "output_type": "stream",
          "name": "stderr",
          "text": [
            "/usr/local/lib/python3.9/dist-packages/sklearn/base.py:439: UserWarning: X does not have valid feature names, but KNeighborsClassifier was fitted with feature names\n",
            "  warnings.warn(\n"
          ]
        },
        {
          "output_type": "execute_result",
          "data": {
            "text/plain": [
              "array([1])"
            ]
          },
          "metadata": {},
          "execution_count": 14
        }
      ]
    },
    {
      "cell_type": "markdown",
      "source": [
        "## Iris Dataset<a id='iris'></a>\n",
        "\n",
        "We'll classify the flowers in Iris dataset using `KNeighborsClassifier` from `sklearn` library."
      ],
      "metadata": {
        "id": "n_wT3j0fsBeb"
      },
      "id": "n_wT3j0fsBeb"
    },
    {
      "cell_type": "code",
      "source": [
        "# Load the dataset\n",
        "url = \"https://archive.ics.uci.edu/ml/machine-learning-databases/iris/iris.data\"\n",
        "names = ['sepal-length', 'sepal-width', 'petal-length', 'petal-width', 'Class']\n",
        "dataset = pd.read_csv(url, names=names)\n",
        "dataset.head()"
      ],
      "metadata": {
        "id": "Op5vmWZjpLVB",
        "outputId": "2412841a-3d8f-4b38-cf49-c24e1e69c4d5",
        "colab": {
          "base_uri": "https://localhost:8080/",
          "height": 206
        }
      },
      "id": "Op5vmWZjpLVB",
      "execution_count": 15,
      "outputs": [
        {
          "output_type": "execute_result",
          "data": {
            "text/plain": [
              "   sepal-length  sepal-width  petal-length  petal-width        Class\n",
              "0           5.1          3.5           1.4          0.2  Iris-setosa\n",
              "1           4.9          3.0           1.4          0.2  Iris-setosa\n",
              "2           4.7          3.2           1.3          0.2  Iris-setosa\n",
              "3           4.6          3.1           1.5          0.2  Iris-setosa\n",
              "4           5.0          3.6           1.4          0.2  Iris-setosa"
            ],
            "text/html": [
              "\n",
              "  <div id=\"df-b96740d7-3151-49c9-af83-1e66137905bb\">\n",
              "    <div class=\"colab-df-container\">\n",
              "      <div>\n",
              "<style scoped>\n",
              "    .dataframe tbody tr th:only-of-type {\n",
              "        vertical-align: middle;\n",
              "    }\n",
              "\n",
              "    .dataframe tbody tr th {\n",
              "        vertical-align: top;\n",
              "    }\n",
              "\n",
              "    .dataframe thead th {\n",
              "        text-align: right;\n",
              "    }\n",
              "</style>\n",
              "<table border=\"1\" class=\"dataframe\">\n",
              "  <thead>\n",
              "    <tr style=\"text-align: right;\">\n",
              "      <th></th>\n",
              "      <th>sepal-length</th>\n",
              "      <th>sepal-width</th>\n",
              "      <th>petal-length</th>\n",
              "      <th>petal-width</th>\n",
              "      <th>Class</th>\n",
              "    </tr>\n",
              "  </thead>\n",
              "  <tbody>\n",
              "    <tr>\n",
              "      <th>0</th>\n",
              "      <td>5.1</td>\n",
              "      <td>3.5</td>\n",
              "      <td>1.4</td>\n",
              "      <td>0.2</td>\n",
              "      <td>Iris-setosa</td>\n",
              "    </tr>\n",
              "    <tr>\n",
              "      <th>1</th>\n",
              "      <td>4.9</td>\n",
              "      <td>3.0</td>\n",
              "      <td>1.4</td>\n",
              "      <td>0.2</td>\n",
              "      <td>Iris-setosa</td>\n",
              "    </tr>\n",
              "    <tr>\n",
              "      <th>2</th>\n",
              "      <td>4.7</td>\n",
              "      <td>3.2</td>\n",
              "      <td>1.3</td>\n",
              "      <td>0.2</td>\n",
              "      <td>Iris-setosa</td>\n",
              "    </tr>\n",
              "    <tr>\n",
              "      <th>3</th>\n",
              "      <td>4.6</td>\n",
              "      <td>3.1</td>\n",
              "      <td>1.5</td>\n",
              "      <td>0.2</td>\n",
              "      <td>Iris-setosa</td>\n",
              "    </tr>\n",
              "    <tr>\n",
              "      <th>4</th>\n",
              "      <td>5.0</td>\n",
              "      <td>3.6</td>\n",
              "      <td>1.4</td>\n",
              "      <td>0.2</td>\n",
              "      <td>Iris-setosa</td>\n",
              "    </tr>\n",
              "  </tbody>\n",
              "</table>\n",
              "</div>\n",
              "      <button class=\"colab-df-convert\" onclick=\"convertToInteractive('df-b96740d7-3151-49c9-af83-1e66137905bb')\"\n",
              "              title=\"Convert this dataframe to an interactive table.\"\n",
              "              style=\"display:none;\">\n",
              "        \n",
              "  <svg xmlns=\"http://www.w3.org/2000/svg\" height=\"24px\"viewBox=\"0 0 24 24\"\n",
              "       width=\"24px\">\n",
              "    <path d=\"M0 0h24v24H0V0z\" fill=\"none\"/>\n",
              "    <path d=\"M18.56 5.44l.94 2.06.94-2.06 2.06-.94-2.06-.94-.94-2.06-.94 2.06-2.06.94zm-11 1L8.5 8.5l.94-2.06 2.06-.94-2.06-.94L8.5 2.5l-.94 2.06-2.06.94zm10 10l.94 2.06.94-2.06 2.06-.94-2.06-.94-.94-2.06-.94 2.06-2.06.94z\"/><path d=\"M17.41 7.96l-1.37-1.37c-.4-.4-.92-.59-1.43-.59-.52 0-1.04.2-1.43.59L10.3 9.45l-7.72 7.72c-.78.78-.78 2.05 0 2.83L4 21.41c.39.39.9.59 1.41.59.51 0 1.02-.2 1.41-.59l7.78-7.78 2.81-2.81c.8-.78.8-2.07 0-2.86zM5.41 20L4 18.59l7.72-7.72 1.47 1.35L5.41 20z\"/>\n",
              "  </svg>\n",
              "      </button>\n",
              "      \n",
              "  <style>\n",
              "    .colab-df-container {\n",
              "      display:flex;\n",
              "      flex-wrap:wrap;\n",
              "      gap: 12px;\n",
              "    }\n",
              "\n",
              "    .colab-df-convert {\n",
              "      background-color: #E8F0FE;\n",
              "      border: none;\n",
              "      border-radius: 50%;\n",
              "      cursor: pointer;\n",
              "      display: none;\n",
              "      fill: #1967D2;\n",
              "      height: 32px;\n",
              "      padding: 0 0 0 0;\n",
              "      width: 32px;\n",
              "    }\n",
              "\n",
              "    .colab-df-convert:hover {\n",
              "      background-color: #E2EBFA;\n",
              "      box-shadow: 0px 1px 2px rgba(60, 64, 67, 0.3), 0px 1px 3px 1px rgba(60, 64, 67, 0.15);\n",
              "      fill: #174EA6;\n",
              "    }\n",
              "\n",
              "    [theme=dark] .colab-df-convert {\n",
              "      background-color: #3B4455;\n",
              "      fill: #D2E3FC;\n",
              "    }\n",
              "\n",
              "    [theme=dark] .colab-df-convert:hover {\n",
              "      background-color: #434B5C;\n",
              "      box-shadow: 0px 1px 3px 1px rgba(0, 0, 0, 0.15);\n",
              "      filter: drop-shadow(0px 1px 2px rgba(0, 0, 0, 0.3));\n",
              "      fill: #FFFFFF;\n",
              "    }\n",
              "  </style>\n",
              "\n",
              "      <script>\n",
              "        const buttonEl =\n",
              "          document.querySelector('#df-b96740d7-3151-49c9-af83-1e66137905bb button.colab-df-convert');\n",
              "        buttonEl.style.display =\n",
              "          google.colab.kernel.accessAllowed ? 'block' : 'none';\n",
              "\n",
              "        async function convertToInteractive(key) {\n",
              "          const element = document.querySelector('#df-b96740d7-3151-49c9-af83-1e66137905bb');\n",
              "          const dataTable =\n",
              "            await google.colab.kernel.invokeFunction('convertToInteractive',\n",
              "                                                     [key], {});\n",
              "          if (!dataTable) return;\n",
              "\n",
              "          const docLinkHtml = 'Like what you see? Visit the ' +\n",
              "            '<a target=\"_blank\" href=https://colab.research.google.com/notebooks/data_table.ipynb>data table notebook</a>'\n",
              "            + ' to learn more about interactive tables.';\n",
              "          element.innerHTML = '';\n",
              "          dataTable['output_type'] = 'display_data';\n",
              "          await google.colab.output.renderOutput(dataTable, element);\n",
              "          const docLink = document.createElement('div');\n",
              "          docLink.innerHTML = docLinkHtml;\n",
              "          element.appendChild(docLink);\n",
              "        }\n",
              "      </script>\n",
              "    </div>\n",
              "  </div>\n",
              "  "
            ]
          },
          "metadata": {},
          "execution_count": 15
        }
      ]
    },
    {
      "cell_type": "markdown",
      "source": [
        "### Preparing Data\n",
        "\n",
        "- Rescale Data: KNN performs much better if all of the data has the same scale. \n",
        "- Address Missing Data: Missing data will mean that the distance between samples cannot be calculated. \n",
        "- Lower Dimensionality: KNN is suited for lower dimensional data. KNN can benefit from feature selection that reduces the dimensionality of the input feature space."
      ],
      "metadata": {
        "id": "XkPzBL1DvfAd"
      },
      "id": "XkPzBL1DvfAd"
    },
    {
      "cell_type": "code",
      "source": [
        "dataset.describe().loc[['min', 'max']]"
      ],
      "metadata": {
        "id": "Yd0vfRZFNnaf",
        "outputId": "03e049c4-d8ac-4a9a-deef-1d5ccf1ba48f",
        "colab": {
          "base_uri": "https://localhost:8080/",
          "height": 112
        }
      },
      "id": "Yd0vfRZFNnaf",
      "execution_count": 16,
      "outputs": [
        {
          "output_type": "execute_result",
          "data": {
            "text/plain": [
              "     sepal-length  sepal-width  petal-length  petal-width\n",
              "min           4.3          2.0           1.0          0.1\n",
              "max           7.9          4.4           6.9          2.5"
            ],
            "text/html": [
              "\n",
              "  <div id=\"df-3f34c6a1-803d-46a0-bacc-167b3a522091\">\n",
              "    <div class=\"colab-df-container\">\n",
              "      <div>\n",
              "<style scoped>\n",
              "    .dataframe tbody tr th:only-of-type {\n",
              "        vertical-align: middle;\n",
              "    }\n",
              "\n",
              "    .dataframe tbody tr th {\n",
              "        vertical-align: top;\n",
              "    }\n",
              "\n",
              "    .dataframe thead th {\n",
              "        text-align: right;\n",
              "    }\n",
              "</style>\n",
              "<table border=\"1\" class=\"dataframe\">\n",
              "  <thead>\n",
              "    <tr style=\"text-align: right;\">\n",
              "      <th></th>\n",
              "      <th>sepal-length</th>\n",
              "      <th>sepal-width</th>\n",
              "      <th>petal-length</th>\n",
              "      <th>petal-width</th>\n",
              "    </tr>\n",
              "  </thead>\n",
              "  <tbody>\n",
              "    <tr>\n",
              "      <th>min</th>\n",
              "      <td>4.3</td>\n",
              "      <td>2.0</td>\n",
              "      <td>1.0</td>\n",
              "      <td>0.1</td>\n",
              "    </tr>\n",
              "    <tr>\n",
              "      <th>max</th>\n",
              "      <td>7.9</td>\n",
              "      <td>4.4</td>\n",
              "      <td>6.9</td>\n",
              "      <td>2.5</td>\n",
              "    </tr>\n",
              "  </tbody>\n",
              "</table>\n",
              "</div>\n",
              "      <button class=\"colab-df-convert\" onclick=\"convertToInteractive('df-3f34c6a1-803d-46a0-bacc-167b3a522091')\"\n",
              "              title=\"Convert this dataframe to an interactive table.\"\n",
              "              style=\"display:none;\">\n",
              "        \n",
              "  <svg xmlns=\"http://www.w3.org/2000/svg\" height=\"24px\"viewBox=\"0 0 24 24\"\n",
              "       width=\"24px\">\n",
              "    <path d=\"M0 0h24v24H0V0z\" fill=\"none\"/>\n",
              "    <path d=\"M18.56 5.44l.94 2.06.94-2.06 2.06-.94-2.06-.94-.94-2.06-.94 2.06-2.06.94zm-11 1L8.5 8.5l.94-2.06 2.06-.94-2.06-.94L8.5 2.5l-.94 2.06-2.06.94zm10 10l.94 2.06.94-2.06 2.06-.94-2.06-.94-.94-2.06-.94 2.06-2.06.94z\"/><path d=\"M17.41 7.96l-1.37-1.37c-.4-.4-.92-.59-1.43-.59-.52 0-1.04.2-1.43.59L10.3 9.45l-7.72 7.72c-.78.78-.78 2.05 0 2.83L4 21.41c.39.39.9.59 1.41.59.51 0 1.02-.2 1.41-.59l7.78-7.78 2.81-2.81c.8-.78.8-2.07 0-2.86zM5.41 20L4 18.59l7.72-7.72 1.47 1.35L5.41 20z\"/>\n",
              "  </svg>\n",
              "      </button>\n",
              "      \n",
              "  <style>\n",
              "    .colab-df-container {\n",
              "      display:flex;\n",
              "      flex-wrap:wrap;\n",
              "      gap: 12px;\n",
              "    }\n",
              "\n",
              "    .colab-df-convert {\n",
              "      background-color: #E8F0FE;\n",
              "      border: none;\n",
              "      border-radius: 50%;\n",
              "      cursor: pointer;\n",
              "      display: none;\n",
              "      fill: #1967D2;\n",
              "      height: 32px;\n",
              "      padding: 0 0 0 0;\n",
              "      width: 32px;\n",
              "    }\n",
              "\n",
              "    .colab-df-convert:hover {\n",
              "      background-color: #E2EBFA;\n",
              "      box-shadow: 0px 1px 2px rgba(60, 64, 67, 0.3), 0px 1px 3px 1px rgba(60, 64, 67, 0.15);\n",
              "      fill: #174EA6;\n",
              "    }\n",
              "\n",
              "    [theme=dark] .colab-df-convert {\n",
              "      background-color: #3B4455;\n",
              "      fill: #D2E3FC;\n",
              "    }\n",
              "\n",
              "    [theme=dark] .colab-df-convert:hover {\n",
              "      background-color: #434B5C;\n",
              "      box-shadow: 0px 1px 3px 1px rgba(0, 0, 0, 0.15);\n",
              "      filter: drop-shadow(0px 1px 2px rgba(0, 0, 0, 0.3));\n",
              "      fill: #FFFFFF;\n",
              "    }\n",
              "  </style>\n",
              "\n",
              "      <script>\n",
              "        const buttonEl =\n",
              "          document.querySelector('#df-3f34c6a1-803d-46a0-bacc-167b3a522091 button.colab-df-convert');\n",
              "        buttonEl.style.display =\n",
              "          google.colab.kernel.accessAllowed ? 'block' : 'none';\n",
              "\n",
              "        async function convertToInteractive(key) {\n",
              "          const element = document.querySelector('#df-3f34c6a1-803d-46a0-bacc-167b3a522091');\n",
              "          const dataTable =\n",
              "            await google.colab.kernel.invokeFunction('convertToInteractive',\n",
              "                                                     [key], {});\n",
              "          if (!dataTable) return;\n",
              "\n",
              "          const docLinkHtml = 'Like what you see? Visit the ' +\n",
              "            '<a target=\"_blank\" href=https://colab.research.google.com/notebooks/data_table.ipynb>data table notebook</a>'\n",
              "            + ' to learn more about interactive tables.';\n",
              "          element.innerHTML = '';\n",
              "          dataTable['output_type'] = 'display_data';\n",
              "          await google.colab.output.renderOutput(dataTable, element);\n",
              "          const docLink = document.createElement('div');\n",
              "          docLink.innerHTML = docLinkHtml;\n",
              "          element.appendChild(docLink);\n",
              "        }\n",
              "      </script>\n",
              "    </div>\n",
              "  </div>\n",
              "  "
            ]
          },
          "metadata": {},
          "execution_count": 16
        }
      ]
    },
    {
      "cell_type": "code",
      "source": [
        "# Checking the relation between the label and the numerical features\n",
        "fig, axes = plt.subplots(1, 2, figsize=(10, 5))\n",
        "sb.scatterplot(ax=axes[0], data=dataset, x='sepal-length', y='sepal-width', hue='Class', style='Class', s=100)\n",
        "sb.scatterplot(ax=axes[1], data=dataset, x='petal-length', y='petal-width', hue='Class', style='Class', s=100)\n",
        "plt.tight_layout()\n",
        "plt.show()"
      ],
      "metadata": {
        "id": "MsvhE6bIpLSf",
        "outputId": "f718c45d-7e8f-411f-af10-a4a9164281e0",
        "colab": {
          "base_uri": "https://localhost:8080/",
          "height": 506
        }
      },
      "id": "MsvhE6bIpLSf",
      "execution_count": 17,
      "outputs": [
        {
          "output_type": "display_data",
          "data": {
            "text/plain": [
              "<Figure size 1000x500 with 2 Axes>"
            ],
            "image/png": "[encoded data removed]"
          },
          "metadata": {}
        }
      ]
    },
    {
      "cell_type": "code",
      "source": [
        "# Replace the string labels with numeric values\n",
        "dataset.replace({'Class': {'Iris-setosa': 0, 'Iris-versicolor': 1, 'Iris-virginica': 2}}, inplace=True)"
      ],
      "metadata": {
        "id": "XrRk6nYMDV73"
      },
      "id": "XrRk6nYMDV73",
      "execution_count": 18,
      "outputs": []
    },
    {
      "cell_type": "code",
      "source": [
        "from sklearn.model_selection import train_test_split"
      ],
      "metadata": {
        "id": "EJe8igQdpLP9"
      },
      "id": "EJe8igQdpLP9",
      "execution_count": 19,
      "outputs": []
    },
    {
      "cell_type": "code",
      "source": [
        "x = dataset.drop('Class', axis=1)\n",
        "y = dataset['Class']\n",
        "# Split the data as train and test\n",
        "x_train, x_test, y_train, y_test = train_test_split(x, y, test_size=0.2, random_state=101)"
      ],
      "metadata": {
        "id": "R8Z7w0eCpLCn"
      },
      "id": "R8Z7w0eCpLCn",
      "execution_count": 20,
      "outputs": []
    },
    {
      "cell_type": "code",
      "source": [
        "# Train the data for 3 neighbors with Euclidean distance\n",
        "model = KNeighborsClassifier(n_neighbors=3, metric='euclidean')\n",
        "model.fit(x_train, y_train)"
      ],
      "metadata": {
        "id": "5jEynadND0MO",
        "outputId": "ac27fc99-ccd8-4922-9085-0391a60334e4",
        "colab": {
          "base_uri": "https://localhost:8080/",
          "height": 75
        }
      },
      "id": "5jEynadND0MO",
      "execution_count": 21,
      "outputs": [
        {
          "output_type": "execute_result",
          "data": {
            "text/plain": [
              "KNeighborsClassifier(metric='euclidean', n_neighbors=3)"
            ],
            "text/html": [
              "<style>#sk-container-id-1 {color: black;background-color: white;}#sk-container-id-1 pre{padding: 0;}#sk-container-id-1 div.sk-toggleable {background-color: white;}#sk-container-id-1 label.sk-toggleable__label {cursor: pointer;display: block;width: 100%;margin-bottom: 0;padding: 0.3em;box-sizing: border-box;text-align: center;}#sk-container-id-1 label.sk-toggleable__label-arrow:before {content: \"▸\";float: left;margin-right: 0.25em;color: #696969;}#sk-container-id-1 label.sk-toggleable__label-arrow:hover:before {color: black;}#sk-container-id-1 div.sk-estimator:hover label.sk-toggleable__label-arrow:before {color: black;}#sk-container-id-1 div.sk-toggleable__content {max-height: 0;max-width: 0;overflow: hidden;text-align: left;background-color: #f0f8ff;}#sk-container-id-1 div.sk-toggleable__content pre {margin: 0.2em;color: black;border-radius: 0.25em;background-color: #f0f8ff;}#sk-container-id-1 input.sk-toggleable__control:checked~div.sk-toggleable__content {max-height: 200px;max-width: 100%;overflow: auto;}#sk-container-id-1 input.sk-toggleable__control:checked~label.sk-toggleable__label-arrow:before {content: \"▾\";}#sk-container-id-1 div.sk-estimator input.sk-toggleable__control:checked~label.sk-toggleable__label {background-color: #d4ebff;}#sk-container-id-1 div.sk-label input.sk-toggleable__control:checked~label.sk-toggleable__label {background-color: #d4ebff;}#sk-container-id-1 input.sk-hidden--visually {border: 0;clip: rect(1px 1px 1px 1px);clip: rect(1px, 1px, 1px, 1px);height: 1px;margin: -1px;overflow: hidden;padding: 0;position: absolute;width: 1px;}#sk-container-id-1 div.sk-estimator {font-family: monospace;background-color: #f0f8ff;border: 1px dotted black;border-radius: 0.25em;box-sizing: border-box;margin-bottom: 0.5em;}#sk-container-id-1 div.sk-estimator:hover {background-color: #d4ebff;}#sk-container-id-1 div.sk-parallel-item::after {content: \"\";width: 100%;border-bottom: 1px solid gray;flex-grow: 1;}#sk-container-id-1 div.sk-label:hover label.sk-toggleable__label {background-color: #d4ebff;}#sk-container-id-1 div.sk-serial::before {content: \"\";position: absolute;border-left: 1px solid gray;box-sizing: border-box;top: 0;bottom: 0;left: 50%;z-index: 0;}#sk-container-id-1 div.sk-serial {display: flex;flex-direction: column;align-items: center;background-color: white;padding-right: 0.2em;padding-left: 0.2em;position: relative;}#sk-container-id-1 div.sk-item {position: relative;z-index: 1;}#sk-container-id-1 div.sk-parallel {display: flex;align-items: stretch;justify-content: center;background-color: white;position: relative;}#sk-container-id-1 div.sk-item::before, #sk-container-id-1 div.sk-parallel-item::before {content: \"\";position: absolute;border-left: 1px solid gray;box-sizing: border-box;top: 0;bottom: 0;left: 50%;z-index: -1;}#sk-container-id-1 div.sk-parallel-item {display: flex;flex-direction: column;z-index: 1;position: relative;background-color: white;}#sk-container-id-1 div.sk-parallel-item:first-child::after {align-self: flex-end;width: 50%;}#sk-container-id-1 div.sk-parallel-item:last-child::after {align-self: flex-start;width: 50%;}#sk-container-id-1 div.sk-parallel-item:only-child::after {width: 0;}#sk-container-id-1 div.sk-dashed-wrapped {border: 1px dashed gray;margin: 0 0.4em 0.5em 0.4em;box-sizing: border-box;padding-bottom: 0.4em;background-color: white;}#sk-container-id-1 div.sk-label label {font-family: monospace;font-weight: bold;display: inline-block;line-height: 1.2em;}#sk-container-id-1 div.sk-label-container {text-align: center;}#sk-container-id-1 div.sk-container {/* jupyter's `normalize.less` sets `[hidden] { display: none; }` but bootstrap.min.css set `[hidden] { display: none !important; }` so we also need the `!important` here to be able to override the default hidden behavior on the sphinx rendered scikit-learn.org. See: https://github.com/scikit-learn/scikit-learn/issues/21755 */display: inline-block !important;position: relative;}#sk-container-id-1 div.sk-text-repr-fallback {display: none;}</style><div id=\"sk-container-id-1\" class=\"sk-top-container\"><div class=\"sk-text-repr-fallback\"><pre>KNeighborsClassifier(metric=&#x27;euclidean&#x27;, n_neighbors=3)</pre><b>In a Jupyter environment, please rerun this cell to show the HTML representation or trust the notebook. <br />On GitHub, the HTML representation is unable to render, please try loading this page with nbviewer.org.</b></div><div class=\"sk-container\" hidden><div class=\"sk-item\"><div class=\"sk-estimator sk-toggleable\"><input class=\"sk-toggleable__control sk-hidden--visually\" id=\"sk-estimator-id-1\" type=\"checkbox\" checked><label for=\"sk-estimator-id-1\" class=\"sk-toggleable__label sk-toggleable__label-arrow\">KNeighborsClassifier</label><div class=\"sk-toggleable__content\"><pre>KNeighborsClassifier(metric=&#x27;euclidean&#x27;, n_neighbors=3)</pre></div></div></div></div></div>"
            ]
          },
          "metadata": {},
          "execution_count": 21
        }
      ]
    },
    {
      "cell_type": "code",
      "source": [
        "from sklearn.metrics import accuracy_score\n",
        "from sklearn.metrics import classification_report\n",
        "from sklearn.metrics import confusion_matrix"
      ],
      "metadata": {
        "id": "UQPDSdv3EEFc"
      },
      "id": "UQPDSdv3EEFc",
      "execution_count": 22,
      "outputs": []
    },
    {
      "cell_type": "code",
      "source": [
        "y_hat = model.predict(x_test)\n",
        "acc = accuracy_score(y_test, y_hat) * 100\n",
        "print('Accuracy: {:.2f}%'.format(acc))"
      ],
      "metadata": {
        "id": "gaiDGKLmEECC",
        "outputId": "cbcbb033-2725-42fd-b78f-f0e10df04030",
        "colab": {
          "base_uri": "https://localhost:8080/"
        }
      },
      "id": "gaiDGKLmEECC",
      "execution_count": 23,
      "outputs": [
        {
          "output_type": "stream",
          "name": "stdout",
          "text": [
            "Accuracy: 100.00%\n"
          ]
        }
      ]
    },
    {
      "cell_type": "markdown",
      "source": [
        "🔎 *k*NN provided perfect accuracy score which is 100% for the Iris dataset."
      ],
      "metadata": {
        "id": "kgomgNIsHRf1"
      },
      "id": "kgomgNIsHRf1"
    },
    {
      "cell_type": "code",
      "source": [
        "print(classification_report(y_test, y_hat))"
      ],
      "metadata": {
        "id": "DZ8vzNu4ED_d",
        "outputId": "67ecf948-cfd5-4541-fe3d-aa3124d6da26",
        "colab": {
          "base_uri": "https://localhost:8080/"
        }
      },
      "id": "DZ8vzNu4ED_d",
      "execution_count": 24,
      "outputs": [
        {
          "output_type": "stream",
          "name": "stdout",
          "text": [
            "              precision    recall  f1-score   support\n",
            "\n",
            "           0       1.00      1.00      1.00        10\n",
            "           1       1.00      1.00      1.00        12\n",
            "           2       1.00      1.00      1.00         8\n",
            "\n",
            "    accuracy                           1.00        30\n",
            "   macro avg       1.00      1.00      1.00        30\n",
            "weighted avg       1.00      1.00      1.00        30\n",
            "\n"
          ]
        }
      ]
    },
    {
      "cell_type": "code",
      "source": [
        "# Display the confusion matrix\n",
        "cm = confusion_matrix(y_test, y_hat)\n",
        "labels = ['Iris-setosa', 'Iris-versicolor', 'Iris-virginica']\n",
        "pred_labels = [l for l in labels]\n",
        "cm_df = pd.DataFrame(cm, index=labels, columns=pred_labels)\n",
        "\n",
        "sb.set(font_scale=1.5)\n",
        "plt.figure(figsize=(12,8))\n",
        "sb.heatmap(cm_df, annot=True, fmt='d')\n",
        "plt.xlabel('Predictions', fontsize=12)\n",
        "plt.ylabel('Actual Values', fontsize=12)\n",
        "plt.show()"
      ],
      "metadata": {
        "id": "NTIk8WwFED7Q",
        "outputId": "2dc55c04-6797-4ba2-ff79-3ff980e69ca6",
        "colab": {
          "base_uri": "https://localhost:8080/",
          "height": 721
        }
      },
      "id": "NTIk8WwFED7Q",
      "execution_count": 25,
      "outputs": [
        {
          "output_type": "display_data",
          "data": {
            "text/plain": [
              "<Figure size 1200x800 with 2 Axes>"
            ],
            "image/png": "[encoded data removed]"
          },
          "metadata": {}
        }
      ]
    },
    {
      "cell_type": "markdown",
      "source": [
        "## Conclusion<a id='conclusion'></a>\n",
        "\n",
        "*k*NN works well with a small number of input variables (*p*), but struggles when the number of inputs is very large. Each input variable can be considered a dimension of a p-dimensional input space [1].\n"
      ],
      "metadata": {
        "id": "YT5MMTyYn9nv"
      },
      "id": "YT5MMTyYn9nv"
    },
    {
      "cell_type": "markdown",
      "source": [
        "## References\n",
        "\n",
        "[1] [Master Machine Learning Algorithms](https://machinelearningmastery.com/master-machine-learning-algorithms/)\n",
        "\n",
        "[2] [Practical Statistics for Data Scientists](https://www.oreilly.com/library/view/practical-statistics-for/9781491952955/)"
      ],
      "metadata": {
        "id": "nSKtSrO7NMtk"
      },
      "id": "nSKtSrO7NMtk"
    },
    {
      "cell_type": "code",
      "execution_count": 25,
      "id": "c594a798-41b1-41c8-a697-61944242834e",
      "metadata": {
        "id": "c594a798-41b1-41c8-a697-61944242834e"
      },
      "outputs": [],
      "source": []
    }
  ],
  "metadata": {
    "kernelspec": {
      "display_name": "Python 3 (ipykernel)",
      "language": "python",
      "name": "python3"
    },
    "language_info": {
      "codemirror_mode": {
        "name": "ipython",
        "version": 3
      },
      "file_extension": ".py",
      "mimetype": "text/x-python",
      "name": "python",
      "nbconvert_exporter": "python",
      "pygments_lexer": "ipython3",
      "version": "3.10.6"
    },
    "colab": {
      "provenance": [],
      "toc_visible": true
    }
  },
  "nbformat": 4,
  "nbformat_minor": 5
}