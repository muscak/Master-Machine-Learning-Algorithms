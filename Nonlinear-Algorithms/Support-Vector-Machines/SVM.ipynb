{
  "nbformat": 4,
  "nbformat_minor": 0,
  "metadata": {
    "colab": {
      "provenance": [],
      "authorship_tag": "ABX9TyOX593GS6R2vR5YJ75lW00c",
      "include_colab_link": true
    },
    "kernelspec": {
      "name": "python3",
      "display_name": "Python 3"
    },
    "language_info": {
      "name": "python"
    }
  },
  "cells": [
    {
      "cell_type": "markdown",
      "metadata": {
        "id": "view-in-github",
        "colab_type": "text"
      },
      "source": [
        "<a href=\"https://colab.research.google.com/github/muscak/Master-Machine-Learning-Algorithms/blob/master/Nonlinear-Algorithms/Support-Vector-Machines/SVM.ipynb\" target=\"_parent\"><img src=\"https://colab.research.google.com/assets/colab-badge.svg\" alt=\"Open In Colab\"/></a>"
      ]
    },
    {
      "cell_type": "markdown",
      "source": [
        "# Support Vector Machines (SVM)\n",
        "\n",
        "In machine learning, support vector machines (SVMs, also support vector networks) are supervised learning models with associated learning algorithms that analyze data for classification and regression analysis [1]."
      ],
      "metadata": {
        "id": "WGSNjIFecLuu"
      }
    },
    {
      "cell_type": "markdown",
      "source": [
        "## Table of Contents"
      ],
      "metadata": {
        "id": "cVFJUo43gkCa"
      }
    },
    {
      "cell_type": "markdown",
      "source": [
        "## Introduction<a id='intro'></a>\n",
        "\n",
        "Basic SVM as described in this chapter is intended for binary classification problems. Although, extensions have been developed for regression and multiclass classification."
      ],
      "metadata": {
        "id": "P4NDVSY-geyv"
      }
    },
    {
      "cell_type": "markdown",
      "source": [
        "## Import Libraries<a id='libraries'></a>"
      ],
      "metadata": {
        "id": "MwAaT87fgXcd"
      }
    },
    {
      "cell_type": "code",
      "execution_count": 1,
      "metadata": {
        "id": "MYJoN98ecKTA"
      },
      "outputs": [],
      "source": [
        "import pandas as pd\n",
        "import numpy as np\n",
        "import seaborn as sb\n",
        "sb.set_style('whitegrid')\n",
        "import matplotlib.pyplot as plt\n",
        "from sklearn.datasets import make_classification"
      ]
    },
    {
      "cell_type": "markdown",
      "source": [
        "## Create Sample Data<a id='sample'></a>\n",
        "\n",
        "The dataset contains two input variables ($x_1$ and $x_2$) and the class output variable with the values -1 and 1. The dataset contains 10 records, 5 that belong to each class."
      ],
      "metadata": {
        "id": "E-yM8YNLgsSU"
      }
    },
    {
      "cell_type": "code",
      "source": [
        "x1 = [2.327868056, 3.032830419, 4.485465382, 3.684815246, 2.283558563, \n",
        "      7.807521179, 6.132998136, 7.514829366, 5.502385039, 7.432932365]\n",
        "x2 = [2.458016525, 3.170770366, 3.696728111, 3.846846973, 1.853215997, \n",
        "      3.290132136, 2.140563087, 2.107056961, 1.404002608, 4.236232628]\n",
        "y = [-1, -1, -1, -1, -1, 1, 1, 1, 1, 1]\n",
        "\n",
        "df = pd.DataFrame(zip(x1, x2, y), columns=['x1', 'x2', 'y'])\n",
        "df"
      ],
      "metadata": {
        "colab": {
          "base_uri": "https://localhost:8080/",
          "height": 363
        },
        "id": "CIw2L160cdDG",
        "outputId": "86fd4e51-abe8-4f6d-ae17-121160d6b77f"
      },
      "execution_count": 2,
      "outputs": [
        {
          "output_type": "execute_result",
          "data": {
            "text/plain": [
              "         x1        x2  y\n",
              "0  2.327868  2.458017 -1\n",
              "1  3.032830  3.170770 -1\n",
              "2  4.485465  3.696728 -1\n",
              "3  3.684815  3.846847 -1\n",
              "4  2.283559  1.853216 -1\n",
              "5  7.807521  3.290132  1\n",
              "6  6.132998  2.140563  1\n",
              "7  7.514829  2.107057  1\n",
              "8  5.502385  1.404003  1\n",
              "9  7.432932  4.236233  1"
            ],
            "text/html": [
              "\n",
              "  <div id=\"df-cfdf7168-a82d-4a47-9c0a-3b8c1a1c0fe1\">\n",
              "    <div class=\"colab-df-container\">\n",
              "      <div>\n",
              "<style scoped>\n",
              "    .dataframe tbody tr th:only-of-type {\n",
              "        vertical-align: middle;\n",
              "    }\n",
              "\n",
              "    .dataframe tbody tr th {\n",
              "        vertical-align: top;\n",
              "    }\n",
              "\n",
              "    .dataframe thead th {\n",
              "        text-align: right;\n",
              "    }\n",
              "</style>\n",
              "<table border=\"1\" class=\"dataframe\">\n",
              "  <thead>\n",
              "    <tr style=\"text-align: right;\">\n",
              "      <th></th>\n",
              "      <th>x1</th>\n",
              "      <th>x2</th>\n",
              "      <th>y</th>\n",
              "    </tr>\n",
              "  </thead>\n",
              "  <tbody>\n",
              "    <tr>\n",
              "      <th>0</th>\n",
              "      <td>2.327868</td>\n",
              "      <td>2.458017</td>\n",
              "      <td>-1</td>\n",
              "    </tr>\n",
              "    <tr>\n",
              "      <th>1</th>\n",
              "      <td>3.032830</td>\n",
              "      <td>3.170770</td>\n",
              "      <td>-1</td>\n",
              "    </tr>\n",
              "    <tr>\n",
              "      <th>2</th>\n",
              "      <td>4.485465</td>\n",
              "      <td>3.696728</td>\n",
              "      <td>-1</td>\n",
              "    </tr>\n",
              "    <tr>\n",
              "      <th>3</th>\n",
              "      <td>3.684815</td>\n",
              "      <td>3.846847</td>\n",
              "      <td>-1</td>\n",
              "    </tr>\n",
              "    <tr>\n",
              "      <th>4</th>\n",
              "      <td>2.283559</td>\n",
              "      <td>1.853216</td>\n",
              "      <td>-1</td>\n",
              "    </tr>\n",
              "    <tr>\n",
              "      <th>5</th>\n",
              "      <td>7.807521</td>\n",
              "      <td>3.290132</td>\n",
              "      <td>1</td>\n",
              "    </tr>\n",
              "    <tr>\n",
              "      <th>6</th>\n",
              "      <td>6.132998</td>\n",
              "      <td>2.140563</td>\n",
              "      <td>1</td>\n",
              "    </tr>\n",
              "    <tr>\n",
              "      <th>7</th>\n",
              "      <td>7.514829</td>\n",
              "      <td>2.107057</td>\n",
              "      <td>1</td>\n",
              "    </tr>\n",
              "    <tr>\n",
              "      <th>8</th>\n",
              "      <td>5.502385</td>\n",
              "      <td>1.404003</td>\n",
              "      <td>1</td>\n",
              "    </tr>\n",
              "    <tr>\n",
              "      <th>9</th>\n",
              "      <td>7.432932</td>\n",
              "      <td>4.236233</td>\n",
              "      <td>1</td>\n",
              "    </tr>\n",
              "  </tbody>\n",
              "</table>\n",
              "</div>\n",
              "      <button class=\"colab-df-convert\" onclick=\"convertToInteractive('df-cfdf7168-a82d-4a47-9c0a-3b8c1a1c0fe1')\"\n",
              "              title=\"Convert this dataframe to an interactive table.\"\n",
              "              style=\"display:none;\">\n",
              "        \n",
              "  <svg xmlns=\"http://www.w3.org/2000/svg\" height=\"24px\"viewBox=\"0 0 24 24\"\n",
              "       width=\"24px\">\n",
              "    <path d=\"M0 0h24v24H0V0z\" fill=\"none\"/>\n",
              "    <path d=\"M18.56 5.44l.94 2.06.94-2.06 2.06-.94-2.06-.94-.94-2.06-.94 2.06-2.06.94zm-11 1L8.5 8.5l.94-2.06 2.06-.94-2.06-.94L8.5 2.5l-.94 2.06-2.06.94zm10 10l.94 2.06.94-2.06 2.06-.94-2.06-.94-.94-2.06-.94 2.06-2.06.94z\"/><path d=\"M17.41 7.96l-1.37-1.37c-.4-.4-.92-.59-1.43-.59-.52 0-1.04.2-1.43.59L10.3 9.45l-7.72 7.72c-.78.78-.78 2.05 0 2.83L4 21.41c.39.39.9.59 1.41.59.51 0 1.02-.2 1.41-.59l7.78-7.78 2.81-2.81c.8-.78.8-2.07 0-2.86zM5.41 20L4 18.59l7.72-7.72 1.47 1.35L5.41 20z\"/>\n",
              "  </svg>\n",
              "      </button>\n",
              "      \n",
              "  <style>\n",
              "    .colab-df-container {\n",
              "      display:flex;\n",
              "      flex-wrap:wrap;\n",
              "      gap: 12px;\n",
              "    }\n",
              "\n",
              "    .colab-df-convert {\n",
              "      background-color: #E8F0FE;\n",
              "      border: none;\n",
              "      border-radius: 50%;\n",
              "      cursor: pointer;\n",
              "      display: none;\n",
              "      fill: #1967D2;\n",
              "      height: 32px;\n",
              "      padding: 0 0 0 0;\n",
              "      width: 32px;\n",
              "    }\n",
              "\n",
              "    .colab-df-convert:hover {\n",
              "      background-color: #E2EBFA;\n",
              "      box-shadow: 0px 1px 2px rgba(60, 64, 67, 0.3), 0px 1px 3px 1px rgba(60, 64, 67, 0.15);\n",
              "      fill: #174EA6;\n",
              "    }\n",
              "\n",
              "    [theme=dark] .colab-df-convert {\n",
              "      background-color: #3B4455;\n",
              "      fill: #D2E3FC;\n",
              "    }\n",
              "\n",
              "    [theme=dark] .colab-df-convert:hover {\n",
              "      background-color: #434B5C;\n",
              "      box-shadow: 0px 1px 3px 1px rgba(0, 0, 0, 0.15);\n",
              "      filter: drop-shadow(0px 1px 2px rgba(0, 0, 0, 0.3));\n",
              "      fill: #FFFFFF;\n",
              "    }\n",
              "  </style>\n",
              "\n",
              "      <script>\n",
              "        const buttonEl =\n",
              "          document.querySelector('#df-cfdf7168-a82d-4a47-9c0a-3b8c1a1c0fe1 button.colab-df-convert');\n",
              "        buttonEl.style.display =\n",
              "          google.colab.kernel.accessAllowed ? 'block' : 'none';\n",
              "\n",
              "        async function convertToInteractive(key) {\n",
              "          const element = document.querySelector('#df-cfdf7168-a82d-4a47-9c0a-3b8c1a1c0fe1');\n",
              "          const dataTable =\n",
              "            await google.colab.kernel.invokeFunction('convertToInteractive',\n",
              "                                                     [key], {});\n",
              "          if (!dataTable) return;\n",
              "\n",
              "          const docLinkHtml = 'Like what you see? Visit the ' +\n",
              "            '<a target=\"_blank\" href=https://colab.research.google.com/notebooks/data_table.ipynb>data table notebook</a>'\n",
              "            + ' to learn more about interactive tables.';\n",
              "          element.innerHTML = '';\n",
              "          dataTable['output_type'] = 'display_data';\n",
              "          await google.colab.output.renderOutput(dataTable, element);\n",
              "          const docLink = document.createElement('div');\n",
              "          docLink.innerHTML = docLinkHtml;\n",
              "          element.appendChild(docLink);\n",
              "        }\n",
              "      </script>\n",
              "    </div>\n",
              "  </div>\n",
              "  "
            ]
          },
          "metadata": {},
          "execution_count": 2
        }
      ]
    },
    {
      "cell_type": "code",
      "source": [
        "sb.scatterplot(data=df, x='x1', y='x2', hue='y', style='y', s=150)\n",
        "plt.show()"
      ],
      "metadata": {
        "colab": {
          "base_uri": "https://localhost:8080/",
          "height": 449
        },
        "id": "_Od_hHnhe0F9",
        "outputId": "787f3e3c-1ddd-491d-a02d-6edc54e68053"
      },
      "execution_count": 3,
      "outputs": [
        {
          "output_type": "display_data",
          "data": {
            "text/plain": [
              "<Figure size 640x480 with 1 Axes>"
            ],
            "image/png": "[encoded data removed]"
          },
          "metadata": {}
        }
      ]
    },
    {
      "cell_type": "markdown",
      "source": [
        "## Manual Implementation<a id='manual'></a>\n",
        "\n",
        "$$(b_1 × x_1) + (b_2 × x_2) = 0$$ \n",
        "We'll assume bias term ($b_0$) also called the intercept as 0.\n",
        "\n",
        "### Optimization Method\n",
        "\n",
        "$$output = y × ((b_1 × x_1) + (b_2 × x_2) + ... + (b_i × x_i))$$\n",
        "\n",
        "If the output value is greater than 1 it suggests that the training pattern was not a support vector and in this case the weights ($b_i$) are slightly decreased:\n",
        "$$b_{ij+1} = (1 - \\frac{1}{t}) × b_{ij}$$\n",
        "\n",
        "Else, it is assumed that the training instance is a support vector and must be updated to better explain the data.\n",
        "$$b_{ij+1} = (1 - \\frac{1}{t}) × b_{ij} + \\frac{1}{λ × t} × (y_j × x_{ij})$$"
      ],
      "metadata": {
        "id": "Q24O-S1Me23t"
      }
    },
    {
      "cell_type": "code",
      "source": [
        "def train(df, epoch):\n",
        "  # Set the initial weights\n",
        "  b1 = 0\n",
        "  b2 = 0\n",
        "\n",
        "  lr = 0.45 \n",
        "\n",
        "  df_train = pd.DataFrame(columns=['x1', 'x2', 'y', 'b1', 'b2', 'output', \n",
        "                                  'prediction', 'sharp', 'error'])\n",
        "  accuracy = []\n",
        "\n",
        "  for i in range(0, epoch):\n",
        "    df_temp = df.copy()\n",
        "    df_train = pd.concat([df_train, df_temp], ignore_index=True)\n",
        "\n",
        "  df_train.loc[0, 'b1'] = b1\n",
        "  df_train.loc[0, 'b2'] = b2\n",
        "\n",
        "  for j in range(0, len(df_train)):\n",
        "    df_train.loc[j, 'output'] = df_train.loc[j, 'y'] * ((df_train.loc[j, 'b1'] * df_train.loc[j, 'x1']) + (df_train.loc[j, 'b2'] * df_train.loc[j, 'x2']))\n",
        "    if(j+1 < len(df_train)):\n",
        "      if(df_train.loc[j, 'output'] < 1):\n",
        "        df_train.loc[j+1, 'b1'] = (1 - 1/(j+1)) * df_train.loc[j, 'b1'] + (1/(lr*(j+1))) * df_train.loc[j, 'y'] * df_train.loc[j, 'x1']\n",
        "        df_train.loc[j+1, 'b2'] = (1 - 1/(j+1)) * df_train.loc[j, 'b2'] + (1/(lr*(j+1))) * df_train.loc[j, 'y'] * df_train.loc[j, 'x2']\n",
        "      else:\n",
        "        df_train.loc[j+1, 'b1'] = (1 - 1/(j+1)) * df_train.loc[j, 'b1']\n",
        "        df_train.loc[j+1, 'b2'] = (1 - 1/(j+1)) * df_train.loc[j, 'b2']\n",
        "\n",
        "  df_train['prediction'] = (df_train['b1'] * df_train['x1']) + (df_train['b2'] * df_train['x2'])\n",
        "  df_train.loc[df_train['prediction'] < 0, 'sharp'] = -1\n",
        "  df_train.loc[df_train['prediction'] >= 0, 'sharp'] = 1\n",
        "\n",
        "  df_train.loc[df_train['sharp'] == df_train['y'], 'error'] = 0\n",
        "  df_train.loc[df_train['sharp'] != df_train['y'], 'error'] = 1\n",
        "\n",
        "  l = 0\n",
        "  for k in range(0, epoch):\n",
        "    df_temp = df_train.loc[l:l+len(df)-1,].copy()\n",
        "    acc = (1 - (df_temp['error'].sum() / len(df))) * 100\n",
        "    accuracy.append(acc)\n",
        "    l += len(df) - 1\n",
        "\n",
        "  x_ticks = np.arange(start=1, stop=epoch, step=1)\n",
        "  y_ticks = np.arange(start=0, stop=110, step=10)\n",
        "\n",
        "  plt.plot(accuracy, linewidth=3)\n",
        "  plt.xticks(x_ticks)\n",
        "  plt.yticks(y_ticks)\n",
        "  plt.xlabel('Epochs', fontsize=12)\n",
        "  plt.ylabel('Accuracy', fontsize=12)\n",
        "  plt.show()\n",
        "\n",
        "  return df_train"
      ],
      "metadata": {
        "id": "qYXNmvgRfFWo"
      },
      "execution_count": 43,
      "outputs": []
    },
    {
      "cell_type": "code",
      "source": [
        "df_train = train(df, 16)"
      ],
      "metadata": {
        "id": "ITdy5Q1FJpaW",
        "outputId": "dae6f430-d181-4765-ad22-c5a4051ac559",
        "colab": {
          "base_uri": "https://localhost:8080/",
          "height": 453
        }
      },
      "execution_count": 55,
      "outputs": [
        {
          "output_type": "display_data",
          "data": {
            "text/plain": [
              "<Figure size 640x480 with 1 Axes>"
            ],
            "image/png": "[encoded data removed]"
          },
          "metadata": {}
        }
      ]
    },
    {
      "cell_type": "markdown",
      "source": [
        "## Prediction"
      ],
      "metadata": {
        "id": "PqMtQKlwGGDO"
      }
    },
    {
      "cell_type": "code",
      "source": [
        "def predict(df, b1, b2):\n",
        "  df_prediction = df.copy()\n",
        "\n",
        "  df_prediction['output'] = b1*df_prediction['x1'] + b2*df_prediction['x2']\n",
        "  df_prediction.loc[df_prediction['output'] < 0, 'sharp'] = -1\n",
        "  df_prediction.loc[df_prediction['output'] >= 0, 'sharp'] = 1\n",
        "\n",
        "  df_prediction.loc[df_prediction['sharp'] == df_prediction['y'], 'error'] = 0\n",
        "  df_prediction.loc[df_prediction['sharp'] != df_prediction['y'], 'error'] = 1\n",
        "\n",
        "  acc = (1 - (df_prediction['error'].sum() / len(df))) * 100\n",
        "\n",
        "  print('Accuracy: {:.0f}%'.format(acc))"
      ],
      "metadata": {
        "id": "HCKpsAIA7qyW"
      },
      "execution_count": 60,
      "outputs": []
    },
    {
      "cell_type": "code",
      "source": [
        "b1 = df_train['b1'].iloc[-1]\n",
        "b2 = df_train['b2'].iloc[-1]\n",
        "\n",
        "print('b1:',b1)\n",
        "print('b2:',b2)\n",
        "predict(df, b1, b2)"
      ],
      "metadata": {
        "id": "cHZNSUDHPwGY",
        "outputId": "51aacc85-8615-431c-8bb1-373954573704",
        "colab": {
          "base_uri": "https://localhost:8080/"
        }
      },
      "execution_count": 61,
      "outputs": [
        {
          "output_type": "stream",
          "name": "stdout",
          "text": [
            "Accuracy: 50%\n"
          ]
        }
      ]
    },
    {
      "cell_type": "markdown",
      "source": [
        "### Another Sample Data"
      ],
      "metadata": {
        "id": "bK_VUb-VPZ3g"
      }
    },
    {
      "cell_type": "code",
      "source": [
        "x, y = make_classification(\n",
        "    n_samples=100, # 100 observations \n",
        "    n_features=2, # 2 total features\n",
        "    n_informative=2, # 2 'useful' features\n",
        "    n_redundant=0,\n",
        "    n_classes=2, # binary target/label \n",
        "    random_state=101 # if you want the same results as mine\n",
        ")\n",
        "\n",
        "# Turn it into dataframe\n",
        "df_new = pd.DataFrame(zip(x[:,0], x[:,1], y), columns=['x1', 'x2', 'y'])\n",
        "df_new.head()"
      ],
      "metadata": {
        "id": "34b0Es8AHE9P",
        "outputId": "91950b42-82c7-4f64-c886-0c201a4638a5",
        "colab": {
          "base_uri": "https://localhost:8080/",
          "height": 206
        }
      },
      "execution_count": 52,
      "outputs": [
        {
          "output_type": "execute_result",
          "data": {
            "text/plain": [
              "         x1        x2  y\n",
              "0  2.346697  1.998119  1\n",
              "1  2.407103  2.203878  1\n",
              "2 -0.077088 -1.432589  0\n",
              "3  2.739183  1.153256  1\n",
              "4 -0.755062  0.614306  1"
            ],
            "text/html": [
              "\n",
              "  <div id=\"df-0f10afad-35e1-41ae-aad7-c0fd8b43e321\">\n",
              "    <div class=\"colab-df-container\">\n",
              "      <div>\n",
              "<style scoped>\n",
              "    .dataframe tbody tr th:only-of-type {\n",
              "        vertical-align: middle;\n",
              "    }\n",
              "\n",
              "    .dataframe tbody tr th {\n",
              "        vertical-align: top;\n",
              "    }\n",
              "\n",
              "    .dataframe thead th {\n",
              "        text-align: right;\n",
              "    }\n",
              "</style>\n",
              "<table border=\"1\" class=\"dataframe\">\n",
              "  <thead>\n",
              "    <tr style=\"text-align: right;\">\n",
              "      <th></th>\n",
              "      <th>x1</th>\n",
              "      <th>x2</th>\n",
              "      <th>y</th>\n",
              "    </tr>\n",
              "  </thead>\n",
              "  <tbody>\n",
              "    <tr>\n",
              "      <th>0</th>\n",
              "      <td>2.346697</td>\n",
              "      <td>1.998119</td>\n",
              "      <td>1</td>\n",
              "    </tr>\n",
              "    <tr>\n",
              "      <th>1</th>\n",
              "      <td>2.407103</td>\n",
              "      <td>2.203878</td>\n",
              "      <td>1</td>\n",
              "    </tr>\n",
              "    <tr>\n",
              "      <th>2</th>\n",
              "      <td>-0.077088</td>\n",
              "      <td>-1.432589</td>\n",
              "      <td>0</td>\n",
              "    </tr>\n",
              "    <tr>\n",
              "      <th>3</th>\n",
              "      <td>2.739183</td>\n",
              "      <td>1.153256</td>\n",
              "      <td>1</td>\n",
              "    </tr>\n",
              "    <tr>\n",
              "      <th>4</th>\n",
              "      <td>-0.755062</td>\n",
              "      <td>0.614306</td>\n",
              "      <td>1</td>\n",
              "    </tr>\n",
              "  </tbody>\n",
              "</table>\n",
              "</div>\n",
              "      <button class=\"colab-df-convert\" onclick=\"convertToInteractive('df-0f10afad-35e1-41ae-aad7-c0fd8b43e321')\"\n",
              "              title=\"Convert this dataframe to an interactive table.\"\n",
              "              style=\"display:none;\">\n",
              "        \n",
              "  <svg xmlns=\"http://www.w3.org/2000/svg\" height=\"24px\"viewBox=\"0 0 24 24\"\n",
              "       width=\"24px\">\n",
              "    <path d=\"M0 0h24v24H0V0z\" fill=\"none\"/>\n",
              "    <path d=\"M18.56 5.44l.94 2.06.94-2.06 2.06-.94-2.06-.94-.94-2.06-.94 2.06-2.06.94zm-11 1L8.5 8.5l.94-2.06 2.06-.94-2.06-.94L8.5 2.5l-.94 2.06-2.06.94zm10 10l.94 2.06.94-2.06 2.06-.94-2.06-.94-.94-2.06-.94 2.06-2.06.94z\"/><path d=\"M17.41 7.96l-1.37-1.37c-.4-.4-.92-.59-1.43-.59-.52 0-1.04.2-1.43.59L10.3 9.45l-7.72 7.72c-.78.78-.78 2.05 0 2.83L4 21.41c.39.39.9.59 1.41.59.51 0 1.02-.2 1.41-.59l7.78-7.78 2.81-2.81c.8-.78.8-2.07 0-2.86zM5.41 20L4 18.59l7.72-7.72 1.47 1.35L5.41 20z\"/>\n",
              "  </svg>\n",
              "      </button>\n",
              "      \n",
              "  <style>\n",
              "    .colab-df-container {\n",
              "      display:flex;\n",
              "      flex-wrap:wrap;\n",
              "      gap: 12px;\n",
              "    }\n",
              "\n",
              "    .colab-df-convert {\n",
              "      background-color: #E8F0FE;\n",
              "      border: none;\n",
              "      border-radius: 50%;\n",
              "      cursor: pointer;\n",
              "      display: none;\n",
              "      fill: #1967D2;\n",
              "      height: 32px;\n",
              "      padding: 0 0 0 0;\n",
              "      width: 32px;\n",
              "    }\n",
              "\n",
              "    .colab-df-convert:hover {\n",
              "      background-color: #E2EBFA;\n",
              "      box-shadow: 0px 1px 2px rgba(60, 64, 67, 0.3), 0px 1px 3px 1px rgba(60, 64, 67, 0.15);\n",
              "      fill: #174EA6;\n",
              "    }\n",
              "\n",
              "    [theme=dark] .colab-df-convert {\n",
              "      background-color: #3B4455;\n",
              "      fill: #D2E3FC;\n",
              "    }\n",
              "\n",
              "    [theme=dark] .colab-df-convert:hover {\n",
              "      background-color: #434B5C;\n",
              "      box-shadow: 0px 1px 3px 1px rgba(0, 0, 0, 0.15);\n",
              "      filter: drop-shadow(0px 1px 2px rgba(0, 0, 0, 0.3));\n",
              "      fill: #FFFFFF;\n",
              "    }\n",
              "  </style>\n",
              "\n",
              "      <script>\n",
              "        const buttonEl =\n",
              "          document.querySelector('#df-0f10afad-35e1-41ae-aad7-c0fd8b43e321 button.colab-df-convert');\n",
              "        buttonEl.style.display =\n",
              "          google.colab.kernel.accessAllowed ? 'block' : 'none';\n",
              "\n",
              "        async function convertToInteractive(key) {\n",
              "          const element = document.querySelector('#df-0f10afad-35e1-41ae-aad7-c0fd8b43e321');\n",
              "          const dataTable =\n",
              "            await google.colab.kernel.invokeFunction('convertToInteractive',\n",
              "                                                     [key], {});\n",
              "          if (!dataTable) return;\n",
              "\n",
              "          const docLinkHtml = 'Like what you see? Visit the ' +\n",
              "            '<a target=\"_blank\" href=https://colab.research.google.com/notebooks/data_table.ipynb>data table notebook</a>'\n",
              "            + ' to learn more about interactive tables.';\n",
              "          element.innerHTML = '';\n",
              "          dataTable['output_type'] = 'display_data';\n",
              "          await google.colab.output.renderOutput(dataTable, element);\n",
              "          const docLink = document.createElement('div');\n",
              "          docLink.innerHTML = docLinkHtml;\n",
              "          element.appendChild(docLink);\n",
              "        }\n",
              "      </script>\n",
              "    </div>\n",
              "  </div>\n",
              "  "
            ]
          },
          "metadata": {},
          "execution_count": 52
        }
      ]
    },
    {
      "cell_type": "code",
      "source": [
        "sb.scatterplot(data=df_new, x='x1', y='x2', hue='y', style='y')\n",
        "plt.show()"
      ],
      "metadata": {
        "id": "9Jkp7KpPHE62",
        "outputId": "880a44ad-745a-4a72-d2b3-45ad366e00f5",
        "colab": {
          "base_uri": "https://localhost:8080/",
          "height": 449
        }
      },
      "execution_count": 53,
      "outputs": [
        {
          "output_type": "display_data",
          "data": {
            "text/plain": [
              "<Figure size 640x480 with 1 Axes>"
            ],
            "image/png": "[encoded data removed]"
          },
          "metadata": {}
        }
      ]
    },
    {
      "cell_type": "code",
      "source": [
        "df_train = train(df_new, 20)"
      ],
      "metadata": {
        "id": "HmYIdWapHE1r",
        "outputId": "ea55f5d0-fca1-4661-d730-94090962f892",
        "colab": {
          "base_uri": "https://localhost:8080/",
          "height": 459
        }
      },
      "execution_count": 58,
      "outputs": [
        {
          "output_type": "display_data",
          "data": {
            "text/plain": [
              "<Figure size 640x480 with 1 Axes>"
            ],
            "image/png": "[encoded data removed]"
          },
          "metadata": {}
        }
      ]
    },
    {
      "cell_type": "code",
      "source": [
        "b1 = df_train['b1'].iloc[-1]\n",
        "b2 = df_train['b2'].iloc[-1]\n",
        "\n",
        "print('b1:',b1)\n",
        "print('b2:',b2)\n",
        "predict(df_new, b1, b2)"
      ],
      "metadata": {
        "id": "OxpT3Pod4HBT",
        "outputId": "efe73d41-eca1-46b0-d925-61be33a59f47",
        "colab": {
          "base_uri": "https://localhost:8080/"
        }
      },
      "execution_count": 68,
      "outputs": [
        {
          "output_type": "stream",
          "name": "stdout",
          "text": [
            "b1: -0.013396650421329448\n",
            "b2: 0.6185653782176653\n",
            "Accuracy: 48%\n"
          ]
        }
      ]
    },
    {
      "cell_type": "markdown",
      "source": [
        "🔎 **Observation:**"
      ],
      "metadata": {
        "id": "ZemdoUiZP8Mv"
      }
    },
    {
      "cell_type": "markdown",
      "source": [
        "## Using Sklearn Library<a id='sklearn'></a>\n",
        "\n",
        "We'll use the `svc` function of `sklearn` library for the same dataset.\n"
      ],
      "metadata": {
        "id": "X1TcJR_CQLBi"
      }
    },
    {
      "cell_type": "code",
      "source": [
        "from sklearn.svm import SVC\n",
        "from sklearn.metrics import accuracy_score"
      ],
      "metadata": {
        "id": "qBdAR8Hd4G_p"
      },
      "execution_count": 66,
      "outputs": []
    },
    {
      "cell_type": "code",
      "source": [
        "model = SVC(verbose=True, kernel='linear')\n",
        "clf = model.fit(x, y)"
      ],
      "metadata": {
        "id": "ospaUNEY4G9U",
        "outputId": "aee0c7fe-89d9-43fb-f6cd-cfcb5cca4338",
        "colab": {
          "base_uri": "https://localhost:8080/"
        }
      },
      "execution_count": 71,
      "outputs": [
        {
          "output_type": "stream",
          "name": "stdout",
          "text": [
            "[LibSVM]"
          ]
        }
      ]
    },
    {
      "cell_type": "code",
      "source": [
        "print(clf.coef_)\n",
        "y_hat = model.predict(x)\n",
        "accuracy_score(y, y_hat)"
      ],
      "metadata": {
        "id": "PvjwbJhk4G6q",
        "outputId": "aa64e145-d150-46da-a10c-02fb08d5c0c3",
        "colab": {
          "base_uri": "https://localhost:8080/"
        }
      },
      "execution_count": 72,
      "outputs": [
        {
          "output_type": "stream",
          "name": "stdout",
          "text": [
            "[[-0.36456372  1.82946623]]\n"
          ]
        },
        {
          "output_type": "execute_result",
          "data": {
            "text/plain": [
              "0.95"
            ]
          },
          "metadata": {},
          "execution_count": 72
        }
      ]
    },
    {
      "cell_type": "markdown",
      "source": [
        "## Real Data<a id='real'></a>"
      ],
      "metadata": {
        "id": "HpSkOBRQT_az"
      }
    },
    {
      "cell_type": "code",
      "source": [],
      "metadata": {
        "id": "uOtuY2HVUF5c"
      },
      "execution_count": null,
      "outputs": []
    },
    {
      "cell_type": "code",
      "source": [],
      "metadata": {
        "id": "-aklx7GOUF3k"
      },
      "execution_count": null,
      "outputs": []
    },
    {
      "cell_type": "code",
      "source": [],
      "metadata": {
        "id": "_Jn8IwYVUF1R"
      },
      "execution_count": null,
      "outputs": []
    },
    {
      "cell_type": "code",
      "source": [],
      "metadata": {
        "id": "LDcr6yC1UFy5"
      },
      "execution_count": null,
      "outputs": []
    },
    {
      "cell_type": "markdown",
      "source": [
        "## Conclusion<a id='conclusion'></a>"
      ],
      "metadata": {
        "id": "UuIrGjxveJO8"
      }
    },
    {
      "cell_type": "markdown",
      "source": [
        "## References\n",
        "---\n",
        "\n",
        "[1] [Support vector machine](https://en.wikipedia.org/wiki/Support_vector_machine)"
      ],
      "metadata": {
        "id": "luY4l24NczqN"
      }
    },
    {
      "cell_type": "code",
      "source": [],
      "metadata": {
        "id": "tsq7E5h_c7_c"
      },
      "execution_count": null,
      "outputs": []
    }
  ]
}