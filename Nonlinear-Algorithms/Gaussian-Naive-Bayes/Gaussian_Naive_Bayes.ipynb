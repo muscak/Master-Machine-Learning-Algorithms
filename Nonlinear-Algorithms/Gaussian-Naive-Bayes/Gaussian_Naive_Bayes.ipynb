{
  "cells": [
    {
      "cell_type": "markdown",
      "metadata": {
        "id": "6hCLjBxYa8hI"
      },
      "source": [
        "# Gaussian Naive Bayes\n",
        "\n",
        "Naive Bayes is a classification algorithm suitable for binary and multiclass classification. This is the extention of Naive Bayes which allows us working with real-valued attributes by assuming them in Gaussian (Normal) distribution which is the easiest to work with because you only need to estimate the mean and the standard deviation from your training data [1].\n",
        "\n",
        "In Naive Bayes, the probabilities for input values for each class are calculated using frequencies. With real-valued inputs, we can calculate the mean and standard deviation of input values ($x$) for each class to summarize the distribution.\n",
        "\n",
        "There are 2 steps to apply Gaussian Naive Bayes as regular Naive Bayes. Those are:\n",
        "1. Calculating the probabilities for each class\n",
        "2. Calculating the conditional probabilities but this time using the Gaussian Probability Density Function (PDF).\n"
      ]
    },
    {
      "cell_type": "markdown",
      "metadata": {
        "id": "uJ7FfLmR5FWv"
      },
      "source": [
        "## Table of Contents\n",
        "1. [Introduction](#introduction)\n",
        "2. [Import Libraries](#libraries)\n",
        "3. [Gaussian Probability Density Function](#pdf)\n",
        "4. [Load Sample Data](#sampledata)\n",
        "5. [Using Sklearn Library](#sklearn)\n",
        "6. [Real Data](#realdata)"
      ]
    },
    {
      "cell_type": "markdown",
      "metadata": {
        "id": "O-xgb9Jo5FWw"
      },
      "source": [
        "## Introduction<a id='introduction'></a>"
      ]
    },
    {
      "cell_type": "markdown",
      "metadata": {
        "id": "kbu9chyM5FWw"
      },
      "source": [
        "## Import Libraries<a id='libraries'></a>"
      ]
    },
    {
      "cell_type": "code",
      "execution_count": 1,
      "metadata": {
        "colab": {
          "base_uri": "https://localhost:8080/",
          "height": 34
        },
        "id": "3R8_9KhM9Mnr",
        "outputId": "c43eaa1a-ff66-4077-98ca-d3a5d84bafe8"
      },
      "outputs": [
        {
          "output_type": "display_data",
          "data": {
            "text/plain": [
              "<Figure size 432x288 with 0 Axes>"
            ]
          },
          "metadata": {}
        }
      ],
      "source": [
        "import numpy as np\n",
        "import pandas as pd\n",
        "import matplotlib.pyplot as plt\n",
        "import seaborn as sb\n",
        "import math as m\n",
        "sb.set_style('whitegrid')\n",
        "sb.despine(offset=10, trim=True);"
      ]
    },
    {
      "cell_type": "markdown",
      "metadata": {
        "id": "7Zg3V8G5-tnN"
      },
      "source": [
        "## Gaussian Probability Density Function (PDF)<a id='pdf'></a>\n",
        "\n",
        "In statistics, a normal distribution or Gaussian distribution is a type of continuous probability distribution for a real-valued random variable [2]. The general form of its probability density function is\n",
        "\n",
        "$$pdf(x, \\mu, \\sigma) = \\frac{1}{\\sigma \\times \\sqrt{2 \\times \\pi}} \\times e^{-(\\frac{(x-\\mu)^2}{2 \\times \\sigma^2})}$$\n",
        "\n",
        "Where $pdf(x)$ is the Gaussian PDF, $\\mu$ and $\\sigma$ are the mean and standard deviation calculated, $\\pi$ is the numerical constant PI, $e$ is the numerical constant Euler’s number raised to power and $x$ is the input value for the input variable. $\\mu$ and $\\sigma$ can be calculated as follow:\n",
        "\n",
        "$$\\mu = \\frac{1}{n} \\times \\sum_{i=1}^nx_i$$\n",
        "\n",
        "$$\\sigma = \\sqrt{\\frac{1}{n} \\times \\sum_{i=1}^n(x_i - μ)^2}$$"
      ]
    },
    {
      "cell_type": "code",
      "execution_count": 5,
      "metadata": {
        "colab": {
          "base_uri": "https://localhost:8080/"
        },
        "id": "WB3HuKuk-tNv",
        "outputId": "25e4a52e-b0f9-4fab-d881-be8e4e88b492"
      },
      "outputs": [
        {
          "output_type": "execute_result",
          "data": {
            "text/plain": [
              "[1.4867195147342977e-06,\n",
              " 0.00013383022576488537,\n",
              " 0.0044318484119380075,\n",
              " 0.05399096651318806,\n",
              " 0.24197072451914337,\n",
              " 0.3989422804014327,\n",
              " 0.24197072451914337,\n",
              " 0.05399096651318806,\n",
              " 0.0044318484119380075,\n",
              " 0.00013383022576488537,\n",
              " 1.4867195147342977e-06]"
            ]
          },
          "metadata": {},
          "execution_count": 5
        }
      ],
      "source": [
        "# Creating a sample array\n",
        "x = np.arange(-5, 6, 1)\n",
        "\n",
        "# Setting the mean and standard deviation\n",
        "mean = 0\n",
        "std = 1\n",
        "\n",
        "# Manually calculating PDF\n",
        "pdf_x = []\n",
        "\n",
        "for i in x:\n",
        "  a = (1 / (np.sqrt(2*m.pi)*std)) * np.exp(-1 * (np.square(i-mean) / (2*np.square(std))))\n",
        "  pdf_x.append(a)\n",
        "\n",
        "pdf_x"
      ]
    },
    {
      "cell_type": "code",
      "execution_count": null,
      "metadata": {
        "colab": {
          "base_uri": "https://localhost:8080/",
          "height": 283
        },
        "id": "UQ4IBiNv-YCW",
        "outputId": "23135507-a3b8-4fa5-af74-65ad1ed7e8ec"
      },
      "outputs": [
        {
          "data": {
            "text/plain": [
              "<AxesSubplot: ylabel='Density'>"
            ]
          },
          "execution_count": 3,
          "metadata": {},
          "output_type": "execute_result"
        },
        {
          "data": {
            "image/png": "[encoded data removed]",
            "text/plain": [
              "<Figure size 640x480 with 1 Axes>"
            ]
          },
          "metadata": {},
          "output_type": "display_data"
        }
      ],
      "source": [
        "# Displaying the PDF graph for the sample array\n",
        "sb.kdeplot(pdf_x)"
      ]
    },
    {
      "cell_type": "code",
      "execution_count": 6,
      "metadata": {
        "colab": {
          "base_uri": "https://localhost:8080/",
          "height": 282
        },
        "id": "vgf_whUq9hyx",
        "outputId": "b1b2cd02-9c42-40b9-e93a-4f90b96ddbaa"
      },
      "outputs": [
        {
          "output_type": "execute_result",
          "data": {
            "text/plain": [
              "<Axes: ylabel='Density'>"
            ]
          },
          "metadata": {},
          "execution_count": 6
        },
        {
          "output_type": "display_data",
          "data": {
            "text/plain": [
              "<Figure size 432x288 with 1 Axes>"
            ],
            "image/png": "[encoded data removed]"
          },
          "metadata": {}
        }
      ],
      "source": [
        "# Calculating PDF using Scipystats library\n",
        "from scipy.stats import norm\n",
        "sb.kdeplot(norm.pdf(x, mean, std))"
      ]
    },
    {
      "cell_type": "markdown",
      "metadata": {
        "id": "kNhbtlHk63-T"
      },
      "source": [
        "## Load Sample Data <a id='sampledata'></a>\n",
        "\n",
        "The data has 2 real-valued attributes (numeric features) and 1 categorical label. Gaussian Naive Bayes can handle numeric features unlike the Naive Bayes."
      ]
    },
    {
      "cell_type": "code",
      "execution_count": 7,
      "metadata": {
        "colab": {
          "base_uri": "https://localhost:8080/",
          "height": 363
        },
        "id": "OFYlfZ2I9xG6",
        "outputId": "e9fa6650-b8bf-49e8-daf2-0282d2dd77d4"
      },
      "outputs": [
        {
          "output_type": "execute_result",
          "data": {
            "text/plain": [
              "         x1        x2  y\n",
              "0  3.393533  2.331273  0\n",
              "1  3.110073  1.781540  0\n",
              "2  1.343809  3.368361  0\n",
              "3  3.582294  4.679179  0\n",
              "4  2.280362  2.866990  0\n",
              "5  7.423437  4.696523  1\n",
              "6  5.745052  3.533990  1\n",
              "7  9.172169  2.511101  1\n",
              "8  7.792783  3.424089  1\n",
              "9  7.939821  0.791637  1"
            ],
            "text/html": [
              "\n",
              "  <div id=\"df-b95d6467-4eaf-4372-9f2f-74f7f5ff9705\">\n",
              "    <div class=\"colab-df-container\">\n",
              "      <div>\n",
              "<style scoped>\n",
              "    .dataframe tbody tr th:only-of-type {\n",
              "        vertical-align: middle;\n",
              "    }\n",
              "\n",
              "    .dataframe tbody tr th {\n",
              "        vertical-align: top;\n",
              "    }\n",
              "\n",
              "    .dataframe thead th {\n",
              "        text-align: right;\n",
              "    }\n",
              "</style>\n",
              "<table border=\"1\" class=\"dataframe\">\n",
              "  <thead>\n",
              "    <tr style=\"text-align: right;\">\n",
              "      <th></th>\n",
              "      <th>x1</th>\n",
              "      <th>x2</th>\n",
              "      <th>y</th>\n",
              "    </tr>\n",
              "  </thead>\n",
              "  <tbody>\n",
              "    <tr>\n",
              "      <th>0</th>\n",
              "      <td>3.393533</td>\n",
              "      <td>2.331273</td>\n",
              "      <td>0</td>\n",
              "    </tr>\n",
              "    <tr>\n",
              "      <th>1</th>\n",
              "      <td>3.110073</td>\n",
              "      <td>1.781540</td>\n",
              "      <td>0</td>\n",
              "    </tr>\n",
              "    <tr>\n",
              "      <th>2</th>\n",
              "      <td>1.343809</td>\n",
              "      <td>3.368361</td>\n",
              "      <td>0</td>\n",
              "    </tr>\n",
              "    <tr>\n",
              "      <th>3</th>\n",
              "      <td>3.582294</td>\n",
              "      <td>4.679179</td>\n",
              "      <td>0</td>\n",
              "    </tr>\n",
              "    <tr>\n",
              "      <th>4</th>\n",
              "      <td>2.280362</td>\n",
              "      <td>2.866990</td>\n",
              "      <td>0</td>\n",
              "    </tr>\n",
              "    <tr>\n",
              "      <th>5</th>\n",
              "      <td>7.423437</td>\n",
              "      <td>4.696523</td>\n",
              "      <td>1</td>\n",
              "    </tr>\n",
              "    <tr>\n",
              "      <th>6</th>\n",
              "      <td>5.745052</td>\n",
              "      <td>3.533990</td>\n",
              "      <td>1</td>\n",
              "    </tr>\n",
              "    <tr>\n",
              "      <th>7</th>\n",
              "      <td>9.172169</td>\n",
              "      <td>2.511101</td>\n",
              "      <td>1</td>\n",
              "    </tr>\n",
              "    <tr>\n",
              "      <th>8</th>\n",
              "      <td>7.792783</td>\n",
              "      <td>3.424089</td>\n",
              "      <td>1</td>\n",
              "    </tr>\n",
              "    <tr>\n",
              "      <th>9</th>\n",
              "      <td>7.939821</td>\n",
              "      <td>0.791637</td>\n",
              "      <td>1</td>\n",
              "    </tr>\n",
              "  </tbody>\n",
              "</table>\n",
              "</div>\n",
              "      <button class=\"colab-df-convert\" onclick=\"convertToInteractive('df-b95d6467-4eaf-4372-9f2f-74f7f5ff9705')\"\n",
              "              title=\"Convert this dataframe to an interactive table.\"\n",
              "              style=\"display:none;\">\n",
              "        \n",
              "  <svg xmlns=\"http://www.w3.org/2000/svg\" height=\"24px\"viewBox=\"0 0 24 24\"\n",
              "       width=\"24px\">\n",
              "    <path d=\"M0 0h24v24H0V0z\" fill=\"none\"/>\n",
              "    <path d=\"M18.56 5.44l.94 2.06.94-2.06 2.06-.94-2.06-.94-.94-2.06-.94 2.06-2.06.94zm-11 1L8.5 8.5l.94-2.06 2.06-.94-2.06-.94L8.5 2.5l-.94 2.06-2.06.94zm10 10l.94 2.06.94-2.06 2.06-.94-2.06-.94-.94-2.06-.94 2.06-2.06.94z\"/><path d=\"M17.41 7.96l-1.37-1.37c-.4-.4-.92-.59-1.43-.59-.52 0-1.04.2-1.43.59L10.3 9.45l-7.72 7.72c-.78.78-.78 2.05 0 2.83L4 21.41c.39.39.9.59 1.41.59.51 0 1.02-.2 1.41-.59l7.78-7.78 2.81-2.81c.8-.78.8-2.07 0-2.86zM5.41 20L4 18.59l7.72-7.72 1.47 1.35L5.41 20z\"/>\n",
              "  </svg>\n",
              "      </button>\n",
              "      \n",
              "  <style>\n",
              "    .colab-df-container {\n",
              "      display:flex;\n",
              "      flex-wrap:wrap;\n",
              "      gap: 12px;\n",
              "    }\n",
              "\n",
              "    .colab-df-convert {\n",
              "      background-color: #E8F0FE;\n",
              "      border: none;\n",
              "      border-radius: 50%;\n",
              "      cursor: pointer;\n",
              "      display: none;\n",
              "      fill: #1967D2;\n",
              "      height: 32px;\n",
              "      padding: 0 0 0 0;\n",
              "      width: 32px;\n",
              "    }\n",
              "\n",
              "    .colab-df-convert:hover {\n",
              "      background-color: #E2EBFA;\n",
              "      box-shadow: 0px 1px 2px rgba(60, 64, 67, 0.3), 0px 1px 3px 1px rgba(60, 64, 67, 0.15);\n",
              "      fill: #174EA6;\n",
              "    }\n",
              "\n",
              "    [theme=dark] .colab-df-convert {\n",
              "      background-color: #3B4455;\n",
              "      fill: #D2E3FC;\n",
              "    }\n",
              "\n",
              "    [theme=dark] .colab-df-convert:hover {\n",
              "      background-color: #434B5C;\n",
              "      box-shadow: 0px 1px 3px 1px rgba(0, 0, 0, 0.15);\n",
              "      filter: drop-shadow(0px 1px 2px rgba(0, 0, 0, 0.3));\n",
              "      fill: #FFFFFF;\n",
              "    }\n",
              "  </style>\n",
              "\n",
              "      <script>\n",
              "        const buttonEl =\n",
              "          document.querySelector('#df-b95d6467-4eaf-4372-9f2f-74f7f5ff9705 button.colab-df-convert');\n",
              "        buttonEl.style.display =\n",
              "          google.colab.kernel.accessAllowed ? 'block' : 'none';\n",
              "\n",
              "        async function convertToInteractive(key) {\n",
              "          const element = document.querySelector('#df-b95d6467-4eaf-4372-9f2f-74f7f5ff9705');\n",
              "          const dataTable =\n",
              "            await google.colab.kernel.invokeFunction('convertToInteractive',\n",
              "                                                     [key], {});\n",
              "          if (!dataTable) return;\n",
              "\n",
              "          const docLinkHtml = 'Like what you see? Visit the ' +\n",
              "            '<a target=\"_blank\" href=https://colab.research.google.com/notebooks/data_table.ipynb>data table notebook</a>'\n",
              "            + ' to learn more about interactive tables.';\n",
              "          element.innerHTML = '';\n",
              "          dataTable['output_type'] = 'display_data';\n",
              "          await google.colab.output.renderOutput(dataTable, element);\n",
              "          const docLink = document.createElement('div');\n",
              "          docLink.innerHTML = docLinkHtml;\n",
              "          element.appendChild(docLink);\n",
              "        }\n",
              "      </script>\n",
              "    </div>\n",
              "  </div>\n",
              "  "
            ]
          },
          "metadata": {},
          "execution_count": 7
        }
      ],
      "source": [
        "# Creating inputs\n",
        "x1 = [3.393533211, 3.110073483, 1.343808831, 3.582294042, 2.280362439, \n",
        "      7.423436942, 5.745051997, 9.172168622, 7.792783481, 7.939820817]\n",
        "x2 = [2.331273381, 1.781539638, 3.368360954, 4.67917911, 2.866990263, \n",
        "      4.696522875, 3.533989803, 2.511101045, 3.424088941, 0.791637231]\n",
        "\n",
        "# Creating label\n",
        "y = [0, 0, 0, 0, 0, 1, 1, 1, 1, 1]\n",
        "\n",
        "# Converting them into dataframe\n",
        "df = pd.DataFrame(zip(x1, x2, y), columns=['x1', 'x2', 'y'])\n",
        "df"
      ]
    },
    {
      "cell_type": "code",
      "execution_count": 8,
      "metadata": {
        "colab": {
          "base_uri": "https://localhost:8080/",
          "height": 296
        },
        "id": "AgXt7OPmmreW",
        "outputId": "56b05ba1-f894-4960-8cd3-03f763e7fd7c"
      },
      "outputs": [
        {
          "output_type": "execute_result",
          "data": {
            "text/plain": [
              "<Axes: xlabel='x1', ylabel='x2'>"
            ]
          },
          "metadata": {},
          "execution_count": 8
        },
        {
          "output_type": "display_data",
          "data": {
            "text/plain": [
              "<Figure size 432x288 with 1 Axes>"
            ],
            "image/png": "[encoded data removed]"
          },
          "metadata": {}
        }
      ],
      "source": [
        "# Displaying scatterplot of the data\n",
        "sb.scatterplot(data=df, x='x1', y='x2', hue='y', style='y', s=150)"
      ]
    },
    {
      "cell_type": "markdown",
      "metadata": {
        "id": "rSza_ou3oNzO"
      },
      "source": [
        "## Make Predictions with Gaussian Naive Bayes Model <a id='prediction'></a>\n",
        "\n",
        "First, the PDF of each input for each label are calcualted separately. PDF is calculated as described in the [above](#pdf) section. Then the conditional probability is calculated as shown below.\n",
        "\n",
        "$$y_i = P(pdf(x_1) | y = i)... \\times ...P(pdf(x_p) | y = i) \\times P(y = i)$$\n"
      ]
    },
    {
      "cell_type": "code",
      "execution_count": 12,
      "metadata": {
        "id": "2BUui-Z1FW0o",
        "colab": {
          "base_uri": "https://localhost:8080/"
        },
        "outputId": "563e138a-643f-45c7-91f4-deb0ce9b9c8b"
      },
      "outputs": [
        {
          "output_type": "stream",
          "name": "stdout",
          "text": [
            "Class probability of y=0:  0.5\n",
            "Class probability of y=1:  0.5\n"
          ]
        }
      ],
      "source": [
        "# Calculate Class Probabilities\n",
        "y_0 = len(df[df['y'] == 0]) / len(df['y'])\n",
        "y_1 = len(df[df['y'] == 1]) / len(df['y'])\n",
        "\n",
        "print('Class probability of y=0: ', y_0)\n",
        "print('Class probability of y=1: ', y_1)"
      ]
    },
    {
      "cell_type": "code",
      "execution_count": 13,
      "metadata": {
        "id": "zacrTwqumeG6"
      },
      "outputs": [],
      "source": [
        "# Calculate mean of each feature for each label\n",
        "x1_y0_mean = df['x1'][df['y'] == 0].mean()\n",
        "x1_y1_mean = df['x1'][df['y'] == 1].mean()\n",
        "x2_y0_mean = df['x2'][df['y'] == 0].mean()\n",
        "x2_y1_mean = df['x2'][df['y'] == 1].mean()\n",
        "\n",
        "# Calculate standard deviation of each feature for each label\n",
        "x1_y0_std = df['x1'][df['y'] == 0].std()\n",
        "x1_y1_std = df['x1'][df['y'] == 1].std()\n",
        "x2_y0_std = df['x2'][df['y'] == 0].std()\n",
        "x2_y1_std = df['x2'][df['y'] == 1].std()"
      ]
    },
    {
      "cell_type": "code",
      "execution_count": 14,
      "metadata": {
        "colab": {
          "base_uri": "https://localhost:8080/",
          "height": 363
        },
        "id": "IBFXZLnE0Abb",
        "outputId": "d8d249bc-bee5-4adc-a58d-249af95188c5"
      },
      "outputs": [
        {
          "output_type": "execute_result",
          "data": {
            "text/plain": [
              "         x1        x2  y     pdf_x1_y0  pdf_x2_y0     pdf_x1_y1  pdf_x2_y1  \\\n",
              "0  3.393533  2.331273  0  3.362559e-01   0.299321  9.340506e-04   0.247475   \n",
              "1  3.110073  1.781540  0  3.978954e-01   0.195591  4.148672e-04   0.194072   \n",
              "2  1.343809  3.368361  0  1.378989e-01   0.341438  8.049754e-07   0.265278   \n",
              "3  3.582294  4.679179  0  2.853953e-01   0.114959  1.557322e-03   0.139895   \n",
              "4  2.280362  2.866990  0  3.803012e-01   0.357468  2.848450e-05   0.273336   \n",
              "5  7.423437  4.696523  1  1.232827e-06   0.112256  3.193247e-01   0.137962   \n",
              "6  5.745052  3.533990  1  2.254527e-03   0.321488  1.026459e-01   0.255897   \n",
              "7  9.172169  2.511101  1  1.500334e-11   0.326101  1.457989e-01   0.259772   \n",
              "8  7.792783  3.424089  1  1.519618e-07   0.335428  3.198314e-01   0.262464   \n",
              "9  7.939821  0.791637  1  6.318137e-08   0.048831  3.121587e-01   0.087371   \n",
              "\n",
              "         out_y0        out_y1  \n",
              "0  5.032428e-02  1.155772e-04  \n",
              "1  3.891230e-02  4.025712e-05  \n",
              "2  2.354196e-02  1.067712e-07  \n",
              "3  1.640435e-02  1.089305e-04  \n",
              "4  6.797275e-02  3.892921e-06  \n",
              "5  6.919582e-08  2.202730e-02  \n",
              "6  3.624019e-04  1.313337e-02  \n",
              "7  2.446300e-12  1.893726e-02  \n",
              "8  2.548609e-08  4.197207e-02  \n",
              "9  1.542597e-09  1.363675e-02  "
            ],
            "text/html": [
              "\n",
              "  <div id=\"df-fd92f23e-2d4c-4cc3-915e-bdc1de55546c\">\n",
              "    <div class=\"colab-df-container\">\n",
              "      <div>\n",
              "<style scoped>\n",
              "    .dataframe tbody tr th:only-of-type {\n",
              "        vertical-align: middle;\n",
              "    }\n",
              "\n",
              "    .dataframe tbody tr th {\n",
              "        vertical-align: top;\n",
              "    }\n",
              "\n",
              "    .dataframe thead th {\n",
              "        text-align: right;\n",
              "    }\n",
              "</style>\n",
              "<table border=\"1\" class=\"dataframe\">\n",
              "  <thead>\n",
              "    <tr style=\"text-align: right;\">\n",
              "      <th></th>\n",
              "      <th>x1</th>\n",
              "      <th>x2</th>\n",
              "      <th>y</th>\n",
              "      <th>pdf_x1_y0</th>\n",
              "      <th>pdf_x2_y0</th>\n",
              "      <th>pdf_x1_y1</th>\n",
              "      <th>pdf_x2_y1</th>\n",
              "      <th>out_y0</th>\n",
              "      <th>out_y1</th>\n",
              "    </tr>\n",
              "  </thead>\n",
              "  <tbody>\n",
              "    <tr>\n",
              "      <th>0</th>\n",
              "      <td>3.393533</td>\n",
              "      <td>2.331273</td>\n",
              "      <td>0</td>\n",
              "      <td>3.362559e-01</td>\n",
              "      <td>0.299321</td>\n",
              "      <td>9.340506e-04</td>\n",
              "      <td>0.247475</td>\n",
              "      <td>5.032428e-02</td>\n",
              "      <td>1.155772e-04</td>\n",
              "    </tr>\n",
              "    <tr>\n",
              "      <th>1</th>\n",
              "      <td>3.110073</td>\n",
              "      <td>1.781540</td>\n",
              "      <td>0</td>\n",
              "      <td>3.978954e-01</td>\n",
              "      <td>0.195591</td>\n",
              "      <td>4.148672e-04</td>\n",
              "      <td>0.194072</td>\n",
              "      <td>3.891230e-02</td>\n",
              "      <td>4.025712e-05</td>\n",
              "    </tr>\n",
              "    <tr>\n",
              "      <th>2</th>\n",
              "      <td>1.343809</td>\n",
              "      <td>3.368361</td>\n",
              "      <td>0</td>\n",
              "      <td>1.378989e-01</td>\n",
              "      <td>0.341438</td>\n",
              "      <td>8.049754e-07</td>\n",
              "      <td>0.265278</td>\n",
              "      <td>2.354196e-02</td>\n",
              "      <td>1.067712e-07</td>\n",
              "    </tr>\n",
              "    <tr>\n",
              "      <th>3</th>\n",
              "      <td>3.582294</td>\n",
              "      <td>4.679179</td>\n",
              "      <td>0</td>\n",
              "      <td>2.853953e-01</td>\n",
              "      <td>0.114959</td>\n",
              "      <td>1.557322e-03</td>\n",
              "      <td>0.139895</td>\n",
              "      <td>1.640435e-02</td>\n",
              "      <td>1.089305e-04</td>\n",
              "    </tr>\n",
              "    <tr>\n",
              "      <th>4</th>\n",
              "      <td>2.280362</td>\n",
              "      <td>2.866990</td>\n",
              "      <td>0</td>\n",
              "      <td>3.803012e-01</td>\n",
              "      <td>0.357468</td>\n",
              "      <td>2.848450e-05</td>\n",
              "      <td>0.273336</td>\n",
              "      <td>6.797275e-02</td>\n",
              "      <td>3.892921e-06</td>\n",
              "    </tr>\n",
              "    <tr>\n",
              "      <th>5</th>\n",
              "      <td>7.423437</td>\n",
              "      <td>4.696523</td>\n",
              "      <td>1</td>\n",
              "      <td>1.232827e-06</td>\n",
              "      <td>0.112256</td>\n",
              "      <td>3.193247e-01</td>\n",
              "      <td>0.137962</td>\n",
              "      <td>6.919582e-08</td>\n",
              "      <td>2.202730e-02</td>\n",
              "    </tr>\n",
              "    <tr>\n",
              "      <th>6</th>\n",
              "      <td>5.745052</td>\n",
              "      <td>3.533990</td>\n",
              "      <td>1</td>\n",
              "      <td>2.254527e-03</td>\n",
              "      <td>0.321488</td>\n",
              "      <td>1.026459e-01</td>\n",
              "      <td>0.255897</td>\n",
              "      <td>3.624019e-04</td>\n",
              "      <td>1.313337e-02</td>\n",
              "    </tr>\n",
              "    <tr>\n",
              "      <th>7</th>\n",
              "      <td>9.172169</td>\n",
              "      <td>2.511101</td>\n",
              "      <td>1</td>\n",
              "      <td>1.500334e-11</td>\n",
              "      <td>0.326101</td>\n",
              "      <td>1.457989e-01</td>\n",
              "      <td>0.259772</td>\n",
              "      <td>2.446300e-12</td>\n",
              "      <td>1.893726e-02</td>\n",
              "    </tr>\n",
              "    <tr>\n",
              "      <th>8</th>\n",
              "      <td>7.792783</td>\n",
              "      <td>3.424089</td>\n",
              "      <td>1</td>\n",
              "      <td>1.519618e-07</td>\n",
              "      <td>0.335428</td>\n",
              "      <td>3.198314e-01</td>\n",
              "      <td>0.262464</td>\n",
              "      <td>2.548609e-08</td>\n",
              "      <td>4.197207e-02</td>\n",
              "    </tr>\n",
              "    <tr>\n",
              "      <th>9</th>\n",
              "      <td>7.939821</td>\n",
              "      <td>0.791637</td>\n",
              "      <td>1</td>\n",
              "      <td>6.318137e-08</td>\n",
              "      <td>0.048831</td>\n",
              "      <td>3.121587e-01</td>\n",
              "      <td>0.087371</td>\n",
              "      <td>1.542597e-09</td>\n",
              "      <td>1.363675e-02</td>\n",
              "    </tr>\n",
              "  </tbody>\n",
              "</table>\n",
              "</div>\n",
              "      <button class=\"colab-df-convert\" onclick=\"convertToInteractive('df-fd92f23e-2d4c-4cc3-915e-bdc1de55546c')\"\n",
              "              title=\"Convert this dataframe to an interactive table.\"\n",
              "              style=\"display:none;\">\n",
              "        \n",
              "  <svg xmlns=\"http://www.w3.org/2000/svg\" height=\"24px\"viewBox=\"0 0 24 24\"\n",
              "       width=\"24px\">\n",
              "    <path d=\"M0 0h24v24H0V0z\" fill=\"none\"/>\n",
              "    <path d=\"M18.56 5.44l.94 2.06.94-2.06 2.06-.94-2.06-.94-.94-2.06-.94 2.06-2.06.94zm-11 1L8.5 8.5l.94-2.06 2.06-.94-2.06-.94L8.5 2.5l-.94 2.06-2.06.94zm10 10l.94 2.06.94-2.06 2.06-.94-2.06-.94-.94-2.06-.94 2.06-2.06.94z\"/><path d=\"M17.41 7.96l-1.37-1.37c-.4-.4-.92-.59-1.43-.59-.52 0-1.04.2-1.43.59L10.3 9.45l-7.72 7.72c-.78.78-.78 2.05 0 2.83L4 21.41c.39.39.9.59 1.41.59.51 0 1.02-.2 1.41-.59l7.78-7.78 2.81-2.81c.8-.78.8-2.07 0-2.86zM5.41 20L4 18.59l7.72-7.72 1.47 1.35L5.41 20z\"/>\n",
              "  </svg>\n",
              "      </button>\n",
              "      \n",
              "  <style>\n",
              "    .colab-df-container {\n",
              "      display:flex;\n",
              "      flex-wrap:wrap;\n",
              "      gap: 12px;\n",
              "    }\n",
              "\n",
              "    .colab-df-convert {\n",
              "      background-color: #E8F0FE;\n",
              "      border: none;\n",
              "      border-radius: 50%;\n",
              "      cursor: pointer;\n",
              "      display: none;\n",
              "      fill: #1967D2;\n",
              "      height: 32px;\n",
              "      padding: 0 0 0 0;\n",
              "      width: 32px;\n",
              "    }\n",
              "\n",
              "    .colab-df-convert:hover {\n",
              "      background-color: #E2EBFA;\n",
              "      box-shadow: 0px 1px 2px rgba(60, 64, 67, 0.3), 0px 1px 3px 1px rgba(60, 64, 67, 0.15);\n",
              "      fill: #174EA6;\n",
              "    }\n",
              "\n",
              "    [theme=dark] .colab-df-convert {\n",
              "      background-color: #3B4455;\n",
              "      fill: #D2E3FC;\n",
              "    }\n",
              "\n",
              "    [theme=dark] .colab-df-convert:hover {\n",
              "      background-color: #434B5C;\n",
              "      box-shadow: 0px 1px 3px 1px rgba(0, 0, 0, 0.15);\n",
              "      filter: drop-shadow(0px 1px 2px rgba(0, 0, 0, 0.3));\n",
              "      fill: #FFFFFF;\n",
              "    }\n",
              "  </style>\n",
              "\n",
              "      <script>\n",
              "        const buttonEl =\n",
              "          document.querySelector('#df-fd92f23e-2d4c-4cc3-915e-bdc1de55546c button.colab-df-convert');\n",
              "        buttonEl.style.display =\n",
              "          google.colab.kernel.accessAllowed ? 'block' : 'none';\n",
              "\n",
              "        async function convertToInteractive(key) {\n",
              "          const element = document.querySelector('#df-fd92f23e-2d4c-4cc3-915e-bdc1de55546c');\n",
              "          const dataTable =\n",
              "            await google.colab.kernel.invokeFunction('convertToInteractive',\n",
              "                                                     [key], {});\n",
              "          if (!dataTable) return;\n",
              "\n",
              "          const docLinkHtml = 'Like what you see? Visit the ' +\n",
              "            '<a target=\"_blank\" href=https://colab.research.google.com/notebooks/data_table.ipynb>data table notebook</a>'\n",
              "            + ' to learn more about interactive tables.';\n",
              "          element.innerHTML = '';\n",
              "          dataTable['output_type'] = 'display_data';\n",
              "          await google.colab.output.renderOutput(dataTable, element);\n",
              "          const docLink = document.createElement('div');\n",
              "          docLink.innerHTML = docLinkHtml;\n",
              "          element.appendChild(docLink);\n",
              "        }\n",
              "      </script>\n",
              "    </div>\n",
              "  </div>\n",
              "  "
            ]
          },
          "metadata": {},
          "execution_count": 14
        }
      ],
      "source": [
        "# Creata copy of the dataframe\n",
        "df_pred = df.copy()\n",
        "\n",
        "# Calculate PDF of each feature for each label\n",
        "df_pred['pdf_x1_y0'] = norm.pdf(df_pred['x1'], x1_y0_mean, x1_y0_std)\n",
        "df_pred['pdf_x2_y0'] = norm.pdf(df_pred['x2'], x2_y0_mean, x2_y0_std)\n",
        "df_pred['pdf_x1_y1'] = norm.pdf(df_pred['x1'], x1_y1_mean, x1_y1_std)\n",
        "df_pred['pdf_x2_y1'] = norm.pdf(df_pred['x2'], x2_y1_mean, x2_y1_std)\n",
        "\n",
        "# Calculate conditional probability of each label\n",
        "df_pred['out_y0'] = df_pred['pdf_x1_y0'] * df_pred['pdf_x2_y0'] * y_0\n",
        "df_pred['out_y1'] = df_pred['pdf_x1_y1'] * df_pred['pdf_x2_y1'] * y_1\n",
        "df_pred"
      ]
    },
    {
      "cell_type": "code",
      "execution_count": 15,
      "metadata": {
        "colab": {
          "base_uri": "https://localhost:8080/",
          "height": 363
        },
        "id": "eM10CTFE0ega",
        "outputId": "add900b6-1d91-4773-8176-bbc99de469f3"
      },
      "outputs": [
        {
          "output_type": "execute_result",
          "data": {
            "text/plain": [
              "         x1        x2  y     pdf_x1_y0  pdf_x2_y0     pdf_x1_y1  pdf_x2_y1  \\\n",
              "0  3.393533  2.331273  0  3.362559e-01   0.299321  9.340506e-04   0.247475   \n",
              "1  3.110073  1.781540  0  3.978954e-01   0.195591  4.148672e-04   0.194072   \n",
              "2  1.343809  3.368361  0  1.378989e-01   0.341438  8.049754e-07   0.265278   \n",
              "3  3.582294  4.679179  0  2.853953e-01   0.114959  1.557322e-03   0.139895   \n",
              "4  2.280362  2.866990  0  3.803012e-01   0.357468  2.848450e-05   0.273336   \n",
              "5  7.423437  4.696523  1  1.232827e-06   0.112256  3.193247e-01   0.137962   \n",
              "6  5.745052  3.533990  1  2.254527e-03   0.321488  1.026459e-01   0.255897   \n",
              "7  9.172169  2.511101  1  1.500334e-11   0.326101  1.457989e-01   0.259772   \n",
              "8  7.792783  3.424089  1  1.519618e-07   0.335428  3.198314e-01   0.262464   \n",
              "9  7.939821  0.791637  1  6.318137e-08   0.048831  3.121587e-01   0.087371   \n",
              "\n",
              "         out_y0        out_y1 Prediction  \n",
              "0  5.032428e-02  1.155772e-04          0  \n",
              "1  3.891230e-02  4.025712e-05          0  \n",
              "2  2.354196e-02  1.067712e-07          0  \n",
              "3  1.640435e-02  1.089305e-04          0  \n",
              "4  6.797275e-02  3.892921e-06          0  \n",
              "5  6.919582e-08  2.202730e-02          1  \n",
              "6  3.624019e-04  1.313337e-02          1  \n",
              "7  2.446300e-12  1.893726e-02          1  \n",
              "8  2.548609e-08  4.197207e-02          1  \n",
              "9  1.542597e-09  1.363675e-02          1  "
            ],
            "text/html": [
              "\n",
              "  <div id=\"df-d64f2c0c-789c-4acc-9081-368fa549dbdc\">\n",
              "    <div class=\"colab-df-container\">\n",
              "      <div>\n",
              "<style scoped>\n",
              "    .dataframe tbody tr th:only-of-type {\n",
              "        vertical-align: middle;\n",
              "    }\n",
              "\n",
              "    .dataframe tbody tr th {\n",
              "        vertical-align: top;\n",
              "    }\n",
              "\n",
              "    .dataframe thead th {\n",
              "        text-align: right;\n",
              "    }\n",
              "</style>\n",
              "<table border=\"1\" class=\"dataframe\">\n",
              "  <thead>\n",
              "    <tr style=\"text-align: right;\">\n",
              "      <th></th>\n",
              "      <th>x1</th>\n",
              "      <th>x2</th>\n",
              "      <th>y</th>\n",
              "      <th>pdf_x1_y0</th>\n",
              "      <th>pdf_x2_y0</th>\n",
              "      <th>pdf_x1_y1</th>\n",
              "      <th>pdf_x2_y1</th>\n",
              "      <th>out_y0</th>\n",
              "      <th>out_y1</th>\n",
              "      <th>Prediction</th>\n",
              "    </tr>\n",
              "  </thead>\n",
              "  <tbody>\n",
              "    <tr>\n",
              "      <th>0</th>\n",
              "      <td>3.393533</td>\n",
              "      <td>2.331273</td>\n",
              "      <td>0</td>\n",
              "      <td>3.362559e-01</td>\n",
              "      <td>0.299321</td>\n",
              "      <td>9.340506e-04</td>\n",
              "      <td>0.247475</td>\n",
              "      <td>5.032428e-02</td>\n",
              "      <td>1.155772e-04</td>\n",
              "      <td>0</td>\n",
              "    </tr>\n",
              "    <tr>\n",
              "      <th>1</th>\n",
              "      <td>3.110073</td>\n",
              "      <td>1.781540</td>\n",
              "      <td>0</td>\n",
              "      <td>3.978954e-01</td>\n",
              "      <td>0.195591</td>\n",
              "      <td>4.148672e-04</td>\n",
              "      <td>0.194072</td>\n",
              "      <td>3.891230e-02</td>\n",
              "      <td>4.025712e-05</td>\n",
              "      <td>0</td>\n",
              "    </tr>\n",
              "    <tr>\n",
              "      <th>2</th>\n",
              "      <td>1.343809</td>\n",
              "      <td>3.368361</td>\n",
              "      <td>0</td>\n",
              "      <td>1.378989e-01</td>\n",
              "      <td>0.341438</td>\n",
              "      <td>8.049754e-07</td>\n",
              "      <td>0.265278</td>\n",
              "      <td>2.354196e-02</td>\n",
              "      <td>1.067712e-07</td>\n",
              "      <td>0</td>\n",
              "    </tr>\n",
              "    <tr>\n",
              "      <th>3</th>\n",
              "      <td>3.582294</td>\n",
              "      <td>4.679179</td>\n",
              "      <td>0</td>\n",
              "      <td>2.853953e-01</td>\n",
              "      <td>0.114959</td>\n",
              "      <td>1.557322e-03</td>\n",
              "      <td>0.139895</td>\n",
              "      <td>1.640435e-02</td>\n",
              "      <td>1.089305e-04</td>\n",
              "      <td>0</td>\n",
              "    </tr>\n",
              "    <tr>\n",
              "      <th>4</th>\n",
              "      <td>2.280362</td>\n",
              "      <td>2.866990</td>\n",
              "      <td>0</td>\n",
              "      <td>3.803012e-01</td>\n",
              "      <td>0.357468</td>\n",
              "      <td>2.848450e-05</td>\n",
              "      <td>0.273336</td>\n",
              "      <td>6.797275e-02</td>\n",
              "      <td>3.892921e-06</td>\n",
              "      <td>0</td>\n",
              "    </tr>\n",
              "    <tr>\n",
              "      <th>5</th>\n",
              "      <td>7.423437</td>\n",
              "      <td>4.696523</td>\n",
              "      <td>1</td>\n",
              "      <td>1.232827e-06</td>\n",
              "      <td>0.112256</td>\n",
              "      <td>3.193247e-01</td>\n",
              "      <td>0.137962</td>\n",
              "      <td>6.919582e-08</td>\n",
              "      <td>2.202730e-02</td>\n",
              "      <td>1</td>\n",
              "    </tr>\n",
              "    <tr>\n",
              "      <th>6</th>\n",
              "      <td>5.745052</td>\n",
              "      <td>3.533990</td>\n",
              "      <td>1</td>\n",
              "      <td>2.254527e-03</td>\n",
              "      <td>0.321488</td>\n",
              "      <td>1.026459e-01</td>\n",
              "      <td>0.255897</td>\n",
              "      <td>3.624019e-04</td>\n",
              "      <td>1.313337e-02</td>\n",
              "      <td>1</td>\n",
              "    </tr>\n",
              "    <tr>\n",
              "      <th>7</th>\n",
              "      <td>9.172169</td>\n",
              "      <td>2.511101</td>\n",
              "      <td>1</td>\n",
              "      <td>1.500334e-11</td>\n",
              "      <td>0.326101</td>\n",
              "      <td>1.457989e-01</td>\n",
              "      <td>0.259772</td>\n",
              "      <td>2.446300e-12</td>\n",
              "      <td>1.893726e-02</td>\n",
              "      <td>1</td>\n",
              "    </tr>\n",
              "    <tr>\n",
              "      <th>8</th>\n",
              "      <td>7.792783</td>\n",
              "      <td>3.424089</td>\n",
              "      <td>1</td>\n",
              "      <td>1.519618e-07</td>\n",
              "      <td>0.335428</td>\n",
              "      <td>3.198314e-01</td>\n",
              "      <td>0.262464</td>\n",
              "      <td>2.548609e-08</td>\n",
              "      <td>4.197207e-02</td>\n",
              "      <td>1</td>\n",
              "    </tr>\n",
              "    <tr>\n",
              "      <th>9</th>\n",
              "      <td>7.939821</td>\n",
              "      <td>0.791637</td>\n",
              "      <td>1</td>\n",
              "      <td>6.318137e-08</td>\n",
              "      <td>0.048831</td>\n",
              "      <td>3.121587e-01</td>\n",
              "      <td>0.087371</td>\n",
              "      <td>1.542597e-09</td>\n",
              "      <td>1.363675e-02</td>\n",
              "      <td>1</td>\n",
              "    </tr>\n",
              "  </tbody>\n",
              "</table>\n",
              "</div>\n",
              "      <button class=\"colab-df-convert\" onclick=\"convertToInteractive('df-d64f2c0c-789c-4acc-9081-368fa549dbdc')\"\n",
              "              title=\"Convert this dataframe to an interactive table.\"\n",
              "              style=\"display:none;\">\n",
              "        \n",
              "  <svg xmlns=\"http://www.w3.org/2000/svg\" height=\"24px\"viewBox=\"0 0 24 24\"\n",
              "       width=\"24px\">\n",
              "    <path d=\"M0 0h24v24H0V0z\" fill=\"none\"/>\n",
              "    <path d=\"M18.56 5.44l.94 2.06.94-2.06 2.06-.94-2.06-.94-.94-2.06-.94 2.06-2.06.94zm-11 1L8.5 8.5l.94-2.06 2.06-.94-2.06-.94L8.5 2.5l-.94 2.06-2.06.94zm10 10l.94 2.06.94-2.06 2.06-.94-2.06-.94-.94-2.06-.94 2.06-2.06.94z\"/><path d=\"M17.41 7.96l-1.37-1.37c-.4-.4-.92-.59-1.43-.59-.52 0-1.04.2-1.43.59L10.3 9.45l-7.72 7.72c-.78.78-.78 2.05 0 2.83L4 21.41c.39.39.9.59 1.41.59.51 0 1.02-.2 1.41-.59l7.78-7.78 2.81-2.81c.8-.78.8-2.07 0-2.86zM5.41 20L4 18.59l7.72-7.72 1.47 1.35L5.41 20z\"/>\n",
              "  </svg>\n",
              "      </button>\n",
              "      \n",
              "  <style>\n",
              "    .colab-df-container {\n",
              "      display:flex;\n",
              "      flex-wrap:wrap;\n",
              "      gap: 12px;\n",
              "    }\n",
              "\n",
              "    .colab-df-convert {\n",
              "      background-color: #E8F0FE;\n",
              "      border: none;\n",
              "      border-radius: 50%;\n",
              "      cursor: pointer;\n",
              "      display: none;\n",
              "      fill: #1967D2;\n",
              "      height: 32px;\n",
              "      padding: 0 0 0 0;\n",
              "      width: 32px;\n",
              "    }\n",
              "\n",
              "    .colab-df-convert:hover {\n",
              "      background-color: #E2EBFA;\n",
              "      box-shadow: 0px 1px 2px rgba(60, 64, 67, 0.3), 0px 1px 3px 1px rgba(60, 64, 67, 0.15);\n",
              "      fill: #174EA6;\n",
              "    }\n",
              "\n",
              "    [theme=dark] .colab-df-convert {\n",
              "      background-color: #3B4455;\n",
              "      fill: #D2E3FC;\n",
              "    }\n",
              "\n",
              "    [theme=dark] .colab-df-convert:hover {\n",
              "      background-color: #434B5C;\n",
              "      box-shadow: 0px 1px 3px 1px rgba(0, 0, 0, 0.15);\n",
              "      filter: drop-shadow(0px 1px 2px rgba(0, 0, 0, 0.3));\n",
              "      fill: #FFFFFF;\n",
              "    }\n",
              "  </style>\n",
              "\n",
              "      <script>\n",
              "        const buttonEl =\n",
              "          document.querySelector('#df-d64f2c0c-789c-4acc-9081-368fa549dbdc button.colab-df-convert');\n",
              "        buttonEl.style.display =\n",
              "          google.colab.kernel.accessAllowed ? 'block' : 'none';\n",
              "\n",
              "        async function convertToInteractive(key) {\n",
              "          const element = document.querySelector('#df-d64f2c0c-789c-4acc-9081-368fa549dbdc');\n",
              "          const dataTable =\n",
              "            await google.colab.kernel.invokeFunction('convertToInteractive',\n",
              "                                                     [key], {});\n",
              "          if (!dataTable) return;\n",
              "\n",
              "          const docLinkHtml = 'Like what you see? Visit the ' +\n",
              "            '<a target=\"_blank\" href=https://colab.research.google.com/notebooks/data_table.ipynb>data table notebook</a>'\n",
              "            + ' to learn more about interactive tables.';\n",
              "          element.innerHTML = '';\n",
              "          dataTable['output_type'] = 'display_data';\n",
              "          await google.colab.output.renderOutput(dataTable, element);\n",
              "          const docLink = document.createElement('div');\n",
              "          docLink.innerHTML = docLinkHtml;\n",
              "          element.appendChild(docLink);\n",
              "        }\n",
              "      </script>\n",
              "    </div>\n",
              "  </div>\n",
              "  "
            ]
          },
          "metadata": {},
          "execution_count": 15
        }
      ],
      "source": [
        "df_pred['Prediction'] = ''\n",
        "df_pred.loc[df_pred['out_y0'] > df_pred['out_y1'], 'Prediction'] = 0\n",
        "df_pred.loc[df_pred['out_y0'] <= df_pred['out_y1'], 'Prediction'] = 1\n",
        "df_pred"
      ]
    },
    {
      "cell_type": "code",
      "execution_count": 2,
      "metadata": {
        "id": "tPZtjk932F6d"
      },
      "outputs": [],
      "source": [
        "from sklearn.metrics import accuracy_score"
      ]
    },
    {
      "cell_type": "code",
      "execution_count": 16,
      "metadata": {
        "colab": {
          "base_uri": "https://localhost:8080/"
        },
        "id": "6KBUErGZ2SUU",
        "outputId": "6e1d7674-2c19-4f17-b7cc-0975eabbf699"
      },
      "outputs": [
        {
          "output_type": "stream",
          "name": "stdout",
          "text": [
            "Accuracy: 100%\n"
          ]
        }
      ],
      "source": [
        "acc = accuracy_score(df_pred['y'].values, df_pred['Prediction'].astype(int).values)*100\n",
        "print('Accuracy: {:.0f}%'.format(acc))"
      ]
    },
    {
      "cell_type": "markdown",
      "metadata": {
        "id": "7gXjsQuk8I2T"
      },
      "source": [
        "## Using Sklearn Library <a id='sklearn'></a>"
      ]
    },
    {
      "cell_type": "code",
      "execution_count": 3,
      "metadata": {
        "id": "EKNgriBF2i8W"
      },
      "outputs": [],
      "source": [
        "from sklearn.naive_bayes import GaussianNB"
      ]
    },
    {
      "cell_type": "code",
      "execution_count": 17,
      "metadata": {
        "colab": {
          "base_uri": "https://localhost:8080/"
        },
        "id": "-1B6IoDK7iLZ",
        "outputId": "aa81180e-52c7-4a2e-81ca-86f4c8d43903"
      },
      "outputs": [
        {
          "output_type": "stream",
          "name": "stdout",
          "text": [
            "Accuracy: 100%\n"
          ]
        }
      ],
      "source": [
        "model = GaussianNB()\n",
        "x = df.drop('y', axis=1)\n",
        "y = df['y']\n",
        "model.fit(x, y)\n",
        "y_hat = model.predict(x)\n",
        "\n",
        "acc = accuracy_score(y, y_hat)*100\n",
        "print('Accuracy: {:.0f}%'.format(acc))"
      ]
    },
    {
      "cell_type": "markdown",
      "metadata": {
        "id": "AKTbGzjB75Eu"
      },
      "source": [
        "## Real Data<a id='realdata'></a>\n",
        "\n",
        "Training dataset is donwloaded from [Kaggle](https://www.kaggle.com/datasets/mirzahasnine/loan-data-set?select=loan_train.csv)."
      ]
    },
    {
      "cell_type": "code",
      "source": [
        "# TO BE REMOVED IN LOCAL\n",
        "from google.colab import files\n",
        "from google.colab import drive\n",
        "drive.mount('/content/gdrive') # Mount the google drive "
      ],
      "metadata": {
        "colab": {
          "base_uri": "https://localhost:8080/"
        },
        "id": "vRpYLPaufFqV",
        "outputId": "743decb4-4d99-4021-b932-464f0b759e3d"
      },
      "execution_count": 18,
      "outputs": [
        {
          "output_type": "stream",
          "name": "stdout",
          "text": [
            "Mounted at /content/gdrive\n"
          ]
        }
      ]
    },
    {
      "cell_type": "code",
      "execution_count": 99,
      "metadata": {
        "colab": {
          "base_uri": "https://localhost:8080/",
          "height": 206
        },
        "id": "DzH0vQ_f5FW4",
        "outputId": "872f0e6d-a0ad-4936-bb63-21a7c97d221c"
      },
      "outputs": [
        {
          "output_type": "execute_result",
          "data": {
            "text/plain": [
              "  Gender Married Dependents     Education Self_Employed  Applicant_Income  \\\n",
              "0   Male      No          0      Graduate            No            584900   \n",
              "1   Male     Yes          1      Graduate            No            458300   \n",
              "2   Male     Yes          0      Graduate           Yes            300000   \n",
              "3   Male     Yes          0  Not Graduate            No            258300   \n",
              "4   Male      No          0      Graduate            No            600000   \n",
              "\n",
              "   Coapplicant_Income  Loan_Amount   Term  Credit_History   Area Status  \n",
              "0                 0.0     15000000  360.0             1.0  Urban      Y  \n",
              "1            150800.0     12800000  360.0             1.0  Rural      N  \n",
              "2                 0.0      6600000  360.0             1.0  Urban      Y  \n",
              "3            235800.0     12000000  360.0             1.0  Urban      Y  \n",
              "4                 0.0     14100000  360.0             1.0  Urban      Y  "
            ],
            "text/html": [
              "\n",
              "  <div id=\"df-a60915e4-3b1d-4be1-886c-8735f96a0a6d\">\n",
              "    <div class=\"colab-df-container\">\n",
              "      <div>\n",
              "<style scoped>\n",
              "    .dataframe tbody tr th:only-of-type {\n",
              "        vertical-align: middle;\n",
              "    }\n",
              "\n",
              "    .dataframe tbody tr th {\n",
              "        vertical-align: top;\n",
              "    }\n",
              "\n",
              "    .dataframe thead th {\n",
              "        text-align: right;\n",
              "    }\n",
              "</style>\n",
              "<table border=\"1\" class=\"dataframe\">\n",
              "  <thead>\n",
              "    <tr style=\"text-align: right;\">\n",
              "      <th></th>\n",
              "      <th>Gender</th>\n",
              "      <th>Married</th>\n",
              "      <th>Dependents</th>\n",
              "      <th>Education</th>\n",
              "      <th>Self_Employed</th>\n",
              "      <th>Applicant_Income</th>\n",
              "      <th>Coapplicant_Income</th>\n",
              "      <th>Loan_Amount</th>\n",
              "      <th>Term</th>\n",
              "      <th>Credit_History</th>\n",
              "      <th>Area</th>\n",
              "      <th>Status</th>\n",
              "    </tr>\n",
              "  </thead>\n",
              "  <tbody>\n",
              "    <tr>\n",
              "      <th>0</th>\n",
              "      <td>Male</td>\n",
              "      <td>No</td>\n",
              "      <td>0</td>\n",
              "      <td>Graduate</td>\n",
              "      <td>No</td>\n",
              "      <td>584900</td>\n",
              "      <td>0.0</td>\n",
              "      <td>15000000</td>\n",
              "      <td>360.0</td>\n",
              "      <td>1.0</td>\n",
              "      <td>Urban</td>\n",
              "      <td>Y</td>\n",
              "    </tr>\n",
              "    <tr>\n",
              "      <th>1</th>\n",
              "      <td>Male</td>\n",
              "      <td>Yes</td>\n",
              "      <td>1</td>\n",
              "      <td>Graduate</td>\n",
              "      <td>No</td>\n",
              "      <td>458300</td>\n",
              "      <td>150800.0</td>\n",
              "      <td>12800000</td>\n",
              "      <td>360.0</td>\n",
              "      <td>1.0</td>\n",
              "      <td>Rural</td>\n",
              "      <td>N</td>\n",
              "    </tr>\n",
              "    <tr>\n",
              "      <th>2</th>\n",
              "      <td>Male</td>\n",
              "      <td>Yes</td>\n",
              "      <td>0</td>\n",
              "      <td>Graduate</td>\n",
              "      <td>Yes</td>\n",
              "      <td>300000</td>\n",
              "      <td>0.0</td>\n",
              "      <td>6600000</td>\n",
              "      <td>360.0</td>\n",
              "      <td>1.0</td>\n",
              "      <td>Urban</td>\n",
              "      <td>Y</td>\n",
              "    </tr>\n",
              "    <tr>\n",
              "      <th>3</th>\n",
              "      <td>Male</td>\n",
              "      <td>Yes</td>\n",
              "      <td>0</td>\n",
              "      <td>Not Graduate</td>\n",
              "      <td>No</td>\n",
              "      <td>258300</td>\n",
              "      <td>235800.0</td>\n",
              "      <td>12000000</td>\n",
              "      <td>360.0</td>\n",
              "      <td>1.0</td>\n",
              "      <td>Urban</td>\n",
              "      <td>Y</td>\n",
              "    </tr>\n",
              "    <tr>\n",
              "      <th>4</th>\n",
              "      <td>Male</td>\n",
              "      <td>No</td>\n",
              "      <td>0</td>\n",
              "      <td>Graduate</td>\n",
              "      <td>No</td>\n",
              "      <td>600000</td>\n",
              "      <td>0.0</td>\n",
              "      <td>14100000</td>\n",
              "      <td>360.0</td>\n",
              "      <td>1.0</td>\n",
              "      <td>Urban</td>\n",
              "      <td>Y</td>\n",
              "    </tr>\n",
              "  </tbody>\n",
              "</table>\n",
              "</div>\n",
              "      <button class=\"colab-df-convert\" onclick=\"convertToInteractive('df-a60915e4-3b1d-4be1-886c-8735f96a0a6d')\"\n",
              "              title=\"Convert this dataframe to an interactive table.\"\n",
              "              style=\"display:none;\">\n",
              "        \n",
              "  <svg xmlns=\"http://www.w3.org/2000/svg\" height=\"24px\"viewBox=\"0 0 24 24\"\n",
              "       width=\"24px\">\n",
              "    <path d=\"M0 0h24v24H0V0z\" fill=\"none\"/>\n",
              "    <path d=\"M18.56 5.44l.94 2.06.94-2.06 2.06-.94-2.06-.94-.94-2.06-.94 2.06-2.06.94zm-11 1L8.5 8.5l.94-2.06 2.06-.94-2.06-.94L8.5 2.5l-.94 2.06-2.06.94zm10 10l.94 2.06.94-2.06 2.06-.94-2.06-.94-.94-2.06-.94 2.06-2.06.94z\"/><path d=\"M17.41 7.96l-1.37-1.37c-.4-.4-.92-.59-1.43-.59-.52 0-1.04.2-1.43.59L10.3 9.45l-7.72 7.72c-.78.78-.78 2.05 0 2.83L4 21.41c.39.39.9.59 1.41.59.51 0 1.02-.2 1.41-.59l7.78-7.78 2.81-2.81c.8-.78.8-2.07 0-2.86zM5.41 20L4 18.59l7.72-7.72 1.47 1.35L5.41 20z\"/>\n",
              "  </svg>\n",
              "      </button>\n",
              "      \n",
              "  <style>\n",
              "    .colab-df-container {\n",
              "      display:flex;\n",
              "      flex-wrap:wrap;\n",
              "      gap: 12px;\n",
              "    }\n",
              "\n",
              "    .colab-df-convert {\n",
              "      background-color: #E8F0FE;\n",
              "      border: none;\n",
              "      border-radius: 50%;\n",
              "      cursor: pointer;\n",
              "      display: none;\n",
              "      fill: #1967D2;\n",
              "      height: 32px;\n",
              "      padding: 0 0 0 0;\n",
              "      width: 32px;\n",
              "    }\n",
              "\n",
              "    .colab-df-convert:hover {\n",
              "      background-color: #E2EBFA;\n",
              "      box-shadow: 0px 1px 2px rgba(60, 64, 67, 0.3), 0px 1px 3px 1px rgba(60, 64, 67, 0.15);\n",
              "      fill: #174EA6;\n",
              "    }\n",
              "\n",
              "    [theme=dark] .colab-df-convert {\n",
              "      background-color: #3B4455;\n",
              "      fill: #D2E3FC;\n",
              "    }\n",
              "\n",
              "    [theme=dark] .colab-df-convert:hover {\n",
              "      background-color: #434B5C;\n",
              "      box-shadow: 0px 1px 3px 1px rgba(0, 0, 0, 0.15);\n",
              "      filter: drop-shadow(0px 1px 2px rgba(0, 0, 0, 0.3));\n",
              "      fill: #FFFFFF;\n",
              "    }\n",
              "  </style>\n",
              "\n",
              "      <script>\n",
              "        const buttonEl =\n",
              "          document.querySelector('#df-a60915e4-3b1d-4be1-886c-8735f96a0a6d button.colab-df-convert');\n",
              "        buttonEl.style.display =\n",
              "          google.colab.kernel.accessAllowed ? 'block' : 'none';\n",
              "\n",
              "        async function convertToInteractive(key) {\n",
              "          const element = document.querySelector('#df-a60915e4-3b1d-4be1-886c-8735f96a0a6d');\n",
              "          const dataTable =\n",
              "            await google.colab.kernel.invokeFunction('convertToInteractive',\n",
              "                                                     [key], {});\n",
              "          if (!dataTable) return;\n",
              "\n",
              "          const docLinkHtml = 'Like what you see? Visit the ' +\n",
              "            '<a target=\"_blank\" href=https://colab.research.google.com/notebooks/data_table.ipynb>data table notebook</a>'\n",
              "            + ' to learn more about interactive tables.';\n",
              "          element.innerHTML = '';\n",
              "          dataTable['output_type'] = 'display_data';\n",
              "          await google.colab.output.renderOutput(dataTable, element);\n",
              "          const docLink = document.createElement('div');\n",
              "          docLink.innerHTML = docLinkHtml;\n",
              "          element.appendChild(docLink);\n",
              "        }\n",
              "      </script>\n",
              "    </div>\n",
              "  </div>\n",
              "  "
            ]
          },
          "metadata": {},
          "execution_count": 99
        }
      ],
      "source": [
        "df = pd.read_csv('/content/gdrive/My Drive/Colab Notebooks/Loan_Data/loan_train.csv')\n",
        "df.head()"
      ]
    },
    {
      "cell_type": "code",
      "execution_count": 20,
      "metadata": {
        "id": "rr5s0t9r5FW4",
        "outputId": "5018b253-0728-4d14-d6c5-40969a33ba77",
        "colab": {
          "base_uri": "https://localhost:8080/",
          "height": 426
        }
      },
      "outputs": [
        {
          "output_type": "execute_result",
          "data": {
            "text/plain": [
              "                    count      min         max             mean  \\\n",
              "Gender                601      NaN         NaN              NaN   \n",
              "Married               611      NaN         NaN              NaN   \n",
              "Dependents            599      NaN         NaN              NaN   \n",
              "Education             614      NaN         NaN              NaN   \n",
              "Self_Employed         582      NaN         NaN              NaN   \n",
              "Applicant_Income    614.0  15000.0   8100000.0    540345.928339   \n",
              "Coapplicant_Income  614.0      0.0   4166700.0    162124.579803   \n",
              "Loan_Amount         614.0      0.0  70000000.0  14141042.345277   \n",
              "Term                600.0     12.0       480.0            342.0   \n",
              "Credit_History      564.0      0.0         1.0         0.842199   \n",
              "Area                  614      NaN         NaN              NaN   \n",
              "Status                614      NaN         NaN              NaN   \n",
              "\n",
              "                               std unique        top freq  \n",
              "Gender                         NaN      2       Male  489  \n",
              "Married                        NaN      2        Yes  398  \n",
              "Dependents                     NaN      4          0  345  \n",
              "Education                      NaN      2   Graduate  480  \n",
              "Self_Employed                  NaN      2         No  500  \n",
              "Applicant_Income     610904.167339    NaN        NaN  NaN  \n",
              "Coapplicant_Income   292624.836922    NaN        NaN  NaN  \n",
              "Loan_Amount         8815682.464395    NaN        NaN  NaN  \n",
              "Term                      65.12041    NaN        NaN  NaN  \n",
              "Credit_History            0.364878    NaN        NaN  NaN  \n",
              "Area                           NaN      3  Semiurban  233  \n",
              "Status                         NaN      2          Y  422  "
            ],
            "text/html": [
              "\n",
              "  <div id=\"df-fdf6be5b-a18e-4771-846b-a7c53008860c\">\n",
              "    <div class=\"colab-df-container\">\n",
              "      <div>\n",
              "<style scoped>\n",
              "    .dataframe tbody tr th:only-of-type {\n",
              "        vertical-align: middle;\n",
              "    }\n",
              "\n",
              "    .dataframe tbody tr th {\n",
              "        vertical-align: top;\n",
              "    }\n",
              "\n",
              "    .dataframe thead th {\n",
              "        text-align: right;\n",
              "    }\n",
              "</style>\n",
              "<table border=\"1\" class=\"dataframe\">\n",
              "  <thead>\n",
              "    <tr style=\"text-align: right;\">\n",
              "      <th></th>\n",
              "      <th>count</th>\n",
              "      <th>min</th>\n",
              "      <th>max</th>\n",
              "      <th>mean</th>\n",
              "      <th>std</th>\n",
              "      <th>unique</th>\n",
              "      <th>top</th>\n",
              "      <th>freq</th>\n",
              "    </tr>\n",
              "  </thead>\n",
              "  <tbody>\n",
              "    <tr>\n",
              "      <th>Gender</th>\n",
              "      <td>601</td>\n",
              "      <td>NaN</td>\n",
              "      <td>NaN</td>\n",
              "      <td>NaN</td>\n",
              "      <td>NaN</td>\n",
              "      <td>2</td>\n",
              "      <td>Male</td>\n",
              "      <td>489</td>\n",
              "    </tr>\n",
              "    <tr>\n",
              "      <th>Married</th>\n",
              "      <td>611</td>\n",
              "      <td>NaN</td>\n",
              "      <td>NaN</td>\n",
              "      <td>NaN</td>\n",
              "      <td>NaN</td>\n",
              "      <td>2</td>\n",
              "      <td>Yes</td>\n",
              "      <td>398</td>\n",
              "    </tr>\n",
              "    <tr>\n",
              "      <th>Dependents</th>\n",
              "      <td>599</td>\n",
              "      <td>NaN</td>\n",
              "      <td>NaN</td>\n",
              "      <td>NaN</td>\n",
              "      <td>NaN</td>\n",
              "      <td>4</td>\n",
              "      <td>0</td>\n",
              "      <td>345</td>\n",
              "    </tr>\n",
              "    <tr>\n",
              "      <th>Education</th>\n",
              "      <td>614</td>\n",
              "      <td>NaN</td>\n",
              "      <td>NaN</td>\n",
              "      <td>NaN</td>\n",
              "      <td>NaN</td>\n",
              "      <td>2</td>\n",
              "      <td>Graduate</td>\n",
              "      <td>480</td>\n",
              "    </tr>\n",
              "    <tr>\n",
              "      <th>Self_Employed</th>\n",
              "      <td>582</td>\n",
              "      <td>NaN</td>\n",
              "      <td>NaN</td>\n",
              "      <td>NaN</td>\n",
              "      <td>NaN</td>\n",
              "      <td>2</td>\n",
              "      <td>No</td>\n",
              "      <td>500</td>\n",
              "    </tr>\n",
              "    <tr>\n",
              "      <th>Applicant_Income</th>\n",
              "      <td>614.0</td>\n",
              "      <td>15000.0</td>\n",
              "      <td>8100000.0</td>\n",
              "      <td>540345.928339</td>\n",
              "      <td>610904.167339</td>\n",
              "      <td>NaN</td>\n",
              "      <td>NaN</td>\n",
              "      <td>NaN</td>\n",
              "    </tr>\n",
              "    <tr>\n",
              "      <th>Coapplicant_Income</th>\n",
              "      <td>614.0</td>\n",
              "      <td>0.0</td>\n",
              "      <td>4166700.0</td>\n",
              "      <td>162124.579803</td>\n",
              "      <td>292624.836922</td>\n",
              "      <td>NaN</td>\n",
              "      <td>NaN</td>\n",
              "      <td>NaN</td>\n",
              "    </tr>\n",
              "    <tr>\n",
              "      <th>Loan_Amount</th>\n",
              "      <td>614.0</td>\n",
              "      <td>0.0</td>\n",
              "      <td>70000000.0</td>\n",
              "      <td>14141042.345277</td>\n",
              "      <td>8815682.464395</td>\n",
              "      <td>NaN</td>\n",
              "      <td>NaN</td>\n",
              "      <td>NaN</td>\n",
              "    </tr>\n",
              "    <tr>\n",
              "      <th>Term</th>\n",
              "      <td>600.0</td>\n",
              "      <td>12.0</td>\n",
              "      <td>480.0</td>\n",
              "      <td>342.0</td>\n",
              "      <td>65.12041</td>\n",
              "      <td>NaN</td>\n",
              "      <td>NaN</td>\n",
              "      <td>NaN</td>\n",
              "    </tr>\n",
              "    <tr>\n",
              "      <th>Credit_History</th>\n",
              "      <td>564.0</td>\n",
              "      <td>0.0</td>\n",
              "      <td>1.0</td>\n",
              "      <td>0.842199</td>\n",
              "      <td>0.364878</td>\n",
              "      <td>NaN</td>\n",
              "      <td>NaN</td>\n",
              "      <td>NaN</td>\n",
              "    </tr>\n",
              "    <tr>\n",
              "      <th>Area</th>\n",
              "      <td>614</td>\n",
              "      <td>NaN</td>\n",
              "      <td>NaN</td>\n",
              "      <td>NaN</td>\n",
              "      <td>NaN</td>\n",
              "      <td>3</td>\n",
              "      <td>Semiurban</td>\n",
              "      <td>233</td>\n",
              "    </tr>\n",
              "    <tr>\n",
              "      <th>Status</th>\n",
              "      <td>614</td>\n",
              "      <td>NaN</td>\n",
              "      <td>NaN</td>\n",
              "      <td>NaN</td>\n",
              "      <td>NaN</td>\n",
              "      <td>2</td>\n",
              "      <td>Y</td>\n",
              "      <td>422</td>\n",
              "    </tr>\n",
              "  </tbody>\n",
              "</table>\n",
              "</div>\n",
              "      <button class=\"colab-df-convert\" onclick=\"convertToInteractive('df-fdf6be5b-a18e-4771-846b-a7c53008860c')\"\n",
              "              title=\"Convert this dataframe to an interactive table.\"\n",
              "              style=\"display:none;\">\n",
              "        \n",
              "  <svg xmlns=\"http://www.w3.org/2000/svg\" height=\"24px\"viewBox=\"0 0 24 24\"\n",
              "       width=\"24px\">\n",
              "    <path d=\"M0 0h24v24H0V0z\" fill=\"none\"/>\n",
              "    <path d=\"M18.56 5.44l.94 2.06.94-2.06 2.06-.94-2.06-.94-.94-2.06-.94 2.06-2.06.94zm-11 1L8.5 8.5l.94-2.06 2.06-.94-2.06-.94L8.5 2.5l-.94 2.06-2.06.94zm10 10l.94 2.06.94-2.06 2.06-.94-2.06-.94-.94-2.06-.94 2.06-2.06.94z\"/><path d=\"M17.41 7.96l-1.37-1.37c-.4-.4-.92-.59-1.43-.59-.52 0-1.04.2-1.43.59L10.3 9.45l-7.72 7.72c-.78.78-.78 2.05 0 2.83L4 21.41c.39.39.9.59 1.41.59.51 0 1.02-.2 1.41-.59l7.78-7.78 2.81-2.81c.8-.78.8-2.07 0-2.86zM5.41 20L4 18.59l7.72-7.72 1.47 1.35L5.41 20z\"/>\n",
              "  </svg>\n",
              "      </button>\n",
              "      \n",
              "  <style>\n",
              "    .colab-df-container {\n",
              "      display:flex;\n",
              "      flex-wrap:wrap;\n",
              "      gap: 12px;\n",
              "    }\n",
              "\n",
              "    .colab-df-convert {\n",
              "      background-color: #E8F0FE;\n",
              "      border: none;\n",
              "      border-radius: 50%;\n",
              "      cursor: pointer;\n",
              "      display: none;\n",
              "      fill: #1967D2;\n",
              "      height: 32px;\n",
              "      padding: 0 0 0 0;\n",
              "      width: 32px;\n",
              "    }\n",
              "\n",
              "    .colab-df-convert:hover {\n",
              "      background-color: #E2EBFA;\n",
              "      box-shadow: 0px 1px 2px rgba(60, 64, 67, 0.3), 0px 1px 3px 1px rgba(60, 64, 67, 0.15);\n",
              "      fill: #174EA6;\n",
              "    }\n",
              "\n",
              "    [theme=dark] .colab-df-convert {\n",
              "      background-color: #3B4455;\n",
              "      fill: #D2E3FC;\n",
              "    }\n",
              "\n",
              "    [theme=dark] .colab-df-convert:hover {\n",
              "      background-color: #434B5C;\n",
              "      box-shadow: 0px 1px 3px 1px rgba(0, 0, 0, 0.15);\n",
              "      filter: drop-shadow(0px 1px 2px rgba(0, 0, 0, 0.3));\n",
              "      fill: #FFFFFF;\n",
              "    }\n",
              "  </style>\n",
              "\n",
              "      <script>\n",
              "        const buttonEl =\n",
              "          document.querySelector('#df-fdf6be5b-a18e-4771-846b-a7c53008860c button.colab-df-convert');\n",
              "        buttonEl.style.display =\n",
              "          google.colab.kernel.accessAllowed ? 'block' : 'none';\n",
              "\n",
              "        async function convertToInteractive(key) {\n",
              "          const element = document.querySelector('#df-fdf6be5b-a18e-4771-846b-a7c53008860c');\n",
              "          const dataTable =\n",
              "            await google.colab.kernel.invokeFunction('convertToInteractive',\n",
              "                                                     [key], {});\n",
              "          if (!dataTable) return;\n",
              "\n",
              "          const docLinkHtml = 'Like what you see? Visit the ' +\n",
              "            '<a target=\"_blank\" href=https://colab.research.google.com/notebooks/data_table.ipynb>data table notebook</a>'\n",
              "            + ' to learn more about interactive tables.';\n",
              "          element.innerHTML = '';\n",
              "          dataTable['output_type'] = 'display_data';\n",
              "          await google.colab.output.renderOutput(dataTable, element);\n",
              "          const docLink = document.createElement('div');\n",
              "          docLink.innerHTML = docLinkHtml;\n",
              "          element.appendChild(docLink);\n",
              "        }\n",
              "      </script>\n",
              "    </div>\n",
              "  </div>\n",
              "  "
            ]
          },
          "metadata": {},
          "execution_count": 20
        }
      ],
      "source": [
        "desc_cols = ['count','min', 'max', 'mean', 'std', 'unique', 'top', 'freq']\n",
        "df.describe(include='all').loc[desc_cols].transpose()"
      ]
    },
    {
      "cell_type": "code",
      "execution_count": 21,
      "metadata": {
        "id": "PW5D39UB5FW4",
        "outputId": "97096525-562b-40f6-d6b3-fb23d36f26b3",
        "colab": {
          "base_uri": "https://localhost:8080/"
        }
      },
      "outputs": [
        {
          "output_type": "stream",
          "name": "stdout",
          "text": [
            "<class 'pandas.core.frame.DataFrame'>\n",
            "RangeIndex: 614 entries, 0 to 613\n",
            "Data columns (total 12 columns):\n",
            " #   Column              Non-Null Count  Dtype  \n",
            "---  ------              --------------  -----  \n",
            " 0   Gender              601 non-null    object \n",
            " 1   Married             611 non-null    object \n",
            " 2   Dependents          599 non-null    object \n",
            " 3   Education           614 non-null    object \n",
            " 4   Self_Employed       582 non-null    object \n",
            " 5   Applicant_Income    614 non-null    int64  \n",
            " 6   Coapplicant_Income  614 non-null    float64\n",
            " 7   Loan_Amount         614 non-null    int64  \n",
            " 8   Term                600 non-null    float64\n",
            " 9   Credit_History      564 non-null    float64\n",
            " 10  Area                614 non-null    object \n",
            " 11  Status              614 non-null    object \n",
            "dtypes: float64(3), int64(2), object(7)\n",
            "memory usage: 57.7+ KB\n"
          ]
        }
      ],
      "source": [
        "df.info()"
      ]
    },
    {
      "cell_type": "markdown",
      "metadata": {
        "id": "4qRz-i5Q5FW5"
      },
      "source": [
        "### Preparing Data For Naive Bayes\n",
        "\n",
        "- If the input variables are real-valued, a **Gaussian distribution** is assumed. In which case the algorithm will perform better if the univariate distributions of your data are Gaussian or near-Gaussian. This may require removing outliers (e g. values that are more than 3 or 4 standard deviations from the mean).\n",
        "- The calculation of the likelihood of different class values involves multiplying a lot of small numbers together. This can lead to an underflow of numerical precision. As such it is good practice to use a **log transform** of the probabilities to avoid this underflow.\n",
        "- Rather than assuming a Gaussian distribution for numerical input values, more complex distributions can be used such as a variety of **kernel density functions**."
      ]
    },
    {
      "cell_type": "code",
      "execution_count": 100,
      "metadata": {
        "id": "Lv0f7tB2e2QA"
      },
      "outputs": [],
      "source": [
        "# Removing the NULL values\n",
        "df.dropna(inplace=True)"
      ]
    },
    {
      "cell_type": "code",
      "execution_count": 101,
      "metadata": {
        "id": "nYm-yiDee2QA"
      },
      "outputs": [],
      "source": [
        "# Removing dublicates\n",
        "df.drop_duplicates(inplace=True)"
      ]
    },
    {
      "cell_type": "code",
      "execution_count": 24,
      "metadata": {
        "colab": {
          "base_uri": "https://localhost:8080/"
        },
        "id": "wba7_fRAe2QA",
        "outputId": "a712f11c-40de-4021-cbb8-67e34644d064"
      },
      "outputs": [
        {
          "output_type": "stream",
          "name": "stdout",
          "text": [
            "<class 'pandas.core.frame.DataFrame'>\n",
            "Int64Index: 499 entries, 0 to 613\n",
            "Data columns (total 12 columns):\n",
            " #   Column              Non-Null Count  Dtype  \n",
            "---  ------              --------------  -----  \n",
            " 0   Gender              499 non-null    object \n",
            " 1   Married             499 non-null    object \n",
            " 2   Dependents          499 non-null    object \n",
            " 3   Education           499 non-null    object \n",
            " 4   Self_Employed       499 non-null    object \n",
            " 5   Applicant_Income    499 non-null    int64  \n",
            " 6   Coapplicant_Income  499 non-null    float64\n",
            " 7   Loan_Amount         499 non-null    int64  \n",
            " 8   Term                499 non-null    float64\n",
            " 9   Credit_History      499 non-null    float64\n",
            " 10  Area                499 non-null    object \n",
            " 11  Status              499 non-null    object \n",
            "dtypes: float64(3), int64(2), object(7)\n",
            "memory usage: 50.7+ KB\n"
          ]
        }
      ],
      "source": [
        "df.info()"
      ]
    },
    {
      "cell_type": "markdown",
      "metadata": {
        "id": "0Fmq65Eze2QA"
      },
      "source": [
        "#### Checking categorical features and turn them into numeric values"
      ]
    },
    {
      "cell_type": "code",
      "execution_count": 25,
      "metadata": {
        "colab": {
          "base_uri": "https://localhost:8080/",
          "height": 175
        },
        "id": "7qujtxJRe2QA",
        "outputId": "beeb17cd-8a7d-4547-ebdf-5d33f9e9c56c"
      },
      "outputs": [
        {
          "output_type": "execute_result",
          "data": {
            "text/plain": [
              "       Gender Married Dependents Education Self_Employed       Area Status\n",
              "count     499     499        499       499           499        499    499\n",
              "unique      2       2          4         2             2          3      2\n",
              "top      Male     Yes          0  Graduate            No  Semiurban      Y\n",
              "freq      411     324        284       395           430        195    341"
            ],
            "text/html": [
              "\n",
              "  <div id=\"df-792cc446-a135-4286-b949-e8ba74c15d22\">\n",
              "    <div class=\"colab-df-container\">\n",
              "      <div>\n",
              "<style scoped>\n",
              "    .dataframe tbody tr th:only-of-type {\n",
              "        vertical-align: middle;\n",
              "    }\n",
              "\n",
              "    .dataframe tbody tr th {\n",
              "        vertical-align: top;\n",
              "    }\n",
              "\n",
              "    .dataframe thead th {\n",
              "        text-align: right;\n",
              "    }\n",
              "</style>\n",
              "<table border=\"1\" class=\"dataframe\">\n",
              "  <thead>\n",
              "    <tr style=\"text-align: right;\">\n",
              "      <th></th>\n",
              "      <th>Gender</th>\n",
              "      <th>Married</th>\n",
              "      <th>Dependents</th>\n",
              "      <th>Education</th>\n",
              "      <th>Self_Employed</th>\n",
              "      <th>Area</th>\n",
              "      <th>Status</th>\n",
              "    </tr>\n",
              "  </thead>\n",
              "  <tbody>\n",
              "    <tr>\n",
              "      <th>count</th>\n",
              "      <td>499</td>\n",
              "      <td>499</td>\n",
              "      <td>499</td>\n",
              "      <td>499</td>\n",
              "      <td>499</td>\n",
              "      <td>499</td>\n",
              "      <td>499</td>\n",
              "    </tr>\n",
              "    <tr>\n",
              "      <th>unique</th>\n",
              "      <td>2</td>\n",
              "      <td>2</td>\n",
              "      <td>4</td>\n",
              "      <td>2</td>\n",
              "      <td>2</td>\n",
              "      <td>3</td>\n",
              "      <td>2</td>\n",
              "    </tr>\n",
              "    <tr>\n",
              "      <th>top</th>\n",
              "      <td>Male</td>\n",
              "      <td>Yes</td>\n",
              "      <td>0</td>\n",
              "      <td>Graduate</td>\n",
              "      <td>No</td>\n",
              "      <td>Semiurban</td>\n",
              "      <td>Y</td>\n",
              "    </tr>\n",
              "    <tr>\n",
              "      <th>freq</th>\n",
              "      <td>411</td>\n",
              "      <td>324</td>\n",
              "      <td>284</td>\n",
              "      <td>395</td>\n",
              "      <td>430</td>\n",
              "      <td>195</td>\n",
              "      <td>341</td>\n",
              "    </tr>\n",
              "  </tbody>\n",
              "</table>\n",
              "</div>\n",
              "      <button class=\"colab-df-convert\" onclick=\"convertToInteractive('df-792cc446-a135-4286-b949-e8ba74c15d22')\"\n",
              "              title=\"Convert this dataframe to an interactive table.\"\n",
              "              style=\"display:none;\">\n",
              "        \n",
              "  <svg xmlns=\"http://www.w3.org/2000/svg\" height=\"24px\"viewBox=\"0 0 24 24\"\n",
              "       width=\"24px\">\n",
              "    <path d=\"M0 0h24v24H0V0z\" fill=\"none\"/>\n",
              "    <path d=\"M18.56 5.44l.94 2.06.94-2.06 2.06-.94-2.06-.94-.94-2.06-.94 2.06-2.06.94zm-11 1L8.5 8.5l.94-2.06 2.06-.94-2.06-.94L8.5 2.5l-.94 2.06-2.06.94zm10 10l.94 2.06.94-2.06 2.06-.94-2.06-.94-.94-2.06-.94 2.06-2.06.94z\"/><path d=\"M17.41 7.96l-1.37-1.37c-.4-.4-.92-.59-1.43-.59-.52 0-1.04.2-1.43.59L10.3 9.45l-7.72 7.72c-.78.78-.78 2.05 0 2.83L4 21.41c.39.39.9.59 1.41.59.51 0 1.02-.2 1.41-.59l7.78-7.78 2.81-2.81c.8-.78.8-2.07 0-2.86zM5.41 20L4 18.59l7.72-7.72 1.47 1.35L5.41 20z\"/>\n",
              "  </svg>\n",
              "      </button>\n",
              "      \n",
              "  <style>\n",
              "    .colab-df-container {\n",
              "      display:flex;\n",
              "      flex-wrap:wrap;\n",
              "      gap: 12px;\n",
              "    }\n",
              "\n",
              "    .colab-df-convert {\n",
              "      background-color: #E8F0FE;\n",
              "      border: none;\n",
              "      border-radius: 50%;\n",
              "      cursor: pointer;\n",
              "      display: none;\n",
              "      fill: #1967D2;\n",
              "      height: 32px;\n",
              "      padding: 0 0 0 0;\n",
              "      width: 32px;\n",
              "    }\n",
              "\n",
              "    .colab-df-convert:hover {\n",
              "      background-color: #E2EBFA;\n",
              "      box-shadow: 0px 1px 2px rgba(60, 64, 67, 0.3), 0px 1px 3px 1px rgba(60, 64, 67, 0.15);\n",
              "      fill: #174EA6;\n",
              "    }\n",
              "\n",
              "    [theme=dark] .colab-df-convert {\n",
              "      background-color: #3B4455;\n",
              "      fill: #D2E3FC;\n",
              "    }\n",
              "\n",
              "    [theme=dark] .colab-df-convert:hover {\n",
              "      background-color: #434B5C;\n",
              "      box-shadow: 0px 1px 3px 1px rgba(0, 0, 0, 0.15);\n",
              "      filter: drop-shadow(0px 1px 2px rgba(0, 0, 0, 0.3));\n",
              "      fill: #FFFFFF;\n",
              "    }\n",
              "  </style>\n",
              "\n",
              "      <script>\n",
              "        const buttonEl =\n",
              "          document.querySelector('#df-792cc446-a135-4286-b949-e8ba74c15d22 button.colab-df-convert');\n",
              "        buttonEl.style.display =\n",
              "          google.colab.kernel.accessAllowed ? 'block' : 'none';\n",
              "\n",
              "        async function convertToInteractive(key) {\n",
              "          const element = document.querySelector('#df-792cc446-a135-4286-b949-e8ba74c15d22');\n",
              "          const dataTable =\n",
              "            await google.colab.kernel.invokeFunction('convertToInteractive',\n",
              "                                                     [key], {});\n",
              "          if (!dataTable) return;\n",
              "\n",
              "          const docLinkHtml = 'Like what you see? Visit the ' +\n",
              "            '<a target=\"_blank\" href=https://colab.research.google.com/notebooks/data_table.ipynb>data table notebook</a>'\n",
              "            + ' to learn more about interactive tables.';\n",
              "          element.innerHTML = '';\n",
              "          dataTable['output_type'] = 'display_data';\n",
              "          await google.colab.output.renderOutput(dataTable, element);\n",
              "          const docLink = document.createElement('div');\n",
              "          docLink.innerHTML = docLinkHtml;\n",
              "          element.appendChild(docLink);\n",
              "        }\n",
              "      </script>\n",
              "    </div>\n",
              "  </div>\n",
              "  "
            ]
          },
          "metadata": {},
          "execution_count": 25
        }
      ],
      "source": [
        "df.describe(include=object)"
      ]
    },
    {
      "cell_type": "code",
      "execution_count": 102,
      "metadata": {
        "colab": {
          "base_uri": "https://localhost:8080/",
          "height": 726
        },
        "id": "-Rkjf7H_e2QA",
        "outputId": "8346d84a-d0d8-47e5-e437-c270e08bc776"
      },
      "outputs": [
        {
          "output_type": "display_data",
          "data": {
            "text/plain": [
              "<Figure size 720x720 with 9 Axes>"
            ],
            "image/png": "[encoded data removed]"
          },
          "metadata": {}
        }
      ],
      "source": [
        "# Creating a list for the categorical features\n",
        "cat_features = ['Gender', 'Married', 'Dependents', 'Education', 'Self_Employed', 'Area', 'Status']\n",
        "\n",
        "# Checking different values in categorical features by plotting them\n",
        "fig, axes = plt.subplots(3, 3, figsize=(10, 10), )\n",
        "fig.suptitle('Categorical Features')\n",
        "sb.countplot(ax=axes[0,0], x=df[cat_features[0]])\n",
        "sb.countplot(ax=axes[0,1], x=df[cat_features[1]])\n",
        "sb.countplot(ax=axes[0,2], x=df[cat_features[2]])\n",
        "sb.countplot(ax=axes[1,0], x=df[cat_features[3]])\n",
        "sb.countplot(ax=axes[1,1], x=df[cat_features[4]])\n",
        "sb.countplot(ax=axes[1,2], x=df[cat_features[5]])\n",
        "sb.countplot(ax=axes[2,0], x=df[cat_features[6]])\n",
        "plt.tight_layout()\n",
        "plt.show()"
      ]
    },
    {
      "cell_type": "code",
      "execution_count": 103,
      "metadata": {
        "id": "p4xhziMS5FW5",
        "colab": {
          "base_uri": "https://localhost:8080/",
          "height": 206
        },
        "outputId": "8bfbc68e-c90b-4c44-8637-3c5dc1de9e1a"
      },
      "outputs": [
        {
          "output_type": "execute_result",
          "data": {
            "text/plain": [
              "   Gender  Married  Dependents  Education  Self_Employed  Applicant_Income  \\\n",
              "0       1        0           0          1              0            584900   \n",
              "1       1        1           1          1              0            458300   \n",
              "2       1        1           0          1              1            300000   \n",
              "3       1        1           0          0              0            258300   \n",
              "4       1        0           0          1              0            600000   \n",
              "\n",
              "   Coapplicant_Income  Loan_Amount   Term  Credit_History  Area  Status  \n",
              "0                 0.0     15000000  360.0             1.0     1       1  \n",
              "1            150800.0     12800000  360.0             1.0     2       0  \n",
              "2                 0.0      6600000  360.0             1.0     1       1  \n",
              "3            235800.0     12000000  360.0             1.0     1       1  \n",
              "4                 0.0     14100000  360.0             1.0     1       1  "
            ],
            "text/html": [
              "\n",
              "  <div id=\"df-b52c926d-8685-4d70-9c22-48b4a77d62b1\">\n",
              "    <div class=\"colab-df-container\">\n",
              "      <div>\n",
              "<style scoped>\n",
              "    .dataframe tbody tr th:only-of-type {\n",
              "        vertical-align: middle;\n",
              "    }\n",
              "\n",
              "    .dataframe tbody tr th {\n",
              "        vertical-align: top;\n",
              "    }\n",
              "\n",
              "    .dataframe thead th {\n",
              "        text-align: right;\n",
              "    }\n",
              "</style>\n",
              "<table border=\"1\" class=\"dataframe\">\n",
              "  <thead>\n",
              "    <tr style=\"text-align: right;\">\n",
              "      <th></th>\n",
              "      <th>Gender</th>\n",
              "      <th>Married</th>\n",
              "      <th>Dependents</th>\n",
              "      <th>Education</th>\n",
              "      <th>Self_Employed</th>\n",
              "      <th>Applicant_Income</th>\n",
              "      <th>Coapplicant_Income</th>\n",
              "      <th>Loan_Amount</th>\n",
              "      <th>Term</th>\n",
              "      <th>Credit_History</th>\n",
              "      <th>Area</th>\n",
              "      <th>Status</th>\n",
              "    </tr>\n",
              "  </thead>\n",
              "  <tbody>\n",
              "    <tr>\n",
              "      <th>0</th>\n",
              "      <td>1</td>\n",
              "      <td>0</td>\n",
              "      <td>0</td>\n",
              "      <td>1</td>\n",
              "      <td>0</td>\n",
              "      <td>584900</td>\n",
              "      <td>0.0</td>\n",
              "      <td>15000000</td>\n",
              "      <td>360.0</td>\n",
              "      <td>1.0</td>\n",
              "      <td>1</td>\n",
              "      <td>1</td>\n",
              "    </tr>\n",
              "    <tr>\n",
              "      <th>1</th>\n",
              "      <td>1</td>\n",
              "      <td>1</td>\n",
              "      <td>1</td>\n",
              "      <td>1</td>\n",
              "      <td>0</td>\n",
              "      <td>458300</td>\n",
              "      <td>150800.0</td>\n",
              "      <td>12800000</td>\n",
              "      <td>360.0</td>\n",
              "      <td>1.0</td>\n",
              "      <td>2</td>\n",
              "      <td>0</td>\n",
              "    </tr>\n",
              "    <tr>\n",
              "      <th>2</th>\n",
              "      <td>1</td>\n",
              "      <td>1</td>\n",
              "      <td>0</td>\n",
              "      <td>1</td>\n",
              "      <td>1</td>\n",
              "      <td>300000</td>\n",
              "      <td>0.0</td>\n",
              "      <td>6600000</td>\n",
              "      <td>360.0</td>\n",
              "      <td>1.0</td>\n",
              "      <td>1</td>\n",
              "      <td>1</td>\n",
              "    </tr>\n",
              "    <tr>\n",
              "      <th>3</th>\n",
              "      <td>1</td>\n",
              "      <td>1</td>\n",
              "      <td>0</td>\n",
              "      <td>0</td>\n",
              "      <td>0</td>\n",
              "      <td>258300</td>\n",
              "      <td>235800.0</td>\n",
              "      <td>12000000</td>\n",
              "      <td>360.0</td>\n",
              "      <td>1.0</td>\n",
              "      <td>1</td>\n",
              "      <td>1</td>\n",
              "    </tr>\n",
              "    <tr>\n",
              "      <th>4</th>\n",
              "      <td>1</td>\n",
              "      <td>0</td>\n",
              "      <td>0</td>\n",
              "      <td>1</td>\n",
              "      <td>0</td>\n",
              "      <td>600000</td>\n",
              "      <td>0.0</td>\n",
              "      <td>14100000</td>\n",
              "      <td>360.0</td>\n",
              "      <td>1.0</td>\n",
              "      <td>1</td>\n",
              "      <td>1</td>\n",
              "    </tr>\n",
              "  </tbody>\n",
              "</table>\n",
              "</div>\n",
              "      <button class=\"colab-df-convert\" onclick=\"convertToInteractive('df-b52c926d-8685-4d70-9c22-48b4a77d62b1')\"\n",
              "              title=\"Convert this dataframe to an interactive table.\"\n",
              "              style=\"display:none;\">\n",
              "        \n",
              "  <svg xmlns=\"http://www.w3.org/2000/svg\" height=\"24px\"viewBox=\"0 0 24 24\"\n",
              "       width=\"24px\">\n",
              "    <path d=\"M0 0h24v24H0V0z\" fill=\"none\"/>\n",
              "    <path d=\"M18.56 5.44l.94 2.06.94-2.06 2.06-.94-2.06-.94-.94-2.06-.94 2.06-2.06.94zm-11 1L8.5 8.5l.94-2.06 2.06-.94-2.06-.94L8.5 2.5l-.94 2.06-2.06.94zm10 10l.94 2.06.94-2.06 2.06-.94-2.06-.94-.94-2.06-.94 2.06-2.06.94z\"/><path d=\"M17.41 7.96l-1.37-1.37c-.4-.4-.92-.59-1.43-.59-.52 0-1.04.2-1.43.59L10.3 9.45l-7.72 7.72c-.78.78-.78 2.05 0 2.83L4 21.41c.39.39.9.59 1.41.59.51 0 1.02-.2 1.41-.59l7.78-7.78 2.81-2.81c.8-.78.8-2.07 0-2.86zM5.41 20L4 18.59l7.72-7.72 1.47 1.35L5.41 20z\"/>\n",
              "  </svg>\n",
              "      </button>\n",
              "      \n",
              "  <style>\n",
              "    .colab-df-container {\n",
              "      display:flex;\n",
              "      flex-wrap:wrap;\n",
              "      gap: 12px;\n",
              "    }\n",
              "\n",
              "    .colab-df-convert {\n",
              "      background-color: #E8F0FE;\n",
              "      border: none;\n",
              "      border-radius: 50%;\n",
              "      cursor: pointer;\n",
              "      display: none;\n",
              "      fill: #1967D2;\n",
              "      height: 32px;\n",
              "      padding: 0 0 0 0;\n",
              "      width: 32px;\n",
              "    }\n",
              "\n",
              "    .colab-df-convert:hover {\n",
              "      background-color: #E2EBFA;\n",
              "      box-shadow: 0px 1px 2px rgba(60, 64, 67, 0.3), 0px 1px 3px 1px rgba(60, 64, 67, 0.15);\n",
              "      fill: #174EA6;\n",
              "    }\n",
              "\n",
              "    [theme=dark] .colab-df-convert {\n",
              "      background-color: #3B4455;\n",
              "      fill: #D2E3FC;\n",
              "    }\n",
              "\n",
              "    [theme=dark] .colab-df-convert:hover {\n",
              "      background-color: #434B5C;\n",
              "      box-shadow: 0px 1px 3px 1px rgba(0, 0, 0, 0.15);\n",
              "      filter: drop-shadow(0px 1px 2px rgba(0, 0, 0, 0.3));\n",
              "      fill: #FFFFFF;\n",
              "    }\n",
              "  </style>\n",
              "\n",
              "      <script>\n",
              "        const buttonEl =\n",
              "          document.querySelector('#df-b52c926d-8685-4d70-9c22-48b4a77d62b1 button.colab-df-convert');\n",
              "        buttonEl.style.display =\n",
              "          google.colab.kernel.accessAllowed ? 'block' : 'none';\n",
              "\n",
              "        async function convertToInteractive(key) {\n",
              "          const element = document.querySelector('#df-b52c926d-8685-4d70-9c22-48b4a77d62b1');\n",
              "          const dataTable =\n",
              "            await google.colab.kernel.invokeFunction('convertToInteractive',\n",
              "                                                     [key], {});\n",
              "          if (!dataTable) return;\n",
              "\n",
              "          const docLinkHtml = 'Like what you see? Visit the ' +\n",
              "            '<a target=\"_blank\" href=https://colab.research.google.com/notebooks/data_table.ipynb>data table notebook</a>'\n",
              "            + ' to learn more about interactive tables.';\n",
              "          element.innerHTML = '';\n",
              "          dataTable['output_type'] = 'display_data';\n",
              "          await google.colab.output.renderOutput(dataTable, element);\n",
              "          const docLink = document.createElement('div');\n",
              "          docLink.innerHTML = docLinkHtml;\n",
              "          element.appendChild(docLink);\n",
              "        }\n",
              "      </script>\n",
              "    </div>\n",
              "  </div>\n",
              "  "
            ]
          },
          "metadata": {},
          "execution_count": 103
        }
      ],
      "source": [
        "# Mapping string values to numeric values\n",
        "df.replace({'Gender': {'Male':1, 'Female':0}, \n",
        "            'Married': {'Yes':1, 'No':0}, \n",
        "            'Education': {'Graduate':1, 'Not Graduate': 0},\n",
        "           'Self_Employed': {'Yes':1, 'No':0},\n",
        "           'Area': {'Semiurban':0, 'Urban': 1, 'Rural':2},\n",
        "           'Status': {'Y':1, 'N':0},\n",
        "           'Dependents': {'0':0, '1':1, '2':2, '3':3, '3+':4}}, inplace=True)\n",
        "df.head()"
      ]
    },
    {
      "cell_type": "markdown",
      "metadata": {
        "id": "khjNDzUfe2QA"
      },
      "source": [
        "#### Checking numerical features"
      ]
    },
    {
      "cell_type": "code",
      "execution_count": 28,
      "metadata": {
        "id": "w6sP8luK5FW5",
        "colab": {
          "base_uri": "https://localhost:8080/",
          "height": 585
        },
        "outputId": "4d71d924-8794-4ef2-a88d-f60ce944d14a"
      },
      "outputs": [
        {
          "output_type": "display_data",
          "data": {
            "text/plain": [
              "<Figure size 576x576 with 4 Axes>"
            ],
            "image/png": "[encoded data removed]"
          },
          "metadata": {}
        }
      ],
      "source": [
        "# Creating a list for the numeric features\n",
        "nmr_features = ['Applicant_Income', 'Coapplicant_Income', 'Loan_Amount', 'Term']\n",
        "\n",
        "# Plotting the distribution\n",
        "fig, axes = plt.subplots(2, 2, figsize=(8,8))\n",
        "fig.suptitle('Distribution of Numeric Features')\n",
        "sb.histplot(ax=axes[0,0], x=df[nmr_features[0]], kde=True)\n",
        "sb.histplot(ax=axes[0,1], x=df[nmr_features[1]], kde=True)\n",
        "sb.histplot(ax=axes[1,0], x=df[nmr_features[2]], kde=True)\n",
        "sb.histplot(ax=axes[1,1], x=df[nmr_features[3]], kde=True)\n",
        "plt.tight_layout()\n",
        "plt.show()"
      ]
    },
    {
      "cell_type": "code",
      "execution_count": 29,
      "metadata": {
        "id": "U6pwhx1C5FW5",
        "colab": {
          "base_uri": "https://localhost:8080/",
          "height": 277
        },
        "outputId": "3aed2992-b113-4d47-b98d-ebc8086b3ca3"
      },
      "outputs": [
        {
          "output_type": "display_data",
          "data": {
            "text/plain": [
              "<Figure size 432x288 with 1 Axes>"
            ],
            "image/png": "[encoded data removed]"
          },
          "metadata": {}
        }
      ],
      "source": [
        "sb.boxplot(data=df[nmr_features])\n",
        "plt.show()"
      ]
    },
    {
      "cell_type": "code",
      "execution_count": 104,
      "metadata": {
        "id": "xUh_oHxVe2QA"
      },
      "outputs": [],
      "source": [
        "# Before moving forward with outlier detection and transformation\n",
        "# first we'll split the dataset into train and test sets not to cause\n",
        "# any data leakage\n",
        "\n",
        "from sklearn.model_selection import train_test_split\n",
        "\n",
        "x = df.drop('Status', axis=1)\n",
        "y = df['Status']\n",
        "\n",
        "x_train, x_test, y_train, y_test = train_test_split(x, y, test_size=0.2, shuffle=True, random_state=101, stratify=y)"
      ]
    },
    {
      "cell_type": "markdown",
      "source": [
        "### Creating Baseline\n",
        "\n",
        "We'll check the baseline as prediction performance of the model wihtout data wrangling, to see if there is any space the improve the performance."
      ],
      "metadata": {
        "id": "N4YOecgp5p4Q"
      }
    },
    {
      "cell_type": "code",
      "source": [
        "model = GaussianNB()\n",
        "model.fit(x_train, y_train)\n",
        "y_hat = model.predict(x_test)\n",
        "acc = accuracy_score(y_test, y_hat) * 100\n",
        "print('Accuracy: {:.2f}%'.format(acc))"
      ],
      "metadata": {
        "colab": {
          "base_uri": "https://localhost:8080/"
        },
        "id": "b5uRhFEa4u_5",
        "outputId": "03c7828c-7f0a-4484-b869-b2414b459d75"
      },
      "execution_count": 107,
      "outputs": [
        {
          "output_type": "stream",
          "name": "stdout",
          "text": [
            "Accuracy: 72.00%\n"
          ]
        }
      ]
    },
    {
      "cell_type": "code",
      "source": [
        "from sklearn.metrics import classification_report\n",
        "from sklearn.metrics import confusion_matrix"
      ],
      "metadata": {
        "id": "JdbmD5td4uQX"
      },
      "execution_count": 111,
      "outputs": []
    },
    {
      "cell_type": "code",
      "source": [
        "print(classification_report(y_test, y_hat))"
      ],
      "metadata": {
        "colab": {
          "base_uri": "https://localhost:8080/"
        },
        "id": "oj-2hmcH62Ji",
        "outputId": "55f305c1-400c-4b6d-97ab-712d72af0ec6"
      },
      "execution_count": 109,
      "outputs": [
        {
          "output_type": "stream",
          "name": "stdout",
          "text": [
            "              precision    recall  f1-score   support\n",
            "\n",
            "           0       0.75      0.19      0.30        32\n",
            "           1       0.72      0.97      0.82        68\n",
            "\n",
            "    accuracy                           0.72       100\n",
            "   macro avg       0.73      0.58      0.56       100\n",
            "weighted avg       0.73      0.72      0.66       100\n",
            "\n"
          ]
        }
      ]
    },
    {
      "cell_type": "code",
      "source": [
        "# Display the confusion matrix\n",
        "cm = confusion_matrix(y_test, y_hat)\n",
        "labels = ['N', 'Y']\n",
        "pred_labels = [l for l in labels]\n",
        "cm_df = pd.DataFrame(cm, index=labels, columns=pred_labels)\n",
        "\n",
        "sb.set(font_scale=1.5)\n",
        "plt.figure(figsize=(12,8))\n",
        "sb.heatmap(cm_df, annot=True, fmt='d')\n",
        "plt.xlabel('Predictions', fontsize=12)\n",
        "plt.ylabel('Actual Values', fontsize=12)\n",
        "plt.show()"
      ],
      "metadata": {
        "colab": {
          "base_uri": "https://localhost:8080/",
          "height": 510
        },
        "id": "CmwoBkpn6-5l",
        "outputId": "da7545b1-703a-470e-93c4-e1b8581374c0"
      },
      "execution_count": 116,
      "outputs": [
        {
          "output_type": "display_data",
          "data": {
            "text/plain": [
              "<Figure size 864x576 with 2 Axes>"
            ],
            "image/png": "[encoded data removed]"
          },
          "metadata": {}
        }
      ]
    },
    {
      "cell_type": "markdown",
      "source": [
        "🔎 **Observation:** As can be seen from the above metrics, the model has 72% of overall accuracy and it doesn't catch the performance on predicting 0s (Ns) as it predicts 1s (Ys). To imporve this, we'll first remove the outliers than train the model again to check if there is any improvements."
      ],
      "metadata": {
        "id": "vyHLFBQ1_a9g"
      }
    },
    {
      "cell_type": "code",
      "source": [
        "fig, axes = plt.subplots(1, 1, figsize=(8, 6))\n",
        "fig.suptitle('Applicant Income')\n",
        "ax = sb.histplot(x=x_train['Applicant_Income'], kde=True)\n",
        "ax2 = ax.twinx()\n",
        "sb.boxplot(x=x_train['Applicant_Income'], ax=ax2)\n",
        "ax2.set(ylim=(-.5, 10))\n",
        "plt.tight_layout()\n",
        "plt.show()"
      ],
      "metadata": {
        "colab": {
          "base_uri": "https://localhost:8080/",
          "height": 443
        },
        "id": "yvS6Ew9sv_ON",
        "outputId": "9f8df521-57af-4906-c6a9-444ece696e9d"
      },
      "execution_count": 68,
      "outputs": [
        {
          "output_type": "display_data",
          "data": {
            "text/plain": [
              "<Figure size 576x432 with 2 Axes>"
            ],
            "image/png": "[encoded data removed]"
          },
          "metadata": {}
        }
      ]
    },
    {
      "cell_type": "code",
      "execution_count": 62,
      "metadata": {
        "id": "DDEJKhUHe2QB"
      },
      "outputs": [],
      "source": [
        "x_train = x_train[x_train['Applicant_Income'] <= 200000]"
      ]
    },
    {
      "cell_type": "code",
      "execution_count": 69,
      "metadata": {
        "colab": {
          "base_uri": "https://localhost:8080/",
          "height": 443
        },
        "id": "S6UEEhJCe2QB",
        "outputId": "e59b09f7-ef75-4529-ef30-425735c6dc1b"
      },
      "outputs": [
        {
          "output_type": "display_data",
          "data": {
            "text/plain": [
              "<Figure size 576x432 with 2 Axes>"
            ],
            "image/png": "[encoded data removed]"
          },
          "metadata": {}
        }
      ],
      "source": [
        "fig, axes = plt.subplots(1, 1, figsize=(8, 6))\n",
        "fig.suptitle('Applicant Income')\n",
        "ax = sb.histplot(x=x_train['Applicant_Income'], kde=True)\n",
        "ax2 = ax.twinx()\n",
        "sb.boxplot(x=x_train['Applicant_Income'], ax=ax2)\n",
        "ax2.set(ylim=(-.5, 10))\n",
        "plt.tight_layout()\n",
        "plt.show()"
      ]
    },
    {
      "cell_type": "code",
      "source": [
        "fig, axes = plt.subplots(1, 1, figsize=(8, 6))\n",
        "fig.suptitle('Coapplicant Income')\n",
        "ax = sb.histplot(x=x_train['Coapplicant_Income'], kde=True)\n",
        "ax2 = ax.twinx()\n",
        "sb.boxplot(x=x_train['Coapplicant_Income'], ax=ax2)\n",
        "ax2.set(ylim=(-.5, 10))\n",
        "plt.tight_layout()\n",
        "plt.show()"
      ],
      "metadata": {
        "colab": {
          "base_uri": "https://localhost:8080/",
          "height": 443
        },
        "id": "9u-vSPKV3heV",
        "outputId": "61940a86-ca28-4247-8f69-6235f214605d"
      },
      "execution_count": 70,
      "outputs": [
        {
          "output_type": "display_data",
          "data": {
            "text/plain": [
              "<Figure size 576x432 with 2 Axes>"
            ],
            "image/png": "[encoded data removed]"
          },
          "metadata": {}
        }
      ]
    },
    {
      "cell_type": "code",
      "source": [
        "x_train = x_train[x_train['Coapplicant_Income'] <= 200000]\n",
        "fig, axes = plt.subplots(1, 1, figsize=(8, 6))\n",
        "fig.suptitle('Coapplicant Income')\n",
        "ax = sb.histplot(x=x_train['Coapplicant_Income'], kde=True)\n",
        "ax2 = ax.twinx()\n",
        "sb.boxplot(x=x_train['Coapplicant_Income'], ax=ax2)\n",
        "ax2.set(ylim=(-.5, 10))\n",
        "plt.tight_layout()\n",
        "plt.show()"
      ],
      "metadata": {
        "colab": {
          "base_uri": "https://localhost:8080/",
          "height": 443
        },
        "id": "5OiM5fUX3hZU",
        "outputId": "93ba2c8e-4ea6-49ad-d323-f3882b00d289"
      },
      "execution_count": 65,
      "outputs": [
        {
          "output_type": "display_data",
          "data": {
            "text/plain": [
              "<Figure size 576x432 with 2 Axes>"
            ],
            "image/png": "[encoded data removed]"
          },
          "metadata": {}
        }
      ]
    },
    {
      "cell_type": "code",
      "source": [
        "fig, axes = plt.subplots(1, 1, figsize=(8, 6))\n",
        "fig.suptitle('Loan Amount')\n",
        "ax = sb.histplot(x=x_train['Loan_Amount'], kde=True)\n",
        "ax2 = ax.twinx()\n",
        "sb.boxplot(x=x_train['Loan_Amount'], ax=ax2)\n",
        "ax2.set(ylim=(-.5, 10))\n",
        "plt.tight_layout()\n",
        "plt.show()"
      ],
      "metadata": {
        "colab": {
          "base_uri": "https://localhost:8080/",
          "height": 443
        },
        "id": "UEuiJw1Z3hUS",
        "outputId": "046911f8-d5c2-4bfc-bf74-2c55a1bbdd82"
      },
      "execution_count": 71,
      "outputs": [
        {
          "output_type": "display_data",
          "data": {
            "text/plain": [
              "<Figure size 576x432 with 2 Axes>"
            ],
            "image/png": "[encoded data removed]"
          },
          "metadata": {}
        }
      ]
    },
    {
      "cell_type": "code",
      "source": [],
      "metadata": {
        "id": "no-49q6Z4sfv"
      },
      "execution_count": null,
      "outputs": []
    },
    {
      "cell_type": "code",
      "source": [],
      "metadata": {
        "id": "WTczx62P3hRl"
      },
      "execution_count": null,
      "outputs": []
    },
    {
      "cell_type": "code",
      "source": [],
      "metadata": {
        "id": "Uku9B-eW3hJq"
      },
      "execution_count": null,
      "outputs": []
    },
    {
      "cell_type": "code",
      "source": [],
      "metadata": {
        "id": "PyVoAQ7q3guz"
      },
      "execution_count": null,
      "outputs": []
    },
    {
      "cell_type": "code",
      "source": [],
      "metadata": {
        "id": "gBWtqoPZ3ghc"
      },
      "execution_count": null,
      "outputs": []
    },
    {
      "cell_type": "code",
      "source": [],
      "metadata": {
        "id": "59jBRc3K3gWh"
      },
      "execution_count": null,
      "outputs": []
    },
    {
      "cell_type": "markdown",
      "metadata": {
        "id": "M_IDQrr9-hu3"
      },
      "source": [
        "## References\n",
        "\n",
        "[1] [Master Machine Learning Algorithms](https://machinelearningmastery.com/master-machine-learning-algorithms/)\n",
        "\n",
        "[2] [Normal distribution](https://en.wikipedia.org/wiki/Normal_distribution)"
      ]
    },
    {
      "cell_type": "code",
      "execution_count": null,
      "metadata": {
        "id": "Mi-DJv8K-lQL"
      },
      "outputs": [],
      "source": []
    }
  ],
  "metadata": {
    "colab": {
      "provenance": []
    },
    "kernelspec": {
      "display_name": "Python 3 (ipykernel)",
      "language": "python",
      "name": "python3"
    },
    "language_info": {
      "codemirror_mode": {
        "name": "ipython",
        "version": 3
      },
      "file_extension": ".py",
      "mimetype": "text/x-python",
      "name": "python",
      "nbconvert_exporter": "python",
      "pygments_lexer": "ipython3",
      "version": "3.10.6"
    }
  },
  "nbformat": 4,
  "nbformat_minor": 0
}