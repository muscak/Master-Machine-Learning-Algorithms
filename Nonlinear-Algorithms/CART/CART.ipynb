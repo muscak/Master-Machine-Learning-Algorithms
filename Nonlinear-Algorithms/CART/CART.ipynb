{
  "cells": [
    {
      "cell_type": "markdown",
      "id": "60d372d0-d52b-4dfd-9862-d49f3a70decf",
      "metadata": {
        "id": "60d372d0-d52b-4dfd-9862-d49f3a70decf"
      },
      "source": [
        "# Classification and Regression Trees (CART)\n",
        "\n",
        "<center><img src='https://github.com/muscak/Master-Machine-Learning-Algorithms/blob/master/Nonlinear-Algorithms/CART/decision-tree.png?raw=1' width='250' alt='Simple Decision Tree'></img></center>\n",
        "\n",
        "Decision tree learning is a supervised learning approach used in statistics, data mining and machine learning. In this formalism, a classification or regression decision tree is used as a predictive model to draw conclusions about a set of observations.\n",
        "\n",
        "Tree models where the target variable can take a discrete set of values are called classification trees; in these tree structures, leaves represent class labels and branches represent conjunctions of features that lead to those class labels. Decision trees where the target variable can take continuous values (typically real numbers) are called regression trees[[1]](https://en.wikipedia.org/wiki/Decision_tree_learning).\n",
        "\n"
      ]
    },
    {
      "cell_type": "markdown",
      "id": "c5d147c2-fa2a-4322-b427-20e28681f9e7",
      "metadata": {
        "id": "c5d147c2-fa2a-4322-b427-20e28681f9e7"
      },
      "source": [
        "## Table of Contents"
      ]
    },
    {
      "cell_type": "markdown",
      "id": "19c22c93-4786-40c9-af6f-e36d9745c990",
      "metadata": {
        "id": "19c22c93-4786-40c9-af6f-e36d9745c990"
      },
      "source": [
        "## Introductions<a id='introduction'></a>"
      ]
    },
    {
      "cell_type": "markdown",
      "id": "048f296f-b571-4e19-bfff-c446bedb678d",
      "metadata": {
        "id": "048f296f-b571-4e19-bfff-c446bedb678d"
      },
      "source": [
        "## Import Libraries<a id='libraries'></a>"
      ]
    },
    {
      "cell_type": "code",
      "execution_count": 1,
      "id": "9e242371-e5b5-4fb0-a4fe-2c885efe0f38",
      "metadata": {
        "colab": {
          "base_uri": "https://localhost:8080/",
          "height": 34
        },
        "id": "9e242371-e5b5-4fb0-a4fe-2c885efe0f38",
        "outputId": "b41310e9-086f-4397-efb1-86df789b8ba1"
      },
      "outputs": [
        {
          "output_type": "display_data",
          "data": {
            "text/plain": [
              "<Figure size 432x288 with 0 Axes>"
            ]
          },
          "metadata": {}
        }
      ],
      "source": [
        "import pandas as pd\n",
        "import numpy as np\n",
        "import matplotlib.pyplot as plt\n",
        "%matplotlib inline\n",
        "import seaborn as sb\n",
        "sb.set_style('whitegrid')\n",
        "sb.despine(offset=10, trim=True);"
      ]
    },
    {
      "cell_type": "markdown",
      "id": "2e2c4862-5a37-492c-aa25-673e4b994948",
      "metadata": {
        "id": "2e2c4862-5a37-492c-aa25-673e4b994948"
      },
      "source": [
        "## Load Sample Data<a id='sampledata'>"
      ]
    },
    {
      "cell_type": "code",
      "execution_count": 27,
      "id": "ca7f01f6-b183-4677-98a5-2301abc44005",
      "metadata": {
        "colab": {
          "base_uri": "https://localhost:8080/",
          "height": 363
        },
        "id": "ca7f01f6-b183-4677-98a5-2301abc44005",
        "outputId": "c6bb3cdb-fca8-4792-c01f-ba9f00641403"
      },
      "outputs": [
        {
          "output_type": "execute_result",
          "data": {
            "text/plain": [
              "          x1        x2  y\n",
              "0   2.771245  1.784784  0\n",
              "1   1.728571  1.169761  0\n",
              "2   3.678320  2.812814  0\n",
              "3   3.961043  2.619950  0\n",
              "4   2.999209  2.209014  0\n",
              "5   7.497546  3.162954  1\n",
              "6   9.002203  3.339047  1\n",
              "7   7.444542  0.476683  1\n",
              "8  10.124939  3.234551  1\n",
              "9   6.642287  3.319984  1"
            ],
            "text/html": [
              "\n",
              "  <div id=\"df-7eed19ec-2300-4f33-97a8-2953319981a5\">\n",
              "    <div class=\"colab-df-container\">\n",
              "      <div>\n",
              "<style scoped>\n",
              "    .dataframe tbody tr th:only-of-type {\n",
              "        vertical-align: middle;\n",
              "    }\n",
              "\n",
              "    .dataframe tbody tr th {\n",
              "        vertical-align: top;\n",
              "    }\n",
              "\n",
              "    .dataframe thead th {\n",
              "        text-align: right;\n",
              "    }\n",
              "</style>\n",
              "<table border=\"1\" class=\"dataframe\">\n",
              "  <thead>\n",
              "    <tr style=\"text-align: right;\">\n",
              "      <th></th>\n",
              "      <th>x1</th>\n",
              "      <th>x2</th>\n",
              "      <th>y</th>\n",
              "    </tr>\n",
              "  </thead>\n",
              "  <tbody>\n",
              "    <tr>\n",
              "      <th>0</th>\n",
              "      <td>2.771245</td>\n",
              "      <td>1.784784</td>\n",
              "      <td>0</td>\n",
              "    </tr>\n",
              "    <tr>\n",
              "      <th>1</th>\n",
              "      <td>1.728571</td>\n",
              "      <td>1.169761</td>\n",
              "      <td>0</td>\n",
              "    </tr>\n",
              "    <tr>\n",
              "      <th>2</th>\n",
              "      <td>3.678320</td>\n",
              "      <td>2.812814</td>\n",
              "      <td>0</td>\n",
              "    </tr>\n",
              "    <tr>\n",
              "      <th>3</th>\n",
              "      <td>3.961043</td>\n",
              "      <td>2.619950</td>\n",
              "      <td>0</td>\n",
              "    </tr>\n",
              "    <tr>\n",
              "      <th>4</th>\n",
              "      <td>2.999209</td>\n",
              "      <td>2.209014</td>\n",
              "      <td>0</td>\n",
              "    </tr>\n",
              "    <tr>\n",
              "      <th>5</th>\n",
              "      <td>7.497546</td>\n",
              "      <td>3.162954</td>\n",
              "      <td>1</td>\n",
              "    </tr>\n",
              "    <tr>\n",
              "      <th>6</th>\n",
              "      <td>9.002203</td>\n",
              "      <td>3.339047</td>\n",
              "      <td>1</td>\n",
              "    </tr>\n",
              "    <tr>\n",
              "      <th>7</th>\n",
              "      <td>7.444542</td>\n",
              "      <td>0.476683</td>\n",
              "      <td>1</td>\n",
              "    </tr>\n",
              "    <tr>\n",
              "      <th>8</th>\n",
              "      <td>10.124939</td>\n",
              "      <td>3.234551</td>\n",
              "      <td>1</td>\n",
              "    </tr>\n",
              "    <tr>\n",
              "      <th>9</th>\n",
              "      <td>6.642287</td>\n",
              "      <td>3.319984</td>\n",
              "      <td>1</td>\n",
              "    </tr>\n",
              "  </tbody>\n",
              "</table>\n",
              "</div>\n",
              "      <button class=\"colab-df-convert\" onclick=\"convertToInteractive('df-7eed19ec-2300-4f33-97a8-2953319981a5')\"\n",
              "              title=\"Convert this dataframe to an interactive table.\"\n",
              "              style=\"display:none;\">\n",
              "        \n",
              "  <svg xmlns=\"http://www.w3.org/2000/svg\" height=\"24px\"viewBox=\"0 0 24 24\"\n",
              "       width=\"24px\">\n",
              "    <path d=\"M0 0h24v24H0V0z\" fill=\"none\"/>\n",
              "    <path d=\"M18.56 5.44l.94 2.06.94-2.06 2.06-.94-2.06-.94-.94-2.06-.94 2.06-2.06.94zm-11 1L8.5 8.5l.94-2.06 2.06-.94-2.06-.94L8.5 2.5l-.94 2.06-2.06.94zm10 10l.94 2.06.94-2.06 2.06-.94-2.06-.94-.94-2.06-.94 2.06-2.06.94z\"/><path d=\"M17.41 7.96l-1.37-1.37c-.4-.4-.92-.59-1.43-.59-.52 0-1.04.2-1.43.59L10.3 9.45l-7.72 7.72c-.78.78-.78 2.05 0 2.83L4 21.41c.39.39.9.59 1.41.59.51 0 1.02-.2 1.41-.59l7.78-7.78 2.81-2.81c.8-.78.8-2.07 0-2.86zM5.41 20L4 18.59l7.72-7.72 1.47 1.35L5.41 20z\"/>\n",
              "  </svg>\n",
              "      </button>\n",
              "      \n",
              "  <style>\n",
              "    .colab-df-container {\n",
              "      display:flex;\n",
              "      flex-wrap:wrap;\n",
              "      gap: 12px;\n",
              "    }\n",
              "\n",
              "    .colab-df-convert {\n",
              "      background-color: #E8F0FE;\n",
              "      border: none;\n",
              "      border-radius: 50%;\n",
              "      cursor: pointer;\n",
              "      display: none;\n",
              "      fill: #1967D2;\n",
              "      height: 32px;\n",
              "      padding: 0 0 0 0;\n",
              "      width: 32px;\n",
              "    }\n",
              "\n",
              "    .colab-df-convert:hover {\n",
              "      background-color: #E2EBFA;\n",
              "      box-shadow: 0px 1px 2px rgba(60, 64, 67, 0.3), 0px 1px 3px 1px rgba(60, 64, 67, 0.15);\n",
              "      fill: #174EA6;\n",
              "    }\n",
              "\n",
              "    [theme=dark] .colab-df-convert {\n",
              "      background-color: #3B4455;\n",
              "      fill: #D2E3FC;\n",
              "    }\n",
              "\n",
              "    [theme=dark] .colab-df-convert:hover {\n",
              "      background-color: #434B5C;\n",
              "      box-shadow: 0px 1px 3px 1px rgba(0, 0, 0, 0.15);\n",
              "      filter: drop-shadow(0px 1px 2px rgba(0, 0, 0, 0.3));\n",
              "      fill: #FFFFFF;\n",
              "    }\n",
              "  </style>\n",
              "\n",
              "      <script>\n",
              "        const buttonEl =\n",
              "          document.querySelector('#df-7eed19ec-2300-4f33-97a8-2953319981a5 button.colab-df-convert');\n",
              "        buttonEl.style.display =\n",
              "          google.colab.kernel.accessAllowed ? 'block' : 'none';\n",
              "\n",
              "        async function convertToInteractive(key) {\n",
              "          const element = document.querySelector('#df-7eed19ec-2300-4f33-97a8-2953319981a5');\n",
              "          const dataTable =\n",
              "            await google.colab.kernel.invokeFunction('convertToInteractive',\n",
              "                                                     [key], {});\n",
              "          if (!dataTable) return;\n",
              "\n",
              "          const docLinkHtml = 'Like what you see? Visit the ' +\n",
              "            '<a target=\"_blank\" href=https://colab.research.google.com/notebooks/data_table.ipynb>data table notebook</a>'\n",
              "            + ' to learn more about interactive tables.';\n",
              "          element.innerHTML = '';\n",
              "          dataTable['output_type'] = 'display_data';\n",
              "          await google.colab.output.renderOutput(dataTable, element);\n",
              "          const docLink = document.createElement('div');\n",
              "          docLink.innerHTML = docLinkHtml;\n",
              "          element.appendChild(docLink);\n",
              "        }\n",
              "      </script>\n",
              "    </div>\n",
              "  </div>\n",
              "  "
            ]
          },
          "metadata": {},
          "execution_count": 27
        }
      ],
      "source": [
        "x1 = [2.771244718, 1.728571309, 3.678319846, 3.961043357, 2.999208922, 7.497545867, 9.00220326, 7.444542326, 10.12493903, \n",
        "      6.642287351]\n",
        "x2 = [1.784783929, 1.169761413, 2.81281357, 2.61995032, 2.209014212, 3.162953546, 3.339047188, 0.476683375, 3.234550982, \n",
        "      3.319983761]\n",
        "y = [0, 0, 0, 0,0, 1, 1, 1, 1, 1]\n",
        "\n",
        "df_train = pd.DataFrame(zip(x1, x2, y), columns=['x1', 'x2', 'y'])\n",
        "\n",
        "df_train"
      ]
    },
    {
      "cell_type": "code",
      "execution_count": 3,
      "id": "0185114c-3c7b-4922-b849-f6ca1d1c7f26",
      "metadata": {
        "colab": {
          "base_uri": "https://localhost:8080/",
          "height": 282
        },
        "id": "0185114c-3c7b-4922-b849-f6ca1d1c7f26",
        "outputId": "fae5d714-b657-4a1f-a320-9b73eecc72dc"
      },
      "outputs": [
        {
          "output_type": "display_data",
          "data": {
            "text/plain": [
              "<Figure size 432x288 with 1 Axes>"
            ],
            "image/png": "[encoded data removed]"
          },
          "metadata": {}
        }
      ],
      "source": [
        "sb.scatterplot(data=df_train, x='x1', y='x2', hue='y')\n",
        "plt.xlabel('$x_1$', fontsize=12)\n",
        "plt.ylabel('$x_2$', fontsize=12)\n",
        "plt.show()"
      ]
    },
    {
      "cell_type": "markdown",
      "id": "5cd39148-e072-499a-b72d-c88ebb92495d",
      "metadata": {
        "id": "5cd39148-e072-499a-b72d-c88ebb92495d"
      },
      "source": [
        "## Manual Implementation of CART<a id='manual'></a>\n",
        "\n",
        "The CART model is learned by looking for split points in the data. A split point is a single value of a single attribute. Partitioning data at a split point involves separating all data at that node into two groups, left of the split point and right of the split point.\n",
        "\n",
        "### Gini Index Cost Function\n",
        "$$G = \\sum\\limits_{k=1}^{n}p_k \\times (1-p_k)$$\n",
        "\n",
        "Where $G$ is the Gini index over all classes, $p_k$ are the proportion of training instances with class $k$. A node that has all classes of the same type (perfect class purity) will have G = 0, where as a G that has a 50-50 split of classes for a binary classification problem (worst purity) will have a G = 0.5. Therefore, the **Gini Index** is **the most important component** for the performance of a classification and regression tree."
      ]
    },
    {
      "cell_type": "code",
      "execution_count": 26,
      "id": "fbf8eb75-f093-4a45-8444-932a8d2d0bed",
      "metadata": {
        "id": "fbf8eb75-f093-4a45-8444-932a8d2d0bed"
      },
      "outputs": [],
      "source": [
        "def calculate_gini(df_train, split):\n",
        "    df = df_train.copy()\n",
        "    # Split the data to the right and left \n",
        "    df['Group'] = ''\n",
        "    df.loc[df['x1'] < split, 'Group'] = 'LEFT'\n",
        "    df.loc[df['x1'] >= split, 'Group'] = 'RIGHT'\n",
        "\n",
        "    # Calculate class counts\n",
        "    left_0 = len(df[(df['Group'] == 'LEFT') & (df['y'] == 0)])\n",
        "    left_1 = len(df[(df['Group'] == 'LEFT') & (df['y'] == 1)])\n",
        "\n",
        "    right_0 = len(df[(df['Group'] == 'RIGHT') & (df['y'] == 0)])\n",
        "    right_1 = len(df[(df['Group'] == 'RIGHT') & (df['y'] == 1)])\n",
        "\n",
        "    right = right_0 + right_1\n",
        "    left = left_0 + left_1\n",
        "    \n",
        "    # print the counts to the screen\n",
        "    print(pd.pivot_table(data=df.drop('x2', axis=1), index='y', columns='Group', aggfunc='count', \n",
        "               margins=True, margins_name='Sum', fill_value=0))\n",
        "    \n",
        "    # Calculate Gini Index\n",
        "    g_left_0 = left_0 / left\n",
        "    print('\\nLeft 0: ', g_left_0)\n",
        "    g_left_1 = left_1 / left\n",
        "    print('Left 1: ', g_left_1)\n",
        "\n",
        "    g_right_0 = right_0 / right\n",
        "    print('Right 0: ', g_right_0)\n",
        "    g_right_1 = right_1 / right\n",
        "    print('Right 1: ', g_right_1)\n",
        "\n",
        "    ## Calculating weights\n",
        "    w_left = left / (left + right)\n",
        "    print('\\nWeight Left: ', w_left)\n",
        "    w_right = right / (left + right)\n",
        "    print('Weight Right: ', w_right)\n",
        "\n",
        "    g_left = (1 - (np.square(g_left_0) + np.square(g_left_1))) * w_left\n",
        "    print('\\nGini LEFT: ', g_left)\n",
        "    g_right = (1 - (np.square(g_right_0) + np.square(g_right_1))) * w_right\n",
        "    print('Gini RIGHT: ', g_right)\n",
        "    gini = g_left + g_right\n",
        "    print('\\n---------------------------')\n",
        "    print('Gini: ', gini)"
      ]
    },
    {
      "cell_type": "code",
      "execution_count": 28,
      "id": "17bf93af-04ce-4c3f-8f06-12055a2893f0",
      "metadata": {
        "colab": {
          "base_uri": "https://localhost:8080/"
        },
        "id": "17bf93af-04ce-4c3f-8f06-12055a2893f0",
        "outputId": "1d476f52-003b-4534-c75d-0e67c9e8f029"
      },
      "outputs": [
        {
          "output_type": "stream",
          "name": "stdout",
          "text": [
            "        x1          \n",
            "Group LEFT RIGHT Sum\n",
            "y                   \n",
            "0        1     4   5\n",
            "1        0     5   5\n",
            "Sum      1     9  10\n",
            "\n",
            "Left 0:  1.0\n",
            "Left 1:  0.0\n",
            "Right 0:  0.4444444444444444\n",
            "Right 1:  0.5555555555555556\n",
            "\n",
            "Weight Left:  0.1\n",
            "Weight Right:  0.9\n",
            "\n",
            "Gini LEFT:  0.0\n",
            "Gini RIGHT:  0.4444444444444444\n",
            "\n",
            "---------------------------\n",
            "Gini:  0.4444444444444444\n"
          ]
        }
      ],
      "source": [
        "# In our study we'll use the first value of x1 as a first split point\n",
        "split1 = df_train.loc[0, 'x1']\n",
        "calculate_gini(df_train, split1)"
      ]
    },
    {
      "cell_type": "code",
      "execution_count": 6,
      "id": "da251dcc-0065-4233-8c06-db5cf0bef55c",
      "metadata": {
        "id": "da251dcc-0065-4233-8c06-db5cf0bef55c"
      },
      "outputs": [],
      "source": [
        "split2 = df_train['x1'].iloc[-1]"
      ]
    },
    {
      "cell_type": "code",
      "execution_count": 29,
      "id": "f59bf5d8-5827-474a-8f5f-84d0b73844ee",
      "metadata": {
        "colab": {
          "base_uri": "https://localhost:8080/"
        },
        "id": "f59bf5d8-5827-474a-8f5f-84d0b73844ee",
        "outputId": "2def0b98-86c4-4150-c36e-cd7f07f39823"
      },
      "outputs": [
        {
          "output_type": "stream",
          "name": "stdout",
          "text": [
            "        x1          \n",
            "Group LEFT RIGHT Sum\n",
            "y                   \n",
            "0        5     0   5\n",
            "1        0     5   5\n",
            "Sum      5     5  10\n",
            "\n",
            "Left 0:  1.0\n",
            "Left 1:  0.0\n",
            "Right 0:  0.0\n",
            "Right 1:  1.0\n",
            "\n",
            "Weight Left:  0.5\n",
            "Weight Right:  0.5\n",
            "\n",
            "Gini LEFT:  0.0\n",
            "Gini RIGHT:  0.0\n",
            "\n",
            "---------------------------\n",
            "Gini:  0.0\n"
          ]
        }
      ],
      "source": [
        "calculate_gini(df_train, split2)"
      ]
    },
    {
      "cell_type": "code",
      "execution_count": 40,
      "id": "27283d10-81d4-44a5-a0fb-be12914f7785",
      "metadata": {
        "id": "27283d10-81d4-44a5-a0fb-be12914f7785"
      },
      "outputs": [],
      "source": [
        "def predict(df_test, split):\n",
        "  df = df_test.copy()\n",
        "  # Predicting by comparing the split value to the x1\n",
        "  df['Prediction'] = ''\n",
        "  df.loc[df['x1'] < split, 'Prediction'] = 0\n",
        "  df.loc[df['x1'] >= split, 'Prediction'] = 1\n",
        "\n",
        "  # Calculate the error\n",
        "  df['Error'] = ''\n",
        "  df.loc[df['Prediction'] == df['y'], 'Error'] = 0\n",
        "  df.loc[df['Prediction'] != df['y'], 'Error'] = 1\n",
        "\n",
        "  print(df)\n",
        "\n",
        "  # Calculating the accuracy metric\n",
        "  acc = (1 - (df['Error'].sum() / len(df['Error']))) * 100\n",
        "\n",
        "  return acc\n"
      ]
    },
    {
      "cell_type": "markdown",
      "source": [
        "### Create a test dataset"
      ],
      "metadata": {
        "id": "F9o3Gb1zcBFP"
      },
      "id": "F9o3Gb1zcBFP"
    },
    {
      "cell_type": "code",
      "source": [
        "x1_test = [2.343875381, 3.536904049, 2.801395588, 3.656342926, 2.853194386, 8.907647835, 9.752464513, \n",
        "           8.016361622, 6.58490395, 7.142525173]\n",
        "x2_test = [2.051757824, 3.032932531, 2.786327755, 2.581460765, 1.052331062, 3.730540859, 3.740754624, \n",
        "           3.013408249, 2.436333477, 3.650120799]\n",
        "y_test = [0, 0, 0, 0, 0, 1, 1, 1, 1, 1]\n",
        "df_test = pd.DataFrame(zip(x1_test, x2_test, y), columns=['x1', 'x2', 'y'])"
      ],
      "metadata": {
        "id": "wLATOyEZBs5b"
      },
      "id": "wLATOyEZBs5b",
      "execution_count": 53,
      "outputs": []
    },
    {
      "cell_type": "markdown",
      "source": [
        "### Make prediction on test dataset"
      ],
      "metadata": {
        "id": "SwJafY1PcJdx"
      },
      "id": "SwJafY1PcJdx"
    },
    {
      "cell_type": "code",
      "source": [
        "# We'll use the second split value as it has better class purity than the first split value\n",
        "acc = predict(df_test, split2)\n",
        "\n",
        "print('\\n\\n------------------------------------')\n",
        "print('Accuracy: {:.0f}%'.format(acc))"
      ],
      "metadata": {
        "colab": {
          "base_uri": "https://localhost:8080/"
        },
        "id": "wiFwEyzVcKKJ",
        "outputId": "ec311970-ed4a-4efc-e2ab-42d2705ddbeb"
      },
      "id": "wiFwEyzVcKKJ",
      "execution_count": 54,
      "outputs": [
        {
          "output_type": "stream",
          "name": "stdout",
          "text": [
            "         x1        x2  y Prediction Error\n",
            "0  2.343875  2.051758  0          0     0\n",
            "1  3.536904  3.032933  0          0     0\n",
            "2  2.801396  2.786328  0          0     0\n",
            "3  3.656343  2.581461  0          0     0\n",
            "4  2.853194  1.052331  0          0     0\n",
            "5  8.907648  3.730541  1          1     0\n",
            "6  9.752465  3.740755  1          1     0\n",
            "7  8.016362  3.013408  1          1     0\n",
            "8  6.584904  2.436333  1          0     1\n",
            "9  7.142525  3.650121  1          1     0\n",
            "\n",
            "\n",
            "------------------------------------\n",
            "Accuracy: 90%\n"
          ]
        }
      ]
    },
    {
      "cell_type": "code",
      "source": [
        "# Let's see what would be the accuracy score if we used the first split option\n",
        "acc = predict(df_test, split1)\n",
        "\n",
        "print('\\n\\n------------------------------------')\n",
        "print('Accuracy: {:.0f}%'.format(acc))"
      ],
      "metadata": {
        "colab": {
          "base_uri": "https://localhost:8080/"
        },
        "id": "It_Zk4OYJ8rU",
        "outputId": "a8bc300e-5223-4062-8e0b-a0f2808c1d95"
      },
      "id": "It_Zk4OYJ8rU",
      "execution_count": 42,
      "outputs": [
        {
          "output_type": "stream",
          "name": "stdout",
          "text": [
            "         x1        x2  y Prediction Error\n",
            "0  2.343875  2.051758  0          0     0\n",
            "1  3.536904  3.032933  0          1     1\n",
            "2  2.801396  2.786328  0          1     1\n",
            "3  3.656343  2.581461  0          1     1\n",
            "4  2.853194  1.052331  0          1     1\n",
            "5  8.907648  3.730541  1          1     0\n",
            "6  9.752465  3.740755  1          1     0\n",
            "7  8.016362  3.013408  1          1     0\n",
            "8  6.584904  2.436333  1          1     0\n",
            "9  7.142525  3.650121  1          1     0\n",
            "\n",
            "\n",
            "------------------------------------\n",
            "Accuracy: 60%\n"
          ]
        }
      ]
    },
    {
      "cell_type": "markdown",
      "source": [
        "#### 🔎 Remark\n",
        "\n",
        "As expected the accuracy score of the first split value (60%) is lower than the second one (90%). The first split value has Gini Index of 0.444 and the second has the Gini Index of 0.0 value which is the purist value. "
      ],
      "metadata": {
        "id": "txWCZnyDLwk0"
      },
      "id": "txWCZnyDLwk0"
    },
    {
      "cell_type": "markdown",
      "source": [
        "## Using Sklearn"
      ],
      "metadata": {
        "id": "CeScCOxjcvNB"
      },
      "id": "CeScCOxjcvNB"
    },
    {
      "cell_type": "code",
      "source": [
        "from sklearn.tree import DecisionTreeClassifier\n",
        "from sklearn.tree import plot_tree\n",
        "from sklearn.metrics import accuracy_score\n",
        "from sklearn.metrics import confusion_matrix\n",
        "from sklearn.metrics import classification_report"
      ],
      "metadata": {
        "id": "hUdVH3e0LJCo"
      },
      "id": "hUdVH3e0LJCo",
      "execution_count": 55,
      "outputs": []
    },
    {
      "cell_type": "code",
      "source": [
        "model = DecisionTreeClassifier()\n",
        "x = df_train.drop('y', axis=1)\n",
        "y = df_train['y']\n",
        "model.fit(x, y)"
      ],
      "metadata": {
        "colab": {
          "base_uri": "https://localhost:8080/",
          "height": 52
        },
        "id": "OjfLSiZ9N1wk",
        "outputId": "eed0292c-da1e-4d6f-c4c5-5ec625136dfb"
      },
      "id": "OjfLSiZ9N1wk",
      "execution_count": 35,
      "outputs": [
        {
          "output_type": "execute_result",
          "data": {
            "text/plain": [
              "DecisionTreeClassifier()"
            ],
            "text/html": [
              "<style>#sk-container-id-1 {color: black;background-color: white;}#sk-container-id-1 pre{padding: 0;}#sk-container-id-1 div.sk-toggleable {background-color: white;}#sk-container-id-1 label.sk-toggleable__label {cursor: pointer;display: block;width: 100%;margin-bottom: 0;padding: 0.3em;box-sizing: border-box;text-align: center;}#sk-container-id-1 label.sk-toggleable__label-arrow:before {content: \"▸\";float: left;margin-right: 0.25em;color: #696969;}#sk-container-id-1 label.sk-toggleable__label-arrow:hover:before {color: black;}#sk-container-id-1 div.sk-estimator:hover label.sk-toggleable__label-arrow:before {color: black;}#sk-container-id-1 div.sk-toggleable__content {max-height: 0;max-width: 0;overflow: hidden;text-align: left;background-color: #f0f8ff;}#sk-container-id-1 div.sk-toggleable__content pre {margin: 0.2em;color: black;border-radius: 0.25em;background-color: #f0f8ff;}#sk-container-id-1 input.sk-toggleable__control:checked~div.sk-toggleable__content {max-height: 200px;max-width: 100%;overflow: auto;}#sk-container-id-1 input.sk-toggleable__control:checked~label.sk-toggleable__label-arrow:before {content: \"▾\";}#sk-container-id-1 div.sk-estimator input.sk-toggleable__control:checked~label.sk-toggleable__label {background-color: #d4ebff;}#sk-container-id-1 div.sk-label input.sk-toggleable__control:checked~label.sk-toggleable__label {background-color: #d4ebff;}#sk-container-id-1 input.sk-hidden--visually {border: 0;clip: rect(1px 1px 1px 1px);clip: rect(1px, 1px, 1px, 1px);height: 1px;margin: -1px;overflow: hidden;padding: 0;position: absolute;width: 1px;}#sk-container-id-1 div.sk-estimator {font-family: monospace;background-color: #f0f8ff;border: 1px dotted black;border-radius: 0.25em;box-sizing: border-box;margin-bottom: 0.5em;}#sk-container-id-1 div.sk-estimator:hover {background-color: #d4ebff;}#sk-container-id-1 div.sk-parallel-item::after {content: \"\";width: 100%;border-bottom: 1px solid gray;flex-grow: 1;}#sk-container-id-1 div.sk-label:hover label.sk-toggleable__label {background-color: #d4ebff;}#sk-container-id-1 div.sk-serial::before {content: \"\";position: absolute;border-left: 1px solid gray;box-sizing: border-box;top: 0;bottom: 0;left: 50%;z-index: 0;}#sk-container-id-1 div.sk-serial {display: flex;flex-direction: column;align-items: center;background-color: white;padding-right: 0.2em;padding-left: 0.2em;position: relative;}#sk-container-id-1 div.sk-item {position: relative;z-index: 1;}#sk-container-id-1 div.sk-parallel {display: flex;align-items: stretch;justify-content: center;background-color: white;position: relative;}#sk-container-id-1 div.sk-item::before, #sk-container-id-1 div.sk-parallel-item::before {content: \"\";position: absolute;border-left: 1px solid gray;box-sizing: border-box;top: 0;bottom: 0;left: 50%;z-index: -1;}#sk-container-id-1 div.sk-parallel-item {display: flex;flex-direction: column;z-index: 1;position: relative;background-color: white;}#sk-container-id-1 div.sk-parallel-item:first-child::after {align-self: flex-end;width: 50%;}#sk-container-id-1 div.sk-parallel-item:last-child::after {align-self: flex-start;width: 50%;}#sk-container-id-1 div.sk-parallel-item:only-child::after {width: 0;}#sk-container-id-1 div.sk-dashed-wrapped {border: 1px dashed gray;margin: 0 0.4em 0.5em 0.4em;box-sizing: border-box;padding-bottom: 0.4em;background-color: white;}#sk-container-id-1 div.sk-label label {font-family: monospace;font-weight: bold;display: inline-block;line-height: 1.2em;}#sk-container-id-1 div.sk-label-container {text-align: center;}#sk-container-id-1 div.sk-container {/* jupyter's `normalize.less` sets `[hidden] { display: none; }` but bootstrap.min.css set `[hidden] { display: none !important; }` so we also need the `!important` here to be able to override the default hidden behavior on the sphinx rendered scikit-learn.org. See: https://github.com/scikit-learn/scikit-learn/issues/21755 */display: inline-block !important;position: relative;}#sk-container-id-1 div.sk-text-repr-fallback {display: none;}</style><div id=\"sk-container-id-1\" class=\"sk-top-container\"><div class=\"sk-text-repr-fallback\"><pre>DecisionTreeClassifier()</pre><b>In a Jupyter environment, please rerun this cell to show the HTML representation or trust the notebook. <br />On GitHub, the HTML representation is unable to render, please try loading this page with nbviewer.org.</b></div><div class=\"sk-container\" hidden><div class=\"sk-item\"><div class=\"sk-estimator sk-toggleable\"><input class=\"sk-toggleable__control sk-hidden--visually\" id=\"sk-estimator-id-1\" type=\"checkbox\" checked><label for=\"sk-estimator-id-1\" class=\"sk-toggleable__label sk-toggleable__label-arrow\">DecisionTreeClassifier</label><div class=\"sk-toggleable__content\"><pre>DecisionTreeClassifier()</pre></div></div></div></div></div>"
            ]
          },
          "metadata": {},
          "execution_count": 35
        }
      ]
    },
    {
      "cell_type": "code",
      "source": [
        "plot_tree(model, filled=True, rounded=True)"
      ],
      "metadata": {
        "colab": {
          "base_uri": "https://localhost:8080/",
          "height": 300
        },
        "id": "ilW_9UyiX2di",
        "outputId": "4ad2d93c-8acc-411f-8dee-5f620a6cda0a"
      },
      "id": "ilW_9UyiX2di",
      "execution_count": 51,
      "outputs": [
        {
          "output_type": "execute_result",
          "data": {
            "text/plain": [
              "[Text(0.5, 0.75, 'x[0] <= 5.302\\ngini = 0.5\\nsamples = 10\\nvalue = [5, 5]'),\n",
              " Text(0.25, 0.25, 'gini = 0.0\\nsamples = 5\\nvalue = [5, 0]'),\n",
              " Text(0.75, 0.25, 'gini = 0.0\\nsamples = 5\\nvalue = [0, 5]')]"
            ]
          },
          "metadata": {},
          "execution_count": 51
        },
        {
          "output_type": "display_data",
          "data": {
            "text/plain": [
              "<Figure size 432x288 with 1 Axes>"
            ],
            "image/png": "[encoded data removed]"
          },
          "metadata": {}
        }
      ]
    },
    {
      "cell_type": "code",
      "source": [
        "x_test = df_test.drop('y', axis=1)\n",
        "y_hat = model.predict(x_test)\n",
        "\n",
        "acc = accuracy_score(y_test, y_hat) * 100\n",
        "\n",
        "print('Accuracy: {:.1f}%'.format(acc))"
      ],
      "metadata": {
        "colab": {
          "base_uri": "https://localhost:8080/"
        },
        "id": "D1bUhJ9UQfk7",
        "outputId": "2216f53f-5b00-4fe8-9651-b6cc22cfe6fa"
      },
      "id": "D1bUhJ9UQfk7",
      "execution_count": 44,
      "outputs": [
        {
          "output_type": "stream",
          "name": "stdout",
          "text": [
            "Accuracy: 100.0%\n"
          ]
        }
      ]
    },
    {
      "cell_type": "markdown",
      "source": [
        "#### 🔎 Remark\n",
        "\n",
        "The sklearn function provided a better accuracy score (100%) by finding/using split value of 5.302."
      ],
      "metadata": {
        "id": "wl117uW3hCQ2"
      },
      "id": "wl117uW3hCQ2"
    },
    {
      "cell_type": "code",
      "source": [
        "x"
      ],
      "metadata": {
        "colab": {
          "base_uri": "https://localhost:8080/",
          "height": 363
        },
        "id": "QaEXM8EkW1pX",
        "outputId": "6e8d4b7e-a33a-45dd-b524-6ac5b6f39d82"
      },
      "id": "QaEXM8EkW1pX",
      "execution_count": 56,
      "outputs": [
        {
          "output_type": "execute_result",
          "data": {
            "text/plain": [
              "          x1        x2\n",
              "0   2.771245  1.784784\n",
              "1   1.728571  1.169761\n",
              "2   3.678320  2.812814\n",
              "3   3.961043  2.619950\n",
              "4   2.999209  2.209014\n",
              "5   7.497546  3.162954\n",
              "6   9.002203  3.339047\n",
              "7   7.444542  0.476683\n",
              "8  10.124939  3.234551\n",
              "9   6.642287  3.319984"
            ],
            "text/html": [
              "\n",
              "  <div id=\"df-4b90ffdb-5a55-4a01-af13-43e9d0b7e8e7\">\n",
              "    <div class=\"colab-df-container\">\n",
              "      <div>\n",
              "<style scoped>\n",
              "    .dataframe tbody tr th:only-of-type {\n",
              "        vertical-align: middle;\n",
              "    }\n",
              "\n",
              "    .dataframe tbody tr th {\n",
              "        vertical-align: top;\n",
              "    }\n",
              "\n",
              "    .dataframe thead th {\n",
              "        text-align: right;\n",
              "    }\n",
              "</style>\n",
              "<table border=\"1\" class=\"dataframe\">\n",
              "  <thead>\n",
              "    <tr style=\"text-align: right;\">\n",
              "      <th></th>\n",
              "      <th>x1</th>\n",
              "      <th>x2</th>\n",
              "    </tr>\n",
              "  </thead>\n",
              "  <tbody>\n",
              "    <tr>\n",
              "      <th>0</th>\n",
              "      <td>2.771245</td>\n",
              "      <td>1.784784</td>\n",
              "    </tr>\n",
              "    <tr>\n",
              "      <th>1</th>\n",
              "      <td>1.728571</td>\n",
              "      <td>1.169761</td>\n",
              "    </tr>\n",
              "    <tr>\n",
              "      <th>2</th>\n",
              "      <td>3.678320</td>\n",
              "      <td>2.812814</td>\n",
              "    </tr>\n",
              "    <tr>\n",
              "      <th>3</th>\n",
              "      <td>3.961043</td>\n",
              "      <td>2.619950</td>\n",
              "    </tr>\n",
              "    <tr>\n",
              "      <th>4</th>\n",
              "      <td>2.999209</td>\n",
              "      <td>2.209014</td>\n",
              "    </tr>\n",
              "    <tr>\n",
              "      <th>5</th>\n",
              "      <td>7.497546</td>\n",
              "      <td>3.162954</td>\n",
              "    </tr>\n",
              "    <tr>\n",
              "      <th>6</th>\n",
              "      <td>9.002203</td>\n",
              "      <td>3.339047</td>\n",
              "    </tr>\n",
              "    <tr>\n",
              "      <th>7</th>\n",
              "      <td>7.444542</td>\n",
              "      <td>0.476683</td>\n",
              "    </tr>\n",
              "    <tr>\n",
              "      <th>8</th>\n",
              "      <td>10.124939</td>\n",
              "      <td>3.234551</td>\n",
              "    </tr>\n",
              "    <tr>\n",
              "      <th>9</th>\n",
              "      <td>6.642287</td>\n",
              "      <td>3.319984</td>\n",
              "    </tr>\n",
              "  </tbody>\n",
              "</table>\n",
              "</div>\n",
              "      <button class=\"colab-df-convert\" onclick=\"convertToInteractive('df-4b90ffdb-5a55-4a01-af13-43e9d0b7e8e7')\"\n",
              "              title=\"Convert this dataframe to an interactive table.\"\n",
              "              style=\"display:none;\">\n",
              "        \n",
              "  <svg xmlns=\"http://www.w3.org/2000/svg\" height=\"24px\"viewBox=\"0 0 24 24\"\n",
              "       width=\"24px\">\n",
              "    <path d=\"M0 0h24v24H0V0z\" fill=\"none\"/>\n",
              "    <path d=\"M18.56 5.44l.94 2.06.94-2.06 2.06-.94-2.06-.94-.94-2.06-.94 2.06-2.06.94zm-11 1L8.5 8.5l.94-2.06 2.06-.94-2.06-.94L8.5 2.5l-.94 2.06-2.06.94zm10 10l.94 2.06.94-2.06 2.06-.94-2.06-.94-.94-2.06-.94 2.06-2.06.94z\"/><path d=\"M17.41 7.96l-1.37-1.37c-.4-.4-.92-.59-1.43-.59-.52 0-1.04.2-1.43.59L10.3 9.45l-7.72 7.72c-.78.78-.78 2.05 0 2.83L4 21.41c.39.39.9.59 1.41.59.51 0 1.02-.2 1.41-.59l7.78-7.78 2.81-2.81c.8-.78.8-2.07 0-2.86zM5.41 20L4 18.59l7.72-7.72 1.47 1.35L5.41 20z\"/>\n",
              "  </svg>\n",
              "      </button>\n",
              "      \n",
              "  <style>\n",
              "    .colab-df-container {\n",
              "      display:flex;\n",
              "      flex-wrap:wrap;\n",
              "      gap: 12px;\n",
              "    }\n",
              "\n",
              "    .colab-df-convert {\n",
              "      background-color: #E8F0FE;\n",
              "      border: none;\n",
              "      border-radius: 50%;\n",
              "      cursor: pointer;\n",
              "      display: none;\n",
              "      fill: #1967D2;\n",
              "      height: 32px;\n",
              "      padding: 0 0 0 0;\n",
              "      width: 32px;\n",
              "    }\n",
              "\n",
              "    .colab-df-convert:hover {\n",
              "      background-color: #E2EBFA;\n",
              "      box-shadow: 0px 1px 2px rgba(60, 64, 67, 0.3), 0px 1px 3px 1px rgba(60, 64, 67, 0.15);\n",
              "      fill: #174EA6;\n",
              "    }\n",
              "\n",
              "    [theme=dark] .colab-df-convert {\n",
              "      background-color: #3B4455;\n",
              "      fill: #D2E3FC;\n",
              "    }\n",
              "\n",
              "    [theme=dark] .colab-df-convert:hover {\n",
              "      background-color: #434B5C;\n",
              "      box-shadow: 0px 1px 3px 1px rgba(0, 0, 0, 0.15);\n",
              "      filter: drop-shadow(0px 1px 2px rgba(0, 0, 0, 0.3));\n",
              "      fill: #FFFFFF;\n",
              "    }\n",
              "  </style>\n",
              "\n",
              "      <script>\n",
              "        const buttonEl =\n",
              "          document.querySelector('#df-4b90ffdb-5a55-4a01-af13-43e9d0b7e8e7 button.colab-df-convert');\n",
              "        buttonEl.style.display =\n",
              "          google.colab.kernel.accessAllowed ? 'block' : 'none';\n",
              "\n",
              "        async function convertToInteractive(key) {\n",
              "          const element = document.querySelector('#df-4b90ffdb-5a55-4a01-af13-43e9d0b7e8e7');\n",
              "          const dataTable =\n",
              "            await google.colab.kernel.invokeFunction('convertToInteractive',\n",
              "                                                     [key], {});\n",
              "          if (!dataTable) return;\n",
              "\n",
              "          const docLinkHtml = 'Like what you see? Visit the ' +\n",
              "            '<a target=\"_blank\" href=https://colab.research.google.com/notebooks/data_table.ipynb>data table notebook</a>'\n",
              "            + ' to learn more about interactive tables.';\n",
              "          element.innerHTML = '';\n",
              "          dataTable['output_type'] = 'display_data';\n",
              "          await google.colab.output.renderOutput(dataTable, element);\n",
              "          const docLink = document.createElement('div');\n",
              "          docLink.innerHTML = docLinkHtml;\n",
              "          element.appendChild(docLink);\n",
              "        }\n",
              "      </script>\n",
              "    </div>\n",
              "  </div>\n",
              "  "
            ]
          },
          "metadata": {},
          "execution_count": 56
        }
      ]
    },
    {
      "cell_type": "code",
      "source": [],
      "metadata": {
        "id": "quSJItJ5dJck"
      },
      "id": "quSJItJ5dJck",
      "execution_count": null,
      "outputs": []
    }
  ],
  "metadata": {
    "kernelspec": {
      "display_name": "Python 3 (ipykernel)",
      "language": "python",
      "name": "python3"
    },
    "language_info": {
      "codemirror_mode": {
        "name": "ipython",
        "version": 3
      },
      "file_extension": ".py",
      "mimetype": "text/x-python",
      "name": "python",
      "nbconvert_exporter": "python",
      "pygments_lexer": "ipython3",
      "version": "3.10.6"
    },
    "colab": {
      "provenance": []
    }
  },
  "nbformat": 4,
  "nbformat_minor": 5
}