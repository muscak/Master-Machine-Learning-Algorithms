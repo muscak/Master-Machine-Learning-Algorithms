{
 "cells": [
  {
   "cell_type": "markdown",
   "id": "60d372d0-d52b-4dfd-9862-d49f3a70decf",
   "metadata": {},
   "source": [
    "# Classification and Regression Trees (CART)\n",
    "\n",
    "<img src='Decision Tree.png' width='250' align='center'></img>\n",
    "\n"
   ]
  },
  {
   "cell_type": "markdown",
   "id": "c5d147c2-fa2a-4322-b427-20e28681f9e7",
   "metadata": {},
   "source": [
    "## Table of Contents"
   ]
  },
  {
   "cell_type": "markdown",
   "id": "19c22c93-4786-40c9-af6f-e36d9745c990",
   "metadata": {},
   "source": [
    "## Introductions<a id='introduction'></a>"
   ]
  },
  {
   "cell_type": "markdown",
   "id": "048f296f-b571-4e19-bfff-c446bedb678d",
   "metadata": {},
   "source": [
    "## Import Libraries<a id='libraries'></a>"
   ]
  },
  {
   "cell_type": "code",
   "execution_count": 1,
   "id": "9e242371-e5b5-4fb0-a4fe-2c885efe0f38",
   "metadata": {},
   "outputs": [
    {
     "data": {
      "text/plain": [
       "<Figure size 640x480 with 0 Axes>"
      ]
     },
     "metadata": {},
     "output_type": "display_data"
    }
   ],
   "source": [
    "import pandas as pd\n",
    "import numpy as np\n",
    "import matplotlib.pyplot as plt\n",
    "%matplotlib inline\n",
    "import seaborn as sb\n",
    "sb.set_style('whitegrid')\n",
    "sb.despine(offset=10, trim=True);"
   ]
  },
  {
   "cell_type": "markdown",
   "id": "2e2c4862-5a37-492c-aa25-673e4b994948",
   "metadata": {},
   "source": [
    "## Load Sample Data<a id='sampledata'>"
   ]
  },
  {
   "cell_type": "code",
   "execution_count": 2,
   "id": "ca7f01f6-b183-4677-98a5-2301abc44005",
   "metadata": {},
   "outputs": [
    {
     "data": {
      "text/html": [
       "<div>\n",
       "<style scoped>\n",
       "    .dataframe tbody tr th:only-of-type {\n",
       "        vertical-align: middle;\n",
       "    }\n",
       "\n",
       "    .dataframe tbody tr th {\n",
       "        vertical-align: top;\n",
       "    }\n",
       "\n",
       "    .dataframe thead th {\n",
       "        text-align: right;\n",
       "    }\n",
       "</style>\n",
       "<table border=\"1\" class=\"dataframe\">\n",
       "  <thead>\n",
       "    <tr style=\"text-align: right;\">\n",
       "      <th></th>\n",
       "      <th>x1</th>\n",
       "      <th>x2</th>\n",
       "      <th>y</th>\n",
       "    </tr>\n",
       "  </thead>\n",
       "  <tbody>\n",
       "    <tr>\n",
       "      <th>0</th>\n",
       "      <td>2.771245</td>\n",
       "      <td>1.784784</td>\n",
       "      <td>0</td>\n",
       "    </tr>\n",
       "    <tr>\n",
       "      <th>1</th>\n",
       "      <td>1.728571</td>\n",
       "      <td>1.169761</td>\n",
       "      <td>0</td>\n",
       "    </tr>\n",
       "    <tr>\n",
       "      <th>2</th>\n",
       "      <td>3.678320</td>\n",
       "      <td>2.812814</td>\n",
       "      <td>0</td>\n",
       "    </tr>\n",
       "    <tr>\n",
       "      <th>3</th>\n",
       "      <td>3.961043</td>\n",
       "      <td>2.619950</td>\n",
       "      <td>0</td>\n",
       "    </tr>\n",
       "    <tr>\n",
       "      <th>4</th>\n",
       "      <td>2.999209</td>\n",
       "      <td>2.209014</td>\n",
       "      <td>0</td>\n",
       "    </tr>\n",
       "    <tr>\n",
       "      <th>5</th>\n",
       "      <td>7.497546</td>\n",
       "      <td>3.162954</td>\n",
       "      <td>1</td>\n",
       "    </tr>\n",
       "    <tr>\n",
       "      <th>6</th>\n",
       "      <td>9.002203</td>\n",
       "      <td>3.339047</td>\n",
       "      <td>1</td>\n",
       "    </tr>\n",
       "    <tr>\n",
       "      <th>7</th>\n",
       "      <td>7.444542</td>\n",
       "      <td>0.476683</td>\n",
       "      <td>1</td>\n",
       "    </tr>\n",
       "    <tr>\n",
       "      <th>8</th>\n",
       "      <td>10.124939</td>\n",
       "      <td>3.234551</td>\n",
       "      <td>1</td>\n",
       "    </tr>\n",
       "    <tr>\n",
       "      <th>9</th>\n",
       "      <td>6.642287</td>\n",
       "      <td>3.319984</td>\n",
       "      <td>1</td>\n",
       "    </tr>\n",
       "  </tbody>\n",
       "</table>\n",
       "</div>"
      ],
      "text/plain": [
       "          x1        x2  y\n",
       "0   2.771245  1.784784  0\n",
       "1   1.728571  1.169761  0\n",
       "2   3.678320  2.812814  0\n",
       "3   3.961043  2.619950  0\n",
       "4   2.999209  2.209014  0\n",
       "5   7.497546  3.162954  1\n",
       "6   9.002203  3.339047  1\n",
       "7   7.444542  0.476683  1\n",
       "8  10.124939  3.234551  1\n",
       "9   6.642287  3.319984  1"
      ]
     },
     "execution_count": 2,
     "metadata": {},
     "output_type": "execute_result"
    }
   ],
   "source": [
    "x1 = [2.771244718, 1.728571309, 3.678319846, 3.961043357, 2.999208922, 7.497545867, 9.00220326, 7.444542326, 10.12493903, \n",
    "      6.642287351]\n",
    "x2 = [1.784783929, 1.169761413, 2.81281357, 2.61995032, 2.209014212, 3.162953546, 3.339047188, 0.476683375, 3.234550982, \n",
    "      3.319983761]\n",
    "y = [0, 0, 0, 0,0, 1, 1, 1, 1, 1]\n",
    "\n",
    "df = pd.DataFrame(columns=['x1', 'x2', 'y'])\n",
    "df['x1'] = x1\n",
    "df['x2'] = x2\n",
    "df['y'] = y\n",
    "\n",
    "df"
   ]
  },
  {
   "cell_type": "code",
   "execution_count": 3,
   "id": "0185114c-3c7b-4922-b849-f6ca1d1c7f26",
   "metadata": {},
   "outputs": [
    {
     "data": {
      "image/png": "[encoded data removed]",
      "text/plain": [
       "<Figure size 640x480 with 1 Axes>"
      ]
     },
     "metadata": {},
     "output_type": "display_data"
    }
   ],
   "source": [
    "sb.scatterplot(data=df, x='x1', y='x2', hue='y')\n",
    "plt.xlabel('$x_1$', fontsize=12)\n",
    "plt.ylabel('$x_2$', fontsize=12)\n",
    "plt.show()"
   ]
  },
  {
   "cell_type": "markdown",
   "id": "5cd39148-e072-499a-b72d-c88ebb92495d",
   "metadata": {},
   "source": [
    "## Manual Implementation of CART<a id='manual'></a>\n",
    "\n",
    "The CART model is learned by looking for split points in the data. A split point is a single value of a single attribute. Partitioning data at a split point involves separating all data at that node into two groups, left of the split point and right of the split point.\n",
    "\n",
    "### Gini Index Cost Function\n",
    "$$G = \\sum\\limits_{k=1}^{n}p_k \\times (1-p_k)$$\n",
    "\n",
    "Where $G$ is the Gini index over all classes, $p_k$ are the proportion of training instances with class $k$."
   ]
  },
  {
   "cell_type": "code",
   "execution_count": 4,
   "id": "dae8eca8-5d8b-4d6f-8600-9fb36961e962",
   "metadata": {},
   "outputs": [],
   "source": [
    "# In our study we'll use the first value of x1 as a first split point\n",
    "split1 = df.loc[0, 'x1']"
   ]
  },
  {
   "cell_type": "code",
   "execution_count": 11,
   "id": "bf3e62f5-f05e-4a02-a0d3-a7ce547f0f97",
   "metadata": {},
   "outputs": [],
   "source": [
    "def update_df(split):\n",
    "    df['Group'] = ''\n",
    "    df.loc[df['x1'] < split, 'Group'] = 'LEFT'\n",
    "    df.loc[df['x1'] >= split, 'Group'] = 'RIGHT'\n",
    "    \n",
    "    # print the udpated dataframe to the screen\n",
    "    print(df)"
   ]
  },
  {
   "cell_type": "code",
   "execution_count": 10,
   "id": "fbf8eb75-f093-4a45-8444-932a8d2d0bed",
   "metadata": {},
   "outputs": [],
   "source": [
    "def calculate_gini():\n",
    "    # Calculate class counts\n",
    "    left_0 = len(df[(df['Group'] == 'LEFT') & (df['y'] == 0)])\n",
    "    left_1 = len(df[(df['Group'] == 'LEFT') & (df['y'] == 1)])\n",
    "\n",
    "    right_0 = len(df[(df['Group'] == 'RIGHT') & (df['y'] == 0)])\n",
    "    right_1 = len(df[(df['Group'] == 'RIGHT') & (df['y'] == 1)])\n",
    "\n",
    "    right = right_0 + right_1\n",
    "    left = left_0 + left_1\n",
    "    \n",
    "    # print the counts to the screen\n",
    "    print(pd.pivot_table(data=df.drop('x2', axis=1), index='y', columns='Group', aggfunc='count', \n",
    "               margins=True, margins_name='Sum', fill_value=0))\n",
    "    \n",
    "    # Calculate Gini Index\n",
    "    g_left_0 = left_0 / left\n",
    "    print('Left 0: ', g_left_0)\n",
    "    g_left_1 = left_1 / left\n",
    "    print('Left 1: ', g_left_1)\n",
    "\n",
    "    g_right_0 = right_0 / right\n",
    "    print('Right 0: ', g_right_0)\n",
    "    g_right_1 = right_1 / right\n",
    "    print('Right 1: ', g_right_1)\n",
    "\n",
    "    ## Calculating weights\n",
    "    w_left = left / (left + right)\n",
    "    print('Weight Left: ', w_left)\n",
    "    w_right = right / (left + right)\n",
    "    print('Weight Right: ', w_right)\n",
    "\n",
    "    g_left = (1 - (np.square(g_left_0) + np.square(g_left_1))) * w_left\n",
    "    print('\\nGini LEFT: ', g_left)\n",
    "    g_right = (1 - (np.square(g_right_0) + np.square(g_right_1))) * w_right\n",
    "    print('Gini RIGHT: ', g_right)\n",
    "    gini = g_left + g_right\n",
    "    print('\\n---------------------------')\n",
    "    print('Gini: ', gini)"
   ]
  },
  {
   "cell_type": "code",
   "execution_count": 12,
   "id": "17bf93af-04ce-4c3f-8f06-12055a2893f0",
   "metadata": {},
   "outputs": [
    {
     "name": "stdout",
     "output_type": "stream",
     "text": [
      "          x1        x2  y  Group\n",
      "0   2.771245  1.784784  0  RIGHT\n",
      "1   1.728571  1.169761  0   LEFT\n",
      "2   3.678320  2.812814  0  RIGHT\n",
      "3   3.961043  2.619950  0  RIGHT\n",
      "4   2.999209  2.209014  0  RIGHT\n",
      "5   7.497546  3.162954  1  RIGHT\n",
      "6   9.002203  3.339047  1  RIGHT\n",
      "7   7.444542  0.476683  1  RIGHT\n",
      "8  10.124939  3.234551  1  RIGHT\n",
      "9   6.642287  3.319984  1  RIGHT\n"
     ]
    }
   ],
   "source": [
    "update_df(split1)"
   ]
  },
  {
   "cell_type": "code",
   "execution_count": 13,
   "id": "55f058b7-4846-47e0-8f6f-5cf54df2109d",
   "metadata": {},
   "outputs": [
    {
     "name": "stdout",
     "output_type": "stream",
     "text": [
      "        x1          \n",
      "Group LEFT RIGHT Sum\n",
      "y                   \n",
      "0        1     4   5\n",
      "1        0     5   5\n",
      "Sum      1     9  10\n",
      "Left 0:  1.0\n",
      "Left 1:  0.0\n",
      "Right 0:  0.4444444444444444\n",
      "Right 1:  0.5555555555555556\n",
      "Weight Left:  0.1\n",
      "Weight Right:  0.9\n",
      "\n",
      "Gini LEFT:  0.0\n",
      "Gini RIGHT:  0.4444444444444444\n",
      "\n",
      "---------------------------\n",
      "Gini:  0.4444444444444444\n"
     ]
    }
   ],
   "source": [
    "calculate_gini()"
   ]
  },
  {
   "cell_type": "code",
   "execution_count": 19,
   "id": "da251dcc-0065-4233-8c06-db5cf0bef55c",
   "metadata": {},
   "outputs": [],
   "source": [
    "split2 = df['x1'].iloc[-1]"
   ]
  },
  {
   "cell_type": "code",
   "execution_count": 20,
   "id": "d70578cb-f0a8-4ecd-866a-a6c3a261e45e",
   "metadata": {},
   "outputs": [
    {
     "name": "stdout",
     "output_type": "stream",
     "text": [
      "          x1        x2  y  Group\n",
      "0   2.771245  1.784784  0   LEFT\n",
      "1   1.728571  1.169761  0   LEFT\n",
      "2   3.678320  2.812814  0   LEFT\n",
      "3   3.961043  2.619950  0   LEFT\n",
      "4   2.999209  2.209014  0   LEFT\n",
      "5   7.497546  3.162954  1  RIGHT\n",
      "6   9.002203  3.339047  1  RIGHT\n",
      "7   7.444542  0.476683  1  RIGHT\n",
      "8  10.124939  3.234551  1  RIGHT\n",
      "9   6.642287  3.319984  1  RIGHT\n"
     ]
    }
   ],
   "source": [
    "update_df(split2)"
   ]
  },
  {
   "cell_type": "code",
   "execution_count": 21,
   "id": "f59bf5d8-5827-474a-8f5f-84d0b73844ee",
   "metadata": {},
   "outputs": [
    {
     "name": "stdout",
     "output_type": "stream",
     "text": [
      "        x1          \n",
      "Group LEFT RIGHT Sum\n",
      "y                   \n",
      "0        5     0   5\n",
      "1        0     5   5\n",
      "Sum      5     5  10\n",
      "Left 0:  1.0\n",
      "Left 1:  0.0\n",
      "Right 0:  0.0\n",
      "Right 1:  1.0\n",
      "Weight Left:  0.5\n",
      "Weight Right:  0.5\n",
      "\n",
      "Gini LEFT:  0.0\n",
      "Gini RIGHT:  0.0\n",
      "\n",
      "---------------------------\n",
      "Gini:  0.0\n"
     ]
    }
   ],
   "source": [
    "calculate_gini()"
   ]
  },
  {
   "cell_type": "code",
   "execution_count": null,
   "id": "27283d10-81d4-44a5-a0fb-be12914f7785",
   "metadata": {},
   "outputs": [],
   "source": []
  }
 ],
 "metadata": {
  "kernelspec": {
   "display_name": "Python 3 (ipykernel)",
   "language": "python",
   "name": "python3"
  },
  "language_info": {
   "codemirror_mode": {
    "name": "ipython",
    "version": 3
   },
   "file_extension": ".py",
   "mimetype": "text/x-python",
   "name": "python",
   "nbconvert_exporter": "python",
   "pygments_lexer": "ipython3",
   "version": "3.10.6"
  }
 },
 "nbformat": 4,
 "nbformat_minor": 5
}
