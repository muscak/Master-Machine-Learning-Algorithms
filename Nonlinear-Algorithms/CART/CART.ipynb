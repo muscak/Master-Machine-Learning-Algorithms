{
  "cells": [
    {
      "cell_type": "markdown",
      "id": "60d372d0-d52b-4dfd-9862-d49f3a70decf",
      "metadata": {
        "id": "60d372d0-d52b-4dfd-9862-d49f3a70decf"
      },
      "source": [
        "# Classification and Regression Trees (CART)\n",
        "\n",
        "<center><img src='https://github.com/muscak/Master-Machine-Learning-Algorithms/blob/master/Nonlinear-Algorithms/CART/decision-tree.png?raw=1' width='250' alt='Simple Decision Tree'></img></center>\n",
        "\n",
        "Decision tree learning is a supervised learning approach used in statistics, data mining and machine learning. In this formalism, a classification or regression decision tree is used as a predictive model to draw conclusions about a set of observations.\n",
        "\n",
        "Tree models where the target variable can take a discrete set of values are called classification trees; in these tree structures, leaves represent class labels and branches represent conjunctions of features that lead to those class labels. Decision trees where the target variable can take continuous values (typically real numbers) are called regression trees[[1]](https://en.wikipedia.org/wiki/Decision_tree_learning).\n",
        "\n"
      ]
    },
    {
      "cell_type": "markdown",
      "id": "c5d147c2-fa2a-4322-b427-20e28681f9e7",
      "metadata": {
        "id": "c5d147c2-fa2a-4322-b427-20e28681f9e7"
      },
      "source": [
        "## Table of Contents\n",
        "\n",
        "- [Introduction](#introduction)\n",
        "- [Import Libraries](#libraries)\n",
        "- [Load Sample Data](#sampledata)\n",
        "- [Manual Implementation of CART](#manual)\n",
        "- [Using Sklearn](#sklearn)"
      ]
    },
    {
      "cell_type": "markdown",
      "id": "19c22c93-4786-40c9-af6f-e36d9745c990",
      "metadata": {
        "id": "19c22c93-4786-40c9-af6f-e36d9745c990"
      },
      "source": [
        "## Introductions<a id='introduction'></a>\n",
        "\n",
        "Hyper parameter tuning"
      ]
    },
    {
      "cell_type": "markdown",
      "id": "048f296f-b571-4e19-bfff-c446bedb678d",
      "metadata": {
        "id": "048f296f-b571-4e19-bfff-c446bedb678d"
      },
      "source": [
        "## Import Libraries<a id='libraries'></a>"
      ]
    },
    {
      "cell_type": "code",
      "execution_count": 1,
      "id": "9e242371-e5b5-4fb0-a4fe-2c885efe0f38",
      "metadata": {
        "colab": {
          "base_uri": "https://localhost:8080/",
          "height": 35
        },
        "id": "9e242371-e5b5-4fb0-a4fe-2c885efe0f38",
        "outputId": "366a3079-3e79-4859-dafb-00d7bef2e8ae"
      },
      "outputs": [
        {
          "output_type": "display_data",
          "data": {
            "text/plain": [
              "<Figure size 432x288 with 0 Axes>"
            ]
          },
          "metadata": {}
        }
      ],
      "source": [
        "import pandas as pd\n",
        "import numpy as np\n",
        "import matplotlib.pyplot as plt\n",
        "%matplotlib inline\n",
        "import seaborn as sb\n",
        "sb.set_style('whitegrid')\n",
        "sb.despine(offset=10, trim=True);"
      ]
    },
    {
      "cell_type": "markdown",
      "id": "2e2c4862-5a37-492c-aa25-673e4b994948",
      "metadata": {
        "id": "2e2c4862-5a37-492c-aa25-673e4b994948"
      },
      "source": [
        "## Load Sample Data<a id='sampledata'>\n",
        "\n",
        "We'll create a dataframe which has 10 rows, 2 features and 1 label that has binary values."
      ]
    },
    {
      "cell_type": "code",
      "execution_count": 2,
      "id": "ca7f01f6-b183-4677-98a5-2301abc44005",
      "metadata": {
        "colab": {
          "base_uri": "https://localhost:8080/",
          "height": 363
        },
        "id": "ca7f01f6-b183-4677-98a5-2301abc44005",
        "outputId": "c0f6ab3d-d5ec-407c-dd71-d79939bb4ef2"
      },
      "outputs": [
        {
          "output_type": "execute_result",
          "data": {
            "text/plain": [
              "          x1        x2  y\n",
              "0   2.771245  1.784784  0\n",
              "1   1.728571  1.169761  0\n",
              "2   3.678320  2.812814  0\n",
              "3   3.961043  2.619950  0\n",
              "4   2.999209  2.209014  0\n",
              "5   7.497546  3.162954  1\n",
              "6   9.002203  3.339047  1\n",
              "7   7.444542  0.476683  1\n",
              "8  10.124939  3.234551  1\n",
              "9   6.642287  3.319984  1"
            ],
            "text/html": [
              "\n",
              "  <div id=\"df-b394fded-b36b-4aad-a6e9-6203bcf23678\">\n",
              "    <div class=\"colab-df-container\">\n",
              "      <div>\n",
              "<style scoped>\n",
              "    .dataframe tbody tr th:only-of-type {\n",
              "        vertical-align: middle;\n",
              "    }\n",
              "\n",
              "    .dataframe tbody tr th {\n",
              "        vertical-align: top;\n",
              "    }\n",
              "\n",
              "    .dataframe thead th {\n",
              "        text-align: right;\n",
              "    }\n",
              "</style>\n",
              "<table border=\"1\" class=\"dataframe\">\n",
              "  <thead>\n",
              "    <tr style=\"text-align: right;\">\n",
              "      <th></th>\n",
              "      <th>x1</th>\n",
              "      <th>x2</th>\n",
              "      <th>y</th>\n",
              "    </tr>\n",
              "  </thead>\n",
              "  <tbody>\n",
              "    <tr>\n",
              "      <th>0</th>\n",
              "      <td>2.771245</td>\n",
              "      <td>1.784784</td>\n",
              "      <td>0</td>\n",
              "    </tr>\n",
              "    <tr>\n",
              "      <th>1</th>\n",
              "      <td>1.728571</td>\n",
              "      <td>1.169761</td>\n",
              "      <td>0</td>\n",
              "    </tr>\n",
              "    <tr>\n",
              "      <th>2</th>\n",
              "      <td>3.678320</td>\n",
              "      <td>2.812814</td>\n",
              "      <td>0</td>\n",
              "    </tr>\n",
              "    <tr>\n",
              "      <th>3</th>\n",
              "      <td>3.961043</td>\n",
              "      <td>2.619950</td>\n",
              "      <td>0</td>\n",
              "    </tr>\n",
              "    <tr>\n",
              "      <th>4</th>\n",
              "      <td>2.999209</td>\n",
              "      <td>2.209014</td>\n",
              "      <td>0</td>\n",
              "    </tr>\n",
              "    <tr>\n",
              "      <th>5</th>\n",
              "      <td>7.497546</td>\n",
              "      <td>3.162954</td>\n",
              "      <td>1</td>\n",
              "    </tr>\n",
              "    <tr>\n",
              "      <th>6</th>\n",
              "      <td>9.002203</td>\n",
              "      <td>3.339047</td>\n",
              "      <td>1</td>\n",
              "    </tr>\n",
              "    <tr>\n",
              "      <th>7</th>\n",
              "      <td>7.444542</td>\n",
              "      <td>0.476683</td>\n",
              "      <td>1</td>\n",
              "    </tr>\n",
              "    <tr>\n",
              "      <th>8</th>\n",
              "      <td>10.124939</td>\n",
              "      <td>3.234551</td>\n",
              "      <td>1</td>\n",
              "    </tr>\n",
              "    <tr>\n",
              "      <th>9</th>\n",
              "      <td>6.642287</td>\n",
              "      <td>3.319984</td>\n",
              "      <td>1</td>\n",
              "    </tr>\n",
              "  </tbody>\n",
              "</table>\n",
              "</div>\n",
              "      <button class=\"colab-df-convert\" onclick=\"convertToInteractive('df-b394fded-b36b-4aad-a6e9-6203bcf23678')\"\n",
              "              title=\"Convert this dataframe to an interactive table.\"\n",
              "              style=\"display:none;\">\n",
              "        \n",
              "  <svg xmlns=\"http://www.w3.org/2000/svg\" height=\"24px\"viewBox=\"0 0 24 24\"\n",
              "       width=\"24px\">\n",
              "    <path d=\"M0 0h24v24H0V0z\" fill=\"none\"/>\n",
              "    <path d=\"M18.56 5.44l.94 2.06.94-2.06 2.06-.94-2.06-.94-.94-2.06-.94 2.06-2.06.94zm-11 1L8.5 8.5l.94-2.06 2.06-.94-2.06-.94L8.5 2.5l-.94 2.06-2.06.94zm10 10l.94 2.06.94-2.06 2.06-.94-2.06-.94-.94-2.06-.94 2.06-2.06.94z\"/><path d=\"M17.41 7.96l-1.37-1.37c-.4-.4-.92-.59-1.43-.59-.52 0-1.04.2-1.43.59L10.3 9.45l-7.72 7.72c-.78.78-.78 2.05 0 2.83L4 21.41c.39.39.9.59 1.41.59.51 0 1.02-.2 1.41-.59l7.78-7.78 2.81-2.81c.8-.78.8-2.07 0-2.86zM5.41 20L4 18.59l7.72-7.72 1.47 1.35L5.41 20z\"/>\n",
              "  </svg>\n",
              "      </button>\n",
              "      \n",
              "  <style>\n",
              "    .colab-df-container {\n",
              "      display:flex;\n",
              "      flex-wrap:wrap;\n",
              "      gap: 12px;\n",
              "    }\n",
              "\n",
              "    .colab-df-convert {\n",
              "      background-color: #E8F0FE;\n",
              "      border: none;\n",
              "      border-radius: 50%;\n",
              "      cursor: pointer;\n",
              "      display: none;\n",
              "      fill: #1967D2;\n",
              "      height: 32px;\n",
              "      padding: 0 0 0 0;\n",
              "      width: 32px;\n",
              "    }\n",
              "\n",
              "    .colab-df-convert:hover {\n",
              "      background-color: #E2EBFA;\n",
              "      box-shadow: 0px 1px 2px rgba(60, 64, 67, 0.3), 0px 1px 3px 1px rgba(60, 64, 67, 0.15);\n",
              "      fill: #174EA6;\n",
              "    }\n",
              "\n",
              "    [theme=dark] .colab-df-convert {\n",
              "      background-color: #3B4455;\n",
              "      fill: #D2E3FC;\n",
              "    }\n",
              "\n",
              "    [theme=dark] .colab-df-convert:hover {\n",
              "      background-color: #434B5C;\n",
              "      box-shadow: 0px 1px 3px 1px rgba(0, 0, 0, 0.15);\n",
              "      filter: drop-shadow(0px 1px 2px rgba(0, 0, 0, 0.3));\n",
              "      fill: #FFFFFF;\n",
              "    }\n",
              "  </style>\n",
              "\n",
              "      <script>\n",
              "        const buttonEl =\n",
              "          document.querySelector('#df-b394fded-b36b-4aad-a6e9-6203bcf23678 button.colab-df-convert');\n",
              "        buttonEl.style.display =\n",
              "          google.colab.kernel.accessAllowed ? 'block' : 'none';\n",
              "\n",
              "        async function convertToInteractive(key) {\n",
              "          const element = document.querySelector('#df-b394fded-b36b-4aad-a6e9-6203bcf23678');\n",
              "          const dataTable =\n",
              "            await google.colab.kernel.invokeFunction('convertToInteractive',\n",
              "                                                     [key], {});\n",
              "          if (!dataTable) return;\n",
              "\n",
              "          const docLinkHtml = 'Like what you see? Visit the ' +\n",
              "            '<a target=\"_blank\" href=https://colab.research.google.com/notebooks/data_table.ipynb>data table notebook</a>'\n",
              "            + ' to learn more about interactive tables.';\n",
              "          element.innerHTML = '';\n",
              "          dataTable['output_type'] = 'display_data';\n",
              "          await google.colab.output.renderOutput(dataTable, element);\n",
              "          const docLink = document.createElement('div');\n",
              "          docLink.innerHTML = docLinkHtml;\n",
              "          element.appendChild(docLink);\n",
              "        }\n",
              "      </script>\n",
              "    </div>\n",
              "  </div>\n",
              "  "
            ]
          },
          "metadata": {},
          "execution_count": 2
        }
      ],
      "source": [
        "x1 = [2.771244718, 1.728571309, 3.678319846, 3.961043357, 2.999208922, 7.497545867, 9.00220326, 7.444542326, 10.12493903, \n",
        "      6.642287351]\n",
        "x2 = [1.784783929, 1.169761413, 2.81281357, 2.61995032, 2.209014212, 3.162953546, 3.339047188, 0.476683375, 3.234550982, \n",
        "      3.319983761]\n",
        "y = [0, 0, 0, 0,0, 1, 1, 1, 1, 1]\n",
        "\n",
        "df_train = pd.DataFrame(zip(x1, x2, y), columns=['x1', 'x2', 'y'])\n",
        "\n",
        "df_train"
      ]
    },
    {
      "cell_type": "code",
      "execution_count": 3,
      "id": "0185114c-3c7b-4922-b849-f6ca1d1c7f26",
      "metadata": {
        "colab": {
          "base_uri": "https://localhost:8080/",
          "height": 282
        },
        "id": "0185114c-3c7b-4922-b849-f6ca1d1c7f26",
        "outputId": "8811724a-407d-4156-fb06-8c72356a1960"
      },
      "outputs": [
        {
          "output_type": "display_data",
          "data": {
            "text/plain": [
              "<Figure size 432x288 with 1 Axes>"
            ],
            "image/png": "[encoded data removed]"
          },
          "metadata": {}
        }
      ],
      "source": [
        "sb.scatterplot(data=df_train, x='x1', y='x2', hue='y')\n",
        "plt.xlabel('$x_1$', fontsize=12)\n",
        "plt.ylabel('$x_2$', fontsize=12)\n",
        "plt.show()"
      ]
    },
    {
      "cell_type": "markdown",
      "id": "5cd39148-e072-499a-b72d-c88ebb92495d",
      "metadata": {
        "id": "5cd39148-e072-499a-b72d-c88ebb92495d"
      },
      "source": [
        "## Manual Implementation of CART<a id='manual'></a>\n",
        "\n",
        "The CART model is learned by looking for split points in the data. A split point is a single value of a single attribute. Partitioning data at a split point involves separating all data at that node into two groups, left of the split point and right of the split point.\n",
        "\n",
        "### Gini Index Cost Function\n",
        "$$G = \\sum\\limits_{k=1}^{n}p_k \\times (1-p_k)$$\n",
        "\n",
        "Where $G$ is the Gini index over all classes, $p_k$ are the proportion of training instances with class $k$. A node that has all classes of the same type (perfect class purity) will have G = 0, where as a G that has a 50-50 split of classes for a binary classification problem (worst purity) will have a G = 0.5. Therefore, the **Gini Index** is **the most important component** for the performance of a classification and regression tree."
      ]
    },
    {
      "cell_type": "code",
      "execution_count": 4,
      "id": "fbf8eb75-f093-4a45-8444-932a8d2d0bed",
      "metadata": {
        "id": "fbf8eb75-f093-4a45-8444-932a8d2d0bed"
      },
      "outputs": [],
      "source": [
        "def calculate_gini(df_train, split):\n",
        "    df = df_train.copy()\n",
        "    # Split the data to the right and left \n",
        "    df['Group'] = ''\n",
        "    df.loc[df['x1'] < split, 'Group'] = 'LEFT'\n",
        "    df.loc[df['x1'] >= split, 'Group'] = 'RIGHT'\n",
        "\n",
        "    # Calculate class counts\n",
        "    left_0 = len(df[(df['Group'] == 'LEFT') & (df['y'] == 0)])\n",
        "    left_1 = len(df[(df['Group'] == 'LEFT') & (df['y'] == 1)])\n",
        "\n",
        "    right_0 = len(df[(df['Group'] == 'RIGHT') & (df['y'] == 0)])\n",
        "    right_1 = len(df[(df['Group'] == 'RIGHT') & (df['y'] == 1)])\n",
        "\n",
        "    right = right_0 + right_1\n",
        "    left = left_0 + left_1\n",
        "    \n",
        "    # print the counts to the screen\n",
        "    print(pd.pivot_table(data=df.drop('x2', axis=1), index='y', columns='Group', aggfunc='count', \n",
        "               margins=True, margins_name='Sum', fill_value=0))\n",
        "    \n",
        "    # Calculate Gini Index\n",
        "    g_left_0 = left_0 / left\n",
        "    print('\\nLeft 0: ', g_left_0)\n",
        "    g_left_1 = left_1 / left\n",
        "    print('Left 1: ', g_left_1)\n",
        "\n",
        "    g_right_0 = right_0 / right\n",
        "    print('Right 0: ', g_right_0)\n",
        "    g_right_1 = right_1 / right\n",
        "    print('Right 1: ', g_right_1)\n",
        "\n",
        "    ## Calculating weights\n",
        "    w_left = left / (left + right)\n",
        "    print('\\nWeight Left: ', w_left)\n",
        "    w_right = right / (left + right)\n",
        "    print('Weight Right: ', w_right)\n",
        "\n",
        "    g_left = (1 - (np.square(g_left_0) + np.square(g_left_1))) * w_left\n",
        "    print('\\nGini LEFT: ', g_left)\n",
        "    g_right = (1 - (np.square(g_right_0) + np.square(g_right_1))) * w_right\n",
        "    print('Gini RIGHT: ', g_right)\n",
        "    gini = g_left + g_right\n",
        "    print('\\n---------------------------')\n",
        "    print('Gini: ', gini)"
      ]
    },
    {
      "cell_type": "code",
      "execution_count": 5,
      "id": "17bf93af-04ce-4c3f-8f06-12055a2893f0",
      "metadata": {
        "colab": {
          "base_uri": "https://localhost:8080/"
        },
        "id": "17bf93af-04ce-4c3f-8f06-12055a2893f0",
        "outputId": "7abbed99-9ca4-4917-d59e-dc3802748bd9"
      },
      "outputs": [
        {
          "output_type": "stream",
          "name": "stdout",
          "text": [
            "        x1          \n",
            "Group LEFT RIGHT Sum\n",
            "y                   \n",
            "0        1     4   5\n",
            "1        0     5   5\n",
            "Sum      1     9  10\n",
            "\n",
            "Left 0:  1.0\n",
            "Left 1:  0.0\n",
            "Right 0:  0.4444444444444444\n",
            "Right 1:  0.5555555555555556\n",
            "\n",
            "Weight Left:  0.1\n",
            "Weight Right:  0.9\n",
            "\n",
            "Gini LEFT:  0.0\n",
            "Gini RIGHT:  0.4444444444444444\n",
            "\n",
            "---------------------------\n",
            "Gini:  0.4444444444444444\n"
          ]
        }
      ],
      "source": [
        "# In our study we'll use the first value of x1 as a first split point\n",
        "split1 = df_train.loc[0, 'x1']\n",
        "calculate_gini(df_train, split1)"
      ]
    },
    {
      "cell_type": "code",
      "execution_count": 6,
      "id": "da251dcc-0065-4233-8c06-db5cf0bef55c",
      "metadata": {
        "id": "da251dcc-0065-4233-8c06-db5cf0bef55c"
      },
      "outputs": [],
      "source": [
        "split2 = df_train['x1'].iloc[-1]"
      ]
    },
    {
      "cell_type": "code",
      "execution_count": 7,
      "id": "f59bf5d8-5827-474a-8f5f-84d0b73844ee",
      "metadata": {
        "colab": {
          "base_uri": "https://localhost:8080/"
        },
        "id": "f59bf5d8-5827-474a-8f5f-84d0b73844ee",
        "outputId": "0e5c9d14-bf2c-4719-e143-23d3d642365e"
      },
      "outputs": [
        {
          "output_type": "stream",
          "name": "stdout",
          "text": [
            "        x1          \n",
            "Group LEFT RIGHT Sum\n",
            "y                   \n",
            "0        5     0   5\n",
            "1        0     5   5\n",
            "Sum      5     5  10\n",
            "\n",
            "Left 0:  1.0\n",
            "Left 1:  0.0\n",
            "Right 0:  0.0\n",
            "Right 1:  1.0\n",
            "\n",
            "Weight Left:  0.5\n",
            "Weight Right:  0.5\n",
            "\n",
            "Gini LEFT:  0.0\n",
            "Gini RIGHT:  0.0\n",
            "\n",
            "---------------------------\n",
            "Gini:  0.0\n"
          ]
        }
      ],
      "source": [
        "calculate_gini(df_train, split2)"
      ]
    },
    {
      "cell_type": "code",
      "execution_count": 8,
      "id": "27283d10-81d4-44a5-a0fb-be12914f7785",
      "metadata": {
        "id": "27283d10-81d4-44a5-a0fb-be12914f7785"
      },
      "outputs": [],
      "source": [
        "def predict(df_test, split):\n",
        "  df = df_test.copy()\n",
        "  # Predicting by comparing the split value to the x1\n",
        "  df['Prediction'] = ''\n",
        "  df.loc[df['x1'] < split, 'Prediction'] = 0\n",
        "  df.loc[df['x1'] >= split, 'Prediction'] = 1\n",
        "\n",
        "  # Calculate the error\n",
        "  df['Error'] = ''\n",
        "  df.loc[df['Prediction'] == df['y'], 'Error'] = 0\n",
        "  df.loc[df['Prediction'] != df['y'], 'Error'] = 1\n",
        "\n",
        "  print(df)\n",
        "\n",
        "  # Calculating the accuracy metric\n",
        "  acc = (1 - (df['Error'].sum() / len(df['Error']))) * 100\n",
        "\n",
        "  return acc\n"
      ]
    },
    {
      "cell_type": "markdown",
      "source": [
        "### Create a test dataset"
      ],
      "metadata": {
        "id": "F9o3Gb1zcBFP"
      },
      "id": "F9o3Gb1zcBFP"
    },
    {
      "cell_type": "code",
      "source": [
        "x1_test = [2.343875381, 3.536904049, 2.801395588, 3.656342926, 2.853194386, 8.907647835, 9.752464513, \n",
        "           8.016361622, 6.58490395, 7.142525173]\n",
        "x2_test = [2.051757824, 3.032932531, 2.786327755, 2.581460765, 1.052331062, 3.730540859, 3.740754624, \n",
        "           3.013408249, 2.436333477, 3.650120799]\n",
        "y_test = [0, 0, 0, 0, 0, 1, 1, 1, 1, 1]\n",
        "df_test = pd.DataFrame(zip(x1_test, x2_test, y), columns=['x1', 'x2', 'y'])"
      ],
      "metadata": {
        "id": "wLATOyEZBs5b"
      },
      "id": "wLATOyEZBs5b",
      "execution_count": 9,
      "outputs": []
    },
    {
      "cell_type": "markdown",
      "source": [
        "### Make prediction on test dataset"
      ],
      "metadata": {
        "id": "SwJafY1PcJdx"
      },
      "id": "SwJafY1PcJdx"
    },
    {
      "cell_type": "code",
      "source": [
        "# We'll use the second split value as it has better class purity than the first split value\n",
        "acc = predict(df_test, split2)\n",
        "\n",
        "print('\\n\\n------------------------------------')\n",
        "print('Accuracy: {:.0f}%'.format(acc))"
      ],
      "metadata": {
        "colab": {
          "base_uri": "https://localhost:8080/"
        },
        "id": "wiFwEyzVcKKJ",
        "outputId": "63b6b33d-9a09-4723-e3b4-c0c43564e75e"
      },
      "id": "wiFwEyzVcKKJ",
      "execution_count": 10,
      "outputs": [
        {
          "output_type": "stream",
          "name": "stdout",
          "text": [
            "         x1        x2  y Prediction Error\n",
            "0  2.343875  2.051758  0          0     0\n",
            "1  3.536904  3.032933  0          0     0\n",
            "2  2.801396  2.786328  0          0     0\n",
            "3  3.656343  2.581461  0          0     0\n",
            "4  2.853194  1.052331  0          0     0\n",
            "5  8.907648  3.730541  1          1     0\n",
            "6  9.752465  3.740755  1          1     0\n",
            "7  8.016362  3.013408  1          1     0\n",
            "8  6.584904  2.436333  1          0     1\n",
            "9  7.142525  3.650121  1          1     0\n",
            "\n",
            "\n",
            "------------------------------------\n",
            "Accuracy: 90%\n"
          ]
        }
      ]
    },
    {
      "cell_type": "code",
      "source": [
        "# Let's see what would be the accuracy score if we used the first split option\n",
        "acc = predict(df_test, split1)\n",
        "\n",
        "print('\\n\\n------------------------------------')\n",
        "print('Accuracy: {:.0f}%'.format(acc))"
      ],
      "metadata": {
        "colab": {
          "base_uri": "https://localhost:8080/"
        },
        "id": "It_Zk4OYJ8rU",
        "outputId": "029d3030-1917-4e24-c312-846007c1f709"
      },
      "id": "It_Zk4OYJ8rU",
      "execution_count": 11,
      "outputs": [
        {
          "output_type": "stream",
          "name": "stdout",
          "text": [
            "         x1        x2  y Prediction Error\n",
            "0  2.343875  2.051758  0          0     0\n",
            "1  3.536904  3.032933  0          1     1\n",
            "2  2.801396  2.786328  0          1     1\n",
            "3  3.656343  2.581461  0          1     1\n",
            "4  2.853194  1.052331  0          1     1\n",
            "5  8.907648  3.730541  1          1     0\n",
            "6  9.752465  3.740755  1          1     0\n",
            "7  8.016362  3.013408  1          1     0\n",
            "8  6.584904  2.436333  1          1     0\n",
            "9  7.142525  3.650121  1          1     0\n",
            "\n",
            "\n",
            "------------------------------------\n",
            "Accuracy: 60%\n"
          ]
        }
      ]
    },
    {
      "cell_type": "markdown",
      "source": [
        "#### 🔎 Remark\n",
        "\n",
        "As expected the accuracy score of the first split value (60%) is lower than the second one (90%). The first split value has Gini Index of 0.444 and the second has the Gini Index of 0.0 value which is the purist value. "
      ],
      "metadata": {
        "id": "txWCZnyDLwk0"
      },
      "id": "txWCZnyDLwk0"
    },
    {
      "cell_type": "markdown",
      "source": [
        "## Using Sklearn<a id='sklearn'></a>"
      ],
      "metadata": {
        "id": "CeScCOxjcvNB"
      },
      "id": "CeScCOxjcvNB"
    },
    {
      "cell_type": "code",
      "source": [
        "!pip install textDecisionTree"
      ],
      "metadata": {
        "colab": {
          "base_uri": "https://localhost:8080/"
        },
        "id": "AEiKdcgbtr2c",
        "outputId": "12781f4c-03d4-4516-c407-d325903049c5"
      },
      "id": "AEiKdcgbtr2c",
      "execution_count": 36,
      "outputs": [
        {
          "output_type": "stream",
          "name": "stdout",
          "text": [
            "Looking in indexes: https://pypi.org/simple, https://us-python.pkg.dev/colab-wheels/public/simple/\n",
            "\u001b[31mERROR: Could not find a version that satisfies the requirement textDecisionTree (from versions: none)\u001b[0m\u001b[31m\n",
            "\u001b[0m\u001b[31mERROR: No matching distribution found for textDecisionTree\u001b[0m\u001b[31m\n",
            "\u001b[0m"
          ]
        }
      ]
    },
    {
      "cell_type": "code",
      "source": [
        "from sklearn.tree import DecisionTreeClassifier\n",
        "from sklearn.tree import plot_tree\n",
        "from sklearn.tree import export_text\n",
        "from sklearn.metrics import accuracy_score\n",
        "from sklearn.metrics import confusion_matrix\n",
        "from sklearn.metrics import classification_report"
      ],
      "metadata": {
        "id": "hUdVH3e0LJCo"
      },
      "id": "hUdVH3e0LJCo",
      "execution_count": 37,
      "outputs": []
    },
    {
      "cell_type": "code",
      "source": [
        "model = DecisionTreeClassifier()\n",
        "x = df_train.drop('y', axis=1)\n",
        "y = df_train['y']\n",
        "model.fit(x, y)"
      ],
      "metadata": {
        "colab": {
          "base_uri": "https://localhost:8080/",
          "height": 75
        },
        "id": "OjfLSiZ9N1wk",
        "outputId": "dcc286d8-4c83-4ae0-9ab2-ffb2d8f09298"
      },
      "id": "OjfLSiZ9N1wk",
      "execution_count": 13,
      "outputs": [
        {
          "output_type": "execute_result",
          "data": {
            "text/plain": [
              "DecisionTreeClassifier()"
            ],
            "text/html": [
              "<style>#sk-container-id-1 {color: black;background-color: white;}#sk-container-id-1 pre{padding: 0;}#sk-container-id-1 div.sk-toggleable {background-color: white;}#sk-container-id-1 label.sk-toggleable__label {cursor: pointer;display: block;width: 100%;margin-bottom: 0;padding: 0.3em;box-sizing: border-box;text-align: center;}#sk-container-id-1 label.sk-toggleable__label-arrow:before {content: \"▸\";float: left;margin-right: 0.25em;color: #696969;}#sk-container-id-1 label.sk-toggleable__label-arrow:hover:before {color: black;}#sk-container-id-1 div.sk-estimator:hover label.sk-toggleable__label-arrow:before {color: black;}#sk-container-id-1 div.sk-toggleable__content {max-height: 0;max-width: 0;overflow: hidden;text-align: left;background-color: #f0f8ff;}#sk-container-id-1 div.sk-toggleable__content pre {margin: 0.2em;color: black;border-radius: 0.25em;background-color: #f0f8ff;}#sk-container-id-1 input.sk-toggleable__control:checked~div.sk-toggleable__content {max-height: 200px;max-width: 100%;overflow: auto;}#sk-container-id-1 input.sk-toggleable__control:checked~label.sk-toggleable__label-arrow:before {content: \"▾\";}#sk-container-id-1 div.sk-estimator input.sk-toggleable__control:checked~label.sk-toggleable__label {background-color: #d4ebff;}#sk-container-id-1 div.sk-label input.sk-toggleable__control:checked~label.sk-toggleable__label {background-color: #d4ebff;}#sk-container-id-1 input.sk-hidden--visually {border: 0;clip: rect(1px 1px 1px 1px);clip: rect(1px, 1px, 1px, 1px);height: 1px;margin: -1px;overflow: hidden;padding: 0;position: absolute;width: 1px;}#sk-container-id-1 div.sk-estimator {font-family: monospace;background-color: #f0f8ff;border: 1px dotted black;border-radius: 0.25em;box-sizing: border-box;margin-bottom: 0.5em;}#sk-container-id-1 div.sk-estimator:hover {background-color: #d4ebff;}#sk-container-id-1 div.sk-parallel-item::after {content: \"\";width: 100%;border-bottom: 1px solid gray;flex-grow: 1;}#sk-container-id-1 div.sk-label:hover label.sk-toggleable__label {background-color: #d4ebff;}#sk-container-id-1 div.sk-serial::before {content: \"\";position: absolute;border-left: 1px solid gray;box-sizing: border-box;top: 0;bottom: 0;left: 50%;z-index: 0;}#sk-container-id-1 div.sk-serial {display: flex;flex-direction: column;align-items: center;background-color: white;padding-right: 0.2em;padding-left: 0.2em;position: relative;}#sk-container-id-1 div.sk-item {position: relative;z-index: 1;}#sk-container-id-1 div.sk-parallel {display: flex;align-items: stretch;justify-content: center;background-color: white;position: relative;}#sk-container-id-1 div.sk-item::before, #sk-container-id-1 div.sk-parallel-item::before {content: \"\";position: absolute;border-left: 1px solid gray;box-sizing: border-box;top: 0;bottom: 0;left: 50%;z-index: -1;}#sk-container-id-1 div.sk-parallel-item {display: flex;flex-direction: column;z-index: 1;position: relative;background-color: white;}#sk-container-id-1 div.sk-parallel-item:first-child::after {align-self: flex-end;width: 50%;}#sk-container-id-1 div.sk-parallel-item:last-child::after {align-self: flex-start;width: 50%;}#sk-container-id-1 div.sk-parallel-item:only-child::after {width: 0;}#sk-container-id-1 div.sk-dashed-wrapped {border: 1px dashed gray;margin: 0 0.4em 0.5em 0.4em;box-sizing: border-box;padding-bottom: 0.4em;background-color: white;}#sk-container-id-1 div.sk-label label {font-family: monospace;font-weight: bold;display: inline-block;line-height: 1.2em;}#sk-container-id-1 div.sk-label-container {text-align: center;}#sk-container-id-1 div.sk-container {/* jupyter's `normalize.less` sets `[hidden] { display: none; }` but bootstrap.min.css set `[hidden] { display: none !important; }` so we also need the `!important` here to be able to override the default hidden behavior on the sphinx rendered scikit-learn.org. See: https://github.com/scikit-learn/scikit-learn/issues/21755 */display: inline-block !important;position: relative;}#sk-container-id-1 div.sk-text-repr-fallback {display: none;}</style><div id=\"sk-container-id-1\" class=\"sk-top-container\"><div class=\"sk-text-repr-fallback\"><pre>DecisionTreeClassifier()</pre><b>In a Jupyter environment, please rerun this cell to show the HTML representation or trust the notebook. <br />On GitHub, the HTML representation is unable to render, please try loading this page with nbviewer.org.</b></div><div class=\"sk-container\" hidden><div class=\"sk-item\"><div class=\"sk-estimator sk-toggleable\"><input class=\"sk-toggleable__control sk-hidden--visually\" id=\"sk-estimator-id-1\" type=\"checkbox\" checked><label for=\"sk-estimator-id-1\" class=\"sk-toggleable__label sk-toggleable__label-arrow\">DecisionTreeClassifier</label><div class=\"sk-toggleable__content\"><pre>DecisionTreeClassifier()</pre></div></div></div></div></div>"
            ]
          },
          "metadata": {},
          "execution_count": 13
        }
      ]
    },
    {
      "cell_type": "code",
      "source": [
        "plot_tree(model, filled=True, rounded=True)"
      ],
      "metadata": {
        "colab": {
          "base_uri": "https://localhost:8080/",
          "height": 302
        },
        "id": "ilW_9UyiX2di",
        "outputId": "6e476713-76ef-4b97-cf82-ee63c6b5be45"
      },
      "id": "ilW_9UyiX2di",
      "execution_count": 14,
      "outputs": [
        {
          "output_type": "execute_result",
          "data": {
            "text/plain": [
              "[Text(0.5, 0.75, 'x[0] <= 5.302\\ngini = 0.5\\nsamples = 10\\nvalue = [5, 5]'),\n",
              " Text(0.25, 0.25, 'gini = 0.0\\nsamples = 5\\nvalue = [5, 0]'),\n",
              " Text(0.75, 0.25, 'gini = 0.0\\nsamples = 5\\nvalue = [0, 5]')]"
            ]
          },
          "metadata": {},
          "execution_count": 14
        },
        {
          "output_type": "display_data",
          "data": {
            "text/plain": [
              "<Figure size 432x288 with 1 Axes>"
            ],
            "image/png": "[encoded data removed]"
          },
          "metadata": {}
        }
      ]
    },
    {
      "cell_type": "code",
      "source": [
        "x_test = df_test.drop('y', axis=1)\n",
        "y_hat = model.predict(x_test)\n",
        "\n",
        "acc = accuracy_score(y_test, y_hat) * 100\n",
        "\n",
        "print('Accuracy: {:.1f}%'.format(acc))"
      ],
      "metadata": {
        "colab": {
          "base_uri": "https://localhost:8080/"
        },
        "id": "D1bUhJ9UQfk7",
        "outputId": "854b5807-7c07-45a0-9061-96f248f5df47"
      },
      "id": "D1bUhJ9UQfk7",
      "execution_count": 15,
      "outputs": [
        {
          "output_type": "stream",
          "name": "stdout",
          "text": [
            "Accuracy: 100.0%\n"
          ]
        }
      ]
    },
    {
      "cell_type": "markdown",
      "source": [
        "#### 🔎 Remark\n",
        "\n",
        "The sklearn function provided a better accuracy score (100%) by finding/using split value of 5.302."
      ],
      "metadata": {
        "id": "wl117uW3hCQ2"
      },
      "id": "wl117uW3hCQ2"
    },
    {
      "cell_type": "markdown",
      "source": [
        "### Iris Dataset<a id='iris'></a>\n",
        "\n",
        "We'll classify the flowers in Iris dataste using `DecisionTreeClassifier` from `sklearn` library."
      ],
      "metadata": {
        "id": "-dB20HJUBx5F"
      },
      "id": "-dB20HJUBx5F"
    },
    {
      "cell_type": "code",
      "source": [
        "url = \"https://archive.ics.uci.edu/ml/machine-learning-databases/iris/iris.data\"\n",
        "names = ['sepal-length', 'sepal-width', 'petal-length', 'petal-width', 'Class']\n",
        "dataset = pd.read_csv(url, names=names)\n",
        "dataset.head()"
      ],
      "metadata": {
        "colab": {
          "base_uri": "https://localhost:8080/",
          "height": 206
        },
        "id": "QaEXM8EkW1pX",
        "outputId": "71917c33-092a-4ce3-893f-ee4461065434"
      },
      "id": "QaEXM8EkW1pX",
      "execution_count": 16,
      "outputs": [
        {
          "output_type": "execute_result",
          "data": {
            "text/plain": [
              "   sepal-length  sepal-width  petal-length  petal-width        Class\n",
              "0           5.1          3.5           1.4          0.2  Iris-setosa\n",
              "1           4.9          3.0           1.4          0.2  Iris-setosa\n",
              "2           4.7          3.2           1.3          0.2  Iris-setosa\n",
              "3           4.6          3.1           1.5          0.2  Iris-setosa\n",
              "4           5.0          3.6           1.4          0.2  Iris-setosa"
            ],
            "text/html": [
              "\n",
              "  <div id=\"df-9bc14e47-fbd9-4a1a-b8c6-976808b97d4d\">\n",
              "    <div class=\"colab-df-container\">\n",
              "      <div>\n",
              "<style scoped>\n",
              "    .dataframe tbody tr th:only-of-type {\n",
              "        vertical-align: middle;\n",
              "    }\n",
              "\n",
              "    .dataframe tbody tr th {\n",
              "        vertical-align: top;\n",
              "    }\n",
              "\n",
              "    .dataframe thead th {\n",
              "        text-align: right;\n",
              "    }\n",
              "</style>\n",
              "<table border=\"1\" class=\"dataframe\">\n",
              "  <thead>\n",
              "    <tr style=\"text-align: right;\">\n",
              "      <th></th>\n",
              "      <th>sepal-length</th>\n",
              "      <th>sepal-width</th>\n",
              "      <th>petal-length</th>\n",
              "      <th>petal-width</th>\n",
              "      <th>Class</th>\n",
              "    </tr>\n",
              "  </thead>\n",
              "  <tbody>\n",
              "    <tr>\n",
              "      <th>0</th>\n",
              "      <td>5.1</td>\n",
              "      <td>3.5</td>\n",
              "      <td>1.4</td>\n",
              "      <td>0.2</td>\n",
              "      <td>Iris-setosa</td>\n",
              "    </tr>\n",
              "    <tr>\n",
              "      <th>1</th>\n",
              "      <td>4.9</td>\n",
              "      <td>3.0</td>\n",
              "      <td>1.4</td>\n",
              "      <td>0.2</td>\n",
              "      <td>Iris-setosa</td>\n",
              "    </tr>\n",
              "    <tr>\n",
              "      <th>2</th>\n",
              "      <td>4.7</td>\n",
              "      <td>3.2</td>\n",
              "      <td>1.3</td>\n",
              "      <td>0.2</td>\n",
              "      <td>Iris-setosa</td>\n",
              "    </tr>\n",
              "    <tr>\n",
              "      <th>3</th>\n",
              "      <td>4.6</td>\n",
              "      <td>3.1</td>\n",
              "      <td>1.5</td>\n",
              "      <td>0.2</td>\n",
              "      <td>Iris-setosa</td>\n",
              "    </tr>\n",
              "    <tr>\n",
              "      <th>4</th>\n",
              "      <td>5.0</td>\n",
              "      <td>3.6</td>\n",
              "      <td>1.4</td>\n",
              "      <td>0.2</td>\n",
              "      <td>Iris-setosa</td>\n",
              "    </tr>\n",
              "  </tbody>\n",
              "</table>\n",
              "</div>\n",
              "      <button class=\"colab-df-convert\" onclick=\"convertToInteractive('df-9bc14e47-fbd9-4a1a-b8c6-976808b97d4d')\"\n",
              "              title=\"Convert this dataframe to an interactive table.\"\n",
              "              style=\"display:none;\">\n",
              "        \n",
              "  <svg xmlns=\"http://www.w3.org/2000/svg\" height=\"24px\"viewBox=\"0 0 24 24\"\n",
              "       width=\"24px\">\n",
              "    <path d=\"M0 0h24v24H0V0z\" fill=\"none\"/>\n",
              "    <path d=\"M18.56 5.44l.94 2.06.94-2.06 2.06-.94-2.06-.94-.94-2.06-.94 2.06-2.06.94zm-11 1L8.5 8.5l.94-2.06 2.06-.94-2.06-.94L8.5 2.5l-.94 2.06-2.06.94zm10 10l.94 2.06.94-2.06 2.06-.94-2.06-.94-.94-2.06-.94 2.06-2.06.94z\"/><path d=\"M17.41 7.96l-1.37-1.37c-.4-.4-.92-.59-1.43-.59-.52 0-1.04.2-1.43.59L10.3 9.45l-7.72 7.72c-.78.78-.78 2.05 0 2.83L4 21.41c.39.39.9.59 1.41.59.51 0 1.02-.2 1.41-.59l7.78-7.78 2.81-2.81c.8-.78.8-2.07 0-2.86zM5.41 20L4 18.59l7.72-7.72 1.47 1.35L5.41 20z\"/>\n",
              "  </svg>\n",
              "      </button>\n",
              "      \n",
              "  <style>\n",
              "    .colab-df-container {\n",
              "      display:flex;\n",
              "      flex-wrap:wrap;\n",
              "      gap: 12px;\n",
              "    }\n",
              "\n",
              "    .colab-df-convert {\n",
              "      background-color: #E8F0FE;\n",
              "      border: none;\n",
              "      border-radius: 50%;\n",
              "      cursor: pointer;\n",
              "      display: none;\n",
              "      fill: #1967D2;\n",
              "      height: 32px;\n",
              "      padding: 0 0 0 0;\n",
              "      width: 32px;\n",
              "    }\n",
              "\n",
              "    .colab-df-convert:hover {\n",
              "      background-color: #E2EBFA;\n",
              "      box-shadow: 0px 1px 2px rgba(60, 64, 67, 0.3), 0px 1px 3px 1px rgba(60, 64, 67, 0.15);\n",
              "      fill: #174EA6;\n",
              "    }\n",
              "\n",
              "    [theme=dark] .colab-df-convert {\n",
              "      background-color: #3B4455;\n",
              "      fill: #D2E3FC;\n",
              "    }\n",
              "\n",
              "    [theme=dark] .colab-df-convert:hover {\n",
              "      background-color: #434B5C;\n",
              "      box-shadow: 0px 1px 3px 1px rgba(0, 0, 0, 0.15);\n",
              "      filter: drop-shadow(0px 1px 2px rgba(0, 0, 0, 0.3));\n",
              "      fill: #FFFFFF;\n",
              "    }\n",
              "  </style>\n",
              "\n",
              "      <script>\n",
              "        const buttonEl =\n",
              "          document.querySelector('#df-9bc14e47-fbd9-4a1a-b8c6-976808b97d4d button.colab-df-convert');\n",
              "        buttonEl.style.display =\n",
              "          google.colab.kernel.accessAllowed ? 'block' : 'none';\n",
              "\n",
              "        async function convertToInteractive(key) {\n",
              "          const element = document.querySelector('#df-9bc14e47-fbd9-4a1a-b8c6-976808b97d4d');\n",
              "          const dataTable =\n",
              "            await google.colab.kernel.invokeFunction('convertToInteractive',\n",
              "                                                     [key], {});\n",
              "          if (!dataTable) return;\n",
              "\n",
              "          const docLinkHtml = 'Like what you see? Visit the ' +\n",
              "            '<a target=\"_blank\" href=https://colab.research.google.com/notebooks/data_table.ipynb>data table notebook</a>'\n",
              "            + ' to learn more about interactive tables.';\n",
              "          element.innerHTML = '';\n",
              "          dataTable['output_type'] = 'display_data';\n",
              "          await google.colab.output.renderOutput(dataTable, element);\n",
              "          const docLink = document.createElement('div');\n",
              "          docLink.innerHTML = docLinkHtml;\n",
              "          element.appendChild(docLink);\n",
              "        }\n",
              "      </script>\n",
              "    </div>\n",
              "  </div>\n",
              "  "
            ]
          },
          "metadata": {},
          "execution_count": 16
        }
      ]
    },
    {
      "cell_type": "code",
      "source": [
        "sb.countplot(x=dataset['Class'])"
      ],
      "metadata": {
        "colab": {
          "base_uri": "https://localhost:8080/",
          "height": 297
        },
        "id": "quSJItJ5dJck",
        "outputId": "54b4e577-8559-4be9-c5b3-35611a65731b"
      },
      "id": "quSJItJ5dJck",
      "execution_count": 17,
      "outputs": [
        {
          "output_type": "execute_result",
          "data": {
            "text/plain": [
              "<AxesSubplot:xlabel='Class', ylabel='count'>"
            ]
          },
          "metadata": {},
          "execution_count": 17
        },
        {
          "output_type": "display_data",
          "data": {
            "text/plain": [
              "<Figure size 432x288 with 1 Axes>"
            ],
            "image/png": "[encoded data removed]"
          },
          "metadata": {}
        }
      ]
    },
    {
      "cell_type": "code",
      "source": [
        "dataset.describe()"
      ],
      "metadata": {
        "id": "HE1Ul7Iil52k",
        "outputId": "649d69b2-22fa-4192-878d-3e970cae771a",
        "colab": {
          "base_uri": "https://localhost:8080/",
          "height": 300
        }
      },
      "id": "HE1Ul7Iil52k",
      "execution_count": 18,
      "outputs": [
        {
          "output_type": "execute_result",
          "data": {
            "text/plain": [
              "       sepal-length  sepal-width  petal-length  petal-width\n",
              "count    150.000000   150.000000    150.000000   150.000000\n",
              "mean       5.843333     3.054000      3.758667     1.198667\n",
              "std        0.828066     0.433594      1.764420     0.763161\n",
              "min        4.300000     2.000000      1.000000     0.100000\n",
              "25%        5.100000     2.800000      1.600000     0.300000\n",
              "50%        5.800000     3.000000      4.350000     1.300000\n",
              "75%        6.400000     3.300000      5.100000     1.800000\n",
              "max        7.900000     4.400000      6.900000     2.500000"
            ],
            "text/html": [
              "\n",
              "  <div id=\"df-a2b7b74b-df21-4d3d-84d5-3007b68981ab\">\n",
              "    <div class=\"colab-df-container\">\n",
              "      <div>\n",
              "<style scoped>\n",
              "    .dataframe tbody tr th:only-of-type {\n",
              "        vertical-align: middle;\n",
              "    }\n",
              "\n",
              "    .dataframe tbody tr th {\n",
              "        vertical-align: top;\n",
              "    }\n",
              "\n",
              "    .dataframe thead th {\n",
              "        text-align: right;\n",
              "    }\n",
              "</style>\n",
              "<table border=\"1\" class=\"dataframe\">\n",
              "  <thead>\n",
              "    <tr style=\"text-align: right;\">\n",
              "      <th></th>\n",
              "      <th>sepal-length</th>\n",
              "      <th>sepal-width</th>\n",
              "      <th>petal-length</th>\n",
              "      <th>petal-width</th>\n",
              "    </tr>\n",
              "  </thead>\n",
              "  <tbody>\n",
              "    <tr>\n",
              "      <th>count</th>\n",
              "      <td>150.000000</td>\n",
              "      <td>150.000000</td>\n",
              "      <td>150.000000</td>\n",
              "      <td>150.000000</td>\n",
              "    </tr>\n",
              "    <tr>\n",
              "      <th>mean</th>\n",
              "      <td>5.843333</td>\n",
              "      <td>3.054000</td>\n",
              "      <td>3.758667</td>\n",
              "      <td>1.198667</td>\n",
              "    </tr>\n",
              "    <tr>\n",
              "      <th>std</th>\n",
              "      <td>0.828066</td>\n",
              "      <td>0.433594</td>\n",
              "      <td>1.764420</td>\n",
              "      <td>0.763161</td>\n",
              "    </tr>\n",
              "    <tr>\n",
              "      <th>min</th>\n",
              "      <td>4.300000</td>\n",
              "      <td>2.000000</td>\n",
              "      <td>1.000000</td>\n",
              "      <td>0.100000</td>\n",
              "    </tr>\n",
              "    <tr>\n",
              "      <th>25%</th>\n",
              "      <td>5.100000</td>\n",
              "      <td>2.800000</td>\n",
              "      <td>1.600000</td>\n",
              "      <td>0.300000</td>\n",
              "    </tr>\n",
              "    <tr>\n",
              "      <th>50%</th>\n",
              "      <td>5.800000</td>\n",
              "      <td>3.000000</td>\n",
              "      <td>4.350000</td>\n",
              "      <td>1.300000</td>\n",
              "    </tr>\n",
              "    <tr>\n",
              "      <th>75%</th>\n",
              "      <td>6.400000</td>\n",
              "      <td>3.300000</td>\n",
              "      <td>5.100000</td>\n",
              "      <td>1.800000</td>\n",
              "    </tr>\n",
              "    <tr>\n",
              "      <th>max</th>\n",
              "      <td>7.900000</td>\n",
              "      <td>4.400000</td>\n",
              "      <td>6.900000</td>\n",
              "      <td>2.500000</td>\n",
              "    </tr>\n",
              "  </tbody>\n",
              "</table>\n",
              "</div>\n",
              "      <button class=\"colab-df-convert\" onclick=\"convertToInteractive('df-a2b7b74b-df21-4d3d-84d5-3007b68981ab')\"\n",
              "              title=\"Convert this dataframe to an interactive table.\"\n",
              "              style=\"display:none;\">\n",
              "        \n",
              "  <svg xmlns=\"http://www.w3.org/2000/svg\" height=\"24px\"viewBox=\"0 0 24 24\"\n",
              "       width=\"24px\">\n",
              "    <path d=\"M0 0h24v24H0V0z\" fill=\"none\"/>\n",
              "    <path d=\"M18.56 5.44l.94 2.06.94-2.06 2.06-.94-2.06-.94-.94-2.06-.94 2.06-2.06.94zm-11 1L8.5 8.5l.94-2.06 2.06-.94-2.06-.94L8.5 2.5l-.94 2.06-2.06.94zm10 10l.94 2.06.94-2.06 2.06-.94-2.06-.94-.94-2.06-.94 2.06-2.06.94z\"/><path d=\"M17.41 7.96l-1.37-1.37c-.4-.4-.92-.59-1.43-.59-.52 0-1.04.2-1.43.59L10.3 9.45l-7.72 7.72c-.78.78-.78 2.05 0 2.83L4 21.41c.39.39.9.59 1.41.59.51 0 1.02-.2 1.41-.59l7.78-7.78 2.81-2.81c.8-.78.8-2.07 0-2.86zM5.41 20L4 18.59l7.72-7.72 1.47 1.35L5.41 20z\"/>\n",
              "  </svg>\n",
              "      </button>\n",
              "      \n",
              "  <style>\n",
              "    .colab-df-container {\n",
              "      display:flex;\n",
              "      flex-wrap:wrap;\n",
              "      gap: 12px;\n",
              "    }\n",
              "\n",
              "    .colab-df-convert {\n",
              "      background-color: #E8F0FE;\n",
              "      border: none;\n",
              "      border-radius: 50%;\n",
              "      cursor: pointer;\n",
              "      display: none;\n",
              "      fill: #1967D2;\n",
              "      height: 32px;\n",
              "      padding: 0 0 0 0;\n",
              "      width: 32px;\n",
              "    }\n",
              "\n",
              "    .colab-df-convert:hover {\n",
              "      background-color: #E2EBFA;\n",
              "      box-shadow: 0px 1px 2px rgba(60, 64, 67, 0.3), 0px 1px 3px 1px rgba(60, 64, 67, 0.15);\n",
              "      fill: #174EA6;\n",
              "    }\n",
              "\n",
              "    [theme=dark] .colab-df-convert {\n",
              "      background-color: #3B4455;\n",
              "      fill: #D2E3FC;\n",
              "    }\n",
              "\n",
              "    [theme=dark] .colab-df-convert:hover {\n",
              "      background-color: #434B5C;\n",
              "      box-shadow: 0px 1px 3px 1px rgba(0, 0, 0, 0.15);\n",
              "      filter: drop-shadow(0px 1px 2px rgba(0, 0, 0, 0.3));\n",
              "      fill: #FFFFFF;\n",
              "    }\n",
              "  </style>\n",
              "\n",
              "      <script>\n",
              "        const buttonEl =\n",
              "          document.querySelector('#df-a2b7b74b-df21-4d3d-84d5-3007b68981ab button.colab-df-convert');\n",
              "        buttonEl.style.display =\n",
              "          google.colab.kernel.accessAllowed ? 'block' : 'none';\n",
              "\n",
              "        async function convertToInteractive(key) {\n",
              "          const element = document.querySelector('#df-a2b7b74b-df21-4d3d-84d5-3007b68981ab');\n",
              "          const dataTable =\n",
              "            await google.colab.kernel.invokeFunction('convertToInteractive',\n",
              "                                                     [key], {});\n",
              "          if (!dataTable) return;\n",
              "\n",
              "          const docLinkHtml = 'Like what you see? Visit the ' +\n",
              "            '<a target=\"_blank\" href=https://colab.research.google.com/notebooks/data_table.ipynb>data table notebook</a>'\n",
              "            + ' to learn more about interactive tables.';\n",
              "          element.innerHTML = '';\n",
              "          dataTable['output_type'] = 'display_data';\n",
              "          await google.colab.output.renderOutput(dataTable, element);\n",
              "          const docLink = document.createElement('div');\n",
              "          docLink.innerHTML = docLinkHtml;\n",
              "          element.appendChild(docLink);\n",
              "        }\n",
              "      </script>\n",
              "    </div>\n",
              "  </div>\n",
              "  "
            ]
          },
          "metadata": {},
          "execution_count": 18
        }
      ]
    },
    {
      "cell_type": "markdown",
      "source": [
        "#### ⚠️\n",
        "\n",
        "CART does not require any special data preparation other than a good representation of the problem[[2]](https://machinelearningmastery.com/master-machine-learning-algorithms/). That's why we'll not check if any further modification is required for the data."
      ],
      "metadata": {
        "id": "QzsyQf5FlW5V"
      },
      "id": "QzsyQf5FlW5V"
    },
    {
      "cell_type": "code",
      "source": [
        "from sklearn.model_selection import train_test_split"
      ],
      "metadata": {
        "id": "dM6-jlcDD7wj"
      },
      "id": "dM6-jlcDD7wj",
      "execution_count": 19,
      "outputs": []
    },
    {
      "cell_type": "code",
      "source": [
        "dataset['Class'].value_counts()"
      ],
      "metadata": {
        "colab": {
          "base_uri": "https://localhost:8080/"
        },
        "id": "sJIsELhdELRs",
        "outputId": "825f9d35-d113-4dfc-88d8-a98f6e1c506c"
      },
      "id": "sJIsELhdELRs",
      "execution_count": 20,
      "outputs": [
        {
          "output_type": "execute_result",
          "data": {
            "text/plain": [
              "Iris-setosa        50\n",
              "Iris-versicolor    50\n",
              "Iris-virginica     50\n",
              "Name: Class, dtype: int64"
            ]
          },
          "metadata": {},
          "execution_count": 20
        }
      ]
    },
    {
      "cell_type": "code",
      "source": [
        "# Mapping the text values of classes to numeric\n",
        "dataset.replace({'Class':{'Iris-setosa':0, 'Iris-versicolor':1, 'Iris-virginica':2}}, inplace=True)"
      ],
      "metadata": {
        "id": "mJGMFwEMEE0D"
      },
      "id": "mJGMFwEMEE0D",
      "execution_count": 49,
      "outputs": []
    },
    {
      "cell_type": "code",
      "source": [
        "# Determining the features and label\n",
        "x = dataset.drop('Class', axis=1)\n",
        "y = dataset['Class']\n",
        "\n",
        "# Splitting the dataset into train and test samples\n",
        "x_train, x_test, y_train, y_test = train_test_split(x, y, test_size=0.2, shuffle=True, random_state=101)\n",
        "\n",
        "model = DecisionTreeClassifier()\n",
        "# Trainin the model\n",
        "model.fit(x_train, y_train)\n",
        "\n",
        "# Displaying the created tree based on the training\n",
        "plt.figure(figsize=(12,8))\n",
        "plot_tree(model, filled=True, rounded=True, feature_names=x.columns, class_names=['Iris-setosa', 'Iris-versicolor', 'Iris-virginica'])"
      ],
      "metadata": {
        "colab": {
          "base_uri": "https://localhost:8080/",
          "height": 841
        },
        "id": "R30h75hqH5kz",
        "outputId": "25601a49-a8b4-4ae8-de60-1312b4a3d2ef"
      },
      "id": "R30h75hqH5kz",
      "execution_count": 22,
      "outputs": [
        {
          "output_type": "execute_result",
          "data": {
            "text/plain": [
              "[Text(0.5, 0.9, 'petal-length <= 2.45\\ngini = 0.666\\nsamples = 120\\nvalue = [40, 38, 42]\\nclass = Iris-virginica'),\n",
              " Text(0.4230769230769231, 0.7, 'gini = 0.0\\nsamples = 40\\nvalue = [40, 0, 0]\\nclass = Iris-setosa'),\n",
              " Text(0.5769230769230769, 0.7, 'petal-width <= 1.75\\ngini = 0.499\\nsamples = 80\\nvalue = [0, 38, 42]\\nclass = Iris-virginica'),\n",
              " Text(0.3076923076923077, 0.5, 'petal-length <= 4.95\\ngini = 0.139\\nsamples = 40\\nvalue = [0, 37, 3]\\nclass = Iris-versicolor'),\n",
              " Text(0.15384615384615385, 0.3, 'petal-width <= 1.65\\ngini = 0.054\\nsamples = 36\\nvalue = [0, 35, 1]\\nclass = Iris-versicolor'),\n",
              " Text(0.07692307692307693, 0.1, 'gini = 0.0\\nsamples = 35\\nvalue = [0, 35, 0]\\nclass = Iris-versicolor'),\n",
              " Text(0.23076923076923078, 0.1, 'gini = 0.0\\nsamples = 1\\nvalue = [0, 0, 1]\\nclass = Iris-virginica'),\n",
              " Text(0.46153846153846156, 0.3, 'petal-width <= 1.55\\ngini = 0.5\\nsamples = 4\\nvalue = [0, 2, 2]\\nclass = Iris-versicolor'),\n",
              " Text(0.38461538461538464, 0.1, 'gini = 0.0\\nsamples = 2\\nvalue = [0, 0, 2]\\nclass = Iris-virginica'),\n",
              " Text(0.5384615384615384, 0.1, 'gini = 0.0\\nsamples = 2\\nvalue = [0, 2, 0]\\nclass = Iris-versicolor'),\n",
              " Text(0.8461538461538461, 0.5, 'petal-length <= 4.85\\ngini = 0.049\\nsamples = 40\\nvalue = [0, 1, 39]\\nclass = Iris-virginica'),\n",
              " Text(0.7692307692307693, 0.3, 'sepal-length <= 5.95\\ngini = 0.444\\nsamples = 3\\nvalue = [0, 1, 2]\\nclass = Iris-virginica'),\n",
              " Text(0.6923076923076923, 0.1, 'gini = 0.0\\nsamples = 1\\nvalue = [0, 1, 0]\\nclass = Iris-versicolor'),\n",
              " Text(0.8461538461538461, 0.1, 'gini = 0.0\\nsamples = 2\\nvalue = [0, 0, 2]\\nclass = Iris-virginica'),\n",
              " Text(0.9230769230769231, 0.3, 'gini = 0.0\\nsamples = 37\\nvalue = [0, 0, 37]\\nclass = Iris-virginica')]"
            ]
          },
          "metadata": {},
          "execution_count": 22
        },
        {
          "output_type": "display_data",
          "data": {
            "text/plain": [
              "<Figure size 864x576 with 1 Axes>"
            ],
            "image/png": "[encoded data removed]"
          },
          "metadata": {}
        }
      ]
    },
    {
      "cell_type": "code",
      "source": [
        "y_hat = model.predict(x_test)\n",
        "acc = accuracy_score(y_test, y_hat) * 100\n",
        "print('Accuracy score: {:.2f}%'.format(acc))"
      ],
      "metadata": {
        "colab": {
          "base_uri": "https://localhost:8080/"
        },
        "id": "wQIgtprvIYMJ",
        "outputId": "86a72db4-6ec4-4a11-bca9-b500c25b501f"
      },
      "id": "wQIgtprvIYMJ",
      "execution_count": 23,
      "outputs": [
        {
          "output_type": "stream",
          "name": "stdout",
          "text": [
            "Accuracy score: 96.67%\n"
          ]
        }
      ]
    },
    {
      "cell_type": "markdown",
      "source": [
        "### Hyperparameter Tuning\n",
        "\n",
        "Now we'll try to increase the accuracy score by tuning the hyperparameters. To find the best combination of hyperparameters we'll use `GridSearch` with cross validation. This search function will run on the predefined hyper parameters dictionary."
      ],
      "metadata": {
        "id": "V06rNaSvfhgn"
      },
      "id": "V06rNaSvfhgn"
    },
    {
      "cell_type": "code",
      "source": [
        "# Printing the default hyperparameters of DecisionTreeClassifier\n",
        "model.get_params()"
      ],
      "metadata": {
        "colab": {
          "base_uri": "https://localhost:8080/"
        },
        "id": "du8Dbjm4Shwu",
        "outputId": "d51144e1-04ab-415c-d199-bdd98902bc65"
      },
      "id": "du8Dbjm4Shwu",
      "execution_count": 24,
      "outputs": [
        {
          "output_type": "execute_result",
          "data": {
            "text/plain": [
              "{'ccp_alpha': 0.0,\n",
              " 'class_weight': None,\n",
              " 'criterion': 'gini',\n",
              " 'max_depth': None,\n",
              " 'max_features': None,\n",
              " 'max_leaf_nodes': None,\n",
              " 'min_impurity_decrease': 0.0,\n",
              " 'min_samples_leaf': 1,\n",
              " 'min_samples_split': 2,\n",
              " 'min_weight_fraction_leaf': 0.0,\n",
              " 'random_state': None,\n",
              " 'splitter': 'best'}"
            ]
          },
          "metadata": {},
          "execution_count": 24
        }
      ]
    },
    {
      "cell_type": "code",
      "source": [
        "from sklearn.model_selection import GridSearchCV"
      ],
      "metadata": {
        "id": "ZdG8UMHmLprp"
      },
      "id": "ZdG8UMHmLprp",
      "execution_count": 25,
      "outputs": []
    },
    {
      "cell_type": "code",
      "source": [
        "# Defining the hyperparameters to be used in grid search as a dictionary \n",
        "params = {\n",
        "    'max_depth': [1, 2, 3, 5, 10],\n",
        "    'min_samples_leaf': [1, 2, 3, 5, 10, 20],\n",
        "    'criterion': ['gini', 'entropy']\n",
        "}"
      ],
      "metadata": {
        "id": "petj8QuYNrKb"
      },
      "id": "petj8QuYNrKb",
      "execution_count": 26,
      "outputs": []
    },
    {
      "cell_type": "code",
      "source": [
        "model = DecisionTreeClassifier()\n",
        "grid_search = GridSearchCV(estimator=model, param_grid=params, cv=10, scoring='accuracy', verbose=1)"
      ],
      "metadata": {
        "id": "fnMPlcTQOjSu"
      },
      "id": "fnMPlcTQOjSu",
      "execution_count": 27,
      "outputs": []
    },
    {
      "cell_type": "code",
      "source": [
        "grid_search.fit(x_train, y_train)"
      ],
      "metadata": {
        "colab": {
          "base_uri": "https://localhost:8080/",
          "height": 136
        },
        "id": "vjQyW9-3OkUz",
        "outputId": "96ce1fe9-ef68-4646-f13f-98810c20a837"
      },
      "id": "vjQyW9-3OkUz",
      "execution_count": 28,
      "outputs": [
        {
          "output_type": "stream",
          "name": "stdout",
          "text": [
            "Fitting 10 folds for each of 60 candidates, totalling 600 fits\n"
          ]
        },
        {
          "output_type": "execute_result",
          "data": {
            "text/plain": [
              "GridSearchCV(cv=10, estimator=DecisionTreeClassifier(),\n",
              "             param_grid={'criterion': ['gini', 'entropy'],\n",
              "                         'max_depth': [1, 2, 3, 5, 10],\n",
              "                         'min_samples_leaf': [1, 2, 3, 5, 10, 20]},\n",
              "             scoring='accuracy', verbose=1)"
            ],
            "text/html": [
              "<style>#sk-container-id-2 {color: black;background-color: white;}#sk-container-id-2 pre{padding: 0;}#sk-container-id-2 div.sk-toggleable {background-color: white;}#sk-container-id-2 label.sk-toggleable__label {cursor: pointer;display: block;width: 100%;margin-bottom: 0;padding: 0.3em;box-sizing: border-box;text-align: center;}#sk-container-id-2 label.sk-toggleable__label-arrow:before {content: \"▸\";float: left;margin-right: 0.25em;color: #696969;}#sk-container-id-2 label.sk-toggleable__label-arrow:hover:before {color: black;}#sk-container-id-2 div.sk-estimator:hover label.sk-toggleable__label-arrow:before {color: black;}#sk-container-id-2 div.sk-toggleable__content {max-height: 0;max-width: 0;overflow: hidden;text-align: left;background-color: #f0f8ff;}#sk-container-id-2 div.sk-toggleable__content pre {margin: 0.2em;color: black;border-radius: 0.25em;background-color: #f0f8ff;}#sk-container-id-2 input.sk-toggleable__control:checked~div.sk-toggleable__content {max-height: 200px;max-width: 100%;overflow: auto;}#sk-container-id-2 input.sk-toggleable__control:checked~label.sk-toggleable__label-arrow:before {content: \"▾\";}#sk-container-id-2 div.sk-estimator input.sk-toggleable__control:checked~label.sk-toggleable__label {background-color: #d4ebff;}#sk-container-id-2 div.sk-label input.sk-toggleable__control:checked~label.sk-toggleable__label {background-color: #d4ebff;}#sk-container-id-2 input.sk-hidden--visually {border: 0;clip: rect(1px 1px 1px 1px);clip: rect(1px, 1px, 1px, 1px);height: 1px;margin: -1px;overflow: hidden;padding: 0;position: absolute;width: 1px;}#sk-container-id-2 div.sk-estimator {font-family: monospace;background-color: #f0f8ff;border: 1px dotted black;border-radius: 0.25em;box-sizing: border-box;margin-bottom: 0.5em;}#sk-container-id-2 div.sk-estimator:hover {background-color: #d4ebff;}#sk-container-id-2 div.sk-parallel-item::after {content: \"\";width: 100%;border-bottom: 1px solid gray;flex-grow: 1;}#sk-container-id-2 div.sk-label:hover label.sk-toggleable__label {background-color: #d4ebff;}#sk-container-id-2 div.sk-serial::before {content: \"\";position: absolute;border-left: 1px solid gray;box-sizing: border-box;top: 0;bottom: 0;left: 50%;z-index: 0;}#sk-container-id-2 div.sk-serial {display: flex;flex-direction: column;align-items: center;background-color: white;padding-right: 0.2em;padding-left: 0.2em;position: relative;}#sk-container-id-2 div.sk-item {position: relative;z-index: 1;}#sk-container-id-2 div.sk-parallel {display: flex;align-items: stretch;justify-content: center;background-color: white;position: relative;}#sk-container-id-2 div.sk-item::before, #sk-container-id-2 div.sk-parallel-item::before {content: \"\";position: absolute;border-left: 1px solid gray;box-sizing: border-box;top: 0;bottom: 0;left: 50%;z-index: -1;}#sk-container-id-2 div.sk-parallel-item {display: flex;flex-direction: column;z-index: 1;position: relative;background-color: white;}#sk-container-id-2 div.sk-parallel-item:first-child::after {align-self: flex-end;width: 50%;}#sk-container-id-2 div.sk-parallel-item:last-child::after {align-self: flex-start;width: 50%;}#sk-container-id-2 div.sk-parallel-item:only-child::after {width: 0;}#sk-container-id-2 div.sk-dashed-wrapped {border: 1px dashed gray;margin: 0 0.4em 0.5em 0.4em;box-sizing: border-box;padding-bottom: 0.4em;background-color: white;}#sk-container-id-2 div.sk-label label {font-family: monospace;font-weight: bold;display: inline-block;line-height: 1.2em;}#sk-container-id-2 div.sk-label-container {text-align: center;}#sk-container-id-2 div.sk-container {/* jupyter's `normalize.less` sets `[hidden] { display: none; }` but bootstrap.min.css set `[hidden] { display: none !important; }` so we also need the `!important` here to be able to override the default hidden behavior on the sphinx rendered scikit-learn.org. See: https://github.com/scikit-learn/scikit-learn/issues/21755 */display: inline-block !important;position: relative;}#sk-container-id-2 div.sk-text-repr-fallback {display: none;}</style><div id=\"sk-container-id-2\" class=\"sk-top-container\"><div class=\"sk-text-repr-fallback\"><pre>GridSearchCV(cv=10, estimator=DecisionTreeClassifier(),\n",
              "             param_grid={&#x27;criterion&#x27;: [&#x27;gini&#x27;, &#x27;entropy&#x27;],\n",
              "                         &#x27;max_depth&#x27;: [1, 2, 3, 5, 10],\n",
              "                         &#x27;min_samples_leaf&#x27;: [1, 2, 3, 5, 10, 20]},\n",
              "             scoring=&#x27;accuracy&#x27;, verbose=1)</pre><b>In a Jupyter environment, please rerun this cell to show the HTML representation or trust the notebook. <br />On GitHub, the HTML representation is unable to render, please try loading this page with nbviewer.org.</b></div><div class=\"sk-container\" hidden><div class=\"sk-item sk-dashed-wrapped\"><div class=\"sk-label-container\"><div class=\"sk-label sk-toggleable\"><input class=\"sk-toggleable__control sk-hidden--visually\" id=\"sk-estimator-id-2\" type=\"checkbox\" ><label for=\"sk-estimator-id-2\" class=\"sk-toggleable__label sk-toggleable__label-arrow\">GridSearchCV</label><div class=\"sk-toggleable__content\"><pre>GridSearchCV(cv=10, estimator=DecisionTreeClassifier(),\n",
              "             param_grid={&#x27;criterion&#x27;: [&#x27;gini&#x27;, &#x27;entropy&#x27;],\n",
              "                         &#x27;max_depth&#x27;: [1, 2, 3, 5, 10],\n",
              "                         &#x27;min_samples_leaf&#x27;: [1, 2, 3, 5, 10, 20]},\n",
              "             scoring=&#x27;accuracy&#x27;, verbose=1)</pre></div></div></div><div class=\"sk-parallel\"><div class=\"sk-parallel-item\"><div class=\"sk-item\"><div class=\"sk-label-container\"><div class=\"sk-label sk-toggleable\"><input class=\"sk-toggleable__control sk-hidden--visually\" id=\"sk-estimator-id-3\" type=\"checkbox\" ><label for=\"sk-estimator-id-3\" class=\"sk-toggleable__label sk-toggleable__label-arrow\">estimator: DecisionTreeClassifier</label><div class=\"sk-toggleable__content\"><pre>DecisionTreeClassifier()</pre></div></div></div><div class=\"sk-serial\"><div class=\"sk-item\"><div class=\"sk-estimator sk-toggleable\"><input class=\"sk-toggleable__control sk-hidden--visually\" id=\"sk-estimator-id-4\" type=\"checkbox\" ><label for=\"sk-estimator-id-4\" class=\"sk-toggleable__label sk-toggleable__label-arrow\">DecisionTreeClassifier</label><div class=\"sk-toggleable__content\"><pre>DecisionTreeClassifier()</pre></div></div></div></div></div></div></div></div></div></div>"
            ]
          },
          "metadata": {},
          "execution_count": 28
        }
      ]
    },
    {
      "cell_type": "code",
      "source": [
        "# Printing the hyperparameters that generates the best accuracy score\n",
        "print(grid_search.best_estimator_)"
      ],
      "metadata": {
        "colab": {
          "base_uri": "https://localhost:8080/"
        },
        "id": "eCNQhO9ZSAmb",
        "outputId": "0de071af-fae8-4676-d827-156efda943e3"
      },
      "id": "eCNQhO9ZSAmb",
      "execution_count": 29,
      "outputs": [
        {
          "output_type": "stream",
          "name": "stdout",
          "text": [
            "DecisionTreeClassifier(max_depth=2)\n"
          ]
        }
      ]
    },
    {
      "cell_type": "code",
      "source": [
        "# Printing the best accuracy that can be generated among the available hyper parameters in params dict\n",
        "print('Accuracy: {:.2f}%'.format(grid_search.best_score_ * 100))"
      ],
      "metadata": {
        "colab": {
          "base_uri": "https://localhost:8080/"
        },
        "id": "cQTDdpGISLQ_",
        "outputId": "4476a9d3-b9cf-4b57-9fb5-47cff3b18926"
      },
      "id": "cQTDdpGISLQ_",
      "execution_count": 30,
      "outputs": [
        {
          "output_type": "stream",
          "name": "stdout",
          "text": [
            "Accuracy: 95.83%\n"
          ]
        }
      ]
    },
    {
      "cell_type": "code",
      "source": [
        "# Assigning hyperparameters that generates the best accuracy score to a new model to test the performance\n",
        "#  on test dataset \n",
        "model_gs = grid_search.best_estimator_\n",
        "\n",
        "# Training the model\n",
        "model_gs.fit(x_train, y_train)\n",
        "\n",
        "# Plotting the tree model\n",
        "plt.figure(figsize=(12,8))\n",
        "plot_tree(model_gs, filled=True, rounded=True, feature_names=x.columns, class_names=['Iris-setosa', 'Iris-versicolor', 'Iris-virginica'])"
      ],
      "metadata": {
        "colab": {
          "base_uri": "https://localhost:8080/",
          "height": 573
        },
        "id": "VjhOV1h_TMOe",
        "outputId": "99acf0d7-08c8-4899-fa10-709d994aa872"
      },
      "id": "VjhOV1h_TMOe",
      "execution_count": 32,
      "outputs": [
        {
          "output_type": "execute_result",
          "data": {
            "text/plain": [
              "[Text(0.4, 0.8333333333333334, 'petal-length <= 2.45\\ngini = 0.666\\nsamples = 120\\nvalue = [40, 38, 42]\\nclass = Iris-virginica'),\n",
              " Text(0.2, 0.5, 'gini = 0.0\\nsamples = 40\\nvalue = [40, 0, 0]\\nclass = Iris-setosa'),\n",
              " Text(0.6, 0.5, 'petal-width <= 1.75\\ngini = 0.499\\nsamples = 80\\nvalue = [0, 38, 42]\\nclass = Iris-virginica'),\n",
              " Text(0.4, 0.16666666666666666, 'gini = 0.139\\nsamples = 40\\nvalue = [0, 37, 3]\\nclass = Iris-versicolor'),\n",
              " Text(0.8, 0.16666666666666666, 'gini = 0.049\\nsamples = 40\\nvalue = [0, 1, 39]\\nclass = Iris-virginica')]"
            ]
          },
          "metadata": {},
          "execution_count": 32
        },
        {
          "output_type": "display_data",
          "data": {
            "text/plain": [
              "<Figure size 864x576 with 1 Axes>"
            ],
            "image/png": "[encoded data removed]"
          },
          "metadata": {}
        }
      ]
    },
    {
      "cell_type": "code",
      "source": [
        "# Simpler text representation of the tree model\n",
        "print(export_text(model_gs, feature_names=list(x.columns)))"
      ],
      "metadata": {
        "colab": {
          "base_uri": "https://localhost:8080/"
        },
        "id": "FdeyePlZtUsU",
        "outputId": "73976929-6386-457f-e867-f950b2660059"
      },
      "id": "FdeyePlZtUsU",
      "execution_count": 48,
      "outputs": [
        {
          "output_type": "stream",
          "name": "stdout",
          "text": [
            "|--- petal-length <= 2.45\n",
            "|   |--- class: 0\n",
            "|--- petal-length >  2.45\n",
            "|   |--- petal-width <= 1.75\n",
            "|   |   |--- class: 1\n",
            "|   |--- petal-width >  1.75\n",
            "|   |   |--- class: 2\n",
            "\n"
          ]
        }
      ]
    },
    {
      "cell_type": "code",
      "source": [
        "# Predict with the trained model\n",
        "y_hat = model_gs.predict(x_test)\n",
        "\n",
        "acc = accuracy_score(y_test, y_hat) * 100\n",
        "print('Acciracy: {:.2f}%'.format(acc))"
      ],
      "metadata": {
        "colab": {
          "base_uri": "https://localhost:8080/"
        },
        "id": "28HO8IxKThSQ",
        "outputId": "0ac2d10e-e77c-4327-9402-6f968fa1a678"
      },
      "id": "28HO8IxKThSQ",
      "execution_count": 33,
      "outputs": [
        {
          "output_type": "stream",
          "name": "stdout",
          "text": [
            "Acciracy: 93.33%\n"
          ]
        }
      ]
    },
    {
      "cell_type": "code",
      "source": [
        "# Display the confusion matrix\n",
        "cm = confusion_matrix(y_test, y_hat)\n",
        "labels = ['Iris-setosa', 'Iris-versicolor', 'Iris-virginica']\n",
        "pred_labels = [l for l in labels]\n",
        "cm_df = pd.DataFrame(cm, index=labels, columns=pred_labels)\n",
        "\n",
        "sb.set(font_scale=1.5)\n",
        "plt.figure(figsize=(12,8))\n",
        "sb.heatmap(cm_df, annot=True, fmt='d')\n",
        "plt.xlabel('Predictions', fontsize=12)\n",
        "plt.ylabel('Actual Values', fontsize=12)\n",
        "plt.show()"
      ],
      "metadata": {
        "colab": {
          "base_uri": "https://localhost:8080/",
          "height": 517
        },
        "id": "MHss9bJkUpnD",
        "outputId": "9fb2b3f3-a42f-41d6-d2f5-086d6585feeb"
      },
      "id": "MHss9bJkUpnD",
      "execution_count": 34,
      "outputs": [
        {
          "output_type": "display_data",
          "data": {
            "text/plain": [
              "<Figure size 864x576 with 2 Axes>"
            ],
            "image/png": "[encoded data removed]"
          },
          "metadata": {}
        }
      ]
    },
    {
      "cell_type": "code",
      "source": [],
      "metadata": {
        "id": "WMYurAuXiTJk"
      },
      "id": "WMYurAuXiTJk",
      "execution_count": null,
      "outputs": []
    }
  ],
  "metadata": {
    "kernelspec": {
      "display_name": "Python 3 (ipykernel)",
      "language": "python",
      "name": "python3"
    },
    "language_info": {
      "codemirror_mode": {
        "name": "ipython",
        "version": 3
      },
      "file_extension": ".py",
      "mimetype": "text/x-python",
      "name": "python",
      "nbconvert_exporter": "python",
      "pygments_lexer": "ipython3",
      "version": "3.10.6"
    },
    "colab": {
      "provenance": [],
      "toc_visible": true
    }
  },
  "nbformat": 4,
  "nbformat_minor": 5
}