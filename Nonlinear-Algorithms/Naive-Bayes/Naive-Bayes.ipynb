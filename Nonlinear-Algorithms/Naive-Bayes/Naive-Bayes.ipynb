{
  "nbformat": 4,
  "nbformat_minor": 0,
  "metadata": {
    "colab": {
      "provenance": [],
      "toc_visible": true,
      "authorship_tag": "ABX9TyNP9XxWLF8HiEAtSwKX8XdP",
      "include_colab_link": true
    },
    "kernelspec": {
      "name": "python3",
      "display_name": "Python 3"
    },
    "language_info": {
      "name": "python"
    }
  },
  "cells": [
    {
      "cell_type": "markdown",
      "metadata": {
        "id": "view-in-github",
        "colab_type": "text"
      },
      "source": [
        "<a href=\"https://colab.research.google.com/github/muscak/Master-Machine-Learning-Algorithms/blob/master/Nonlinear-Algorithms/Naive-Bayes/Naive-Bayes.ipynb\" target=\"_parent\"><img src=\"https://colab.research.google.com/assets/colab-badge.svg\" alt=\"Open In Colab\"/></a>"
      ]
    },
    {
      "cell_type": "markdown",
      "source": [
        "# Naive Bayes<a id='naive'></a>\n",
        "\n",
        "Naive Bayes methods are a set of supervised learning algorithms based on applying Bayes’ theorem with the “naive” assumption of conditional independence between every pair of features given the value of the class variable[1]. Naive Bayes is a very simple classification algorithm that makes some strong assumptions about the independence of each input variable. The representation for naive Bayes is probabilities. A list of probabilities is stored to file for a learned naive Bayes model [2]. This includes:\n",
        "\n",
        "1. Calculate Class Probabilities\n",
        "2. Calculate Conditional Probabilities\n",
        "\n",
        "[1] [Scikit-Learn](https://scikit-learn.org/stable/modules/naive_bayes.html#multinomial-naive-bayes)\n",
        "\n",
        "[2] [Master Machine Learning Algorithms](https://machinelearningmastery.com/master-machine-learning-algorithms/)\n",
        "\n",
        "[3] [Practical Statistics for Data Scientists](https://www.oreilly.com/library/view/practical-statistics-for/9781491952955/)"
      ],
      "metadata": {
        "id": "YQT4a3jb-IC9"
      }
    },
    {
      "cell_type": "markdown",
      "source": [
        "## Table of Contents\n",
        "1. [Introduction](#introduction) \n",
        "2. [Import Libraries](#libraries) \n",
        "3. [Load Sample Data](#sampledata)\n",
        "4. [Naive Bayes](#naive)\n",
        "5. [Gaussian Bayes](#gaus)"
      ],
      "metadata": {
        "id": "uwCFqSQNBjQA"
      }
    },
    {
      "cell_type": "markdown",
      "source": [
        "## Introduction<a id='introduction'></a>\n",
        "\n",
        "The purpose of this study to practice the manual implementation of Naive Bayes algorithm by using a manually generated data. The same data will be used to predict using `MultinomialNB` function of `sklearn` library and the results will be compared."
      ],
      "metadata": {
        "id": "hodRByI5B5Qa"
      }
    },
    {
      "cell_type": "markdown",
      "source": [
        "## Import Libraries<a id='libraries'><a/>"
      ],
      "metadata": {
        "id": "WffZPvYQCF-j"
      }
    },
    {
      "cell_type": "code",
      "source": [
        "import pandas as pd\n",
        "import numpy as np\n",
        "import matplotlib.pyplot as plt\n",
        "import seaborn as sb\n",
        "sb.set_style('whitegrid')\n",
        "sb.despine(offset=10, trim=True);"
      ],
      "metadata": {
        "colab": {
          "base_uri": "https://localhost:8080/",
          "height": 34
        },
        "id": "F7mjBuAdCMqg",
        "outputId": "dcf974e5-29fb-4cc2-e3b1-148ab470ee04"
      },
      "execution_count": null,
      "outputs": [
        {
          "output_type": "display_data",
          "data": {
            "text/plain": [
              "<Figure size 432x288 with 0 Axes>"
            ]
          },
          "metadata": {}
        }
      ]
    },
    {
      "cell_type": "markdown",
      "source": [
        "## Load Sample Data<a id='sampledata'></a>\n",
        "Sample data consists of 2 categorical features which define `weather` and `car` condition and 1 binary label `action` which defines the decision about going out or staying home. Predictor variables must be categorical variables in the standard naive Bayes algorithm. If the predictors are numeric values then, those predictors should be binned and converted to categorical predictors [3]."
      ],
      "metadata": {
        "id": "by-bEJKwBgEZ"
      }
    },
    {
      "cell_type": "code",
      "source": [
        "# Create features\n",
        "weather = ['sunny', 'rainy', 'sunny', 'sunny', 'sunny', 'rainy', 'rainy', 'sunny', 'sunny', 'rainy']\n",
        "car = ['working', 'broken', 'working', 'working', 'working', 'broken', 'broken', 'working', 'broken', 'broken']\n",
        "#Create label\n",
        "action = ['go-out', 'go-out', 'go-out', 'go-out', 'go-out', 'stay-home', 'stay-home', 'stay-home', 'stay-home', 'stay-home']\n",
        "# Convert the data into dataframe\n",
        "df = pd.DataFrame(zip(weather, car, action), columns=['weather', 'car', 'action'])\n",
        "# Print the dataframe\n",
        "df"
      ],
      "metadata": {
        "colab": {
          "base_uri": "https://localhost:8080/",
          "height": 363
        },
        "id": "ldlxeY2zBfuW",
        "outputId": "7311675a-692a-4333-9459-d0c92af7cf2d"
      },
      "execution_count": null,
      "outputs": [
        {
          "output_type": "execute_result",
          "data": {
            "text/plain": [
              "  weather      car     action\n",
              "0   sunny  working     go-out\n",
              "1   rainy   broken     go-out\n",
              "2   sunny  working     go-out\n",
              "3   sunny  working     go-out\n",
              "4   sunny  working     go-out\n",
              "5   rainy   broken  stay-home\n",
              "6   rainy   broken  stay-home\n",
              "7   sunny  working  stay-home\n",
              "8   sunny   broken  stay-home\n",
              "9   rainy   broken  stay-home"
            ],
            "text/html": [
              "\n",
              "  <div id=\"df-1427b96f-65d4-4094-b95c-f827d1c2f061\">\n",
              "    <div class=\"colab-df-container\">\n",
              "      <div>\n",
              "<style scoped>\n",
              "    .dataframe tbody tr th:only-of-type {\n",
              "        vertical-align: middle;\n",
              "    }\n",
              "\n",
              "    .dataframe tbody tr th {\n",
              "        vertical-align: top;\n",
              "    }\n",
              "\n",
              "    .dataframe thead th {\n",
              "        text-align: right;\n",
              "    }\n",
              "</style>\n",
              "<table border=\"1\" class=\"dataframe\">\n",
              "  <thead>\n",
              "    <tr style=\"text-align: right;\">\n",
              "      <th></th>\n",
              "      <th>weather</th>\n",
              "      <th>car</th>\n",
              "      <th>action</th>\n",
              "    </tr>\n",
              "  </thead>\n",
              "  <tbody>\n",
              "    <tr>\n",
              "      <th>0</th>\n",
              "      <td>sunny</td>\n",
              "      <td>working</td>\n",
              "      <td>go-out</td>\n",
              "    </tr>\n",
              "    <tr>\n",
              "      <th>1</th>\n",
              "      <td>rainy</td>\n",
              "      <td>broken</td>\n",
              "      <td>go-out</td>\n",
              "    </tr>\n",
              "    <tr>\n",
              "      <th>2</th>\n",
              "      <td>sunny</td>\n",
              "      <td>working</td>\n",
              "      <td>go-out</td>\n",
              "    </tr>\n",
              "    <tr>\n",
              "      <th>3</th>\n",
              "      <td>sunny</td>\n",
              "      <td>working</td>\n",
              "      <td>go-out</td>\n",
              "    </tr>\n",
              "    <tr>\n",
              "      <th>4</th>\n",
              "      <td>sunny</td>\n",
              "      <td>working</td>\n",
              "      <td>go-out</td>\n",
              "    </tr>\n",
              "    <tr>\n",
              "      <th>5</th>\n",
              "      <td>rainy</td>\n",
              "      <td>broken</td>\n",
              "      <td>stay-home</td>\n",
              "    </tr>\n",
              "    <tr>\n",
              "      <th>6</th>\n",
              "      <td>rainy</td>\n",
              "      <td>broken</td>\n",
              "      <td>stay-home</td>\n",
              "    </tr>\n",
              "    <tr>\n",
              "      <th>7</th>\n",
              "      <td>sunny</td>\n",
              "      <td>working</td>\n",
              "      <td>stay-home</td>\n",
              "    </tr>\n",
              "    <tr>\n",
              "      <th>8</th>\n",
              "      <td>sunny</td>\n",
              "      <td>broken</td>\n",
              "      <td>stay-home</td>\n",
              "    </tr>\n",
              "    <tr>\n",
              "      <th>9</th>\n",
              "      <td>rainy</td>\n",
              "      <td>broken</td>\n",
              "      <td>stay-home</td>\n",
              "    </tr>\n",
              "  </tbody>\n",
              "</table>\n",
              "</div>\n",
              "      <button class=\"colab-df-convert\" onclick=\"convertToInteractive('df-1427b96f-65d4-4094-b95c-f827d1c2f061')\"\n",
              "              title=\"Convert this dataframe to an interactive table.\"\n",
              "              style=\"display:none;\">\n",
              "        \n",
              "  <svg xmlns=\"http://www.w3.org/2000/svg\" height=\"24px\"viewBox=\"0 0 24 24\"\n",
              "       width=\"24px\">\n",
              "    <path d=\"M0 0h24v24H0V0z\" fill=\"none\"/>\n",
              "    <path d=\"M18.56 5.44l.94 2.06.94-2.06 2.06-.94-2.06-.94-.94-2.06-.94 2.06-2.06.94zm-11 1L8.5 8.5l.94-2.06 2.06-.94-2.06-.94L8.5 2.5l-.94 2.06-2.06.94zm10 10l.94 2.06.94-2.06 2.06-.94-2.06-.94-.94-2.06-.94 2.06-2.06.94z\"/><path d=\"M17.41 7.96l-1.37-1.37c-.4-.4-.92-.59-1.43-.59-.52 0-1.04.2-1.43.59L10.3 9.45l-7.72 7.72c-.78.78-.78 2.05 0 2.83L4 21.41c.39.39.9.59 1.41.59.51 0 1.02-.2 1.41-.59l7.78-7.78 2.81-2.81c.8-.78.8-2.07 0-2.86zM5.41 20L4 18.59l7.72-7.72 1.47 1.35L5.41 20z\"/>\n",
              "  </svg>\n",
              "      </button>\n",
              "      \n",
              "  <style>\n",
              "    .colab-df-container {\n",
              "      display:flex;\n",
              "      flex-wrap:wrap;\n",
              "      gap: 12px;\n",
              "    }\n",
              "\n",
              "    .colab-df-convert {\n",
              "      background-color: #E8F0FE;\n",
              "      border: none;\n",
              "      border-radius: 50%;\n",
              "      cursor: pointer;\n",
              "      display: none;\n",
              "      fill: #1967D2;\n",
              "      height: 32px;\n",
              "      padding: 0 0 0 0;\n",
              "      width: 32px;\n",
              "    }\n",
              "\n",
              "    .colab-df-convert:hover {\n",
              "      background-color: #E2EBFA;\n",
              "      box-shadow: 0px 1px 2px rgba(60, 64, 67, 0.3), 0px 1px 3px 1px rgba(60, 64, 67, 0.15);\n",
              "      fill: #174EA6;\n",
              "    }\n",
              "\n",
              "    [theme=dark] .colab-df-convert {\n",
              "      background-color: #3B4455;\n",
              "      fill: #D2E3FC;\n",
              "    }\n",
              "\n",
              "    [theme=dark] .colab-df-convert:hover {\n",
              "      background-color: #434B5C;\n",
              "      box-shadow: 0px 1px 3px 1px rgba(0, 0, 0, 0.15);\n",
              "      filter: drop-shadow(0px 1px 2px rgba(0, 0, 0, 0.3));\n",
              "      fill: #FFFFFF;\n",
              "    }\n",
              "  </style>\n",
              "\n",
              "      <script>\n",
              "        const buttonEl =\n",
              "          document.querySelector('#df-1427b96f-65d4-4094-b95c-f827d1c2f061 button.colab-df-convert');\n",
              "        buttonEl.style.display =\n",
              "          google.colab.kernel.accessAllowed ? 'block' : 'none';\n",
              "\n",
              "        async function convertToInteractive(key) {\n",
              "          const element = document.querySelector('#df-1427b96f-65d4-4094-b95c-f827d1c2f061');\n",
              "          const dataTable =\n",
              "            await google.colab.kernel.invokeFunction('convertToInteractive',\n",
              "                                                     [key], {});\n",
              "          if (!dataTable) return;\n",
              "\n",
              "          const docLinkHtml = 'Like what you see? Visit the ' +\n",
              "            '<a target=\"_blank\" href=https://colab.research.google.com/notebooks/data_table.ipynb>data table notebook</a>'\n",
              "            + ' to learn more about interactive tables.';\n",
              "          element.innerHTML = '';\n",
              "          dataTable['output_type'] = 'display_data';\n",
              "          await google.colab.output.renderOutput(dataTable, element);\n",
              "          const docLink = document.createElement('div');\n",
              "          docLink.innerHTML = docLinkHtml;\n",
              "          element.appendChild(docLink);\n",
              "        }\n",
              "      </script>\n",
              "    </div>\n",
              "  </div>\n",
              "  "
            ]
          },
          "metadata": {},
          "execution_count": 2
        }
      ]
    },
    {
      "cell_type": "markdown",
      "source": [
        "## Manual Implementation of Naive Bayes\n",
        "As defined in the [Naive Bayes](#naive) section, there are 2 steps:\n",
        "1. Calculate Class Probabilities\n",
        "2. Calculate Conditional Probabilities\n"
      ],
      "metadata": {
        "id": "NZc7xNKuQF77"
      }
    },
    {
      "cell_type": "markdown",
      "source": [
        "### Calculate Class Probabilities\n",
        "The probabilities of each class in the training dataset.\n",
        "\n",
        "$$P(class = 1) = \\frac{count(class=1)}{count(class=0) + count(class=1)}$$\n",
        "\n",
        "$$P(class = 0) = \\frac{count(class=0)}{count(class=0) + count(class=1)}$$"
      ],
      "metadata": {
        "id": "oDcJGIVN4tFH"
      }
    },
    {
      "cell_type": "code",
      "source": [
        "p_stay_home = len(df[df['action'] == 'stay-home']) / (len(df[df['action'] == 'stay-home']) + len(df[df['action'] == 'go-out'])) # We could use len(df)\n",
        "print('Probabilty of stay-home: ', p_stay_home)\n",
        "\n",
        "p_go_out = len(df[df['action'] == 'go-out']) / (len(df[df['action'] == 'stay-home']) + len(df[df['action'] == 'go-out'])) # We could use len(df)\n",
        "print('Probabilty of go-out: ', p_go_out)"
      ],
      "metadata": {
        "id": "KISEN2LDErRf",
        "colab": {
          "base_uri": "https://localhost:8080/"
        },
        "outputId": "a8cca085-c5e2-44b8-fe05-fed55d461b4b"
      },
      "execution_count": null,
      "outputs": [
        {
          "output_type": "stream",
          "name": "stdout",
          "text": [
            "Probabilty of stay-home:  0.5\n",
            "Probabilty of go-out:  0.5\n"
          ]
        }
      ]
    },
    {
      "cell_type": "markdown",
      "source": [
        "### Calculate Conditional Probabilities \n",
        "\n",
        "The conditional probabilities of each feature value given each class value.\n",
        "\n",
        "\n",
        "$$P(y = i|x_1, x_2, …, x_p) = \\frac{P(y = i)P(x_1 | y = i)…P(x_p | y = i)}{P(y = 0)P(x_1 | y = 0)…P(x_p | y = 0) + P(y = 1)P(x_1 | y = 1)…P(x_p | y = 1)}$$\n",
        "<br /> <br />\n",
        "\\* Naive Bayes is a very simple classification algorithm that makes some strong assumptions about the independence of each input variable [2]. Which means that it doesn't care about finding the other records with the same predictor profile like complete or exact Bayesian classification [3]\n"
      ],
      "metadata": {
        "id": "57vI64yG5mH5"
      }
    },
    {
      "cell_type": "code",
      "source": [
        "# For weather feature\n",
        "p_sunny_go_out = len(df[(df['weather'] == 'sunny') & (df['action'] == 'go-out')]) / len(df[df['action'] == 'go-out'])\n",
        "print('P(weather=sunny | action=go-out): ', p_sunny_go_out)\n",
        "p_rainy_go_out = len(df[(df['weather'] == 'rainy') & (df['action'] == 'go-out')]) / len(df[df['action'] == 'go-out'])\n",
        "print('P(weather=rainy | action=go-out): ', p_rainy_go_out)\n",
        "\n",
        "p_sunny_stay_home = len(df[(df['weather'] == 'sunny') & (df['action'] == 'stay-home')]) / len(df[df['action'] == 'stay-home'])\n",
        "print('P(weather=sunny | action=stay-home): ', p_sunny_stay_home)\n",
        "p_rainy_stay_home = len(df[(df['weather'] == 'rainy') & (df['action'] == 'stay-home')]) / len(df[df['action'] == 'stay-home'])\n",
        "print('P(weather=rainy | action=stay_home): ', p_rainy_stay_home)\n",
        "\n",
        "# For car feature\n",
        "p_working_go_out = len(df[(df['car'] == 'working') & (df['action'] == 'go-out')]) / len(df[df['action'] == 'go-out'])\n",
        "print('P(car=working | action=go-out): ', p_working_go_out)\n",
        "p_broken_go_out = len(df[(df['car'] == 'broken') & (df['action'] == 'go-out')]) / len(df[df['action'] == 'go-out'])\n",
        "print('P(car=broken | action=go-out): ', p_broken_go_out)\n",
        "\n",
        "p_working_stay_home = len(df[(df['car'] == 'working') & (df['action'] == 'stay-home')]) / len(df[df['action'] == 'stay-home'])\n",
        "print('P(car=working | action=stay-home): ', p_working_stay_home)\n",
        "p_broken_stay_home = len(df[(df['car'] == 'broken') & (df['action'] == 'stay-home')]) / len(df[df['action'] == 'stay-home'])\n",
        "print('P(car=broken | action=stay_home): ', p_broken_stay_home)"
      ],
      "metadata": {
        "id": "2QZzz-YCErNI",
        "colab": {
          "base_uri": "https://localhost:8080/"
        },
        "outputId": "662ab1e9-4490-4816-9d89-0c145a38f71a"
      },
      "execution_count": null,
      "outputs": [
        {
          "output_type": "stream",
          "name": "stdout",
          "text": [
            "P(weather=sunny | action=go-out):  0.8\n",
            "P(weather=rainy | action=go-out):  0.2\n",
            "P(weather=sunny | action=stay-home):  0.4\n",
            "P(weather=rainy | action=stay_home):  0.6\n",
            "P(car=working | action=go-out):  0.8\n",
            "P(car=broken | action=go-out):  0.2\n",
            "P(car=working | action=stay-home):  0.2\n",
            "P(car=broken | action=stay_home):  0.8\n"
          ]
        }
      ]
    },
    {
      "cell_type": "markdown",
      "source": [
        "### Make Prediction"
      ],
      "metadata": {
        "id": "yIT7IE29Ba7z"
      }
    },
    {
      "cell_type": "code",
      "source": [
        "df.loc[(df['weather'] == 'sunny') & (df['car'] == 'working'), 'pred_go_out'] = p_go_out * p_sunny_go_out * p_working_go_out\n",
        "df.loc[(df['weather'] == 'rainy') & (df['car'] == 'working'), 'pred_go_out'] = p_go_out * p_sunny_go_out * p_broken_go_out\n",
        "df.loc[(df['weather'] == 'sunny') & (df['car'] == 'broken'), 'pred_go_out'] = p_go_out * p_rainy_go_out * p_working_go_out\n",
        "df.loc[(df['weather'] == 'rainy') & (df['car'] == 'broken'), 'pred_go_out'] = p_go_out * p_rainy_go_out * p_broken_go_out\n",
        "\n",
        "df.loc[(df['weather'] == 'sunny') & (df['car'] == 'working'), 'pred_stay_home'] = p_stay_home * p_sunny_stay_home * p_working_stay_home\n",
        "df.loc[(df['weather'] == 'rainy') & (df['car'] == 'working'), 'pred_stay_home'] = p_stay_home * p_rainy_stay_home * p_working_stay_home\n",
        "df.loc[(df['weather'] == 'sunny') & (df['car'] == 'broken'), 'pred_stay_home'] = p_stay_home * p_sunny_stay_home * p_broken_stay_home\n",
        "df.loc[(df['weather'] == 'rainy') & (df['car'] == 'broken'), 'pred_stay_home'] = p_stay_home * p_rainy_stay_home * p_broken_stay_home\n",
        "\n",
        "df.loc[df['pred_go_out'] > df['pred_stay_home'], 'pred_action'] = 'go-out'\n",
        "df.loc[df['pred_go_out'] <= df['pred_stay_home'], 'pred_action'] = 'stay-home'\n",
        "\n",
        "df"
      ],
      "metadata": {
        "id": "5_xgFw5cErLF",
        "colab": {
          "base_uri": "https://localhost:8080/",
          "height": 363
        },
        "outputId": "7c09e17d-9162-449a-d0b4-7a806de9b624"
      },
      "execution_count": null,
      "outputs": [
        {
          "output_type": "execute_result",
          "data": {
            "text/plain": [
              "  weather      car     action  weather_nr  car_nr  action_nr  pred_go_out  \\\n",
              "0   sunny  working     go-out           1       1          1         0.32   \n",
              "1   rainy   broken     go-out           0       0          1         0.02   \n",
              "2   sunny  working     go-out           1       1          1         0.32   \n",
              "3   sunny  working     go-out           1       1          1         0.32   \n",
              "4   sunny  working     go-out           1       1          1         0.32   \n",
              "5   rainy   broken  stay-home           0       0          0         0.02   \n",
              "6   rainy   broken  stay-home           0       0          0         0.02   \n",
              "7   sunny  working  stay-home           1       1          0         0.32   \n",
              "8   sunny   broken  stay-home           1       0          0         0.08   \n",
              "9   rainy   broken  stay-home           0       0          0         0.02   \n",
              "\n",
              "   pred_stay_home pred_action  \n",
              "0            0.04      go-out  \n",
              "1            0.24   stay-home  \n",
              "2            0.04      go-out  \n",
              "3            0.04      go-out  \n",
              "4            0.04      go-out  \n",
              "5            0.24   stay-home  \n",
              "6            0.24   stay-home  \n",
              "7            0.04      go-out  \n",
              "8            0.16   stay-home  \n",
              "9            0.24   stay-home  "
            ],
            "text/html": [
              "\n",
              "  <div id=\"df-b674c4d2-eaf5-4d90-bba6-fac810902825\">\n",
              "    <div class=\"colab-df-container\">\n",
              "      <div>\n",
              "<style scoped>\n",
              "    .dataframe tbody tr th:only-of-type {\n",
              "        vertical-align: middle;\n",
              "    }\n",
              "\n",
              "    .dataframe tbody tr th {\n",
              "        vertical-align: top;\n",
              "    }\n",
              "\n",
              "    .dataframe thead th {\n",
              "        text-align: right;\n",
              "    }\n",
              "</style>\n",
              "<table border=\"1\" class=\"dataframe\">\n",
              "  <thead>\n",
              "    <tr style=\"text-align: right;\">\n",
              "      <th></th>\n",
              "      <th>weather</th>\n",
              "      <th>car</th>\n",
              "      <th>action</th>\n",
              "      <th>weather_nr</th>\n",
              "      <th>car_nr</th>\n",
              "      <th>action_nr</th>\n",
              "      <th>pred_go_out</th>\n",
              "      <th>pred_stay_home</th>\n",
              "      <th>pred_action</th>\n",
              "    </tr>\n",
              "  </thead>\n",
              "  <tbody>\n",
              "    <tr>\n",
              "      <th>0</th>\n",
              "      <td>sunny</td>\n",
              "      <td>working</td>\n",
              "      <td>go-out</td>\n",
              "      <td>1</td>\n",
              "      <td>1</td>\n",
              "      <td>1</td>\n",
              "      <td>0.32</td>\n",
              "      <td>0.04</td>\n",
              "      <td>go-out</td>\n",
              "    </tr>\n",
              "    <tr>\n",
              "      <th>1</th>\n",
              "      <td>rainy</td>\n",
              "      <td>broken</td>\n",
              "      <td>go-out</td>\n",
              "      <td>0</td>\n",
              "      <td>0</td>\n",
              "      <td>1</td>\n",
              "      <td>0.02</td>\n",
              "      <td>0.24</td>\n",
              "      <td>stay-home</td>\n",
              "    </tr>\n",
              "    <tr>\n",
              "      <th>2</th>\n",
              "      <td>sunny</td>\n",
              "      <td>working</td>\n",
              "      <td>go-out</td>\n",
              "      <td>1</td>\n",
              "      <td>1</td>\n",
              "      <td>1</td>\n",
              "      <td>0.32</td>\n",
              "      <td>0.04</td>\n",
              "      <td>go-out</td>\n",
              "    </tr>\n",
              "    <tr>\n",
              "      <th>3</th>\n",
              "      <td>sunny</td>\n",
              "      <td>working</td>\n",
              "      <td>go-out</td>\n",
              "      <td>1</td>\n",
              "      <td>1</td>\n",
              "      <td>1</td>\n",
              "      <td>0.32</td>\n",
              "      <td>0.04</td>\n",
              "      <td>go-out</td>\n",
              "    </tr>\n",
              "    <tr>\n",
              "      <th>4</th>\n",
              "      <td>sunny</td>\n",
              "      <td>working</td>\n",
              "      <td>go-out</td>\n",
              "      <td>1</td>\n",
              "      <td>1</td>\n",
              "      <td>1</td>\n",
              "      <td>0.32</td>\n",
              "      <td>0.04</td>\n",
              "      <td>go-out</td>\n",
              "    </tr>\n",
              "    <tr>\n",
              "      <th>5</th>\n",
              "      <td>rainy</td>\n",
              "      <td>broken</td>\n",
              "      <td>stay-home</td>\n",
              "      <td>0</td>\n",
              "      <td>0</td>\n",
              "      <td>0</td>\n",
              "      <td>0.02</td>\n",
              "      <td>0.24</td>\n",
              "      <td>stay-home</td>\n",
              "    </tr>\n",
              "    <tr>\n",
              "      <th>6</th>\n",
              "      <td>rainy</td>\n",
              "      <td>broken</td>\n",
              "      <td>stay-home</td>\n",
              "      <td>0</td>\n",
              "      <td>0</td>\n",
              "      <td>0</td>\n",
              "      <td>0.02</td>\n",
              "      <td>0.24</td>\n",
              "      <td>stay-home</td>\n",
              "    </tr>\n",
              "    <tr>\n",
              "      <th>7</th>\n",
              "      <td>sunny</td>\n",
              "      <td>working</td>\n",
              "      <td>stay-home</td>\n",
              "      <td>1</td>\n",
              "      <td>1</td>\n",
              "      <td>0</td>\n",
              "      <td>0.32</td>\n",
              "      <td>0.04</td>\n",
              "      <td>go-out</td>\n",
              "    </tr>\n",
              "    <tr>\n",
              "      <th>8</th>\n",
              "      <td>sunny</td>\n",
              "      <td>broken</td>\n",
              "      <td>stay-home</td>\n",
              "      <td>1</td>\n",
              "      <td>0</td>\n",
              "      <td>0</td>\n",
              "      <td>0.08</td>\n",
              "      <td>0.16</td>\n",
              "      <td>stay-home</td>\n",
              "    </tr>\n",
              "    <tr>\n",
              "      <th>9</th>\n",
              "      <td>rainy</td>\n",
              "      <td>broken</td>\n",
              "      <td>stay-home</td>\n",
              "      <td>0</td>\n",
              "      <td>0</td>\n",
              "      <td>0</td>\n",
              "      <td>0.02</td>\n",
              "      <td>0.24</td>\n",
              "      <td>stay-home</td>\n",
              "    </tr>\n",
              "  </tbody>\n",
              "</table>\n",
              "</div>\n",
              "      <button class=\"colab-df-convert\" onclick=\"convertToInteractive('df-b674c4d2-eaf5-4d90-bba6-fac810902825')\"\n",
              "              title=\"Convert this dataframe to an interactive table.\"\n",
              "              style=\"display:none;\">\n",
              "        \n",
              "  <svg xmlns=\"http://www.w3.org/2000/svg\" height=\"24px\"viewBox=\"0 0 24 24\"\n",
              "       width=\"24px\">\n",
              "    <path d=\"M0 0h24v24H0V0z\" fill=\"none\"/>\n",
              "    <path d=\"M18.56 5.44l.94 2.06.94-2.06 2.06-.94-2.06-.94-.94-2.06-.94 2.06-2.06.94zm-11 1L8.5 8.5l.94-2.06 2.06-.94-2.06-.94L8.5 2.5l-.94 2.06-2.06.94zm10 10l.94 2.06.94-2.06 2.06-.94-2.06-.94-.94-2.06-.94 2.06-2.06.94z\"/><path d=\"M17.41 7.96l-1.37-1.37c-.4-.4-.92-.59-1.43-.59-.52 0-1.04.2-1.43.59L10.3 9.45l-7.72 7.72c-.78.78-.78 2.05 0 2.83L4 21.41c.39.39.9.59 1.41.59.51 0 1.02-.2 1.41-.59l7.78-7.78 2.81-2.81c.8-.78.8-2.07 0-2.86zM5.41 20L4 18.59l7.72-7.72 1.47 1.35L5.41 20z\"/>\n",
              "  </svg>\n",
              "      </button>\n",
              "      \n",
              "  <style>\n",
              "    .colab-df-container {\n",
              "      display:flex;\n",
              "      flex-wrap:wrap;\n",
              "      gap: 12px;\n",
              "    }\n",
              "\n",
              "    .colab-df-convert {\n",
              "      background-color: #E8F0FE;\n",
              "      border: none;\n",
              "      border-radius: 50%;\n",
              "      cursor: pointer;\n",
              "      display: none;\n",
              "      fill: #1967D2;\n",
              "      height: 32px;\n",
              "      padding: 0 0 0 0;\n",
              "      width: 32px;\n",
              "    }\n",
              "\n",
              "    .colab-df-convert:hover {\n",
              "      background-color: #E2EBFA;\n",
              "      box-shadow: 0px 1px 2px rgba(60, 64, 67, 0.3), 0px 1px 3px 1px rgba(60, 64, 67, 0.15);\n",
              "      fill: #174EA6;\n",
              "    }\n",
              "\n",
              "    [theme=dark] .colab-df-convert {\n",
              "      background-color: #3B4455;\n",
              "      fill: #D2E3FC;\n",
              "    }\n",
              "\n",
              "    [theme=dark] .colab-df-convert:hover {\n",
              "      background-color: #434B5C;\n",
              "      box-shadow: 0px 1px 3px 1px rgba(0, 0, 0, 0.15);\n",
              "      filter: drop-shadow(0px 1px 2px rgba(0, 0, 0, 0.3));\n",
              "      fill: #FFFFFF;\n",
              "    }\n",
              "  </style>\n",
              "\n",
              "      <script>\n",
              "        const buttonEl =\n",
              "          document.querySelector('#df-b674c4d2-eaf5-4d90-bba6-fac810902825 button.colab-df-convert');\n",
              "        buttonEl.style.display =\n",
              "          google.colab.kernel.accessAllowed ? 'block' : 'none';\n",
              "\n",
              "        async function convertToInteractive(key) {\n",
              "          const element = document.querySelector('#df-b674c4d2-eaf5-4d90-bba6-fac810902825');\n",
              "          const dataTable =\n",
              "            await google.colab.kernel.invokeFunction('convertToInteractive',\n",
              "                                                     [key], {});\n",
              "          if (!dataTable) return;\n",
              "\n",
              "          const docLinkHtml = 'Like what you see? Visit the ' +\n",
              "            '<a target=\"_blank\" href=https://colab.research.google.com/notebooks/data_table.ipynb>data table notebook</a>'\n",
              "            + ' to learn more about interactive tables.';\n",
              "          element.innerHTML = '';\n",
              "          dataTable['output_type'] = 'display_data';\n",
              "          await google.colab.output.renderOutput(dataTable, element);\n",
              "          const docLink = document.createElement('div');\n",
              "          docLink.innerHTML = docLinkHtml;\n",
              "          element.appendChild(docLink);\n",
              "        }\n",
              "      </script>\n",
              "    </div>\n",
              "  </div>\n",
              "  "
            ]
          },
          "metadata": {},
          "execution_count": 29
        }
      ]
    },
    {
      "cell_type": "code",
      "source": [
        "from sklearn.metrics import accuracy_score"
      ],
      "metadata": {
        "id": "KtvDbhjuEq-Y"
      },
      "execution_count": null,
      "outputs": []
    },
    {
      "cell_type": "code",
      "source": [
        "acc = accuracy_score(df['action'].values, df['pred_action'].values)\n",
        "print('Accuracy: ', acc)"
      ],
      "metadata": {
        "colab": {
          "base_uri": "https://localhost:8080/"
        },
        "id": "DAEKTY6oMz0r",
        "outputId": "1ad3bf17-edda-43d6-be00-8dbe84ee72ce"
      },
      "execution_count": null,
      "outputs": [
        {
          "output_type": "stream",
          "name": "stdout",
          "text": [
            "Accuracy:  0.8\n"
          ]
        }
      ]
    },
    {
      "cell_type": "markdown",
      "source": [
        "## Sklearn Implementation<a id='sklearn'></a>\n",
        "\n",
        "Wer can use `MultinomialNB` from sklearn library."
      ],
      "metadata": {
        "id": "EB6Aus_sQQNU"
      }
    },
    {
      "cell_type": "code",
      "source": [],
      "metadata": {
        "id": "CySEoPefErTz",
        "colab": {
          "base_uri": "https://localhost:8080/",
          "height": 363
        },
        "outputId": "066cbf02-6fc1-4f34-c44b-ad658b2ccef2"
      },
      "execution_count": null,
      "outputs": [
        {
          "output_type": "execute_result",
          "data": {
            "text/plain": [
              "  weather      car     action  weather_nr  car_nr  action_nr\n",
              "0   sunny  working     go-out           1       1          1\n",
              "1   rainy   broken     go-out           0       0          1\n",
              "2   sunny  working     go-out           1       1          1\n",
              "3   sunny  working     go-out           1       1          1\n",
              "4   sunny  working     go-out           1       1          1\n",
              "5   rainy   broken  stay-home           0       0          0\n",
              "6   rainy   broken  stay-home           0       0          0\n",
              "7   sunny  working  stay-home           1       1          0\n",
              "8   sunny   broken  stay-home           1       0          0\n",
              "9   rainy   broken  stay-home           0       0          0"
            ],
            "text/html": [
              "\n",
              "  <div id=\"df-169fb889-0f95-495e-ab71-16d4a7a5ff38\">\n",
              "    <div class=\"colab-df-container\">\n",
              "      <div>\n",
              "<style scoped>\n",
              "    .dataframe tbody tr th:only-of-type {\n",
              "        vertical-align: middle;\n",
              "    }\n",
              "\n",
              "    .dataframe tbody tr th {\n",
              "        vertical-align: top;\n",
              "    }\n",
              "\n",
              "    .dataframe thead th {\n",
              "        text-align: right;\n",
              "    }\n",
              "</style>\n",
              "<table border=\"1\" class=\"dataframe\">\n",
              "  <thead>\n",
              "    <tr style=\"text-align: right;\">\n",
              "      <th></th>\n",
              "      <th>weather</th>\n",
              "      <th>car</th>\n",
              "      <th>action</th>\n",
              "      <th>weather_nr</th>\n",
              "      <th>car_nr</th>\n",
              "      <th>action_nr</th>\n",
              "    </tr>\n",
              "  </thead>\n",
              "  <tbody>\n",
              "    <tr>\n",
              "      <th>0</th>\n",
              "      <td>sunny</td>\n",
              "      <td>working</td>\n",
              "      <td>go-out</td>\n",
              "      <td>1</td>\n",
              "      <td>1</td>\n",
              "      <td>1</td>\n",
              "    </tr>\n",
              "    <tr>\n",
              "      <th>1</th>\n",
              "      <td>rainy</td>\n",
              "      <td>broken</td>\n",
              "      <td>go-out</td>\n",
              "      <td>0</td>\n",
              "      <td>0</td>\n",
              "      <td>1</td>\n",
              "    </tr>\n",
              "    <tr>\n",
              "      <th>2</th>\n",
              "      <td>sunny</td>\n",
              "      <td>working</td>\n",
              "      <td>go-out</td>\n",
              "      <td>1</td>\n",
              "      <td>1</td>\n",
              "      <td>1</td>\n",
              "    </tr>\n",
              "    <tr>\n",
              "      <th>3</th>\n",
              "      <td>sunny</td>\n",
              "      <td>working</td>\n",
              "      <td>go-out</td>\n",
              "      <td>1</td>\n",
              "      <td>1</td>\n",
              "      <td>1</td>\n",
              "    </tr>\n",
              "    <tr>\n",
              "      <th>4</th>\n",
              "      <td>sunny</td>\n",
              "      <td>working</td>\n",
              "      <td>go-out</td>\n",
              "      <td>1</td>\n",
              "      <td>1</td>\n",
              "      <td>1</td>\n",
              "    </tr>\n",
              "    <tr>\n",
              "      <th>5</th>\n",
              "      <td>rainy</td>\n",
              "      <td>broken</td>\n",
              "      <td>stay-home</td>\n",
              "      <td>0</td>\n",
              "      <td>0</td>\n",
              "      <td>0</td>\n",
              "    </tr>\n",
              "    <tr>\n",
              "      <th>6</th>\n",
              "      <td>rainy</td>\n",
              "      <td>broken</td>\n",
              "      <td>stay-home</td>\n",
              "      <td>0</td>\n",
              "      <td>0</td>\n",
              "      <td>0</td>\n",
              "    </tr>\n",
              "    <tr>\n",
              "      <th>7</th>\n",
              "      <td>sunny</td>\n",
              "      <td>working</td>\n",
              "      <td>stay-home</td>\n",
              "      <td>1</td>\n",
              "      <td>1</td>\n",
              "      <td>0</td>\n",
              "    </tr>\n",
              "    <tr>\n",
              "      <th>8</th>\n",
              "      <td>sunny</td>\n",
              "      <td>broken</td>\n",
              "      <td>stay-home</td>\n",
              "      <td>1</td>\n",
              "      <td>0</td>\n",
              "      <td>0</td>\n",
              "    </tr>\n",
              "    <tr>\n",
              "      <th>9</th>\n",
              "      <td>rainy</td>\n",
              "      <td>broken</td>\n",
              "      <td>stay-home</td>\n",
              "      <td>0</td>\n",
              "      <td>0</td>\n",
              "      <td>0</td>\n",
              "    </tr>\n",
              "  </tbody>\n",
              "</table>\n",
              "</div>\n",
              "      <button class=\"colab-df-convert\" onclick=\"convertToInteractive('df-169fb889-0f95-495e-ab71-16d4a7a5ff38')\"\n",
              "              title=\"Convert this dataframe to an interactive table.\"\n",
              "              style=\"display:none;\">\n",
              "        \n",
              "  <svg xmlns=\"http://www.w3.org/2000/svg\" height=\"24px\"viewBox=\"0 0 24 24\"\n",
              "       width=\"24px\">\n",
              "    <path d=\"M0 0h24v24H0V0z\" fill=\"none\"/>\n",
              "    <path d=\"M18.56 5.44l.94 2.06.94-2.06 2.06-.94-2.06-.94-.94-2.06-.94 2.06-2.06.94zm-11 1L8.5 8.5l.94-2.06 2.06-.94-2.06-.94L8.5 2.5l-.94 2.06-2.06.94zm10 10l.94 2.06.94-2.06 2.06-.94-2.06-.94-.94-2.06-.94 2.06-2.06.94z\"/><path d=\"M17.41 7.96l-1.37-1.37c-.4-.4-.92-.59-1.43-.59-.52 0-1.04.2-1.43.59L10.3 9.45l-7.72 7.72c-.78.78-.78 2.05 0 2.83L4 21.41c.39.39.9.59 1.41.59.51 0 1.02-.2 1.41-.59l7.78-7.78 2.81-2.81c.8-.78.8-2.07 0-2.86zM5.41 20L4 18.59l7.72-7.72 1.47 1.35L5.41 20z\"/>\n",
              "  </svg>\n",
              "      </button>\n",
              "      \n",
              "  <style>\n",
              "    .colab-df-container {\n",
              "      display:flex;\n",
              "      flex-wrap:wrap;\n",
              "      gap: 12px;\n",
              "    }\n",
              "\n",
              "    .colab-df-convert {\n",
              "      background-color: #E8F0FE;\n",
              "      border: none;\n",
              "      border-radius: 50%;\n",
              "      cursor: pointer;\n",
              "      display: none;\n",
              "      fill: #1967D2;\n",
              "      height: 32px;\n",
              "      padding: 0 0 0 0;\n",
              "      width: 32px;\n",
              "    }\n",
              "\n",
              "    .colab-df-convert:hover {\n",
              "      background-color: #E2EBFA;\n",
              "      box-shadow: 0px 1px 2px rgba(60, 64, 67, 0.3), 0px 1px 3px 1px rgba(60, 64, 67, 0.15);\n",
              "      fill: #174EA6;\n",
              "    }\n",
              "\n",
              "    [theme=dark] .colab-df-convert {\n",
              "      background-color: #3B4455;\n",
              "      fill: #D2E3FC;\n",
              "    }\n",
              "\n",
              "    [theme=dark] .colab-df-convert:hover {\n",
              "      background-color: #434B5C;\n",
              "      box-shadow: 0px 1px 3px 1px rgba(0, 0, 0, 0.15);\n",
              "      filter: drop-shadow(0px 1px 2px rgba(0, 0, 0, 0.3));\n",
              "      fill: #FFFFFF;\n",
              "    }\n",
              "  </style>\n",
              "\n",
              "      <script>\n",
              "        const buttonEl =\n",
              "          document.querySelector('#df-169fb889-0f95-495e-ab71-16d4a7a5ff38 button.colab-df-convert');\n",
              "        buttonEl.style.display =\n",
              "          google.colab.kernel.accessAllowed ? 'block' : 'none';\n",
              "\n",
              "        async function convertToInteractive(key) {\n",
              "          const element = document.querySelector('#df-169fb889-0f95-495e-ab71-16d4a7a5ff38');\n",
              "          const dataTable =\n",
              "            await google.colab.kernel.invokeFunction('convertToInteractive',\n",
              "                                                     [key], {});\n",
              "          if (!dataTable) return;\n",
              "\n",
              "          const docLinkHtml = 'Like what you see? Visit the ' +\n",
              "            '<a target=\"_blank\" href=https://colab.research.google.com/notebooks/data_table.ipynb>data table notebook</a>'\n",
              "            + ' to learn more about interactive tables.';\n",
              "          element.innerHTML = '';\n",
              "          dataTable['output_type'] = 'display_data';\n",
              "          await google.colab.output.renderOutput(dataTable, element);\n",
              "          const docLink = document.createElement('div');\n",
              "          docLink.innerHTML = docLinkHtml;\n",
              "          element.appendChild(docLink);\n",
              "        }\n",
              "      </script>\n",
              "    </div>\n",
              "  </div>\n",
              "  "
            ]
          },
          "metadata": {},
          "execution_count": 8
        }
      ]
    },
    {
      "cell_type": "code",
      "execution_count": null,
      "metadata": {
        "id": "o6jpJ12Z98kr"
      },
      "outputs": [],
      "source": [
        "from sklearn.naive_bayes import MultinomialNB"
      ]
    },
    {
      "cell_type": "code",
      "source": [
        "model = MultinomialNB()\n",
        "\n",
        "# Reset the dataframe to initial version\n",
        "df = pd.DataFrame(zip(weather, car, action), columns=['weather', 'car', 'action'])\n",
        "\n",
        "# Map the string vaules to binary values as the function accepts only numeric values\n",
        "weather_nr = {'sunny':1, 'rainy':0}\n",
        "car_nr = {'working':1, 'broken':0}\n",
        "action_nr = {'go-out':1, 'stay-home':0}\n",
        "df['weather_nr'] = df['weather'].map(weather_nr)\n",
        "df['car_nr'] = df['car'].map(car_nr)\n",
        "df['action_nr'] = df['action'].map(action_nr)\n",
        "df\n",
        "\n",
        "x = df[['weather_nr', 'car_nr']]\n",
        "y = df['action_nr']\n",
        "\n",
        "model.fit(x, y)"
      ],
      "metadata": {
        "id": "SaE8iC-TrJUd",
        "outputId": "ae5e8ec0-a476-495b-99be-dbcc21e92670",
        "colab": {
          "base_uri": "https://localhost:8080/",
          "height": 75
        }
      },
      "execution_count": null,
      "outputs": [
        {
          "output_type": "execute_result",
          "data": {
            "text/plain": [
              "MultinomialNB()"
            ],
            "text/html": [
              "<style>#sk-container-id-1 {color: black;background-color: white;}#sk-container-id-1 pre{padding: 0;}#sk-container-id-1 div.sk-toggleable {background-color: white;}#sk-container-id-1 label.sk-toggleable__label {cursor: pointer;display: block;width: 100%;margin-bottom: 0;padding: 0.3em;box-sizing: border-box;text-align: center;}#sk-container-id-1 label.sk-toggleable__label-arrow:before {content: \"▸\";float: left;margin-right: 0.25em;color: #696969;}#sk-container-id-1 label.sk-toggleable__label-arrow:hover:before {color: black;}#sk-container-id-1 div.sk-estimator:hover label.sk-toggleable__label-arrow:before {color: black;}#sk-container-id-1 div.sk-toggleable__content {max-height: 0;max-width: 0;overflow: hidden;text-align: left;background-color: #f0f8ff;}#sk-container-id-1 div.sk-toggleable__content pre {margin: 0.2em;color: black;border-radius: 0.25em;background-color: #f0f8ff;}#sk-container-id-1 input.sk-toggleable__control:checked~div.sk-toggleable__content {max-height: 200px;max-width: 100%;overflow: auto;}#sk-container-id-1 input.sk-toggleable__control:checked~label.sk-toggleable__label-arrow:before {content: \"▾\";}#sk-container-id-1 div.sk-estimator input.sk-toggleable__control:checked~label.sk-toggleable__label {background-color: #d4ebff;}#sk-container-id-1 div.sk-label input.sk-toggleable__control:checked~label.sk-toggleable__label {background-color: #d4ebff;}#sk-container-id-1 input.sk-hidden--visually {border: 0;clip: rect(1px 1px 1px 1px);clip: rect(1px, 1px, 1px, 1px);height: 1px;margin: -1px;overflow: hidden;padding: 0;position: absolute;width: 1px;}#sk-container-id-1 div.sk-estimator {font-family: monospace;background-color: #f0f8ff;border: 1px dotted black;border-radius: 0.25em;box-sizing: border-box;margin-bottom: 0.5em;}#sk-container-id-1 div.sk-estimator:hover {background-color: #d4ebff;}#sk-container-id-1 div.sk-parallel-item::after {content: \"\";width: 100%;border-bottom: 1px solid gray;flex-grow: 1;}#sk-container-id-1 div.sk-label:hover label.sk-toggleable__label {background-color: #d4ebff;}#sk-container-id-1 div.sk-serial::before {content: \"\";position: absolute;border-left: 1px solid gray;box-sizing: border-box;top: 0;bottom: 0;left: 50%;z-index: 0;}#sk-container-id-1 div.sk-serial {display: flex;flex-direction: column;align-items: center;background-color: white;padding-right: 0.2em;padding-left: 0.2em;position: relative;}#sk-container-id-1 div.sk-item {position: relative;z-index: 1;}#sk-container-id-1 div.sk-parallel {display: flex;align-items: stretch;justify-content: center;background-color: white;position: relative;}#sk-container-id-1 div.sk-item::before, #sk-container-id-1 div.sk-parallel-item::before {content: \"\";position: absolute;border-left: 1px solid gray;box-sizing: border-box;top: 0;bottom: 0;left: 50%;z-index: -1;}#sk-container-id-1 div.sk-parallel-item {display: flex;flex-direction: column;z-index: 1;position: relative;background-color: white;}#sk-container-id-1 div.sk-parallel-item:first-child::after {align-self: flex-end;width: 50%;}#sk-container-id-1 div.sk-parallel-item:last-child::after {align-self: flex-start;width: 50%;}#sk-container-id-1 div.sk-parallel-item:only-child::after {width: 0;}#sk-container-id-1 div.sk-dashed-wrapped {border: 1px dashed gray;margin: 0 0.4em 0.5em 0.4em;box-sizing: border-box;padding-bottom: 0.4em;background-color: white;}#sk-container-id-1 div.sk-label label {font-family: monospace;font-weight: bold;display: inline-block;line-height: 1.2em;}#sk-container-id-1 div.sk-label-container {text-align: center;}#sk-container-id-1 div.sk-container {/* jupyter's `normalize.less` sets `[hidden] { display: none; }` but bootstrap.min.css set `[hidden] { display: none !important; }` so we also need the `!important` here to be able to override the default hidden behavior on the sphinx rendered scikit-learn.org. See: https://github.com/scikit-learn/scikit-learn/issues/21755 */display: inline-block !important;position: relative;}#sk-container-id-1 div.sk-text-repr-fallback {display: none;}</style><div id=\"sk-container-id-1\" class=\"sk-top-container\"><div class=\"sk-text-repr-fallback\"><pre>MultinomialNB()</pre><b>In a Jupyter environment, please rerun this cell to show the HTML representation or trust the notebook. <br />On GitHub, the HTML representation is unable to render, please try loading this page with nbviewer.org.</b></div><div class=\"sk-container\" hidden><div class=\"sk-item\"><div class=\"sk-estimator sk-toggleable\"><input class=\"sk-toggleable__control sk-hidden--visually\" id=\"sk-estimator-id-1\" type=\"checkbox\" checked><label for=\"sk-estimator-id-1\" class=\"sk-toggleable__label sk-toggleable__label-arrow\">MultinomialNB</label><div class=\"sk-toggleable__content\"><pre>MultinomialNB()</pre></div></div></div></div></div>"
            ]
          },
          "metadata": {},
          "execution_count": 35
        }
      ]
    },
    {
      "cell_type": "code",
      "source": [
        "y_hat = model.predict(x)\n",
        "acc = accuracy_score(y, y_hat)\n",
        "print('Accuracy: ', acc)"
      ],
      "metadata": {
        "id": "CT6_Ufz5rhn7",
        "outputId": "9e5a716c-84c9-48f4-e972-29e1c49df190",
        "colab": {
          "base_uri": "https://localhost:8080/"
        }
      },
      "execution_count": null,
      "outputs": [
        {
          "output_type": "stream",
          "name": "stdout",
          "text": [
            "Accuracy:  0.8\n"
          ]
        }
      ]
    },
    {
      "cell_type": "markdown",
      "source": [
        "As you can see we got the same accuracy score as the manual implementation of the algorithm."
      ],
      "metadata": {
        "id": "pKFq-Nt-sb6P"
      }
    },
    {
      "cell_type": "markdown",
      "source": [
        "Naive Bayes is a classification algorithm for binary (two-class) and multiclass classification problems [2] by calculating the Posterior probability of an event [3]. It asks, “Within each outcome category, which predictor categories are most probable?” That information is then inverted to estimate probabilities of outcome categories, given predictor values [3]."
      ],
      "metadata": {
        "id": "sux6rcfSkMR2"
      }
    },
    {
      "cell_type": "code",
      "source": [],
      "metadata": {
        "id": "0TdRgHBgsIvN"
      },
      "execution_count": null,
      "outputs": []
    }
  ]
}